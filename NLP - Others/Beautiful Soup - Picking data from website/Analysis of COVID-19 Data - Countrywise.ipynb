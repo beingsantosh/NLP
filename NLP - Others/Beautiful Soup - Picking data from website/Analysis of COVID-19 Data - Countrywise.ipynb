{
 "cells": [
  {
   "cell_type": "markdown",
   "metadata": {},
   "source": [
    "\n",
    "# Analysis on COVID 19 data\n",
    "\n",
    "## - Extraction of data \n",
    "    -  Beautiful soup\n",
    "    -  Requests\n",
    "    -  NLP \n",
    "    \n",
    "## - Cleaning of data \n",
    "    - Pandas\n",
    "    - Numpy\n",
    "  \n",
    "## - Visualization in Jupyter and Tableau ( seaborn, matplotlib)\n",
    " \n",
    "- [Most impacted countries](#1) \n",
    "\n",
    "- [Active Cases - country wise](#2)\n",
    "\n",
    "- [Resilient Coefficient - Recovery - Countrywise](#3)\n",
    "\n",
    "- [Mortality country wise](#4)\n",
    "\n",
    "- [Mortality rate country wise](#5)\n",
    "\n",
    "\n",
    "## - Mining interesting insight    \n",
    "\n",
    "__Soure__: https://www.worldometers.info/coronavirus/ and \n",
    "\n",
    "__susequent sources__ : https://www.worldometers.info/coronavirus/about/#sources"
   ]
  },
  {
   "cell_type": "code",
   "execution_count": 1,
   "metadata": {},
   "outputs": [],
   "source": [
    "import requests\n",
    "from bs4 import BeautifulSoup "
   ]
  },
  {
   "cell_type": "code",
   "execution_count": 2,
   "metadata": {},
   "outputs": [],
   "source": [
    "response = requests.get('https://www.worldometers.info/coronavirus/')"
   ]
  },
  {
   "cell_type": "code",
   "execution_count": 3,
   "metadata": {},
   "outputs": [],
   "source": [
    "covid_data = response.content"
   ]
  },
  {
   "cell_type": "code",
   "execution_count": 4,
   "metadata": {},
   "outputs": [],
   "source": [
    "soup = BeautifulSoup(covid_data)"
   ]
  },
  {
   "cell_type": "code",
   "execution_count": null,
   "metadata": {},
   "outputs": [],
   "source": [
    "soup.prettify"
   ]
  },
  {
   "cell_type": "code",
   "execution_count": 6,
   "metadata": {},
   "outputs": [
    {
     "name": "stdout",
     "output_type": "stream",
     "text": [
      "main_table_countries_today\n",
      "main_table_countries_yesterday\n"
     ]
    }
   ],
   "source": [
    "for table in soup.find_all('table'):\n",
    "    print(table.attrs['id'])"
   ]
  },
  {
   "cell_type": "code",
   "execution_count": 7,
   "metadata": {},
   "outputs": [
    {
     "name": "stdout",
     "output_type": "stream",
     "text": [
      "#\n",
      "Country,Other\n",
      "TotalCases\n",
      "NewCases\n",
      "TotalDeaths\n",
      "NewDeaths\n",
      "TotalRecovered\n",
      "ActiveCases\n",
      "Serious,Critical\n",
      "Tot Cases/1M pop\n",
      "Deaths/1M pop\n",
      "TotalTests\n",
      "Tests/\n",
      "1M pop\n",
      "\n",
      "Population\n",
      "Continent\n"
     ]
    }
   ],
   "source": [
    "# will pick data from main_table_countries_today\n",
    "data = soup.find_all('table')[0]\n",
    "column_name = []\n",
    "# look for header first\n",
    "for th in data.find_all('th'):\n",
    "    column_name.append(th.text)\n",
    "    print(th.text)"
   ]
  },
  {
   "cell_type": "code",
   "execution_count": null,
   "metadata": {},
   "outputs": [],
   "source": [
    "# look for all rows \n",
    "for tr in data.find_all('tr'):\n",
    "    print(tr.text)"
   ]
  },
  {
   "cell_type": "code",
   "execution_count": 9,
   "metadata": {},
   "outputs": [
    {
     "name": "stdout",
     "output_type": "stream",
     "text": [
      "\n",
      "\n",
      "North America\n",
      "\n",
      "1,798,979\n",
      "+3,779\n",
      "110,231\n",
      "+436\n",
      "482,930\n",
      "1,205,818\n",
      "19,045\n",
      "\n",
      "\n",
      "\n",
      "\n",
      "\n",
      "North America\n"
     ]
    }
   ],
   "source": [
    "# look for data from one row\n",
    "\n",
    "tr = data.find_all('tr')\n",
    "\n",
    "for td in tr[1].find_all('td'):\n",
    "    print(td.text)"
   ]
  },
  {
   "cell_type": "code",
   "execution_count": 10,
   "metadata": {},
   "outputs": [],
   "source": [
    "# now extracting data from all rows\n",
    "table_data = []\n",
    "for tr in data.find_all('tr'):\n",
    "    row_data=[]\n",
    "    for td in tr.find_all('td'):\n",
    "        row_data.append(td.text)\n",
    "    table_data.append(row_data)"
   ]
  },
  {
   "cell_type": "code",
   "execution_count": 11,
   "metadata": {},
   "outputs": [
    {
     "name": "stdout",
     "output_type": "stream",
     "text": [
      "0 []\n"
     ]
    }
   ],
   "source": [
    "# list inside which are empty\n",
    "for i,lst in enumerate(table_data):\n",
    "    if len(lst)==0:\n",
    "        print(i, lst)"
   ]
  },
  {
   "cell_type": "code",
   "execution_count": 12,
   "metadata": {},
   "outputs": [],
   "source": [
    "# removing the list at index 0\n",
    "table_data.remove([])\n",
    "# table_data.pop(index=0)"
   ]
  },
  {
   "cell_type": "code",
   "execution_count": 13,
   "metadata": {},
   "outputs": [
    {
     "data": {
      "text/plain": [
       "231"
      ]
     },
     "execution_count": 13,
     "metadata": {},
     "output_type": "execute_result"
    }
   ],
   "source": [
    "len(table_data)"
   ]
  },
  {
   "cell_type": "code",
   "execution_count": 14,
   "metadata": {},
   "outputs": [],
   "source": [
    "import pandas as pd\n",
    "import seaborn as sns\n",
    "import numpy as np\n",
    "import matplotlib.pyplot as plt"
   ]
  },
  {
   "cell_type": "code",
   "execution_count": 15,
   "metadata": {},
   "outputs": [],
   "source": [
    "df_covid = pd.DataFrame(data=table_data,columns=column_name)"
   ]
  },
  {
   "cell_type": "code",
   "execution_count": 16,
   "metadata": {},
   "outputs": [
    {
     "data": {
      "text/plain": [
       "<matplotlib.axes._subplots.AxesSubplot at 0x245ea33a648>"
      ]
     },
     "execution_count": 16,
     "metadata": {},
     "output_type": "execute_result"
    },
    {
     "data": {
      "image/png": "[encoded data removed]",
      "text/plain": [
       "<Figure size 432x288 with 2 Axes>"
      ]
     },
     "metadata": {
      "needs_background": "light"
     },
     "output_type": "display_data"
    }
   ],
   "source": [
    "sns.heatmap(df_covid.isna()) # isna function shows that it does not have any null values. however it requires more checking."
   ]
  },
  {
   "cell_type": "code",
   "execution_count": 17,
   "metadata": {},
   "outputs": [
    {
     "data": {
      "text/plain": [
       "(231, 15)"
      ]
     },
     "execution_count": 17,
     "metadata": {},
     "output_type": "execute_result"
    }
   ],
   "source": [
    "df_covid.shape"
   ]
  },
  {
   "cell_type": "code",
   "execution_count": 18,
   "metadata": {},
   "outputs": [
    {
     "name": "stdout",
     "output_type": "stream",
     "text": [
      "<class 'pandas.core.frame.DataFrame'>\n",
      "RangeIndex: 231 entries, 0 to 230\n",
      "Data columns (total 15 columns):\n",
      "#                   231 non-null object\n",
      "Country,Other       231 non-null object\n",
      "TotalCases          231 non-null object\n",
      "NewCases            231 non-null object\n",
      "TotalDeaths         231 non-null object\n",
      "NewDeaths           231 non-null object\n",
      "TotalRecovered      231 non-null object\n",
      "ActiveCases         231 non-null object\n",
      "Serious,Critical    231 non-null object\n",
      "Tot Cases/1M pop    231 non-null object\n",
      "Deaths/1M pop       231 non-null object\n",
      "TotalTests          231 non-null object\n",
      "Tests/\n",
      "1M pop\n",
      "      231 non-null object\n",
      "Population          231 non-null object\n",
      "Continent           231 non-null object\n",
      "dtypes: object(15)\n",
      "memory usage: 27.2+ KB\n"
     ]
    }
   ],
   "source": [
    "df_covid.info()"
   ]
  },
  {
   "cell_type": "code",
   "execution_count": 19,
   "metadata": {},
   "outputs": [
    {
     "data": {
      "text/html": [
       "<div>\n",
       "<style scoped>\n",
       "    .dataframe tbody tr th:only-of-type {\n",
       "        vertical-align: middle;\n",
       "    }\n",
       "\n",
       "    .dataframe tbody tr th {\n",
       "        vertical-align: top;\n",
       "    }\n",
       "\n",
       "    .dataframe thead th {\n",
       "        text-align: right;\n",
       "    }\n",
       "</style>\n",
       "<table border=\"1\" class=\"dataframe\">\n",
       "  <thead>\n",
       "    <tr style=\"text-align: right;\">\n",
       "      <th></th>\n",
       "      <th>#</th>\n",
       "      <th>Country,Other</th>\n",
       "      <th>TotalCases</th>\n",
       "      <th>NewCases</th>\n",
       "      <th>TotalDeaths</th>\n",
       "      <th>NewDeaths</th>\n",
       "      <th>TotalRecovered</th>\n",
       "      <th>ActiveCases</th>\n",
       "      <th>Serious,Critical</th>\n",
       "      <th>Tot Cases/1M pop</th>\n",
       "      <th>Deaths/1M pop</th>\n",
       "      <th>TotalTests</th>\n",
       "      <th>Tests/\\n1M pop\\n</th>\n",
       "      <th>Population</th>\n",
       "      <th>Continent</th>\n",
       "    </tr>\n",
       "  </thead>\n",
       "  <tbody>\n",
       "    <tr>\n",
       "      <td>count</td>\n",
       "      <td>231</td>\n",
       "      <td>231</td>\n",
       "      <td>231</td>\n",
       "      <td>231</td>\n",
       "      <td>231</td>\n",
       "      <td>231</td>\n",
       "      <td>231</td>\n",
       "      <td>231</td>\n",
       "      <td>231</td>\n",
       "      <td>231</td>\n",
       "      <td>231</td>\n",
       "      <td>231</td>\n",
       "      <td>231</td>\n",
       "      <td>231</td>\n",
       "      <td>231</td>\n",
       "    </tr>\n",
       "    <tr>\n",
       "      <td>unique</td>\n",
       "      <td>216</td>\n",
       "      <td>224</td>\n",
       "      <td>201</td>\n",
       "      <td>36</td>\n",
       "      <td>123</td>\n",
       "      <td>16</td>\n",
       "      <td>193</td>\n",
       "      <td>175</td>\n",
       "      <td>74</td>\n",
       "      <td>182</td>\n",
       "      <td>84</td>\n",
       "      <td>185</td>\n",
       "      <td>186</td>\n",
       "      <td>215</td>\n",
       "      <td>8</td>\n",
       "    </tr>\n",
       "    <tr>\n",
       "      <td>top</td>\n",
       "      <td></td>\n",
       "      <td>Total:</td>\n",
       "      <td>18</td>\n",
       "      <td></td>\n",
       "      <td></td>\n",
       "      <td></td>\n",
       "      <td>6</td>\n",
       "      <td>0</td>\n",
       "      <td></td>\n",
       "      <td></td>\n",
       "      <td></td>\n",
       "      <td></td>\n",
       "      <td></td>\n",
       "      <td></td>\n",
       "      <td>Africa</td>\n",
       "    </tr>\n",
       "    <tr>\n",
       "      <td>freq</td>\n",
       "      <td>16</td>\n",
       "      <td>8</td>\n",
       "      <td>6</td>\n",
       "      <td>181</td>\n",
       "      <td>34</td>\n",
       "      <td>201</td>\n",
       "      <td>5</td>\n",
       "      <td>22</td>\n",
       "      <td>87</td>\n",
       "      <td>16</td>\n",
       "      <td>50</td>\n",
       "      <td>46</td>\n",
       "      <td>46</td>\n",
       "      <td>16</td>\n",
       "      <td>59</td>\n",
       "    </tr>\n",
       "  </tbody>\n",
       "</table>\n",
       "</div>"
      ],
      "text/plain": [
       "          # Country,Other TotalCases NewCases TotalDeaths NewDeaths  \\\n",
       "count   231           231        231      231         231       231   \n",
       "unique  216           224        201       36         123        16   \n",
       "top                Total:         18                                  \n",
       "freq     16             8          6      181          34       201   \n",
       "\n",
       "       TotalRecovered ActiveCases Serious,Critical Tot Cases/1M pop  \\\n",
       "count             231         231              231              231   \n",
       "unique            193         175               74              182   \n",
       "top                 6           0                                     \n",
       "freq                5          22               87               16   \n",
       "\n",
       "       Deaths/1M pop TotalTests Tests/\\n1M pop\\n Population Continent  \n",
       "count            231        231              231        231       231  \n",
       "unique            84        185              186        215         8  \n",
       "top                                                            Africa  \n",
       "freq              50         46               46         16        59  "
      ]
     },
     "execution_count": 19,
     "metadata": {},
     "output_type": "execute_result"
    }
   ],
   "source": [
    "df_covid.describe(include = 'all')"
   ]
  },
  {
   "cell_type": "code",
   "execution_count": 20,
   "metadata": {},
   "outputs": [
    {
     "data": {
      "text/plain": [
       "115          \n",
       "122          \n",
       "123          \n",
       "194          \n",
       "193          \n",
       "        ...  \n",
       "124       +71\n",
       "9      +8,894\n",
       "95        +85\n",
       "224    +9,677\n",
       "1      +9,677\n",
       "Name: NewCases, Length: 231, dtype: object"
      ]
     },
     "execution_count": 20,
     "metadata": {},
     "output_type": "execute_result"
    }
   ],
   "source": [
    "# lets pick one column and sort it in ascending order. and check for any null value.\n",
    "df_covid['NewCases'].sort_values()"
   ]
  },
  {
   "cell_type": "code",
   "execution_count": 21,
   "metadata": {},
   "outputs": [
    {
     "data": {
      "text/plain": [
       "''"
      ]
     },
     "execution_count": 21,
     "metadata": {},
     "output_type": "execute_result"
    }
   ],
   "source": [
    "df_covid['NewCases'][115] \n",
    "# there are lot of cell with '' value. but it is considered as str. So now need to change them into nan."
   ]
  },
  {
   "cell_type": "code",
   "execution_count": 22,
   "metadata": {},
   "outputs": [],
   "source": [
    "df_covid['NewCases'][115] = np.nan"
   ]
  },
  {
   "cell_type": "code",
   "execution_count": 23,
   "metadata": {},
   "outputs": [
    {
     "data": {
      "text/plain": [
       "nan"
      ]
     },
     "execution_count": 23,
     "metadata": {},
     "output_type": "execute_result"
    }
   ],
   "source": [
    "df_covid['NewCases'][115] "
   ]
  },
  {
   "cell_type": "code",
   "execution_count": 24,
   "metadata": {},
   "outputs": [
    {
     "data": {
      "text/plain": [
       "#                   0\n",
       "Country,Other       0\n",
       "TotalCases          0\n",
       "NewCases            1\n",
       "TotalDeaths         0\n",
       "NewDeaths           0\n",
       "TotalRecovered      0\n",
       "ActiveCases         0\n",
       "Serious,Critical    0\n",
       "Tot Cases/1M pop    0\n",
       "Deaths/1M pop       0\n",
       "TotalTests          0\n",
       "Tests/\\n1M pop\\n    0\n",
       "Population          0\n",
       "Continent           0\n",
       "dtype: int64"
      ]
     },
     "execution_count": 24,
     "metadata": {},
     "output_type": "execute_result"
    }
   ],
   "source": [
    "df_covid.isna().sum()"
   ]
  },
  {
   "cell_type": "code",
   "execution_count": 25,
   "metadata": {},
   "outputs": [
    {
     "name": "stdout",
     "output_type": "stream",
     "text": [
      "Tolal null value updated : 664\n"
     ]
    }
   ],
   "source": [
    "# removing all '' cells with np.nan\n",
    "counter=0\n",
    "for i in df_covid:\n",
    "    for index,j in enumerate(df_covid[i]):\n",
    "        if isinstance(j,str) and len(j)==0:\n",
    "            df_covid[i][index]=np.nan\n",
    "            counter+=1\n",
    "print( 'Tolal null value updated :', counter)            "
   ]
  },
  {
   "cell_type": "code",
   "execution_count": 26,
   "metadata": {},
   "outputs": [
    {
     "data": {
      "text/plain": [
       "#                    16\n",
       "Country,Other         0\n",
       "TotalCases            0\n",
       "NewCases            181\n",
       "TotalDeaths           0\n",
       "NewDeaths           201\n",
       "TotalRecovered        2\n",
       "ActiveCases           0\n",
       "Serious,Critical     87\n",
       "Tot Cases/1M pop     16\n",
       "Deaths/1M pop        50\n",
       "TotalTests           46\n",
       "Tests/\\n1M pop\\n     46\n",
       "Population           16\n",
       "Continent             4\n",
       "dtype: int64"
      ]
     },
     "execution_count": 26,
     "metadata": {},
     "output_type": "execute_result"
    }
   ],
   "source": [
    "df_covid.isna().sum()"
   ]
  },
  {
   "cell_type": "code",
   "execution_count": 27,
   "metadata": {},
   "outputs": [
    {
     "data": {
      "text/plain": [
       "<matplotlib.axes._subplots.AxesSubplot at 0x245ea781448>"
      ]
     },
     "execution_count": 27,
     "metadata": {},
     "output_type": "execute_result"
    },
    {
     "data": {
      "image/png": "[encoded data removed]",
      "text/plain": [
       "<Figure size 1440x720 with 2 Axes>"
      ]
     },
     "metadata": {
      "needs_background": "light"
     },
     "output_type": "display_data"
    }
   ],
   "source": [
    "\n",
    "plt.figure(figsize=(20,10))\n",
    "sns.heatmap(df_covid.isna(),cmap='viridis') "
   ]
  },
  {
   "cell_type": "markdown",
   "metadata": {},
   "source": [
    "## There are several cells with null values. Yellow shows null."
   ]
  },
  {
   "cell_type": "markdown",
   "metadata": {},
   "source": [
    "## List of Highly impacted country - Total cases till now\n",
    "\n",
    "<a name=\"1\"></a>"
   ]
  },
  {
   "cell_type": "code",
   "execution_count": 28,
   "metadata": {},
   "outputs": [],
   "source": [
    "## change the data type to int, and remove ',' from each number first.\n",
    "df_covid['TotalCases'] = df_covid['TotalCases'].map(lambda x:int(x.replace(',','')))"
   ]
  },
  {
   "cell_type": "code",
   "execution_count": 29,
   "metadata": {},
   "outputs": [],
   "source": [
    "## remove unwanted data & check only top 20 countries\n",
    "df_covid=df_covid[ df_covid['#'].isna() == False]\n"
   ]
  },
  {
   "cell_type": "code",
   "execution_count": 30,
   "metadata": {},
   "outputs": [],
   "source": [
    "df_covid_a = df_covid.sort_values(by='TotalCases',ascending = False).head(20)"
   ]
  },
  {
   "cell_type": "code",
   "execution_count": 31,
   "metadata": {},
   "outputs": [
    {
     "data": {
      "text/plain": [
       "Text(0.5, 0, 'Impacted Countries')"
      ]
     },
     "execution_count": 31,
     "metadata": {},
     "output_type": "execute_result"
    },
    {
     "data": {
      "image/png": "[encoded data removed]",
      "text/plain": [
       "<Figure size 1296x720 with 1 Axes>"
      ]
     },
     "metadata": {
      "needs_background": "light"
     },
     "output_type": "display_data"
    }
   ],
   "source": [
    "plt.figure(figsize=(18,10))\n",
    "sns.barplot(df_covid_a['Country,Other'],df_covid_a['TotalCases'], data=df_covid_a)\n",
    "plt.title('COVID19 - Most Impacted Countries',{'fontsize':20})\n",
    "plt.ylabel('Total Cases Registered',{'fontsize':15})\n",
    "plt.xlabel('Impacted Countries',{'fontsize':15})\n"
   ]
  },
  {
   "cell_type": "markdown",
   "metadata": {},
   "source": [
    "## Most active cases \n",
    "\n",
    "<a name=\"2\"></a>"
   ]
  },
  {
   "cell_type": "code",
   "execution_count": 32,
   "metadata": {},
   "outputs": [],
   "source": [
    "## change the data type to int, and remove ',' from each number first. except float and 'N/A'\n",
    "\n",
    "\n",
    "df_covid['ActiveCases'] = df_covid['ActiveCases'].map(lambda x:int(x.replace(',','')) \\\n",
    "                                                            if np.logical_and(isinstance(x,str),x!='N/A') else x)"
   ]
  },
  {
   "cell_type": "code",
   "execution_count": 33,
   "metadata": {},
   "outputs": [],
   "source": [
    "df_covid_b = df_covid.drop(labels=(df_covid[df_covid['ActiveCases']=='N/A']).index,axis=0)\n",
    "df_covid_b = df_covid_b.sort_values(by='ActiveCases',ascending = False).head(20)"
   ]
  },
  {
   "cell_type": "code",
   "execution_count": 34,
   "metadata": {},
   "outputs": [
    {
     "data": {
      "text/plain": [
       "Text(0.5, 0, 'Impacted Countries')"
      ]
     },
     "execution_count": 34,
     "metadata": {},
     "output_type": "execute_result"
    },
    {
     "data": {
      "image/png": "[encoded data removed]",
      "text/plain": [
       "<Figure size 1296x720 with 1 Axes>"
      ]
     },
     "metadata": {
      "needs_background": "light"
     },
     "output_type": "display_data"
    }
   ],
   "source": [
    "plt.figure(figsize=(18,10))\n",
    "plt.title('COVID19 Active Cases- Countrywise',{'fontsize':20})\n",
    "\n",
    "sns.barplot(df_covid_b['Country,Other'],df_covid_b['ActiveCases'], data=df_covid_b)\n",
    "plt.ylabel('Total Active Cases',{'fontsize':15})\n",
    "plt.xlabel('Impacted Countries',{'fontsize':15})"
   ]
  },
  {
   "cell_type": "markdown",
   "metadata": {},
   "source": [
    "## Resilient Quality shown  ( Recovery )"
   ]
  },
  {
   "cell_type": "markdown",
   "metadata": {},
   "source": [
    "### Recovery rate would be calculated as ( total cases recovered / total cases registered ) * 100\n",
    "\n",
    "<a name=\"3\"></a>"
   ]
  },
  {
   "cell_type": "code",
   "execution_count": 181,
   "metadata": {},
   "outputs": [],
   "source": [
    "\n",
    "df_covid['TotalRecovered'] = df_covid['TotalRecovered'].map(lambda x:int(x.replace(',','')) \\\n",
    "                                                            if np.logical_and(isinstance(x,str),x!='N/A') else x)"
   ]
  },
  {
   "cell_type": "code",
   "execution_count": 182,
   "metadata": {},
   "outputs": [
    {
     "name": "stdout",
     "output_type": "stream",
     "text": [
      "N/A str ------ UK\n",
      "N/A str ------ Netherlands\n",
      "nan float ------ MS Zaandam\n",
      "nan float ------ Lesotho\n"
     ]
    }
   ],
   "source": [
    "# df_covid['RecoveryRate'] = df_covid['TotalRecovered']/df_covid['TotalCases']*100\n",
    "\n",
    "# there are some values which are stopping to make plot. need to remove them.\n",
    "\n",
    "for index,i in enumerate(df_covid['TotalRecovered']):\n",
    "    if isinstance(i,str):\n",
    "        print(i, 'str' ,'------', df_covid.iloc[index]['Country,Other'])\n",
    "    elif isinstance(i,float):\n",
    "        print(i, 'float','------',df_covid.iloc[index]['Country,Other'])\n",
    "    \n"
   ]
  },
  {
   "cell_type": "code",
   "execution_count": 183,
   "metadata": {},
   "outputs": [],
   "source": [
    "\n",
    "# UK and Netherland 'TotalRecovered' count is not available. will remove them from plot data.\n",
    "\n",
    "df_covid_c = df_covid.drop(labels=(df_covid[df_covid['TotalRecovered']=='N/A']).index,axis=0)"
   ]
  },
  {
   "cell_type": "code",
   "execution_count": 184,
   "metadata": {},
   "outputs": [
    {
     "name": "stdout",
     "output_type": "stream",
     "text": [
      "(213, 15) --- (215, 15)\n"
     ]
    }
   ],
   "source": [
    "print(df_covid_c.shape,'---', df_covid.shape) # two rows deleted from df_covid_c"
   ]
  },
  {
   "cell_type": "code",
   "execution_count": 185,
   "metadata": {},
   "outputs": [],
   "source": [
    "df_covid_c['RecoveryRate'] = df_covid_c['TotalRecovered']/df_covid_c['TotalCases']*100"
   ]
  },
  {
   "cell_type": "code",
   "execution_count": 186,
   "metadata": {},
   "outputs": [
    {
     "data": {
      "text/plain": [
       "8      23.5779\n",
       "9      30.5791\n",
       "10     40.5119\n",
       "11     70.3128\n",
       "13      59.016\n",
       "        ...   \n",
       "218        100\n",
       "219        100\n",
       "220        NaN\n",
       "221        100\n",
       "222    94.3161\n",
       "Name: RecoveryRate, Length: 213, dtype: object"
      ]
     },
     "execution_count": 186,
     "metadata": {},
     "output_type": "execute_result"
    }
   ],
   "source": [
    "df_covid_c['RecoveryRate']"
   ]
  },
  {
   "cell_type": "code",
   "execution_count": 187,
   "metadata": {},
   "outputs": [],
   "source": [
    "df_covid_c1 = df_covid_c.sort_values(by=['TotalCases'],ascending = False).head(20)\n",
    "df_covid_c1 = df_covid_c1.sort_values(by='RecoveryRate',ascending= False)"
   ]
  },
  {
   "cell_type": "code",
   "execution_count": 188,
   "metadata": {},
   "outputs": [
    {
     "data": {
      "text/plain": [
       "Text(0.5, 0, 'Impacted Countries')"
      ]
     },
     "execution_count": 188,
     "metadata": {},
     "output_type": "execute_result"
    },
    {
     "data": {
      "image/png": "[encoded data removed]",
      "text/plain": [
       "<Figure size 1296x720 with 1 Axes>"
      ]
     },
     "metadata": {
      "needs_background": "light"
     },
     "output_type": "display_data"
    }
   ],
   "source": [
    "plt.figure(figsize=(18,10))\n",
    "plt.title('COVID19 Resilient Coefficient- Countrywise',{'fontsize':20})\n",
    "\n",
    "sns.barplot(df_covid_c1['Country,Other'],df_covid_c1['RecoveryRate'], data=df_covid_c1)\n",
    "plt.ylabel('Recovery Rate',{'fontsize':15})\n",
    "plt.xlabel('Impacted Countries',{'fontsize':15})"
   ]
  },
  {
   "cell_type": "markdown",
   "metadata": {},
   "source": [
    "## Below countries are recovering fast as per the data - \n",
    "- China\n",
    "- Germany\n",
    "- Iran\n",
    "- Turkey\n",
    "- Spain\n",
    "- Mexico\n",
    "\n",
    "Above countries have managed to recover more than 60%. \n",
    "\n",
    "Next will export the data in Tableau: and further data mining would be carried out. Updated version will be updated here. "
   ]
  },
  {
   "cell_type": "markdown",
   "metadata": {},
   "source": [
    "# Mortality - country wise\n",
    "\n",
    "<a name=\"4\"></a>"
   ]
  },
  {
   "cell_type": "code",
   "execution_count": 113,
   "metadata": {},
   "outputs": [],
   "source": [
    "# finding all rows with blank 'TolalDeaths'. \n",
    "df_covid_d = df_covid.drop(df_covid[df_covid['TotalDeaths']==' '].index,axis=0)"
   ]
  },
  {
   "cell_type": "code",
   "execution_count": 135,
   "metadata": {},
   "outputs": [],
   "source": [
    "df_covid_d['TotalDeaths'] = df_covid_d['TotalDeaths'].map(lambda x:int(x.replace(',','')) if np.logical_and(isinstance(x,str),x!='N/A') else x)"
   ]
  },
  {
   "cell_type": "code",
   "execution_count": 136,
   "metadata": {},
   "outputs": [
    {
     "data": {
      "text/plain": [
       "((215, 15), (181, 15))"
      ]
     },
     "execution_count": 136,
     "metadata": {},
     "output_type": "execute_result"
    }
   ],
   "source": [
    "df_covid.shape , df_covid_d.shape"
   ]
  },
  {
   "cell_type": "code",
   "execution_count": 137,
   "metadata": {},
   "outputs": [
    {
     "data": {
      "text/plain": [
       "{int}"
      ]
     },
     "execution_count": 137,
     "metadata": {},
     "output_type": "execute_result"
    }
   ],
   "source": [
    "set([type(i) for i in df_covid_d.TotalDeaths])"
   ]
  },
  {
   "cell_type": "code",
   "execution_count": 189,
   "metadata": {},
   "outputs": [],
   "source": [
    "df_covid_d1 = df_covid_d.sort_values(by=['TotalDeaths'],ascending = False).head(20)"
   ]
  },
  {
   "cell_type": "code",
   "execution_count": 140,
   "metadata": {},
   "outputs": [
    {
     "data": {
      "text/plain": [
       "Text(0.5, 0, 'Impacted Countries')"
      ]
     },
     "execution_count": 140,
     "metadata": {},
     "output_type": "execute_result"
    },
    {
     "data": {
      "image/png": "[encoded data removed]",
      "text/plain": [
       "<Figure size 1296x720 with 1 Axes>"
      ]
     },
     "metadata": {
      "needs_background": "light"
     },
     "output_type": "display_data"
    }
   ],
   "source": [
    "plt.figure(figsize=(18,10))\n",
    "plt.title('COVID19 Total Mortality - Countrywise',{'fontsize':20})\n",
    "\n",
    "\n",
    "sns.barplot(df_covid_d1['Country,Other'],df_covid_d1['TotalDeaths'], data=df_covid_d1)\n",
    "plt.ylabel('Mortality',{'fontsize':15})\n",
    "plt.xlabel('Impacted Countries',{'fontsize':15})"
   ]
  },
  {
   "cell_type": "markdown",
   "metadata": {},
   "source": [
    "# Mortality Rate\n",
    "\n",
    "- (TotalDeaths / TotalCases * 100)\n",
    "\n",
    "- It will bring the comparative results - and would be easy to decide to which country has managed it well.\n",
    "\n",
    "- Atleast 20000 Total cases\n",
    "\n",
    "<a name=\"5\"></a>"
   ]
  },
  {
   "cell_type": "code",
   "execution_count": 165,
   "metadata": {},
   "outputs": [],
   "source": [
    "df_covid_d['MortalityRate'] = (df_covid_d['TotalDeaths'] / df_covid_d['TotalCases']) * 100"
   ]
  },
  {
   "cell_type": "code",
   "execution_count": 178,
   "metadata": {},
   "outputs": [],
   "source": [
    "df_covid_d2 = df_covid_d[df_covid_d['TotalCases']>50000]"
   ]
  },
  {
   "cell_type": "code",
   "execution_count": 179,
   "metadata": {},
   "outputs": [],
   "source": [
    "df_covid_d2 = df_covid_d2.sort_values(by=['MortalityRate'],ascending = False).head(20)"
   ]
  },
  {
   "cell_type": "code",
   "execution_count": 180,
   "metadata": {},
   "outputs": [
    {
     "data": {
      "text/plain": [
       "Text(0.5, 0, 'Impacted Countries')"
      ]
     },
     "execution_count": 180,
     "metadata": {},
     "output_type": "execute_result"
    },
    {
     "data": {
      "image/png": "[encoded data removed]",
      "text/plain": [
       "<Figure size 1368x648 with 1 Axes>"
      ]
     },
     "metadata": {
      "needs_background": "light"
     },
     "output_type": "display_data"
    }
   ],
   "source": [
    "plt.figure(figsize=(19,9))\n",
    "plt.title('COVID19 Mortality Rate - Countrywise',{'fontsize':20})\n",
    "\n",
    "\n",
    "sns.barplot(df_covid_d2['Country,Other'],df_covid_d2['MortalityRate'], data=df_covid_d2)\n",
    "plt.ylabel('Mortality Rate',{'fontsize':15})\n",
    "plt.xlabel('Impacted Countries',{'fontsize':15})"
   ]
  },
  {
   "cell_type": "markdown",
   "metadata": {},
   "source": [
    "### It is evident that Belgium, France, UK, Italy, Mexico are the top 5  countries which faced worst mortality in their region. \n"
   ]
  },
  {
   "cell_type": "code",
   "execution_count": null,
   "metadata": {},
   "outputs": [],
   "source": []
  },
  {
   "cell_type": "code",
   "execution_count": null,
   "metadata": {},
   "outputs": [],
   "source": []
  }
 ],
 "metadata": {
  "kernelspec": {
   "display_name": "Python 3",
   "language": "python",
   "name": "python3"
  },
  "language_info": {
   "codemirror_mode": {
    "name": "ipython",
    "version": 3
   },
   "file_extension": ".py",
   "mimetype": "text/x-python",
   "name": "python",
   "nbconvert_exporter": "python",
   "pygments_lexer": "ipython3",
   "version": "3.7.4"
  }
 },
 "nbformat": 4,
 "nbformat_minor": 2
}
