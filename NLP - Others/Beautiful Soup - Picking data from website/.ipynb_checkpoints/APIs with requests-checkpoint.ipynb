{
 "cells": [
  {
   "cell_type": "code",
   "execution_count": 1,
   "id": "understanding-pocket",
   "metadata": {},
   "outputs": [],
   "source": [
    "base_url = 'https://api.exchangeratesapi.io/latest'"
   ]
  },
  {
   "cell_type": "code",
   "execution_count": 2,
   "id": "imposed-imaging",
   "metadata": {},
   "outputs": [],
   "source": [
    "import requests"
   ]
  },
  {
   "cell_type": "code",
   "execution_count": 4,
   "id": "judicial-broadcast",
   "metadata": {},
   "outputs": [],
   "source": [
    "response = requests.get(base_url)"
   ]
  },
  {
   "cell_type": "code",
   "execution_count": 5,
   "id": "lesbian-jordan",
   "metadata": {},
   "outputs": [
    {
     "data": {
      "text/plain": [
       "b'{\"rates\":{\"CAD\":1.5363,\"HKD\":9.3219,\"ISK\":154.7,\"PHP\":57.843,\"DKK\":7.4365,\"HUF\":358.33,\"CZK\":25.739,\"AUD\":1.5693,\"RON\":4.8748,\"SEK\":10.1148,\"IDR\":16876.31,\"INR\":87.724,\"BRL\":6.4955,\"RUB\":89.4049,\"HRK\":7.5583,\"JPY\":126.97,\"THB\":36.098,\"CHF\":1.0842,\"SGD\":1.6067,\"PLN\":4.4824,\"BGN\":1.9558,\"TRY\":8.5308,\"CNY\":7.7618,\"NOK\":10.2725,\"NZD\":1.674,\"ZAR\":17.9701,\"USD\":1.2025,\"MXN\":24.305,\"ILS\":3.9487,\"GBP\":0.87833,\"KRW\":1347.77,\"MYR\":4.8888},\"base\":\"EUR\",\"date\":\"2021-02-08\"}'"
      ]
     },
     "execution_count": 5,
     "metadata": {},
     "output_type": "execute_result"
    }
   ],
   "source": [
    "response.content"
   ]
  },
  {
   "cell_type": "code",
   "execution_count": 6,
   "id": "seven-foster",
   "metadata": {},
   "outputs": [
    {
     "data": {
      "text/plain": [
       "True"
      ]
     },
     "execution_count": 6,
     "metadata": {},
     "output_type": "execute_result"
    }
   ],
   "source": [
    "response.ok"
   ]
  },
  {
   "cell_type": "code",
   "execution_count": 7,
   "id": "proved-nature",
   "metadata": {},
   "outputs": [
    {
     "data": {
      "text/plain": [
       "200"
      ]
     },
     "execution_count": 7,
     "metadata": {},
     "output_type": "execute_result"
    }
   ],
   "source": [
    "response.status_code"
   ]
  },
  {
   "cell_type": "code",
   "execution_count": 8,
   "id": "increased-reliance",
   "metadata": {},
   "outputs": [
    {
     "data": {
      "text/plain": [
       "'{\"rates\":{\"CAD\":1.5363,\"HKD\":9.3219,\"ISK\":154.7,\"PHP\":57.843,\"DKK\":7.4365,\"HUF\":358.33,\"CZK\":25.739,\"AUD\":1.5693,\"RON\":4.8748,\"SEK\":10.1148,\"IDR\":16876.31,\"INR\":87.724,\"BRL\":6.4955,\"RUB\":89.4049,\"HRK\":7.5583,\"JPY\":126.97,\"THB\":36.098,\"CHF\":1.0842,\"SGD\":1.6067,\"PLN\":4.4824,\"BGN\":1.9558,\"TRY\":8.5308,\"CNY\":7.7618,\"NOK\":10.2725,\"NZD\":1.674,\"ZAR\":17.9701,\"USD\":1.2025,\"MXN\":24.305,\"ILS\":3.9487,\"GBP\":0.87833,\"KRW\":1347.77,\"MYR\":4.8888},\"base\":\"EUR\",\"date\":\"2021-02-08\"}'"
      ]
     },
     "execution_count": 8,
     "metadata": {},
     "output_type": "execute_result"
    }
   ],
   "source": [
    "response.text"
   ]
  },
  {
   "cell_type": "code",
   "execution_count": 10,
   "id": "innocent-civilian",
   "metadata": {},
   "outputs": [
    {
     "data": {
      "text/plain": [
       "dict"
      ]
     },
     "execution_count": 10,
     "metadata": {},
     "output_type": "execute_result"
    }
   ],
   "source": [
    "type(response.json())"
   ]
  },
  {
   "cell_type": "code",
   "execution_count": 11,
   "id": "american-savage",
   "metadata": {},
   "outputs": [
    {
     "data": {
      "text/plain": [
       "{'rates': {'CAD': 1.5363,\n",
       "  'HKD': 9.3219,\n",
       "  'ISK': 154.7,\n",
       "  'PHP': 57.843,\n",
       "  'DKK': 7.4365,\n",
       "  'HUF': 358.33,\n",
       "  'CZK': 25.739,\n",
       "  'AUD': 1.5693,\n",
       "  'RON': 4.8748,\n",
       "  'SEK': 10.1148,\n",
       "  'IDR': 16876.31,\n",
       "  'INR': 87.724,\n",
       "  'BRL': 6.4955,\n",
       "  'RUB': 89.4049,\n",
       "  'HRK': 7.5583,\n",
       "  'JPY': 126.97,\n",
       "  'THB': 36.098,\n",
       "  'CHF': 1.0842,\n",
       "  'SGD': 1.6067,\n",
       "  'PLN': 4.4824,\n",
       "  'BGN': 1.9558,\n",
       "  'TRY': 8.5308,\n",
       "  'CNY': 7.7618,\n",
       "  'NOK': 10.2725,\n",
       "  'NZD': 1.674,\n",
       "  'ZAR': 17.9701,\n",
       "  'USD': 1.2025,\n",
       "  'MXN': 24.305,\n",
       "  'ILS': 3.9487,\n",
       "  'GBP': 0.87833,\n",
       "  'KRW': 1347.77,\n",
       "  'MYR': 4.8888},\n",
       " 'base': 'EUR',\n",
       " 'date': '2021-02-08'}"
      ]
     },
     "execution_count": 11,
     "metadata": {},
     "output_type": "execute_result"
    }
   ],
   "source": [
    "response.json()"
   ]
  },
  {
   "cell_type": "code",
   "execution_count": 12,
   "id": "possible-corner",
   "metadata": {},
   "outputs": [],
   "source": [
    "import json"
   ]
  },
  {
   "cell_type": "code",
   "execution_count": 14,
   "id": "incident-suffering",
   "metadata": {},
   "outputs": [],
   "source": [
    "# loads and dumps functions are very useful"
   ]
  },
  {
   "cell_type": "code",
   "execution_count": 22,
   "id": "moved-mystery",
   "metadata": {},
   "outputs": [
    {
     "name": "stdout",
     "output_type": "stream",
     "text": [
      "{\n",
      "     \"rates\": {\n",
      "          \"CAD\": 1.5363,\n",
      "          \"HKD\": 9.3219,\n",
      "          \"ISK\": 154.7,\n",
      "          \"PHP\": 57.843,\n",
      "          \"DKK\": 7.4365,\n",
      "          \"HUF\": 358.33,\n",
      "          \"CZK\": 25.739,\n",
      "          \"AUD\": 1.5693,\n",
      "          \"RON\": 4.8748,\n",
      "          \"SEK\": 10.1148,\n",
      "          \"IDR\": 16876.31,\n",
      "          \"INR\": 87.724,\n",
      "          \"BRL\": 6.4955,\n",
      "          \"RUB\": 89.4049,\n",
      "          \"HRK\": 7.5583,\n",
      "          \"JPY\": 126.97,\n",
      "          \"THB\": 36.098,\n",
      "          \"CHF\": 1.0842,\n",
      "          \"SGD\": 1.6067,\n",
      "          \"PLN\": 4.4824,\n",
      "          \"BGN\": 1.9558,\n",
      "          \"TRY\": 8.5308,\n",
      "          \"CNY\": 7.7618,\n",
      "          \"NOK\": 10.2725,\n",
      "          \"NZD\": 1.674,\n",
      "          \"ZAR\": 17.9701,\n",
      "          \"USD\": 1.2025,\n",
      "          \"MXN\": 24.305,\n",
      "          \"ILS\": 3.9487,\n",
      "          \"GBP\": 0.87833,\n",
      "          \"KRW\": 1347.77,\n",
      "          \"MYR\": 4.8888\n",
      "     },\n",
      "     \"base\": \"EUR\",\n",
      "     \"date\": \"2021-02-08\"\n",
      "}\n"
     ]
    }
   ],
   "source": [
    " print(json.dumps(response.json(), indent=5))"
   ]
  },
  {
   "cell_type": "markdown",
   "id": "classified-bryan",
   "metadata": {},
   "source": [
    "## Incorporating the parameter in GET request"
   ]
  },
  {
   "cell_type": "markdown",
   "id": "amended-optimum",
   "metadata": {},
   "source": [
    "### https://......?par1=value1&par2=value2"
   ]
  },
  {
   "cell_type": "code",
   "execution_count": 24,
   "id": "union-sword",
   "metadata": {},
   "outputs": [
    {
     "data": {
      "text/plain": [
       "'https://api.exchangeratesapi.io/latest'"
      ]
     },
     "execution_count": 24,
     "metadata": {},
     "output_type": "execute_result"
    }
   ],
   "source": [
    "base_url"
   ]
  },
  {
   "cell_type": "code",
   "execution_count": 25,
   "id": "stopped-estonia",
   "metadata": {},
   "outputs": [
    {
     "data": {
      "text/plain": [
       "'https://api.exchangeratesapi.io/latest?symbols=USD,GBP'"
      ]
     },
     "execution_count": 25,
     "metadata": {},
     "output_type": "execute_result"
    }
   ],
   "source": [
    "param_url = base_url + '?symbols=USD,GBP'\n",
    "param_url"
   ]
  },
  {
   "cell_type": "code",
   "execution_count": 27,
   "id": "fallen-conducting",
   "metadata": {},
   "outputs": [],
   "source": [
    "response =requests.get(param_url)"
   ]
  },
  {
   "cell_type": "code",
   "execution_count": 31,
   "id": "blind-creek",
   "metadata": {},
   "outputs": [],
   "source": [
    "data = response.json()"
   ]
  },
  {
   "cell_type": "code",
   "execution_count": 32,
   "id": "banner-color",
   "metadata": {},
   "outputs": [
    {
     "data": {
      "text/plain": [
       "{'rates': {'USD': 1.2025, 'GBP': 0.87833}, 'base': 'EUR', 'date': '2021-02-08'}"
      ]
     },
     "execution_count": 32,
     "metadata": {},
     "output_type": "execute_result"
    }
   ],
   "source": [
    "data"
   ]
  },
  {
   "cell_type": "code",
   "execution_count": 34,
   "id": "numerous-metropolitan",
   "metadata": {},
   "outputs": [
    {
     "data": {
      "text/plain": [
       "'EUR'"
      ]
     },
     "execution_count": 34,
     "metadata": {},
     "output_type": "execute_result"
    }
   ],
   "source": [
    "data['base']"
   ]
  },
  {
   "cell_type": "markdown",
   "id": "sustained-personal",
   "metadata": {},
   "source": [
    "# testing the api with wrong"
   ]
  },
  {
   "cell_type": "code",
   "execution_count": 50,
   "id": "biblical-stake",
   "metadata": {},
   "outputs": [],
   "source": [
    "base_url = 'https://api.exchangeratesapi.io'\n",
    "param_url = base_url + '/2019-12-01/' + '?base=USD'\n"
   ]
  },
  {
   "cell_type": "code",
   "execution_count": 51,
   "id": "hollow-warehouse",
   "metadata": {},
   "outputs": [
    {
     "data": {
      "text/plain": [
       "'https://api.exchangeratesapi.io/2019-12-01/?base=USD'"
      ]
     },
     "execution_count": 51,
     "metadata": {},
     "output_type": "execute_result"
    }
   ],
   "source": [
    "param_url"
   ]
  },
  {
   "cell_type": "code",
   "execution_count": 52,
   "id": "associate-pencil",
   "metadata": {},
   "outputs": [
    {
     "data": {
      "text/plain": [
       "<Response [200]>"
      ]
     },
     "execution_count": 52,
     "metadata": {},
     "output_type": "execute_result"
    }
   ],
   "source": [
    "response =requests.get(param_url)\n",
    "response"
   ]
  },
  {
   "cell_type": "code",
   "execution_count": 53,
   "id": "diverse-statistics",
   "metadata": {},
   "outputs": [
    {
     "data": {
      "text/plain": [
       "'{\"rates\":{\"CAD\":1.3307230013,\"HKD\":7.8268075032,\"ISK\":122.0178473866,\"PHP\":50.8450191222,\"DKK\":6.8032234566,\"HUF\":303.9701329448,\"CZK\":23.2334729557,\"GBP\":0.7760426152,\"RON\":4.3546712803,\"SEK\":9.5606446913,\"IDR\":14104.999089419,\"INR\":71.651338554,\"BRL\":4.2304680386,\"RUB\":64.2454926243,\"HRK\":6.7733564014,\"JPY\":109.6612638864,\"THB\":30.2349298853,\"CHF\":1.0014569295,\"EUR\":0.9105809506,\"MYR\":4.1779275178,\"BGN\":1.7809142233,\"TRY\":5.7546894919,\"CNY\":7.0271353123,\"NOK\":9.2009652158,\"NZD\":1.5561828447,\"ZAR\":14.6782917501,\"USD\":1.0,\"MXN\":19.5304134038,\"SGD\":1.3674194136,\"AUD\":1.4776907667,\"ILS\":3.4725915134,\"KRW\":1179.9399016573,\"PLN\":3.9323438354},\"base\":\"USD\",\"date\":\"2019-11-29\"}'"
      ]
     },
     "execution_count": 53,
     "metadata": {},
     "output_type": "execute_result"
    }
   ],
   "source": [
    "response.text"
   ]
  },
  {
   "cell_type": "code",
   "execution_count": 54,
   "id": "whole-jesus",
   "metadata": {},
   "outputs": [],
   "source": [
    "param_url = base_url + '/2019-12-01/' + '?base=USP'\n"
   ]
  },
  {
   "cell_type": "code",
   "execution_count": 55,
   "id": "static-sunrise",
   "metadata": {},
   "outputs": [
    {
     "data": {
      "text/plain": [
       "<Response [400]>"
      ]
     },
     "execution_count": 55,
     "metadata": {},
     "output_type": "execute_result"
    }
   ],
   "source": [
    "response =requests.get(param_url)\n",
    "response"
   ]
  },
  {
   "cell_type": "code",
   "execution_count": 57,
   "id": "refined-puzzle",
   "metadata": {},
   "outputs": [
    {
     "data": {
      "text/plain": [
       "{'error': \"Base 'USP' is not supported.\"}"
      ]
     },
     "execution_count": 57,
     "metadata": {},
     "output_type": "execute_result"
    }
   ],
   "source": [
    "response.json()"
   ]
  },
  {
   "cell_type": "markdown",
   "id": "weekly-belly",
   "metadata": {},
   "source": [
    "# Designing an application ( interactive one ) from API"
   ]
  },
  {
   "cell_type": "code",
   "execution_count": 61,
   "id": "accredited-monkey",
   "metadata": {},
   "outputs": [
    {
     "name": "stdout",
     "output_type": "stream",
     "text": [
      "please enter the dates:yyyy-mm-dd2012-11-11\n",
      "convert currency from :EUR\n",
      "convert to :USD\n",
      "How much EUR you want to convert:100\n",
      "100.0 EUR is equal to 126.94000000000001 USD , based upon exhange rate on 2012-11-09\n"
     ]
    }
   ],
   "source": [
    "date = input ('please enter the dates:yyyy-mm-dd')\n",
    "base = input ('convert currency from :')\n",
    "curr = input ( 'convert to :')\n",
    "quan = float(input('How much {} you want to convert:'.format(base)))\n",
    "\n",
    "url = base_url + '/' +  date + '?base=' + base + '&symbols=' + curr\n",
    "\n",
    "response = requests.get(url)\n",
    "\n",
    "if(response.ok is False):\n",
    "    print('Error {}'.format(response.json()['error']))\n",
    "    \n",
    "else:\n",
    "    data = response.json()\n",
    "    rate = data['rates'][curr]\n",
    "    result = quan*rate\n",
    "    \n",
    "    print('{0} {1} is equal to {2} {3} , based upon exhange rate on {4}'.format(quan,base,result,curr,data['date']) )\n",
    "    "
   ]
  },
  {
   "cell_type": "code",
   "execution_count": null,
   "id": "cooked-physics",
   "metadata": {},
   "outputs": [],
   "source": []
  }
 ],
 "metadata": {
  "kernelspec": {
   "display_name": "Python 3",
   "language": "python",
   "name": "python3"
  },
  "language_info": {
   "codemirror_mode": {
    "name": "ipython",
    "version": 3
   },
   "file_extension": ".py",
   "mimetype": "text/x-python",
   "name": "python",
   "nbconvert_exporter": "python",
   "pygments_lexer": "ipython3",
   "version": "3.8.5"
  }
 },
 "nbformat": 4,
 "nbformat_minor": 5
}
