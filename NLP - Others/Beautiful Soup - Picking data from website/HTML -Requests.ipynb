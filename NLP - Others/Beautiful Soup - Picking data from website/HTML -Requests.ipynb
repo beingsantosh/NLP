{
 "cells": [
  {
   "cell_type": "markdown",
   "id": "blessed-salmon",
   "metadata": {},
   "source": [
    "Nice video:\n",
    "\n",
    "HTML - requests and synchronous and asynchronous session\n",
    "\n",
    "https://www.youtube.com/watch?v=a6fIbtFB46g&feature=emb_logo"
   ]
  },
  {
   "cell_type": "code",
   "execution_count": 75,
   "id": "automotive-input",
   "metadata": {},
   "outputs": [],
   "source": [
    "from requests_html import HTML, HTMLSession\n",
    "\n",
    "import requests"
   ]
  },
  {
   "cell_type": "code",
   "execution_count": 46,
   "id": "athletic-school",
   "metadata": {},
   "outputs": [],
   "source": [
    "base_url = 'https://economictimes.indiatimes.com/archive/year-2001,month-1.cms'\n",
    "response = requests.get('https://economictimes.indiatimes.com/archive/year-2001,month-1.cms')"
   ]
  },
  {
   "cell_type": "code",
   "execution_count": 12,
   "id": "informed-institution",
   "metadata": {},
   "outputs": [],
   "source": [
    "html_ = response.content"
   ]
  },
  {
   "cell_type": "code",
   "execution_count": 13,
   "id": "higher-huntington",
   "metadata": {},
   "outputs": [],
   "source": [
    "html  = HTML(html= html_)"
   ]
  },
  {
   "cell_type": "code",
   "execution_count": 17,
   "id": "reserved-grenada",
   "metadata": {},
   "outputs": [
    {
     "data": {
      "text/plain": [
       "'January news: January top news, what happened in January | The Economic Times\\n(function () { if (self !== top) { var e = function (s) {return document.getElementsByTagName(s)}; e(\"head\")[0].innerHTML = \\'<style>*{display:none;}</style>\\'; setTimeout(function () { e(\"body\")[0].innerHTML = \\'\\'; var hEle = e(\"html\")[0]; hEle.innerHTML = \\'<a href=\"\\' + self.location + \\'\" target=\"_blank\">economictimes.indiatimes.com</a>\\'; hEle.className = \\'\\'; top.location = self.location; }, 0); } })(); var objVc = {vers'"
      ]
     },
     "execution_count": 17,
     "metadata": {},
     "output_type": "execute_result"
    }
   ],
   "source": [
    "html.text[:500]"
   ]
  },
  {
   "cell_type": "markdown",
   "id": "bright-russian",
   "metadata": {},
   "source": [
    "### SO this is same as Beutifulsoup. lets try everything"
   ]
  },
  {
   "cell_type": "code",
   "execution_count": 21,
   "id": "quick-identification",
   "metadata": {},
   "outputs": [],
   "source": [
    "match = html.find('title')"
   ]
  },
  {
   "cell_type": "code",
   "execution_count": 24,
   "id": "divided-vietnam",
   "metadata": {},
   "outputs": [
    {
     "data": {
      "text/plain": [
       "'January news: January top news, what happened in January | The Economic Times'"
      ]
     },
     "execution_count": 24,
     "metadata": {},
     "output_type": "execute_result"
    }
   ],
   "source": [
    "match[0].text"
   ]
  },
  {
   "cell_type": "code",
   "execution_count": 25,
   "id": "enclosed-nightlife",
   "metadata": {},
   "outputs": [
    {
     "data": {
      "text/plain": [
       "'<title>January news: January top news, what happened in January | The Economic Times</title>'"
      ]
     },
     "execution_count": 25,
     "metadata": {},
     "output_type": "execute_result"
    }
   ],
   "source": [
    "match[0].html"
   ]
  },
  {
   "cell_type": "code",
   "execution_count": 28,
   "id": "silent-regular",
   "metadata": {},
   "outputs": [],
   "source": [
    "match = html.find('title', first=True)\n",
    "## when first = true is, it will pass only first one. no list"
   ]
  },
  {
   "cell_type": "code",
   "execution_count": 27,
   "id": "wrapped-rwanda",
   "metadata": {},
   "outputs": [
    {
     "data": {
      "text/plain": [
       "'January news: January top news, what happened in January | The Economic Times'"
      ]
     },
     "execution_count": 27,
     "metadata": {},
     "output_type": "execute_result"
    }
   ],
   "source": [
    "match.text"
   ]
  },
  {
   "cell_type": "markdown",
   "id": "simplified-guess",
   "metadata": {},
   "source": [
    "## scrapping through element 'ID'"
   ]
  },
  {
   "cell_type": "code",
   "execution_count": 33,
   "id": "mounted-oregon",
   "metadata": {},
   "outputs": [],
   "source": [
    "# lets check # sign.. this is used when an ID is available for element.\n",
    "# id is always unique\n",
    "\n",
    "match = html.find('#pageContent')"
   ]
  },
  {
   "cell_type": "code",
   "execution_count": 36,
   "id": "integral-carry",
   "metadata": {},
   "outputs": [
    {
     "data": {
      "text/plain": [
       "'Archives > 2001 > January\\n\\n\\nfunction OldArchiveCal(_cd){ this._cd = _cd; this.ccd= _cd; this.days = [\"S\",\"M\",\"T\",\"W\",\"T\",\"F\",\"S\"]; this.week=1; this.getDaysInMonth=function(){ var m = this._cd.getMonth(); var y = this._cd.getFullYear(); m=m+1; if(m==01||m==03||m==05||m==07||m==08||m==10||m==12){var dmax = 31;return dmax;} else if (m==04||m==06||m==09||m==11){var dmax = 30;return dmax; }else{ if((y%4==0) && (y%400==0 || y%100!=0)){dmax = 29; return dmax;} else{dmax = 28;} return dmax; } }; this.getStartTime=function(){ var d = new Date(\"30 Dec 1899,00:00\"); return Math.floor(((this._cd.getTime()-d.getTime())/86400000)); }; this.printCal=function(){ var totalDays = this.getDaysInMonth(); var crDate= this._cd.getDate(); this._cd.setDate(01); var stDay = this._cd.getDay(); this._cd.setDate(crDate); var strDay = \"<table id=\\'calender\\' align=\\'center\\' bgcolor=\\'#ABABAB\\' width=\\'90%\\' cellspacing=\\'1\\' cellpadding=\\'0\\' border=\\'0\\'><tr height=\\'25\\' bgcolor=\\'#DDDDDD\\' style=\\'font-family:arial ;font-size:12;font-weight:bold; color: #006699\\'>\"; var j=0; var k=1; var w=1; for(i=0;i<7;i++){ strDay = strDay + \"<td align=\\'center\\' width=\\'14%\\'>\"+this.days[j++]+\"</td>\"; } j=0; strDay = strDay + \"</tr><tr height=\\'25\\' bgcolor=\\'#FFFFFF\\' style=\\'font-family:arial ;font-size:12;font-weight:bold; color: #006699\\'>\"; for(i=0;i<42;i++){ this._cd.setDate(k); if(j>6){j=0;if(k<=crDate){this.week++;}strDay = strDay + \"</tr><tr height=\\'25\\' bgcolor=\\'#FFFFFF\\' style=\\'font-family:arial ;font-size:12;font-weight:bold; color: #006699\\'>\";} if(j==0){ strDay = strDay + \"<td bgcolor=\\'#EFEFEF\\' align=\\'center\\'><a href=\\'/archivelist/year-\"+this._cd.getFullYear()+\",month-\"+(this._cd.getMonth()+1)+\",starttime=\"+this.getStartTime()+\".cms\\'>\"; }else{ strDay = strDay + \"<td align=\\'center\\'><a href=\\'/archivelist/year-\"+this._cd.getFullYear()+\",month-\"+(this._cd.getMonth()+1)+\",starttime-\"+this.getStartTime()+\".cms\\'>\"; } if(i>=stDay && (this._cd.getTime()+86400000)<cd.getTime()){ if(k==crDate){ strDay = strDay + (k++) + \"</a></td>\"; w=i; }else{ strDay = strDay + (k++) + \"</a></td>\"; } }else{ strDay = strDay + \"</a>\\xa0 </td>\"; } j++; if(k>totalDays)break; } for(m=j;m<=6;m++){ strDay = strDay + \"<td>\\xa0 </td>\"; } w=w+1; if(w>=7){w=Math.ceil(w/7);}else{w=1;} document.getElementById(\"calenderdiv\").innerHTML=strDay; }; } var _mnth = [\"Jan\",\"Feb\",\"Mar\",\"Apr\",\"May\",\"Jun\",\"Jul\",\"Aug\",\"Sep\",\"Oct\",\"Nov\",\"Dec\"] var _datestr = \"01 \"+_mnth[1-1] + \" 2001, 11:00\"; var oldcd = new OldArchiveCal(new Date(_datestr)); oldcd.printCal();'"
      ]
     },
     "execution_count": 36,
     "metadata": {},
     "output_type": "execute_result"
    }
   ],
   "source": [
    "match[0].text"
   ]
  },
  {
   "cell_type": "markdown",
   "id": "protective-person",
   "metadata": {},
   "source": [
    "# tag with class name\n",
    "\n",
    "tag = 'div' \n",
    "\n",
    "class = 'pushSec'"
   ]
  },
  {
   "cell_type": "code",
   "execution_count": 41,
   "id": "approximate-somewhere",
   "metadata": {},
   "outputs": [],
   "source": [
    "match = html.find('div.pushSec')"
   ]
  },
  {
   "cell_type": "code",
   "execution_count": 43,
   "id": "diverse-things",
   "metadata": {},
   "outputs": [
    {
     "data": {
      "text/plain": [
       "'Never miss a great news story!\\nGet instant notifications from Economic Times\\nAllowNot now\\n\\nYou can switch off notifications anytime using browser settings.'"
      ]
     },
     "execution_count": 43,
     "metadata": {},
     "output_type": "execute_result"
    }
   ],
   "source": [
    "match[0].text"
   ]
  },
  {
   "cell_type": "markdown",
   "id": "therapeutic-geneva",
   "metadata": {},
   "source": [
    "#### Another way also, where tagname name is not provided"
   ]
  },
  {
   "cell_type": "code",
   "execution_count": 52,
   "id": "angry-charity",
   "metadata": {},
   "outputs": [],
   "source": [
    "match = html.find('.pushSec')"
   ]
  },
  {
   "cell_type": "code",
   "execution_count": 53,
   "id": "instructional-skating",
   "metadata": {},
   "outputs": [
    {
     "data": {
      "text/plain": [
       "'Never miss a great news story!\\nGet instant notifications from Economic Times\\nAllowNot now\\n\\nYou can switch off notifications anytime using browser settings.'"
      ]
     },
     "execution_count": 53,
     "metadata": {},
     "output_type": "execute_result"
    }
   ],
   "source": [
    "match[0].text"
   ]
  },
  {
   "cell_type": "markdown",
   "id": "formed-novelty",
   "metadata": {},
   "source": [
    "### another way to concatenate the input attributes \n",
    "\n",
    "-- for example, one class has paragraph, which we need to scrap"
   ]
  },
  {
   "cell_type": "code",
   "execution_count": 56,
   "id": "employed-judgment",
   "metadata": {},
   "outputs": [],
   "source": [
    "match = html.find('.pushSec p') # with space"
   ]
  },
  {
   "cell_type": "code",
   "execution_count": 55,
   "id": "juvenile-apollo",
   "metadata": {},
   "outputs": [
    {
     "data": {
      "text/plain": [
       "'Never miss a great news story!\\nGet instant notifications from Economic Times\\nAllowNot now'"
      ]
     },
     "execution_count": 55,
     "metadata": {},
     "output_type": "execute_result"
    }
   ],
   "source": [
    "match[0].text"
   ]
  },
  {
   "cell_type": "markdown",
   "id": "married-johnston",
   "metadata": {},
   "source": [
    "# Iframe and attrs"
   ]
  },
  {
   "cell_type": "code",
   "execution_count": 60,
   "id": "horizontal-skiing",
   "metadata": {},
   "outputs": [],
   "source": [
    "match = html.find('iframe', first=True)"
   ]
  },
  {
   "cell_type": "code",
   "execution_count": 66,
   "id": "private-slovenia",
   "metadata": {},
   "outputs": [
    {
     "data": {
      "text/plain": [
       "{'allowtransparency': 'no',\n",
       " 'align': 'left',\n",
       " 'scrolling': 'no',\n",
       " 'frameborder': '0',\n",
       " 'vspace': '0',\n",
       " 'hspace': '0',\n",
       " 'marginheight': '0',\n",
       " 'marginwidth': '0',\n",
       " 'height': '320',\n",
       " 'width': '320',\n",
       " 'src': '/videobox.cms?type=Markets'}"
      ]
     },
     "execution_count": 66,
     "metadata": {},
     "output_type": "execute_result"
    }
   ],
   "source": [
    "match.attrs"
   ]
  },
  {
   "cell_type": "code",
   "execution_count": 67,
   "id": "worth-maldives",
   "metadata": {},
   "outputs": [
    {
     "data": {
      "text/plain": [
       "'/videobox.cms?type=Markets'"
      ]
     },
     "execution_count": 67,
     "metadata": {},
     "output_type": "execute_result"
    }
   ],
   "source": [
    "match.attrs['src']"
   ]
  },
  {
   "cell_type": "markdown",
   "id": "beginning-journalism",
   "metadata": {},
   "source": [
    "# HTMLSession \n",
    "instead of requests"
   ]
  },
  {
   "cell_type": "code",
   "execution_count": 45,
   "id": "stock-bones",
   "metadata": {},
   "outputs": [],
   "source": [
    "session = HTMLSession()"
   ]
  },
  {
   "cell_type": "code",
   "execution_count": 47,
   "id": "portuguese-chart",
   "metadata": {},
   "outputs": [],
   "source": [
    "r = session.get(base_url)"
   ]
  },
  {
   "cell_type": "code",
   "execution_count": 48,
   "id": "engaged-collector",
   "metadata": {},
   "outputs": [
    {
     "name": "stdout",
     "output_type": "stream",
     "text": [
      "<HTML url='https://economictimes.indiatimes.com/archive/year-2001,month-1.cms'>\n"
     ]
    }
   ],
   "source": [
    "print(r.html)"
   ]
  },
  {
   "cell_type": "code",
   "execution_count": 51,
   "id": "chinese-coach",
   "metadata": {},
   "outputs": [
    {
     "data": {
      "text/plain": [
       "'January news: January top news, what happened in January | The Economic Times'"
      ]
     },
     "execution_count": 51,
     "metadata": {},
     "output_type": "execute_result"
    }
   ],
   "source": [
    "r.html.find('title')[0].text"
   ]
  },
  {
   "cell_type": "markdown",
   "id": "framed-repeat",
   "metadata": {},
   "source": [
    "# Data generated by Javascript "
   ]
  },
  {
   "cell_type": "markdown",
   "id": "obvious-tuesday",
   "metadata": {},
   "source": [
    "### below code is running successfully in pycharm, here throwing error. So for this code, use pycharm"
   ]
  },
  {
   "cell_type": "code",
   "execution_count": 89,
   "id": "abandoned-peripheral",
   "metadata": {},
   "outputs": [
    {
     "name": "stdout",
     "output_type": "stream",
     "text": [
      "before 290\n"
     ]
    },
    {
     "ename": "RuntimeError",
     "evalue": "Cannot use HTMLSession within an existing event loop. Use AsyncHTMLSession instead.",
     "output_type": "error",
     "traceback": [
      "\u001b[1;31m---------------------------------------------------------------------------\u001b[0m",
      "\u001b[1;31mRuntimeError\u001b[0m                              Traceback (most recent call last)",
      "\u001b[1;32m<ipython-input-89-34510e23ffbe>\u001b[0m in \u001b[0;36m<module>\u001b[1;34m\u001b[0m\n\u001b[0;32m     13\u001b[0m \u001b[0mprint\u001b[0m\u001b[1;33m(\u001b[0m\u001b[1;34m'before'\u001b[0m\u001b[1;33m,\u001b[0m \u001b[0mlen\u001b[0m\u001b[1;33m(\u001b[0m\u001b[0mhtml1\u001b[0m\u001b[1;33m.\u001b[0m\u001b[0mfind\u001b[0m\u001b[1;33m(\u001b[0m\u001b[1;34m'a'\u001b[0m\u001b[1;33m)\u001b[0m\u001b[1;33m)\u001b[0m\u001b[1;33m)\u001b[0m\u001b[1;33m\u001b[0m\u001b[1;33m\u001b[0m\u001b[0m\n\u001b[0;32m     14\u001b[0m \u001b[1;33m\u001b[0m\u001b[0m\n\u001b[1;32m---> 15\u001b[1;33m \u001b[0mhtml1\u001b[0m\u001b[1;33m.\u001b[0m\u001b[0mrender\u001b[0m\u001b[1;33m(\u001b[0m\u001b[1;33m)\u001b[0m\u001b[1;33m\u001b[0m\u001b[1;33m\u001b[0m\u001b[0m\n\u001b[0m\u001b[0;32m     16\u001b[0m \u001b[1;33m\u001b[0m\u001b[0m\n\u001b[0;32m     17\u001b[0m \u001b[0mprint\u001b[0m\u001b[1;33m(\u001b[0m\u001b[1;34m'after'\u001b[0m\u001b[1;33m,\u001b[0m \u001b[0mlen\u001b[0m\u001b[1;33m(\u001b[0m\u001b[0mhtml1\u001b[0m\u001b[1;33m.\u001b[0m\u001b[0mfind\u001b[0m\u001b[1;33m(\u001b[0m\u001b[1;34m'a'\u001b[0m\u001b[1;33m)\u001b[0m\u001b[1;33m)\u001b[0m\u001b[1;33m)\u001b[0m\u001b[1;33m\u001b[0m\u001b[1;33m\u001b[0m\u001b[0m\n",
      "\u001b[1;32mE:\\SoftwareBinaries\\miniconda\\envs\\test_env\\lib\\site-packages\\requests_html.py\u001b[0m in \u001b[0;36mrender\u001b[1;34m(self, retries, script, wait, scrolldown, sleep, reload, timeout, keep_page)\u001b[0m\n\u001b[0;32m    584\u001b[0m         \"\"\"\n\u001b[0;32m    585\u001b[0m \u001b[1;33m\u001b[0m\u001b[0m\n\u001b[1;32m--> 586\u001b[1;33m         \u001b[0mself\u001b[0m\u001b[1;33m.\u001b[0m\u001b[0mbrowser\u001b[0m \u001b[1;33m=\u001b[0m \u001b[0mself\u001b[0m\u001b[1;33m.\u001b[0m\u001b[0msession\u001b[0m\u001b[1;33m.\u001b[0m\u001b[0mbrowser\u001b[0m  \u001b[1;31m# Automatically create a event loop and browser\u001b[0m\u001b[1;33m\u001b[0m\u001b[1;33m\u001b[0m\u001b[0m\n\u001b[0m\u001b[0;32m    587\u001b[0m         \u001b[0mcontent\u001b[0m \u001b[1;33m=\u001b[0m \u001b[1;32mNone\u001b[0m\u001b[1;33m\u001b[0m\u001b[1;33m\u001b[0m\u001b[0m\n\u001b[0;32m    588\u001b[0m \u001b[1;33m\u001b[0m\u001b[0m\n",
      "\u001b[1;32mE:\\SoftwareBinaries\\miniconda\\envs\\test_env\\lib\\site-packages\\requests_html.py\u001b[0m in \u001b[0;36mbrowser\u001b[1;34m(self)\u001b[0m\n\u001b[0;32m    727\u001b[0m             \u001b[0mself\u001b[0m\u001b[1;33m.\u001b[0m\u001b[0mloop\u001b[0m \u001b[1;33m=\u001b[0m \u001b[0masyncio\u001b[0m\u001b[1;33m.\u001b[0m\u001b[0mget_event_loop\u001b[0m\u001b[1;33m(\u001b[0m\u001b[1;33m)\u001b[0m\u001b[1;33m\u001b[0m\u001b[1;33m\u001b[0m\u001b[0m\n\u001b[0;32m    728\u001b[0m             \u001b[1;32mif\u001b[0m \u001b[0mself\u001b[0m\u001b[1;33m.\u001b[0m\u001b[0mloop\u001b[0m\u001b[1;33m.\u001b[0m\u001b[0mis_running\u001b[0m\u001b[1;33m(\u001b[0m\u001b[1;33m)\u001b[0m\u001b[1;33m:\u001b[0m\u001b[1;33m\u001b[0m\u001b[1;33m\u001b[0m\u001b[0m\n\u001b[1;32m--> 729\u001b[1;33m                 \u001b[1;32mraise\u001b[0m \u001b[0mRuntimeError\u001b[0m\u001b[1;33m(\u001b[0m\u001b[1;34m\"Cannot use HTMLSession within an existing event loop. Use AsyncHTMLSession instead.\"\u001b[0m\u001b[1;33m)\u001b[0m\u001b[1;33m\u001b[0m\u001b[1;33m\u001b[0m\u001b[0m\n\u001b[0m\u001b[0;32m    730\u001b[0m             \u001b[0mself\u001b[0m\u001b[1;33m.\u001b[0m\u001b[0m_browser\u001b[0m \u001b[1;33m=\u001b[0m \u001b[0mself\u001b[0m\u001b[1;33m.\u001b[0m\u001b[0mloop\u001b[0m\u001b[1;33m.\u001b[0m\u001b[0mrun_until_complete\u001b[0m\u001b[1;33m(\u001b[0m\u001b[0msuper\u001b[0m\u001b[1;33m(\u001b[0m\u001b[1;33m)\u001b[0m\u001b[1;33m.\u001b[0m\u001b[0mbrowser\u001b[0m\u001b[1;33m)\u001b[0m\u001b[1;33m\u001b[0m\u001b[1;33m\u001b[0m\u001b[0m\n\u001b[0;32m    731\u001b[0m         \u001b[1;32mreturn\u001b[0m \u001b[0mself\u001b[0m\u001b[1;33m.\u001b[0m\u001b[0m_browser\u001b[0m\u001b[1;33m\u001b[0m\u001b[1;33m\u001b[0m\u001b[0m\n",
      "\u001b[1;31mRuntimeError\u001b[0m: Cannot use HTMLSession within an existing event loop. Use AsyncHTMLSession instead."
     ]
    }
   ],
   "source": [
    "from requests_html import HTMLSession, HTML\n",
    "\n",
    "import requests\n",
    "\n",
    "session = HTMLSession()\n",
    "\n",
    "base_url = 'https://economictimes.indiatimes.com/archive/year-2001,month-1.cms'\n",
    "\n",
    "r = session.get(base_url)\n",
    "\n",
    "html1 = HTML(html=r.content)\n",
    "\n",
    "print('before', len(html1.find('a')))\n",
    "\n",
    "html1.render()\n",
    "\n",
    "print('after', len(html1.find('a')))\n"
   ]
  },
  {
   "cell_type": "code",
   "execution_count": 88,
   "id": "seasonal-stephen",
   "metadata": {},
   "outputs": [
    {
     "name": "stdout",
     "output_type": "stream",
     "text": [
      "before 290\n"
     ]
    },
    {
     "ename": "RuntimeError",
     "evalue": "Cannot use HTMLSession within an existing event loop. Use AsyncHTMLSession instead.",
     "output_type": "error",
     "traceback": [
      "\u001b[1;31m---------------------------------------------------------------------------\u001b[0m",
      "\u001b[1;31mRuntimeError\u001b[0m                              Traceback (most recent call last)",
      "\u001b[1;32m<ipython-input-88-21e792967ec4>\u001b[0m in \u001b[0;36m<module>\u001b[1;34m\u001b[0m\n\u001b[0;32m     21\u001b[0m \u001b[1;33m\u001b[0m\u001b[0m\n\u001b[0;32m     22\u001b[0m \u001b[1;33m\u001b[0m\u001b[0m\n\u001b[1;32m---> 23\u001b[1;33m \u001b[0mhtml1\u001b[0m\u001b[1;33m.\u001b[0m\u001b[0mrender\u001b[0m\u001b[1;33m(\u001b[0m\u001b[1;33m)\u001b[0m\u001b[1;33m\u001b[0m\u001b[1;33m\u001b[0m\u001b[0m\n\u001b[0m\u001b[0;32m     24\u001b[0m \u001b[1;33m\u001b[0m\u001b[0m\n\u001b[0;32m     25\u001b[0m \u001b[0mprint\u001b[0m\u001b[1;33m(\u001b[0m\u001b[1;34m'after'\u001b[0m\u001b[1;33m,\u001b[0m \u001b[0mlen\u001b[0m\u001b[1;33m(\u001b[0m\u001b[0mhtml1\u001b[0m\u001b[1;33m.\u001b[0m\u001b[0mfind\u001b[0m\u001b[1;33m(\u001b[0m\u001b[1;34m'a'\u001b[0m\u001b[1;33m)\u001b[0m\u001b[1;33m)\u001b[0m\u001b[1;33m)\u001b[0m\u001b[1;33m\u001b[0m\u001b[1;33m\u001b[0m\u001b[0m\n",
      "\u001b[1;32mE:\\SoftwareBinaries\\miniconda\\envs\\test_env\\lib\\site-packages\\requests_html.py\u001b[0m in \u001b[0;36mrender\u001b[1;34m(self, retries, script, wait, scrolldown, sleep, reload, timeout, keep_page)\u001b[0m\n\u001b[0;32m    584\u001b[0m         \"\"\"\n\u001b[0;32m    585\u001b[0m \u001b[1;33m\u001b[0m\u001b[0m\n\u001b[1;32m--> 586\u001b[1;33m         \u001b[0mself\u001b[0m\u001b[1;33m.\u001b[0m\u001b[0mbrowser\u001b[0m \u001b[1;33m=\u001b[0m \u001b[0mself\u001b[0m\u001b[1;33m.\u001b[0m\u001b[0msession\u001b[0m\u001b[1;33m.\u001b[0m\u001b[0mbrowser\u001b[0m  \u001b[1;31m# Automatically create a event loop and browser\u001b[0m\u001b[1;33m\u001b[0m\u001b[1;33m\u001b[0m\u001b[0m\n\u001b[0m\u001b[0;32m    587\u001b[0m         \u001b[0mcontent\u001b[0m \u001b[1;33m=\u001b[0m \u001b[1;32mNone\u001b[0m\u001b[1;33m\u001b[0m\u001b[1;33m\u001b[0m\u001b[0m\n\u001b[0;32m    588\u001b[0m \u001b[1;33m\u001b[0m\u001b[0m\n",
      "\u001b[1;32mE:\\SoftwareBinaries\\miniconda\\envs\\test_env\\lib\\site-packages\\requests_html.py\u001b[0m in \u001b[0;36mbrowser\u001b[1;34m(self)\u001b[0m\n\u001b[0;32m    727\u001b[0m             \u001b[0mself\u001b[0m\u001b[1;33m.\u001b[0m\u001b[0mloop\u001b[0m \u001b[1;33m=\u001b[0m \u001b[0masyncio\u001b[0m\u001b[1;33m.\u001b[0m\u001b[0mget_event_loop\u001b[0m\u001b[1;33m(\u001b[0m\u001b[1;33m)\u001b[0m\u001b[1;33m\u001b[0m\u001b[1;33m\u001b[0m\u001b[0m\n\u001b[0;32m    728\u001b[0m             \u001b[1;32mif\u001b[0m \u001b[0mself\u001b[0m\u001b[1;33m.\u001b[0m\u001b[0mloop\u001b[0m\u001b[1;33m.\u001b[0m\u001b[0mis_running\u001b[0m\u001b[1;33m(\u001b[0m\u001b[1;33m)\u001b[0m\u001b[1;33m:\u001b[0m\u001b[1;33m\u001b[0m\u001b[1;33m\u001b[0m\u001b[0m\n\u001b[1;32m--> 729\u001b[1;33m                 \u001b[1;32mraise\u001b[0m \u001b[0mRuntimeError\u001b[0m\u001b[1;33m(\u001b[0m\u001b[1;34m\"Cannot use HTMLSession within an existing event loop. Use AsyncHTMLSession instead.\"\u001b[0m\u001b[1;33m)\u001b[0m\u001b[1;33m\u001b[0m\u001b[1;33m\u001b[0m\u001b[0m\n\u001b[0m\u001b[0;32m    730\u001b[0m             \u001b[0mself\u001b[0m\u001b[1;33m.\u001b[0m\u001b[0m_browser\u001b[0m \u001b[1;33m=\u001b[0m \u001b[0mself\u001b[0m\u001b[1;33m.\u001b[0m\u001b[0mloop\u001b[0m\u001b[1;33m.\u001b[0m\u001b[0mrun_until_complete\u001b[0m\u001b[1;33m(\u001b[0m\u001b[0msuper\u001b[0m\u001b[1;33m(\u001b[0m\u001b[1;33m)\u001b[0m\u001b[1;33m.\u001b[0m\u001b[0mbrowser\u001b[0m\u001b[1;33m)\u001b[0m\u001b[1;33m\u001b[0m\u001b[1;33m\u001b[0m\u001b[0m\n\u001b[0;32m    731\u001b[0m         \u001b[1;32mreturn\u001b[0m \u001b[0mself\u001b[0m\u001b[1;33m.\u001b[0m\u001b[0m_browser\u001b[0m\u001b[1;33m\u001b[0m\u001b[1;33m\u001b[0m\u001b[0m\n",
      "\u001b[1;31mRuntimeError\u001b[0m: Cannot use HTMLSession within an existing event loop. Use AsyncHTMLSession instead."
     ]
    }
   ],
   "source": [
    "from requests_html import HTMLSession, HTML\n",
    "\n",
    "import requests\n",
    "\n",
    "session = HTMLSession()\n",
    "\n",
    "base_url = 'https://economictimes.indiatimes.com/archive/year-2001,month-1.cms'\n",
    "\n",
    "\n",
    "r = session.get(base_url)\n",
    "\n",
    "\n",
    "with open('business_news_pycharm.html', 'wb') as file:\n",
    "    file.write(r.content)\n",
    "    \n",
    "with open('business_news_pycharm.html', encoding='utf-8') as html_file:\n",
    "    source = html_file.read()\n",
    "    html1 = HTML(html=source)\n",
    "\n",
    "print('before', len(html1.find('a')))\n",
    "\n",
    "\n",
    "html1.render()\n",
    "\n",
    "print('after', len(html1.find('a')))"
   ]
  },
  {
   "cell_type": "code",
   "execution_count": null,
   "id": "incorrect-joyce",
   "metadata": {},
   "outputs": [],
   "source": []
  }
 ],
 "metadata": {
  "kernelspec": {
   "display_name": "Python 3",
   "language": "python",
   "name": "python3"
  },
  "language_info": {
   "codemirror_mode": {
    "name": "ipython",
    "version": 3
   },
   "file_extension": ".py",
   "mimetype": "text/x-python",
   "name": "python",
   "nbconvert_exporter": "python",
   "pygments_lexer": "ipython3",
   "version": "3.8.5"
  }
 },
 "nbformat": 4,
 "nbformat_minor": 5
}
