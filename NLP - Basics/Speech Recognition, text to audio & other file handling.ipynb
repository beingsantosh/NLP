{
 "cells": [
  {
   "cell_type": "markdown",
   "metadata": {},
   "source": [
    "### Working with files"
   ]
  },
  {
   "cell_type": "code",
   "execution_count": 8,
   "metadata": {},
   "outputs": [],
   "source": [
    "file = open('test.txt','w')\n",
    "\n",
    "data = 'this is intialkkk text for testing.'\n",
    "file.write(data)\n",
    "file.close()"
   ]
  },
  {
   "cell_type": "code",
   "execution_count": 13,
   "metadata": {},
   "outputs": [],
   "source": [
    "file = open('test.txt','a')\n",
    "\n",
    "file.write('\\n second line')\n",
    "file.close()"
   ]
  },
  {
   "cell_type": "code",
   "execution_count": 14,
   "metadata": {},
   "outputs": [],
   "source": [
    "file = open('test.txt','a')\n",
    "\n",
    "# only string is allowed to be written, so integer first should be str.\n",
    "\n",
    "file.write(str(1))\n",
    "file.close()"
   ]
  },
  {
   "cell_type": "code",
   "execution_count": 16,
   "metadata": {},
   "outputs": [],
   "source": [
    "file = open('test.txt','a')\n",
    "\n",
    "data = [ 900, 'test', 'this', 9.0]\n",
    "for i in data:\n",
    "    file.write(f'{str(i)} ')\n",
    "    \n",
    "file.close()"
   ]
  },
  {
   "cell_type": "markdown",
   "metadata": {},
   "source": [
    "\n",
    "### WITH - no need to close the file explicitly"
   ]
  },
  {
   "cell_type": "code",
   "execution_count": 26,
   "metadata": {},
   "outputs": [],
   "source": [
    "with open('test.txt','a') as file:\n",
    "    data = ' this is for with command..'\n",
    "    file.write(data)\n",
    "    file.write('\\n')\n",
    "    \n",
    "    "
   ]
  },
  {
   "cell_type": "markdown",
   "metadata": {},
   "source": [
    "### working with read mode"
   ]
  },
  {
   "cell_type": "code",
   "execution_count": 27,
   "metadata": {},
   "outputs": [],
   "source": [
    "file = open('test.txt','r')"
   ]
  },
  {
   "cell_type": "code",
   "execution_count": 35,
   "metadata": {},
   "outputs": [
    {
     "data": {
      "text/plain": [
       "[' this is for with command.. this is for with command.. this is for with command..',\n",
       " ' this is for with command..']"
      ]
     },
     "execution_count": 35,
     "metadata": {},
     "output_type": "execute_result"
    }
   ],
   "source": [
    "file.seek(0)  # this helps to place the pointer again at starting \n",
    "file.read().splitlines()"
   ]
  },
  {
   "cell_type": "code",
   "execution_count": 34,
   "metadata": {},
   "outputs": [
    {
     "data": {
      "text/plain": [
       "' this is for with command.. this is for with command.. this is for with command..\\n'"
      ]
     },
     "execution_count": 34,
     "metadata": {},
     "output_type": "execute_result"
    }
   ],
   "source": [
    "file.seek(0)\n",
    "file.readline()"
   ]
  },
  {
   "cell_type": "markdown",
   "metadata": {},
   "source": [
    "### reading JSON\n"
   ]
  },
  {
   "cell_type": "code",
   "execution_count": 36,
   "metadata": {},
   "outputs": [],
   "source": [
    "import json"
   ]
  },
  {
   "cell_type": "code",
   "execution_count": 42,
   "metadata": {},
   "outputs": [],
   "source": [
    "data = {\"one\":\"1\",\"three\":\"3\"}"
   ]
  },
  {
   "cell_type": "code",
   "execution_count": 43,
   "metadata": {},
   "outputs": [
    {
     "data": {
      "text/plain": [
       "dict"
      ]
     },
     "execution_count": 43,
     "metadata": {},
     "output_type": "execute_result"
    }
   ],
   "source": [
    "type(data)"
   ]
  },
  {
   "cell_type": "code",
   "execution_count": 44,
   "metadata": {},
   "outputs": [],
   "source": [
    "data_str = '{\"one\":\"1\",\"three\":\"3\"}'\n"
   ]
  },
  {
   "cell_type": "code",
   "execution_count": 45,
   "metadata": {},
   "outputs": [
    {
     "data": {
      "text/plain": [
       "str"
      ]
     },
     "execution_count": 45,
     "metadata": {},
     "output_type": "execute_result"
    }
   ],
   "source": [
    "type(data_str)"
   ]
  },
  {
   "cell_type": "markdown",
   "metadata": {},
   "source": [
    "### load() loads() dump() dumps()"
   ]
  },
  {
   "cell_type": "code",
   "execution_count": 51,
   "metadata": {},
   "outputs": [
    {
     "data": {
      "text/plain": [
       "{'one': '1', 'three': '3'}"
      ]
     },
     "execution_count": 51,
     "metadata": {},
     "output_type": "execute_result"
    }
   ],
   "source": [
    "json.loads(data_str)  # str convert to dict"
   ]
  },
  {
   "cell_type": "code",
   "execution_count": 52,
   "metadata": {},
   "outputs": [
    {
     "data": {
      "text/plain": [
       "'{\"one\": \"1\", \"three\": \"3\"}'"
      ]
     },
     "execution_count": 52,
     "metadata": {},
     "output_type": "execute_result"
    }
   ],
   "source": [
    "json.dumps(data)   # dict convert to str"
   ]
  },
  {
   "cell_type": "code",
   "execution_count": 53,
   "metadata": {},
   "outputs": [],
   "source": [
    "file=open('data.json','w')\n",
    "json.dump(data_str,file)\n",
    "file.close()"
   ]
  },
  {
   "cell_type": "code",
   "execution_count": 54,
   "metadata": {},
   "outputs": [],
   "source": [
    "file = open('data.json','r')\n",
    "json_data = json.load(file)\n",
    "file.close()"
   ]
  },
  {
   "cell_type": "code",
   "execution_count": 55,
   "metadata": {},
   "outputs": [
    {
     "data": {
      "text/plain": [
       "{'one': '1', 'three': '3'}"
      ]
     },
     "execution_count": 55,
     "metadata": {},
     "output_type": "execute_result"
    }
   ],
   "source": [
    "json.loads(json_data)"
   ]
  },
  {
   "cell_type": "markdown",
   "metadata": {},
   "source": [
    "### pdf read and write"
   ]
  },
  {
   "cell_type": "code",
   "execution_count": 60,
   "metadata": {},
   "outputs": [
    {
     "name": "stdout",
     "output_type": "stream",
     "text": [
      "Requirement already satisfied: PyPDF2 in c:\\users\\mein pc\\.conda\\envs\\nlp_course\\lib\\site-packages (1.26.0)\n"
     ]
    }
   ],
   "source": [
    "!pip install PyPDF2"
   ]
  },
  {
   "cell_type": "code",
   "execution_count": 63,
   "metadata": {},
   "outputs": [
    {
     "name": "stdout",
     "output_type": "stream",
     "text": [
      "absl-py==0.9.0\n",
      "asn1crypto==1.3.0\n",
      "astor==0.8.0\n",
      "attrs==19.3.0\n",
      "backcall==0.1.0\n",
      "beautifulsoup4==4.9.3\n",
      "bleach==3.1.4\n",
      "certifi==2020.4.5.1\n",
      "cffi==1.14.0\n",
      "chardet==3.0.4\n",
      "colorama==0.4.3\n",
      "cryptography==2.8\n",
      "cycler==0.10.0\n",
      "cymem==2.0.2\n",
      "cytoolz==0.9.0.1\n",
      "decorator==4.4.2\n",
      "defusedxml==0.6.0\n",
      "dill==0.2.9\n",
      "en-core-web-lg==2.0.0\n",
      "en-core-web-sm==2.0.0\n",
      "entrypoints==0.3\n",
      "gast==0.3.3\n",
      "grpcio==1.27.2\n",
      "h5py==2.10.0\n",
      "idna==2.9\n",
      "importlib-metadata==1.5.0\n",
      "ipykernel==5.1.4\n",
      "ipython==7.13.0\n",
      "ipython-genutils==0.2.0\n",
      "ipywidgets==7.5.1\n",
      "jedi==0.16.0\n",
      "Jinja2==2.11.1\n",
      "jsonschema==3.2.0\n",
      "jupyter==1.0.0\n",
      "jupyter-client==6.1.2\n",
      "jupyter-console==6.1.0\n",
      "jupyter-core==4.6.3\n",
      "Keras==2.2.4\n",
      "Keras-Applications==1.0.8\n",
      "Keras-Preprocessing==1.1.0\n",
      "kiwisolver==1.1.0\n",
      "Markdown==3.1.1\n",
      "MarkupSafe==1.1.1\n",
      "matplotlib==3.0.1\n",
      "mistune==0.8.4\n",
      "mkl-fft==1.0.6\n",
      "mkl-random==1.0.1\n",
      "mock==4.0.1\n",
      "msgpack==0.6.1\n",
      "msgpack-numpy==0.4.3.2\n",
      "murmurhash==1.0.2\n",
      "nbconvert==5.6.1\n",
      "nbformat==5.0.4\n",
      "nltk==3.3\n",
      "notebook==6.0.3\n",
      "numpy==1.15.4\n",
      "pandas==0.23.4\n",
      "pandocfilters==1.4.2\n",
      "parso==0.6.2\n",
      "pickleshare==0.7.5\n",
      "Pillow==8.0.0\n",
      "plac==0.9.6\n",
      "preshed==2.0.1\n",
      "prometheus-client==0.7.1\n",
      "prompt-toolkit==3.0.4\n",
      "protobuf==3.11.4\n",
      "pycparser==2.20\n",
      "Pygments==2.6.1\n",
      "pyOpenSSL==19.1.0\n",
      "pyparsing==2.4.6\n",
      "PyPDF2==1.26.0\n",
      "pyreadline==2.1\n",
      "pyrsistent==0.16.0\n",
      "PySocks==1.7.1\n",
      "python-dateutil==2.8.1\n",
      "pytz==2019.3\n",
      "pywin32==227\n",
      "pywinpty==0.5.7\n",
      "PyYAML==5.3.1\n",
      "pyzmq==18.1.1\n",
      "qtconsole==4.7.2\n",
      "QtPy==1.9.0\n",
      "regex==2018.1.10\n",
      "requests==2.23.0\n",
      "scikit-learn==0.20.1\n",
      "scipy==1.1.0\n",
      "Send2Trash==1.5.0\n",
      "six==1.14.0\n",
      "soupsieve==2.0.1\n",
      "spacy==2.0.16\n",
      "TBB==0.1\n",
      "tensorboard==1.13.1\n",
      "tensorflow==1.13.1\n",
      "tensorflow-estimator==1.13.0\n",
      "termcolor==1.1.0\n",
      "terminado==0.8.3\n",
      "testpath==0.4.4\n",
      "textblob==0.15.3\n",
      "thinc==6.12.1\n",
      "toolz==0.10.0\n",
      "tornado==6.0.4\n",
      "tqdm==4.44.1\n",
      "traitlets==4.3.3\n",
      "ujson==2.0.3\n",
      "urllib3==1.25.8\n",
      "wcwidth==0.1.9\n",
      "webencodings==0.5.1\n",
      "Werkzeug==1.0.1\n",
      "widgetsnbextension==3.5.1\n",
      "win-inet-pton==1.1.0\n",
      "wincertstore==0.2\n",
      "wordcloud==1.8.0\n",
      "wrapt==1.10.11\n",
      "zipp==2.2.0\n"
     ]
    }
   ],
   "source": [
    "!pip freeze"
   ]
  },
  {
   "cell_type": "code",
   "execution_count": 88,
   "metadata": {},
   "outputs": [],
   "source": [
    "# saving data from pdf into a text file\n",
    "\n",
    "import PyPDF2 as pdf1\n"
   ]
  },
  {
   "cell_type": "code",
   "execution_count": 90,
   "metadata": {},
   "outputs": [],
   "source": [
    "file = open('US_Declaration.pdf','rb')\n",
    "reader = pdf1.PdfFileReader(file)\n"
   ]
  },
  {
   "cell_type": "code",
   "execution_count": 92,
   "metadata": {},
   "outputs": [
    {
     "data": {
      "text/plain": [
       "\"Declaration of IndependenceIN CONGRESS, July 4, 1776. The unanimous Declaration of the thirteen united States of America, When in the Course of human events, it becomes necessary for one people to dissolve the\\npolitical bands which have connected them with another, and to assume among the powers of the\\nearth, the separate and equal station to which the Laws of Nature and of Nature's God entitle\\n\\nthem, a decent respect to the opinions of mankind requires that they should declare the causes\\n\\nwhich impel them to the separation. \\nWe hold these truths to be self-evident, that all men are created equal, that they are endowed by\\n\\ntheir Creator with certain unalienable Rights, that among these are Life, Liberty and the pursuit\\nof Happiness.ŠThat to secure these rights, Governments are instituted among Men, deriving\\n\\ntheir just powers from the consent of the governed,ŠThat whenever any Form of Government\\nbecomes destructive of these ends, it is the Right of the People to alter or to abolish it, and to\\ninstitute new Government, laying its foundation on such principles and organizing its powers in\\nsuch form, as to them shall seem most likely to effect their Safety and Happiness. Prudence,\\n\\nindeed, will dictate that Governments long established should not be changed for light and\\ntransient causes; and accordingly all experience hath shewn, that mankind are more disposed to\\nsuffer, while evils are sufferable, than to right themselves by abolishing the forms to which they\\n\\nare accustomed. But when a long train of abuses and usurpations, pursuing invariably the same\\nObject evinces a design to reduce them under absolute Despotism, it is their right, it is their duty,\\nto throw off such Government, and to provide new Guards for their future security.ŠSuch has\\nbeen the patient sufferance of these Colonies; and such is now the necessity which constrains\\n\\nthem to alter their former Systems of Government. The history of the present King of Great\\n\\nBritain is a history of repeated injuries and usurpations, all having in direct object the\\nestablishment of an absolute Tyranny over these States. To prove this, let Facts be submitted to a\\ncandid world. He has refused his Assent to Laws, the most wholesome and necessary for the\\npublic good.\\nHe has forbidden his Governors to pass Laws of immediate and pressing\\nimportance, unless suspended in their operation till his Assent should be obtained;\\nand when so suspended, he has utterly neglected to attend to them.\\n\\nHe has refused to pass other Laws for the accommodation of large districts of\\npeople, unless those people would relinquish the right of Representation in the\\nLegislature, a right inestimable to them and formidable to tyrants only. \\n\\nHe has called together legislative bodies at places unusual, uncomfortable, and distant\\nfrom the depository of their public Records, for the sole purpose of fatiguing them into\\ncompliance with his measures.\\n\""
      ]
     },
     "execution_count": 92,
     "metadata": {},
     "output_type": "execute_result"
    }
   ],
   "source": [
    "reader.getPage(0).extractText()"
   ]
  },
  {
   "cell_type": "code",
   "execution_count": 99,
   "metadata": {},
   "outputs": [],
   "source": [
    "with open('US_declaration.txt','w') as txt:\n",
    "    for i in range(reader.getNumPages()):\n",
    "        txt.write(f'page number {i:->{20}} \\n\\n\\n\\n')\n",
    "        txt.write(reader.getPage(i).extractText())\n",
    "        txt.write('\\n')"
   ]
  },
  {
   "cell_type": "markdown",
   "metadata": {},
   "source": [
    "\n",
    "### record the audio and convert to text file"
   ]
  },
  {
   "cell_type": "code",
   "execution_count": 100,
   "metadata": {},
   "outputs": [],
   "source": [
    "# open conda prompt window with admin rights\n",
    "\n",
    "#  then run below command\n",
    "#    1) pip install SpeechRecognition\n",
    "#    2) conda update --force conda\n",
    "#    3) conda install pyaudio"
   ]
  },
  {
   "cell_type": "code",
   "execution_count": 9,
   "metadata": {},
   "outputs": [],
   "source": [
    "import speech_recognition as sr"
   ]
  },
  {
   "cell_type": "code",
   "execution_count": 10,
   "metadata": {},
   "outputs": [],
   "source": [
    "r = sr.Recognizer()"
   ]
  },
  {
   "cell_type": "code",
   "execution_count": 11,
   "metadata": {},
   "outputs": [
    {
     "name": "stdout",
     "output_type": "stream",
     "text": [
      "Say Something...\n",
      "You said:\n",
      "hello everyone thank you\n"
     ]
    }
   ],
   "source": [
    "with sr.Microphone() as source:\n",
    "    print('Say Something...')\n",
    "    audio = r.listen(source, timeout= 10)\n",
    "    \n",
    "    try:\n",
    "        text = r.recognize_google(audio)\n",
    "        print('You said:')\n",
    "        print( text)\n",
    "    except:\n",
    "        print('Try again saying something:')\n",
    "        "
   ]
  },
  {
   "cell_type": "markdown",
   "metadata": {},
   "source": [
    "### picking text from a audio file"
   ]
  },
  {
   "cell_type": "code",
   "execution_count": 7,
   "metadata": {},
   "outputs": [],
   "source": [
    "import speech_recognition as sr\n",
    "r = sr.Recognizer()"
   ]
  },
  {
   "cell_type": "markdown",
   "metadata": {},
   "source": [
    "### Currently, SpeechRecognition supports the following file formats:\n",
    "\n",
    "WAV: must be in PCM/LPCM format\n",
    "\n",
    "AIFF\n",
    "\n",
    "AIFF-C\n",
    "\n",
    "FLAC: must be native FLAC format; OGG-FLAC is not supported"
   ]
  },
  {
   "cell_type": "code",
   "execution_count": 8,
   "metadata": {},
   "outputs": [
    {
     "name": "stdout",
     "output_type": "stream",
     "text": [
      "working on it...\n",
      "hello they aren't doing NLP and this is very important topic for this I want to excellent this thank you\n"
     ]
    }
   ],
   "source": [
    "with sr.AudioFile('Recording.wav') as source:\n",
    "    audio = r.record(source)\n",
    "    try:\n",
    "        text= r.recognize_google(audio)\n",
    "        print('working on it...')\n",
    "        print(text)\n",
    "    except:\n",
    "        print('Sorrx, please try again..')"
   ]
  },
  {
   "cell_type": "markdown",
   "metadata": {},
   "source": [
    "### Text to speech conversion"
   ]
  },
  {
   "cell_type": "code",
   "execution_count": 1,
   "metadata": {},
   "outputs": [],
   "source": [
    "text = 'Hello Good morning, I live in Germany and i come from India. I am studying Data. Thank you'"
   ]
  },
  {
   "cell_type": "code",
   "execution_count": 117,
   "metadata": {},
   "outputs": [
    {
     "name": "stdout",
     "output_type": "stream",
     "text": [
      "Collecting gTTS\n",
      "  Downloading https://files.pythonhosted.org/packages/a1/0c/4ca77eca3b739a4a08360930643f58d714e302fee0d2f8c654e67d9af8e7/gTTS-2.1.1-py3-none-any.whl\n",
      "Requirement already satisfied: requests in c:\\users\\mein pc\\.conda\\envs\\nlp_course\\lib\\site-packages (from gTTS) (2.23.0)\n",
      "Collecting click (from gTTS)\n",
      "  Downloading https://files.pythonhosted.org/packages/d2/3d/fa76db83bf75c4f8d338c2fd15c8d33fdd7ad23a9b5e57eb6c5de26b430e/click-7.1.2-py2.py3-none-any.whl (82kB)\n",
      "Requirement already satisfied: six in c:\\users\\mein pc\\.conda\\envs\\nlp_course\\lib\\site-packages (from gTTS) (1.14.0)\n",
      "Collecting gtts-token>=1.1.3 (from gTTS)\n",
      "  Downloading https://files.pythonhosted.org/packages/e7/25/ca6e9cd3275bfc3097fe6b06cc31db6d3dfaf32e032e0f73fead9c9a03ce/gTTS-token-1.1.3.tar.gz\n",
      "Requirement already satisfied: beautifulsoup4 in c:\\users\\mein pc\\.conda\\envs\\nlp_course\\lib\\site-packages (from gTTS) (4.9.3)\n",
      "Requirement already satisfied: certifi>=2017.4.17 in c:\\users\\mein pc\\.conda\\envs\\nlp_course\\lib\\site-packages (from requests->gTTS) (2020.6.20)\n",
      "Requirement already satisfied: urllib3!=1.25.0,!=1.25.1,<1.26,>=1.21.1 in c:\\users\\mein pc\\.conda\\envs\\nlp_course\\lib\\site-packages (from requests->gTTS) (1.25.8)\n",
      "Requirement already satisfied: idna<3,>=2.5 in c:\\users\\mein pc\\.conda\\envs\\nlp_course\\lib\\site-packages (from requests->gTTS) (2.9)\n",
      "Requirement already satisfied: chardet<4,>=3.0.2 in c:\\users\\mein pc\\.conda\\envs\\nlp_course\\lib\\site-packages (from requests->gTTS) (3.0.4)\n",
      "Requirement already satisfied: soupsieve>1.2; python_version >= \"3.0\" in c:\\users\\mein pc\\.conda\\envs\\nlp_course\\lib\\site-packages (from beautifulsoup4->gTTS) (2.0.1)\n",
      "Building wheels for collected packages: gtts-token\n",
      "  Running setup.py bdist_wheel for gtts-token: started\n",
      "  Running setup.py bdist_wheel for gtts-token: finished with status 'done'\n",
      "  Stored in directory: C:\\Users\\Mein Pc\\AppData\\Local\\pip\\Cache\\wheels\\dd\\11\\61\\33f7e51bf545e910552b2255eead2a7cd8ef54064b46dceb34\n",
      "Successfully built gtts-token\n",
      "Installing collected packages: click, gtts-token, gTTS\n",
      "Successfully installed click-7.1.2 gTTS-2.1.1 gtts-token-1.1.3\n"
     ]
    }
   ],
   "source": [
    "!pip install gTTS"
   ]
  },
  {
   "cell_type": "code",
   "execution_count": 2,
   "metadata": {},
   "outputs": [],
   "source": [
    "from gtts import gTTS"
   ]
  },
  {
   "cell_type": "code",
   "execution_count": 3,
   "metadata": {},
   "outputs": [],
   "source": [
    "text = ' I am fine, how are you, i hope you are doing amazing'\n",
    "tts = gTTS(text)"
   ]
  },
  {
   "cell_type": "code",
   "execution_count": 4,
   "metadata": {},
   "outputs": [],
   "source": [
    "tts.save('tts.mp3')"
   ]
  },
  {
   "cell_type": "markdown",
   "metadata": {},
   "source": [
    "### Nice! text got converted to audio file.\n",
    "### and audio got converted to text."
   ]
  },
  {
   "cell_type": "code",
   "execution_count": null,
   "metadata": {},
   "outputs": [],
   "source": []
  }
 ],
 "metadata": {
  "kernelspec": {
   "display_name": "Python 3",
   "language": "python",
   "name": "python3"
  },
  "language_info": {
   "codemirror_mode": {
    "name": "ipython",
    "version": 3
   },
   "file_extension": ".py",
   "mimetype": "text/x-python",
   "name": "python",
   "nbconvert_exporter": "python",
   "pygments_lexer": "ipython3",
   "version": "3.7.7"
  }
 },
 "nbformat": 4,
 "nbformat_minor": 4
}
