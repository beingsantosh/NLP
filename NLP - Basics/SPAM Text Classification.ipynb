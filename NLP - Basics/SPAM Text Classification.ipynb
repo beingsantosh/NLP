{
 "cells": [
  {
   "cell_type": "markdown",
   "metadata": {},
   "source": [
    "## SPAM Text Classification\n",
    "\n",
    "- N Gram and Bi Gram\n",
    "- BOW\n",
    "- TF IDF\n"
   ]
  },
  {
   "cell_type": "markdown",
   "metadata": {},
   "source": [
    "----"
   ]
  },
  {
   "cell_type": "markdown",
   "metadata": {},
   "source": [
    "string - please turn your page\n",
    "\n",
    "- Unigram: **please | turn | your | page**\n",
    "- bigram: **please turn | turn your | your page**\n",
    "- trigram: **please turn your | turn your page**"
   ]
  },
  {
   "cell_type": "markdown",
   "metadata": {},
   "source": [
    "### Bag of words\n",
    "\n",
    "``` x = ['I love NLP','NLP is super solid tool']```\n",
    "\n",
    "|I| love| NLP| is |super|solid|tool|\n",
    "|---|---|---|---|---|---|---|\n",
    "|1|1|1|0|0|0|0|0|\n",
    "|0|0|1|1|1|1|1|1|\n"
   ]
  },
  {
   "cell_type": "markdown",
   "metadata": {},
   "source": [
    "### Term frequency\n",
    "\n",
    "```TF(t) = (Number of times term t appears in a document) / (Total number of terms in the document)```\n",
    "\n",
    "\n",
    "``` x = ['I love NLP','NLP is super solid tool']```\n",
    "\n",
    "||I| love| NLP| is |super|solid|tool|\n",
    "|---|---|---|---|---|---|---|---|\n",
    "|0|0.33|.33|.33|0|0|0|0|0|\n",
    "|1|0|0|0|.2|.2|.2|.2|.2|\n"
   ]
  },
  {
   "cell_type": "markdown",
   "metadata": {},
   "source": [
    "### Inverse Term frequency\n",
    "\n",
    "```TF(t) = log_e(Total number of documents / Number of documents with term t in it)```\n",
    "\n",
    "\n",
    "``` x = ['I love NLP','NLP is super solid tool']```\n",
    "\n",
    "||I| love| NLP| is |super|solid|tool|\n",
    "|---|---|---|---|---|---|---|---|\n",
    "|0|log(2/1)|log(2/1)|log(2/2)|log(2/1)|log(2/1)|log(2/1)|log(2/1)|log(2/1)|\n"
   ]
  },
  {
   "cell_type": "markdown",
   "metadata": {},
   "source": [
    "### TFIDF\n",
    "\n",
    "``` TF = it amplifies the value if word is present in single document multople times.\n",
    "IDF = it penalizes if word is present in more documents```\n",
    "\n",
    "**So the point to consider is , common word in all document should not be given importance and should be penalized** \n",
    "\n",
    "``` TFIDF = TF * IDF ```"
   ]
  },
  {
   "cell_type": "markdown",
   "metadata": {},
   "source": [
    "\n",
    "### python code to calculate TFIDF and BOW\n",
    "\n",
    "``` Bag of words - CountVectorizer```\n",
    "\n",
    "``` python \n",
    "from sklearn.feature_extraction.text import CountVectorizer \n",
    "```\n",
    "\n",
    "\n",
    "``` TFIDF  - TfidfVectorizer ```\n",
    "\n",
    "``` python\n",
    "from sklearn.feature_extraction.text import TfidfVectorizer\n",
    "```\n"
   ]
  },
  {
   "cell_type": "code",
   "execution_count": 1,
   "metadata": {},
   "outputs": [],
   "source": [
    "from sklearn.feature_extraction.text import CountVectorizer \n",
    "import pandas as pd"
   ]
  },
  {
   "cell_type": "code",
   "execution_count": 2,
   "metadata": {},
   "outputs": [],
   "source": [
    "x = ['I love NLP','NLP is super solid tool']\n",
    "c=CountVectorizer()"
   ]
  },
  {
   "cell_type": "code",
   "execution_count": 3,
   "metadata": {},
   "outputs": [],
   "source": [
    "count=c.fit_transform(x)"
   ]
  },
  {
   "cell_type": "code",
   "execution_count": 4,
   "metadata": {},
   "outputs": [
    {
     "data": {
      "text/plain": [
       "array([[0, 1, 1, 0, 0, 0],\n",
       "       [1, 0, 1, 1, 1, 1]], dtype=int64)"
      ]
     },
     "execution_count": 4,
     "metadata": {},
     "output_type": "execute_result"
    }
   ],
   "source": [
    "count.toarray()   # BOW"
   ]
  },
  {
   "cell_type": "code",
   "execution_count": 5,
   "metadata": {},
   "outputs": [
    {
     "data": {
      "text/plain": [
       "['is', 'love', 'nlp', 'solid', 'super', 'tool']"
      ]
     },
     "execution_count": 5,
     "metadata": {},
     "output_type": "execute_result"
    }
   ],
   "source": [
    "c.get_feature_names()"
   ]
  },
  {
   "cell_type": "code",
   "execution_count": 6,
   "metadata": {},
   "outputs": [
    {
     "data": {
      "text/html": [
       "<div>\n",
       "<style scoped>\n",
       "    .dataframe tbody tr th:only-of-type {\n",
       "        vertical-align: middle;\n",
       "    }\n",
       "\n",
       "    .dataframe tbody tr th {\n",
       "        vertical-align: top;\n",
       "    }\n",
       "\n",
       "    .dataframe thead tr th {\n",
       "        text-align: left;\n",
       "    }\n",
       "</style>\n",
       "<table border=\"1\" class=\"dataframe\">\n",
       "  <thead>\n",
       "    <tr>\n",
       "      <th></th>\n",
       "      <th>is</th>\n",
       "      <th>love</th>\n",
       "      <th>nlp</th>\n",
       "      <th>solid</th>\n",
       "      <th>super</th>\n",
       "      <th>tool</th>\n",
       "    </tr>\n",
       "  </thead>\n",
       "  <tbody>\n",
       "    <tr>\n",
       "      <th>0</th>\n",
       "      <td>0</td>\n",
       "      <td>1</td>\n",
       "      <td>1</td>\n",
       "      <td>0</td>\n",
       "      <td>0</td>\n",
       "      <td>0</td>\n",
       "    </tr>\n",
       "    <tr>\n",
       "      <th>1</th>\n",
       "      <td>1</td>\n",
       "      <td>0</td>\n",
       "      <td>1</td>\n",
       "      <td>1</td>\n",
       "      <td>1</td>\n",
       "      <td>1</td>\n",
       "    </tr>\n",
       "  </tbody>\n",
       "</table>\n",
       "</div>"
      ],
      "text/plain": [
       "  is love nlp solid super tool\n",
       "0  0    1   1     0     0    0\n",
       "1  1    0   1     1     1    1"
      ]
     },
     "execution_count": 6,
     "metadata": {},
     "output_type": "execute_result"
    }
   ],
   "source": [
    "pd.DataFrame(count.toarray(),columns=[c.get_feature_names()])"
   ]
  },
  {
   "cell_type": "code",
   "execution_count": 7,
   "metadata": {},
   "outputs": [],
   "source": [
    "from sklearn.feature_extraction.text import TfidfVectorizer"
   ]
  },
  {
   "cell_type": "code",
   "execution_count": 8,
   "metadata": {},
   "outputs": [],
   "source": [
    "tfidf = TfidfVectorizer()"
   ]
  },
  {
   "cell_type": "code",
   "execution_count": 9,
   "metadata": {},
   "outputs": [],
   "source": [
    "t = tfidf.fit_transform(x)"
   ]
  },
  {
   "cell_type": "code",
   "execution_count": 10,
   "metadata": {},
   "outputs": [
    {
     "data": {
      "text/plain": [
       "array([[0.        , 0.81480247, 0.57973867, 0.        , 0.        ,\n",
       "        0.        ],\n",
       "       [0.47107781, 0.        , 0.33517574, 0.47107781, 0.47107781,\n",
       "        0.47107781]])"
      ]
     },
     "execution_count": 10,
     "metadata": {},
     "output_type": "execute_result"
    }
   ],
   "source": [
    "t.toarray() #tfidf"
   ]
  },
  {
   "cell_type": "code",
   "execution_count": 11,
   "metadata": {},
   "outputs": [
    {
     "data": {
      "text/plain": [
       "['is', 'love', 'nlp', 'solid', 'super', 'tool']"
      ]
     },
     "execution_count": 11,
     "metadata": {},
     "output_type": "execute_result"
    }
   ],
   "source": [
    "tfidf.get_feature_names()"
   ]
  },
  {
   "cell_type": "code",
   "execution_count": 12,
   "metadata": {},
   "outputs": [],
   "source": [
    "import pandas as pd\n",
    "import numpy as np"
   ]
  },
  {
   "cell_type": "code",
   "execution_count": 13,
   "metadata": {},
   "outputs": [
    {
     "data": {
      "text/html": [
       "<div>\n",
       "<style scoped>\n",
       "    .dataframe tbody tr th:only-of-type {\n",
       "        vertical-align: middle;\n",
       "    }\n",
       "\n",
       "    .dataframe tbody tr th {\n",
       "        vertical-align: top;\n",
       "    }\n",
       "\n",
       "    .dataframe thead tr th {\n",
       "        text-align: left;\n",
       "    }\n",
       "</style>\n",
       "<table border=\"1\" class=\"dataframe\">\n",
       "  <thead>\n",
       "    <tr>\n",
       "      <th></th>\n",
       "      <th>is</th>\n",
       "      <th>love</th>\n",
       "      <th>nlp</th>\n",
       "      <th>solid</th>\n",
       "      <th>super</th>\n",
       "      <th>tool</th>\n",
       "    </tr>\n",
       "  </thead>\n",
       "  <tbody>\n",
       "    <tr>\n",
       "      <th>0</th>\n",
       "      <td>0.000000</td>\n",
       "      <td>0.814802</td>\n",
       "      <td>0.579739</td>\n",
       "      <td>0.000000</td>\n",
       "      <td>0.000000</td>\n",
       "      <td>0.000000</td>\n",
       "    </tr>\n",
       "    <tr>\n",
       "      <th>1</th>\n",
       "      <td>0.471078</td>\n",
       "      <td>0.000000</td>\n",
       "      <td>0.335176</td>\n",
       "      <td>0.471078</td>\n",
       "      <td>0.471078</td>\n",
       "      <td>0.471078</td>\n",
       "    </tr>\n",
       "  </tbody>\n",
       "</table>\n",
       "</div>"
      ],
      "text/plain": [
       "         is      love       nlp     solid     super      tool\n",
       "0  0.000000  0.814802  0.579739  0.000000  0.000000  0.000000\n",
       "1  0.471078  0.000000  0.335176  0.471078  0.471078  0.471078"
      ]
     },
     "execution_count": 13,
     "metadata": {},
     "output_type": "execute_result"
    }
   ],
   "source": [
    "pd.DataFrame(t.toarray(),columns=[tfidf.get_feature_names()])"
   ]
  },
  {
   "cell_type": "code",
   "execution_count": 14,
   "metadata": {},
   "outputs": [],
   "source": [
    "## calculating the tfidf manually\n",
    "\n",
    "df= pd.DataFrame(count.toarray(),columns=[c.get_feature_names()])\n",
    "df_copy = df.copy()"
   ]
  },
  {
   "cell_type": "code",
   "execution_count": 15,
   "metadata": {},
   "outputs": [],
   "source": [
    "## first TF manually\n",
    "for index, row in enumerate(df.iterrows()):\n",
    "    for col in row[1].index:\n",
    "        df.loc[index,col] = df.loc[index, col]/sum(row[1].values)"
   ]
  },
  {
   "cell_type": "code",
   "execution_count": 16,
   "metadata": {},
   "outputs": [
    {
     "data": {
      "text/html": [
       "<div>\n",
       "<style scoped>\n",
       "    .dataframe tbody tr th:only-of-type {\n",
       "        vertical-align: middle;\n",
       "    }\n",
       "\n",
       "    .dataframe tbody tr th {\n",
       "        vertical-align: top;\n",
       "    }\n",
       "\n",
       "    .dataframe thead tr th {\n",
       "        text-align: left;\n",
       "    }\n",
       "</style>\n",
       "<table border=\"1\" class=\"dataframe\">\n",
       "  <thead>\n",
       "    <tr>\n",
       "      <th></th>\n",
       "      <th>is</th>\n",
       "      <th>love</th>\n",
       "      <th>nlp</th>\n",
       "      <th>solid</th>\n",
       "      <th>super</th>\n",
       "      <th>tool</th>\n",
       "    </tr>\n",
       "  </thead>\n",
       "  <tbody>\n",
       "    <tr>\n",
       "      <th>0</th>\n",
       "      <td>0.0</td>\n",
       "      <td>0.5</td>\n",
       "      <td>0.5</td>\n",
       "      <td>0.0</td>\n",
       "      <td>0.0</td>\n",
       "      <td>0.0</td>\n",
       "    </tr>\n",
       "    <tr>\n",
       "      <th>1</th>\n",
       "      <td>0.2</td>\n",
       "      <td>0.0</td>\n",
       "      <td>0.2</td>\n",
       "      <td>0.2</td>\n",
       "      <td>0.2</td>\n",
       "      <td>0.2</td>\n",
       "    </tr>\n",
       "  </tbody>\n",
       "</table>\n",
       "</div>"
      ],
      "text/plain": [
       "    is love  nlp solid super tool\n",
       "0  0.0  0.5  0.5   0.0   0.0  0.0\n",
       "1  0.2  0.0  0.2   0.2   0.2  0.2"
      ]
     },
     "execution_count": 16,
     "metadata": {},
     "output_type": "execute_result"
    }
   ],
   "source": [
    "df"
   ]
  },
  {
   "cell_type": "code",
   "execution_count": 17,
   "metadata": {},
   "outputs": [],
   "source": [
    "# now IDF manually\n",
    "df_copy=df_copy.astype(bool)"
   ]
  },
  {
   "cell_type": "code",
   "execution_count": 18,
   "metadata": {},
   "outputs": [
    {
     "data": {
      "text/html": [
       "<div>\n",
       "<style scoped>\n",
       "    .dataframe tbody tr th:only-of-type {\n",
       "        vertical-align: middle;\n",
       "    }\n",
       "\n",
       "    .dataframe tbody tr th {\n",
       "        vertical-align: top;\n",
       "    }\n",
       "\n",
       "    .dataframe thead tr th {\n",
       "        text-align: left;\n",
       "    }\n",
       "</style>\n",
       "<table border=\"1\" class=\"dataframe\">\n",
       "  <thead>\n",
       "    <tr>\n",
       "      <th></th>\n",
       "      <th>is</th>\n",
       "      <th>love</th>\n",
       "      <th>nlp</th>\n",
       "      <th>solid</th>\n",
       "      <th>super</th>\n",
       "      <th>tool</th>\n",
       "    </tr>\n",
       "  </thead>\n",
       "  <tbody>\n",
       "    <tr>\n",
       "      <th>0</th>\n",
       "      <td>False</td>\n",
       "      <td>True</td>\n",
       "      <td>True</td>\n",
       "      <td>False</td>\n",
       "      <td>False</td>\n",
       "      <td>False</td>\n",
       "    </tr>\n",
       "    <tr>\n",
       "      <th>1</th>\n",
       "      <td>True</td>\n",
       "      <td>False</td>\n",
       "      <td>True</td>\n",
       "      <td>True</td>\n",
       "      <td>True</td>\n",
       "      <td>True</td>\n",
       "    </tr>\n",
       "  </tbody>\n",
       "</table>\n",
       "</div>"
      ],
      "text/plain": [
       "      is   love   nlp  solid  super   tool\n",
       "0  False   True  True  False  False  False\n",
       "1   True  False  True   True   True   True"
      ]
     },
     "execution_count": 18,
     "metadata": {},
     "output_type": "execute_result"
    }
   ],
   "source": [
    "df_copy"
   ]
  },
  {
   "cell_type": "code",
   "execution_count": 19,
   "metadata": {},
   "outputs": [
    {
     "data": {
      "text/plain": [
       "is    1\n",
       "dtype: int64"
      ]
     },
     "execution_count": 19,
     "metadata": {},
     "output_type": "execute_result"
    }
   ],
   "source": [
    "df_copy['is'].sum() # total doc where the token exist"
   ]
  },
  {
   "cell_type": "code",
   "execution_count": 20,
   "metadata": {},
   "outputs": [],
   "source": [
    "df_copy.shape  # total number of document\n",
    "doc_count = df_copy.shape[0]"
   ]
  },
  {
   "cell_type": "code",
   "execution_count": 21,
   "metadata": {},
   "outputs": [],
   "source": [
    "tfidf_list=[]\n",
    "for col in df_copy.columns:\n",
    "    tfidf_list.append(np.log((doc_count+1)/(df_copy[col].sum()+1))+1)\n",
    "    "
   ]
  },
  {
   "cell_type": "code",
   "execution_count": 22,
   "metadata": {},
   "outputs": [
    {
     "data": {
      "text/plain": [
       "[1.4054651081081644,\n",
       " 1.4054651081081644,\n",
       " 1.0,\n",
       " 1.4054651081081644,\n",
       " 1.4054651081081644,\n",
       " 1.4054651081081644]"
      ]
     },
     "execution_count": 22,
     "metadata": {},
     "output_type": "execute_result"
    }
   ],
   "source": [
    "tfidf_list"
   ]
  },
  {
   "cell_type": "code",
   "execution_count": 23,
   "metadata": {},
   "outputs": [
    {
     "data": {
      "text/plain": [
       "array([1.40546511, 1.40546511, 1.        , 1.40546511, 1.40546511,\n",
       "       1.40546511])"
      ]
     },
     "execution_count": 23,
     "metadata": {},
     "output_type": "execute_result"
    }
   ],
   "source": [
    "#tfidf is object for tfidf. so idf manually and from algorithm are same\n",
    "tfidf.idf_"
   ]
  },
  {
   "cell_type": "markdown",
   "metadata": {},
   "source": [
    "### Load dataset"
   ]
  },
  {
   "cell_type": "code",
   "execution_count": 24,
   "metadata": {},
   "outputs": [],
   "source": [
    "data = pd.read_csv('spam.csv',encoding='latin-1')"
   ]
  },
  {
   "cell_type": "code",
   "execution_count": 25,
   "metadata": {},
   "outputs": [
    {
     "data": {
      "text/html": [
       "<div>\n",
       "<style scoped>\n",
       "    .dataframe tbody tr th:only-of-type {\n",
       "        vertical-align: middle;\n",
       "    }\n",
       "\n",
       "    .dataframe tbody tr th {\n",
       "        vertical-align: top;\n",
       "    }\n",
       "\n",
       "    .dataframe thead th {\n",
       "        text-align: right;\n",
       "    }\n",
       "</style>\n",
       "<table border=\"1\" class=\"dataframe\">\n",
       "  <thead>\n",
       "    <tr style=\"text-align: right;\">\n",
       "      <th></th>\n",
       "      <th>v1</th>\n",
       "      <th>v2</th>\n",
       "      <th>Unnamed: 2</th>\n",
       "      <th>Unnamed: 3</th>\n",
       "      <th>Unnamed: 4</th>\n",
       "    </tr>\n",
       "  </thead>\n",
       "  <tbody>\n",
       "    <tr>\n",
       "      <th>0</th>\n",
       "      <td>ham</td>\n",
       "      <td>Go until jurong point, crazy.. Available only ...</td>\n",
       "      <td>NaN</td>\n",
       "      <td>NaN</td>\n",
       "      <td>NaN</td>\n",
       "    </tr>\n",
       "    <tr>\n",
       "      <th>1</th>\n",
       "      <td>ham</td>\n",
       "      <td>Ok lar... Joking wif u oni...</td>\n",
       "      <td>NaN</td>\n",
       "      <td>NaN</td>\n",
       "      <td>NaN</td>\n",
       "    </tr>\n",
       "    <tr>\n",
       "      <th>2</th>\n",
       "      <td>spam</td>\n",
       "      <td>Free entry in 2 a wkly comp to win FA Cup fina...</td>\n",
       "      <td>NaN</td>\n",
       "      <td>NaN</td>\n",
       "      <td>NaN</td>\n",
       "    </tr>\n",
       "    <tr>\n",
       "      <th>3</th>\n",
       "      <td>ham</td>\n",
       "      <td>U dun say so early hor... U c already then say...</td>\n",
       "      <td>NaN</td>\n",
       "      <td>NaN</td>\n",
       "      <td>NaN</td>\n",
       "    </tr>\n",
       "    <tr>\n",
       "      <th>4</th>\n",
       "      <td>ham</td>\n",
       "      <td>Nah I don't think he goes to usf, he lives aro...</td>\n",
       "      <td>NaN</td>\n",
       "      <td>NaN</td>\n",
       "      <td>NaN</td>\n",
       "    </tr>\n",
       "  </tbody>\n",
       "</table>\n",
       "</div>"
      ],
      "text/plain": [
       "     v1                                                 v2 Unnamed: 2  \\\n",
       "0   ham  Go until jurong point, crazy.. Available only ...        NaN   \n",
       "1   ham                      Ok lar... Joking wif u oni...        NaN   \n",
       "2  spam  Free entry in 2 a wkly comp to win FA Cup fina...        NaN   \n",
       "3   ham  U dun say so early hor... U c already then say...        NaN   \n",
       "4   ham  Nah I don't think he goes to usf, he lives aro...        NaN   \n",
       "\n",
       "  Unnamed: 3 Unnamed: 4  \n",
       "0        NaN        NaN  \n",
       "1        NaN        NaN  \n",
       "2        NaN        NaN  \n",
       "3        NaN        NaN  \n",
       "4        NaN        NaN  "
      ]
     },
     "execution_count": 25,
     "metadata": {},
     "output_type": "execute_result"
    }
   ],
   "source": [
    "data.head()"
   ]
  },
  {
   "cell_type": "code",
   "execution_count": 26,
   "metadata": {},
   "outputs": [
    {
     "data": {
      "text/plain": [
       "v1               0\n",
       "v2               0\n",
       "Unnamed: 2    5522\n",
       "Unnamed: 3    5560\n",
       "Unnamed: 4    5566\n",
       "dtype: int64"
      ]
     },
     "execution_count": 26,
     "metadata": {},
     "output_type": "execute_result"
    }
   ],
   "source": [
    "data.isnull().sum()"
   ]
  },
  {
   "cell_type": "code",
   "execution_count": 27,
   "metadata": {},
   "outputs": [
    {
     "data": {
      "text/plain": [
       "v1               0\n",
       "v2               0\n",
       "Unnamed: 2    5522\n",
       "Unnamed: 3    5522\n",
       "Unnamed: 4    5522\n",
       "dtype: int64"
      ]
     },
     "execution_count": 27,
     "metadata": {},
     "output_type": "execute_result"
    }
   ],
   "source": [
    "# null value in column 3\n",
    "\n",
    "data[data['Unnamed: 2'].isnull()].isnull().sum()"
   ]
  },
  {
   "cell_type": "code",
   "execution_count": 28,
   "metadata": {},
   "outputs": [],
   "source": [
    "# after knowing that column 4 and 5 are just repeatation of col 2, thn removing it.\n",
    "data.drop(columns=['Unnamed: 2','Unnamed: 3','Unnamed: 4'],inplace=True)"
   ]
  },
  {
   "cell_type": "code",
   "execution_count": 29,
   "metadata": {},
   "outputs": [],
   "source": [
    "# renaming the column name\n",
    "data.rename(columns={'v1':'Classification','v2':'Message'}, inplace=True)"
   ]
  },
  {
   "cell_type": "code",
   "execution_count": 30,
   "metadata": {},
   "outputs": [
    {
     "data": {
      "text/html": [
       "<div>\n",
       "<style scoped>\n",
       "    .dataframe tbody tr th:only-of-type {\n",
       "        vertical-align: middle;\n",
       "    }\n",
       "\n",
       "    .dataframe tbody tr th {\n",
       "        vertical-align: top;\n",
       "    }\n",
       "\n",
       "    .dataframe thead th {\n",
       "        text-align: right;\n",
       "    }\n",
       "</style>\n",
       "<table border=\"1\" class=\"dataframe\">\n",
       "  <thead>\n",
       "    <tr style=\"text-align: right;\">\n",
       "      <th></th>\n",
       "      <th>Classification</th>\n",
       "      <th>Message</th>\n",
       "    </tr>\n",
       "  </thead>\n",
       "  <tbody>\n",
       "    <tr>\n",
       "      <th>0</th>\n",
       "      <td>ham</td>\n",
       "      <td>Go until jurong point, crazy.. Available only ...</td>\n",
       "    </tr>\n",
       "    <tr>\n",
       "      <th>1</th>\n",
       "      <td>ham</td>\n",
       "      <td>Ok lar... Joking wif u oni...</td>\n",
       "    </tr>\n",
       "    <tr>\n",
       "      <th>2</th>\n",
       "      <td>spam</td>\n",
       "      <td>Free entry in 2 a wkly comp to win FA Cup fina...</td>\n",
       "    </tr>\n",
       "    <tr>\n",
       "      <th>3</th>\n",
       "      <td>ham</td>\n",
       "      <td>U dun say so early hor... U c already then say...</td>\n",
       "    </tr>\n",
       "    <tr>\n",
       "      <th>4</th>\n",
       "      <td>ham</td>\n",
       "      <td>Nah I don't think he goes to usf, he lives aro...</td>\n",
       "    </tr>\n",
       "  </tbody>\n",
       "</table>\n",
       "</div>"
      ],
      "text/plain": [
       "  Classification                                            Message\n",
       "0            ham  Go until jurong point, crazy.. Available only ...\n",
       "1            ham                      Ok lar... Joking wif u oni...\n",
       "2           spam  Free entry in 2 a wkly comp to win FA Cup fina...\n",
       "3            ham  U dun say so early hor... U c already then say...\n",
       "4            ham  Nah I don't think he goes to usf, he lives aro..."
      ]
     },
     "execution_count": 30,
     "metadata": {},
     "output_type": "execute_result"
    }
   ],
   "source": [
    "data.head()"
   ]
  },
  {
   "cell_type": "markdown",
   "metadata": {},
   "source": [
    "## Text cleaning "
   ]
  },
  {
   "cell_type": "code",
   "execution_count": 31,
   "metadata": {},
   "outputs": [],
   "source": [
    "import re "
   ]
  },
  {
   "cell_type": "markdown",
   "metadata": {},
   "source": [
    "```Lower case```"
   ]
  },
  {
   "cell_type": "code",
   "execution_count": 32,
   "metadata": {},
   "outputs": [],
   "source": [
    "\n",
    "data['Message']=data['Message'].apply(lambda x: x.lower() )"
   ]
  },
  {
   "cell_type": "markdown",
   "metadata": {},
   "source": [
    "```# contraction to expansion\n",
    "```"
   ]
  },
  {
   "cell_type": "code",
   "execution_count": 33,
   "metadata": {},
   "outputs": [],
   "source": [
    "\n",
    "contraction_mapping = {\"ain't\": \"is not\", \"aren't\": \"are not\",\"can't\": \"cannot\", \"'cause\": \"because\", \"could've\": \"could have\", \"couldn't\": \"could not\", \"didn't\": \"did not\",  \"doesn't\": \"does not\", \"don't\": \"do not\", \"hadn't\": \"had not\", \"hasn't\": \"has not\", \"haven't\": \"have not\", \"he'd\": \"he would\",\"he'll\": \"he will\", \"he's\": \"he is\", \"how'd\": \"how did\", \"how'd'y\": \"how do you\", \"how'll\": \"how will\", \"how's\": \"how is\",  \"I'd\": \"I would\", \"I'd've\": \"I would have\", \"I'll\": \"I will\", \"I'll've\": \"I will have\",\"I'm\": \"I am\", \"I've\": \"I have\", \"i'd\": \"i would\", \"i'd've\": \"i would have\", \"i'll\": \"i will\",  \"i'll've\": \"i will have\",\"i'm\": \"i am\", \"i've\": \"i have\", \"isn't\": \"is not\", \"it'd\": \"it would\", \"it'd've\": \"it would have\", \"it'll\": \"it will\", \"it'll've\": \"it will have\",\"it's\": \"it is\", \"let's\": \"let us\", \"ma'am\": \"madam\", \"mayn't\": \"may not\", \"might've\": \"might have\",\"mightn't\": \"might not\",\"mightn't've\": \"might not have\", \"must've\": \"must have\", \"mustn't\": \"must not\", \"mustn't've\": \"must not have\", \"needn't\": \"need not\", \"needn't've\": \"need not have\",\"o'clock\": \"of the clock\", \"oughtn't\": \"ought not\", \"oughtn't've\": \"ought not have\", \"shan't\": \"shall not\", \"sha'n't\": \"shall not\", \"shan't've\": \"shall not have\", \"she'd\": \"she would\", \"she'd've\": \"she would have\", \"she'll\": \"she will\", \"she'll've\": \"she will have\", \"she's\": \"she is\", \"should've\": \"should have\", \"shouldn't\": \"should not\", \"shouldn't've\": \"should not have\", \"so've\": \"so have\",\"so's\": \"so as\", \"this's\": \"this is\",\"that'd\": \"that would\", \"that'd've\": \"that would have\", \"that's\": \"that is\", \"there'd\": \"there would\", \"there'd've\": \"there would have\", \"there's\": \"there is\", \"here's\": \"here is\",\"they'd\": \"they would\", \"they'd've\": \"they would have\", \"they'll\": \"they will\", \"they'll've\": \"they will have\", \"they're\": \"they are\", \"they've\": \"they have\", \"to've\": \"to have\", \"wasn't\": \"was not\", \"we'd\": \"we would\", \"we'd've\": \"we would have\", \"we'll\": \"we will\", \"we'll've\": \"we will have\", \"we're\": \"we are\", \"we've\": \"we have\", \"weren't\": \"were not\", \"what'll\": \"what will\", \"what'll've\": \"what will have\", \"what're\": \"what are\",  \"what's\": \"what is\", \"what've\": \"what have\", \"when's\": \"when is\", \"when've\": \"when have\", \"where'd\": \"where did\", \"where's\": \"where is\", \"where've\": \"where have\", \"who'll\": \"who will\", \"who'll've\": \"who will have\", \"who's\": \"who is\", \"who've\": \"who have\", \"why's\": \"why is\", \"why've\": \"why have\", \"will've\": \"will have\", \"won't\": \"will not\", \"won't've\": \"will not have\", \"would've\": \"would have\", \"wouldn't\": \"would not\", \"wouldn't've\": \"would not have\", \"y'all\": \"you all\", \"y'all'd\": \"you all would\",\"y'all'd've\": \"you all would have\",\"y'all're\": \"you all are\",\"y'all've\": \"you all have\",\"you'd\": \"you would\", \"you'd've\": \"you would have\", \"you'll\": \"you will\", \"you'll've\": \"you will have\", \"you're\": \"you are\", \"you've\": \"you have\" }\n",
    "\n",
    "def contraction_(x):\n",
    "    for cont , exp in contraction_mapping.items():\n",
    "        x = re.sub(cont,exp,x)\n",
    "    return x    "
   ]
  },
  {
   "cell_type": "code",
   "execution_count": 34,
   "metadata": {},
   "outputs": [],
   "source": [
    "data['Message']=data['Message'].apply(lambda x: contraction_(x))"
   ]
  },
  {
   "cell_type": "markdown",
   "metadata": {},
   "source": [
    "```# remove emails\n",
    "```"
   ]
  },
  {
   "cell_type": "code",
   "execution_count": 35,
   "metadata": {},
   "outputs": [
    {
     "data": {
      "text/plain": [
       "2"
      ]
     },
     "execution_count": 35,
     "metadata": {},
     "output_type": "execute_result"
    }
   ],
   "source": [
    "\n",
    "# first count the email present in all docs\n",
    "data['Message'].apply(lambda x : len(re.findall('[a-zA-Z0-9_-]*@[a-zA-Z0-9_-]+\\.com', x))).sum()"
   ]
  },
  {
   "cell_type": "code",
   "execution_count": 36,
   "metadata": {},
   "outputs": [],
   "source": [
    "data['Message']=data['Message'].apply(lambda x : re.sub('[a-zA-Z0-9_-]*@[a-zA-Z0-9_-]+\\.com',' ', x))"
   ]
  },
  {
   "cell_type": "markdown",
   "metadata": {},
   "source": [
    "```# removing uRL```"
   ]
  },
  {
   "cell_type": "code",
   "execution_count": 37,
   "metadata": {},
   "outputs": [
    {
     "name": "stdout",
     "output_type": "stream",
     "text": [
      "Urls:  ['https://testing.org/user/', 'http://www.facebook.org/', 'www.google.com']\n"
     ]
    }
   ],
   "source": [
    "# removing uRL\n",
    "def find_URL(string): \n",
    "  \n",
    "    # findall() has been used  \n",
    "    # with valid conditions for urls in string \n",
    "    regex = r\"(?i)\\b((?:https?://|www\\d{0,3}[.]|[a-z0-9.\\-]+[.][a-z]{2,4}/)(?:[^\\s()<>]+|\\(([^\\s()<>]+|(\\([^\\s()<>]+\\)))*\\))+(?:\\(([^\\s()<>]+|(\\([^\\s()<>]+\\)))*\\)|[^\\s`!()\\[\\]{};:'\\\".,<>?«»“”‘’]))\"\n",
    "    url = re.findall(regex,string)       \n",
    "    return [x[0] for x in url] \n",
    "      \n",
    "# Driver Code \n",
    "string = 'My Profile: https://testing.org/user/ in  http://www.facebook.org/  www.google.com'\n",
    "print(\"Urls: \", find_URL(string)) "
   ]
  },
  {
   "cell_type": "code",
   "execution_count": 38,
   "metadata": {},
   "outputs": [
    {
     "data": {
      "text/plain": [
       "116"
      ]
     },
     "execution_count": 38,
     "metadata": {},
     "output_type": "execute_result"
    }
   ],
   "source": [
    "# total url present in all the documents\n",
    "data['Message'].apply(lambda x : len(find_URL(x))).sum()"
   ]
  },
  {
   "cell_type": "code",
   "execution_count": 39,
   "metadata": {},
   "outputs": [],
   "source": [
    "# removing now all url\n",
    "regex = r\"(?i)\\b((?:https?://|www\\d{0,3}[.]|[a-z0-9.\\-]+[.][a-z]{2,4}/)(?:[^\\s()<>]+|\\(([^\\s()<>]+|(\\([^\\s()<>]+\\)))*\\))+(?:\\(([^\\s()<>]+|(\\([^\\s()<>]+\\)))*\\)|[^\\s`!()\\[\\]{};:'\\\".,<>?«»“”‘’]))\"\n",
    "data['Message']=data['Message'].apply(lambda x : re.sub(regex, '', x))"
   ]
  },
  {
   "cell_type": "markdown",
   "metadata": {},
   "source": [
    "``` removing special character and punctuation```"
   ]
  },
  {
   "cell_type": "code",
   "execution_count": 40,
   "metadata": {},
   "outputs": [],
   "source": [
    "data['Message']=data['Message'].apply(lambda x : re.sub('[^\\w ]+','',x))"
   ]
  },
  {
   "cell_type": "markdown",
   "metadata": {},
   "source": [
    "```removing multiple spaces```"
   ]
  },
  {
   "cell_type": "code",
   "execution_count": 41,
   "metadata": {},
   "outputs": [],
   "source": [
    "data['Message']=data['Message'].apply(lambda x : re.sub('\\s{2,}',' ',x))"
   ]
  },
  {
   "cell_type": "markdown",
   "metadata": {},
   "source": [
    "```Removing HTML Tag```\n"
   ]
  },
  {
   "cell_type": "code",
   "execution_count": 42,
   "metadata": {},
   "outputs": [],
   "source": [
    "from bs4 import BeautifulSoup \n",
    "data['Message']=data['Message'].apply(lambda x : BeautifulSoup(x,'html').get_text().strip())"
   ]
  },
  {
   "cell_type": "markdown",
   "metadata": {},
   "source": [
    "\n",
    "```remove accented chars```"
   ]
  },
  {
   "cell_type": "code",
   "execution_count": 43,
   "metadata": {},
   "outputs": [],
   "source": [
    "import unicodedata\n",
    "def remove_accented_chars(x):\n",
    "    x = unicodedata.normalize('NFKD', x).encode('ascii','ignore').decode('utf-8','ignore')\n",
    "    return x"
   ]
  },
  {
   "cell_type": "code",
   "execution_count": 44,
   "metadata": {},
   "outputs": [],
   "source": [
    "data['Message']=data['Message'].apply(lambda x : remove_accented_chars(x))"
   ]
  },
  {
   "cell_type": "markdown",
   "metadata": {},
   "source": [
    "``` remove stopwords```"
   ]
  },
  {
   "cell_type": "code",
   "execution_count": 45,
   "metadata": {},
   "outputs": [],
   "source": [
    "from spacy.lang.en.stop_words import STOP_WORDS as stopwords"
   ]
  },
  {
   "cell_type": "code",
   "execution_count": 46,
   "metadata": {},
   "outputs": [],
   "source": [
    "def remove_stopwords(x):\n",
    "    return ' '.join([w for w in x.split() if w not in stopwords])"
   ]
  },
  {
   "cell_type": "code",
   "execution_count": 47,
   "metadata": {},
   "outputs": [],
   "source": [
    "data['Message']=data['Message'].apply(lambda x : remove_stopwords(x))"
   ]
  },
  {
   "cell_type": "markdown",
   "metadata": {},
   "source": [
    "```lemmatization```"
   ]
  },
  {
   "cell_type": "code",
   "execution_count": 48,
   "metadata": {},
   "outputs": [],
   "source": [
    "import spacy\n",
    "nlp = spacy.load('en_core_web_sm')"
   ]
  },
  {
   "cell_type": "code",
   "execution_count": 49,
   "metadata": {},
   "outputs": [],
   "source": [
    "def convert_to_root(x):\n",
    "    doc= nlp(x)\n",
    "    x_list=[]\n",
    "    for w in doc:\n",
    "        root = w.lemma_\n",
    "        x_list.append(root)\n",
    "    return ' '.join(x_list)"
   ]
  },
  {
   "cell_type": "code",
   "execution_count": 50,
   "metadata": {},
   "outputs": [],
   "source": [
    "data['Message']=data['Message'].apply(lambda x : convert_to_root(x))"
   ]
  },
  {
   "cell_type": "code",
   "execution_count": 51,
   "metadata": {},
   "outputs": [
    {
     "data": {
      "text/plain": [
       "ham     4825\n",
       "spam     747\n",
       "Name: Classification, dtype: int64"
      ]
     },
     "execution_count": 51,
     "metadata": {},
     "output_type": "execute_result"
    }
   ],
   "source": [
    "data['Classification'].value_counts()"
   ]
  },
  {
   "cell_type": "markdown",
   "metadata": {},
   "source": [
    "```removing most common words and rare words```"
   ]
  },
  {
   "cell_type": "code",
   "execution_count": 52,
   "metadata": {},
   "outputs": [],
   "source": [
    "text= ' '.join(data['Message'])"
   ]
  },
  {
   "cell_type": "code",
   "execution_count": 53,
   "metadata": {},
   "outputs": [
    {
     "data": {
      "text/plain": [
       "46755"
      ]
     },
     "execution_count": 53,
     "metadata": {},
     "output_type": "execute_result"
    }
   ],
   "source": [
    "len(text.split())"
   ]
  },
  {
   "cell_type": "code",
   "execution_count": 54,
   "metadata": {},
   "outputs": [
    {
     "data": {
      "text/plain": [
       "262136"
      ]
     },
     "execution_count": 54,
     "metadata": {},
     "output_type": "execute_result"
    }
   ],
   "source": [
    "len(text)"
   ]
  },
  {
   "cell_type": "code",
   "execution_count": 55,
   "metadata": {},
   "outputs": [
    {
     "data": {
      "text/plain": [
       "['jurong',\n",
       " 'point',\n",
       " 'crazy',\n",
       " 'available',\n",
       " 'bugis',\n",
       " 'n',\n",
       " 'great',\n",
       " 'world',\n",
       " 'la',\n",
       " 'e',\n",
       " 'buffet',\n",
       " 'cine',\n",
       " 'get',\n",
       " 'amore',\n",
       " 'wat',\n",
       " 'ok',\n",
       " 'lar',\n",
       " 'joke',\n",
       " 'wif',\n",
       " 'u',\n",
       " 'oni',\n",
       " 'free',\n",
       " 'entry',\n",
       " '2',\n",
       " 'wkly',\n",
       " 'comp',\n",
       " 'win',\n",
       " 'fa',\n",
       " 'cup',\n",
       " 'final',\n",
       " 'tkts',\n",
       " '21st',\n",
       " '2005',\n",
       " 'text',\n",
       " 'fa',\n",
       " '87121',\n",
       " 'receive',\n",
       " 'entry',\n",
       " 'questionstd',\n",
       " 'txt',\n",
       " 'ratetc',\n",
       " 'apply',\n",
       " '08452810075over18s',\n",
       " 'u',\n",
       " 'dun',\n",
       " 'early',\n",
       " 'hor',\n",
       " 'u',\n",
       " 'c',\n",
       " 'nah',\n",
       " 'think',\n",
       " 'go',\n",
       " 'usf',\n",
       " 'life',\n",
       " 'freemsg',\n",
       " 'hey',\n",
       " 'darling',\n",
       " '3',\n",
       " 'week',\n",
       " 'word',\n",
       " 'like',\n",
       " 'fun',\n",
       " 'tb',\n",
       " 'ok',\n",
       " 'xxx',\n",
       " 'std',\n",
       " 'chgs',\n",
       " 'send',\n",
       " 'a150',\n",
       " 'rcv',\n",
       " 'brother',\n",
       " 'like',\n",
       " 'speak',\n",
       " 'treat',\n",
       " 'like',\n",
       " 'aid',\n",
       " 'patent',\n",
       " 'request',\n",
       " 'melle',\n",
       " 'melle',\n",
       " 'oru',\n",
       " 'minnaminunginte',\n",
       " 'nurungu',\n",
       " 'vettam',\n",
       " 'set',\n",
       " 'callertune',\n",
       " 'caller',\n",
       " 'press',\n",
       " '9',\n",
       " 'copy',\n",
       " 'friend',\n",
       " 'callertune',\n",
       " 'winner',\n",
       " 'value',\n",
       " 'network',\n",
       " 'customer',\n",
       " 'select',\n",
       " 'receivea',\n",
       " 'a900',\n",
       " 'prize',\n",
       " 'reward',\n",
       " 'claim',\n",
       " '09061701461',\n",
       " 'claim',\n",
       " 'code',\n",
       " 'kl341',\n",
       " 'valid',\n",
       " '12',\n",
       " 'hour',\n",
       " 'mobile',\n",
       " '11',\n",
       " 'month',\n",
       " 'u',\n",
       " 'r',\n",
       " 'entitle',\n",
       " 'update',\n",
       " 'late',\n",
       " 'colour',\n",
       " 'mobile',\n",
       " 'camera',\n",
       " 'free',\n",
       " 'mobile',\n",
       " 'update',\n",
       " 'co',\n",
       " 'free',\n",
       " '08002986030',\n",
       " 'go',\n",
       " 'to',\n",
       " 'home',\n",
       " 'soon',\n",
       " 'want',\n",
       " 'talk',\n",
       " 'stuff',\n",
       " 'anymore',\n",
       " 'tonight',\n",
       " 'k',\n",
       " 'cry',\n",
       " 'today',\n",
       " 'chance',\n",
       " 'win',\n",
       " 'cash',\n",
       " '100',\n",
       " '20000',\n",
       " 'pound',\n",
       " 'txt',\n",
       " 'csh11',\n",
       " 'send',\n",
       " '87575',\n",
       " 'cost',\n",
       " '150pday',\n",
       " '6days',\n",
       " '16',\n",
       " 'tsandcs',\n",
       " 'apply',\n",
       " 'reply',\n",
       " 'hl',\n",
       " '4',\n",
       " 'info',\n",
       " 'urgent',\n",
       " 'win',\n",
       " '1',\n",
       " 'week',\n",
       " 'free',\n",
       " 'membership',\n",
       " 'a100000',\n",
       " 'prize',\n",
       " 'jackpot',\n",
       " 'txt',\n",
       " 'word',\n",
       " 'claim',\n",
       " '81010',\n",
       " 'tc',\n",
       " 'lccltd',\n",
       " 'pobox',\n",
       " '4403ldnw1a7rw18',\n",
       " 'search',\n",
       " 'right',\n",
       " 'word',\n",
       " 'thank',\n",
       " 'breather',\n",
       " 'promise',\n",
       " 'will',\n",
       " 'not',\n",
       " 'help',\n",
       " 'grant',\n",
       " 'fulfil',\n",
       " 'promise',\n",
       " 'wonderful',\n",
       " 'blessing',\n",
       " 'time',\n",
       " 'date',\n",
       " 'sunday',\n",
       " 'xxxmobilemovieclub',\n",
       " 'use',\n",
       " 'credit',\n",
       " 'click',\n",
       " 'wap',\n",
       " 'link',\n",
       " 'txt',\n",
       " 'message',\n",
       " 'click',\n",
       " 'xxxmobilemovieclubcomnqjkgighjjgcbl',\n",
       " 'oh',\n",
       " 'ki',\n",
       " 'watch',\n",
       " 'eh',\n",
       " 'u',\n",
       " 'remember',\n",
       " '2',\n",
       " 'spell',\n",
       " 'yes',\n",
       " 'v',\n",
       " 'naughty',\n",
       " 'v',\n",
       " 'wet',\n",
       " 'fine',\n",
       " 'thataos',\n",
       " 'way',\n",
       " 'u',\n",
       " 'feel',\n",
       " 'thataos',\n",
       " 'way',\n",
       " 'gota',\n",
       " 'b',\n",
       " 'england',\n",
       " 'v',\n",
       " 'macedonia',\n",
       " 'do',\n",
       " 'not',\n",
       " 'miss',\n",
       " 'goalsteam',\n",
       " 'news',\n",
       " 'txt',\n",
       " 'ur',\n",
       " 'national',\n",
       " 'team',\n",
       " '87077',\n",
       " 'eg',\n",
       " 'england',\n",
       " '87077',\n",
       " 'trywal',\n",
       " 'scotland',\n",
       " '4txti14120',\n",
       " 'poboxox36504w45wq',\n",
       " '16',\n",
       " 'seriously',\n",
       " 'spell',\n",
       " 'ium',\n",
       " 'go',\n",
       " 'try',\n",
       " '2',\n",
       " 'month',\n",
       " 'ha',\n",
       " 'ha',\n",
       " 'joke',\n",
       " 'i',\n",
       " '_',\n",
       " 'pay',\n",
       " 'lar',\n",
       " 'da',\n",
       " 'stock',\n",
       " 'comin',\n",
       " 'aft',\n",
       " 'finish',\n",
       " 'lunch',\n",
       " 'str',\n",
       " 'lor',\n",
       " 'ard',\n",
       " '3',\n",
       " 'smth',\n",
       " 'lor',\n",
       " 'u',\n",
       " 'finish',\n",
       " 'ur',\n",
       " 'lunch',\n",
       " 'ffffffffff',\n",
       " 'alright',\n",
       " 'way',\n",
       " 'meet',\n",
       " 'sooner',\n",
       " 'force',\n",
       " 'eat',\n",
       " 'slice',\n",
       " 'hungry',\n",
       " 'tho',\n",
       " 'suck',\n",
       " 'mark',\n",
       " 'get',\n",
       " 'worried',\n",
       " 'know',\n",
       " 'sick',\n",
       " 'turn',\n",
       " 'pizza',\n",
       " 'lol',\n",
       " 'lol',\n",
       " 'convincing',\n",
       " 'catch',\n",
       " 'bus',\n",
       " 'fry',\n",
       " 'egg',\n",
       " 'tea',\n",
       " 'eat',\n",
       " 'mom',\n",
       " 'leave',\n",
       " 'dinner',\n",
       " 'feel',\n",
       " 'love',\n",
       " 'amp',\n",
       " 'pack',\n",
       " 'car',\n",
       " 'let',\n",
       " 'know',\n",
       " 'room',\n",
       " 'ahhh',\n",
       " 'work',\n",
       " 'vaguely',\n",
       " 'remember',\n",
       " 'feel',\n",
       " 'like',\n",
       " 'lol',\n",
       " 'wait',\n",
       " 'clear',\n",
       " 'sure',\n",
       " 'sarcastic',\n",
       " 'x',\n",
       " 'want',\n",
       " 'live',\n",
       " 'yeah',\n",
       " 'get',\n",
       " '2',\n",
       " 'v',\n",
       " 'apologetic',\n",
       " 'n',\n",
       " 'fall',\n",
       " 'actin',\n",
       " 'like',\n",
       " 'spoilt',\n",
       " 'child',\n",
       " 'get',\n",
       " 'catch',\n",
       " 'till',\n",
       " '2',\n",
       " 'badly',\n",
       " 'cheer',\n",
       " 'k',\n",
       " 'tell',\n",
       " 'fear',\n",
       " 'fainting',\n",
       " 'housework',\n",
       " 'quick',\n",
       " 'cuppa',\n",
       " 'thank',\n",
       " 'subscription',\n",
       " 'ringtone',\n",
       " 'uk',\n",
       " 'mobile',\n",
       " 'charge',\n",
       " 'a5month',\n",
       " 'confirm',\n",
       " 'reply',\n",
       " 'yes',\n",
       " 'reply',\n",
       " 'charge',\n",
       " 'yup',\n",
       " 'ok',\n",
       " 'home',\n",
       " 'look',\n",
       " 'timing',\n",
       " 'msg',\n",
       " 'i',\n",
       " '_',\n",
       " 'xuhui',\n",
       " 'go',\n",
       " 'learn',\n",
       " '2nd',\n",
       " 'lesson',\n",
       " '8',\n",
       " 'a.m.',\n",
       " 'oops',\n",
       " 'let',\n",
       " 'know',\n",
       " 'roommate',\n",
       " 'letter',\n",
       " 'b',\n",
       " 'car',\n",
       " 'lor',\n",
       " 'u',\n",
       " 'decide',\n",
       " 'hello',\n",
       " 'saturday',\n",
       " 'text',\n",
       " 'decide',\n",
       " 'tomo',\n",
       " 'try',\n",
       " 'invite',\n",
       " 'pls',\n",
       " 'ahead',\n",
       " 'watt',\n",
       " 'want',\n",
       " 'sure',\n",
       " 'great',\n",
       " 'weekend',\n",
       " 'abiola',\n",
       " 'forget',\n",
       " 'tell',\n",
       " 'want',\n",
       " 'need',\n",
       " 'crave',\n",
       " 'love',\n",
       " 'sweet',\n",
       " 'arabian',\n",
       " 'ste',\n",
       " 'mmmmmm',\n",
       " 'yummy',\n",
       " '07732584351',\n",
       " 'rodger',\n",
       " 'burn',\n",
       " 'msg',\n",
       " 'try',\n",
       " 'reply',\n",
       " 'sm',\n",
       " 'free',\n",
       " 'nokia',\n",
       " 'mobile',\n",
       " 'free',\n",
       " 'camcorder',\n",
       " '08000930705',\n",
       " 'delivery',\n",
       " 'tomorrow',\n",
       " 'see',\n",
       " 'great',\n",
       " 'hope',\n",
       " 'like',\n",
       " 'man',\n",
       " 'endow',\n",
       " 'ltgt',\n",
       " 'inch',\n",
       " 'callsmessagesmiss',\n",
       " 'call',\n",
       " 'hep',\n",
       " 'b',\n",
       " 'immunisation',\n",
       " 'nigeria',\n",
       " 'fair',\n",
       " 'going',\n",
       " 'yeah',\n",
       " 'hopefully',\n",
       " 'tyler',\n",
       " 'maybe',\n",
       " 'ask',\n",
       " 'bit',\n",
       " 'u',\n",
       " 'know',\n",
       " 'stubborn',\n",
       " 'want',\n",
       " 'hospital',\n",
       " 'keep',\n",
       " 'tell',\n",
       " 'mark',\n",
       " 'weak',\n",
       " 'sucker',\n",
       " 'hospital',\n",
       " 'weak',\n",
       " 'sucker',\n",
       " 'think',\n",
       " 'time',\n",
       " 'see',\n",
       " 'class',\n",
       " 'gram',\n",
       " 'usually',\n",
       " 'run',\n",
       " 'like',\n",
       " 'ltgt',\n",
       " 'half',\n",
       " 'eighth',\n",
       " 'smart',\n",
       " 'get',\n",
       " 'second',\n",
       " 'gram',\n",
       " 'ltgt',\n",
       " 'k',\n",
       " 'fyi',\n",
       " 'x',\n",
       " 'ride',\n",
       " 'early',\n",
       " 'tomorrow',\n",
       " 'morning',\n",
       " 'crash',\n",
       " 'place',\n",
       " 'tonight',\n",
       " 'wow',\n",
       " 'realize',\n",
       " 'embarassed',\n",
       " 'accomodation',\n",
       " 'think',\n",
       " 'like',\n",
       " 'best',\n",
       " 'happy',\n",
       " 'cave',\n",
       " 'sorry',\n",
       " 'sorry',\n",
       " 'offer',\n",
       " 'sorry',\n",
       " 'room',\n",
       " 'embarassing',\n",
       " 'sm',\n",
       " 'ac',\n",
       " 'sptv',\n",
       " 'new',\n",
       " 'jersey',\n",
       " 'devil',\n",
       " 'detroit',\n",
       " 'red',\n",
       " 'wing',\n",
       " 'play',\n",
       " 'ice',\n",
       " 'hockey',\n",
       " 'correct',\n",
       " 'incorrect',\n",
       " 'end',\n",
       " 'reply',\n",
       " 'end',\n",
       " 'sptv',\n",
       " 'know',\n",
       " 'mallika',\n",
       " 'sherawat',\n",
       " 'yesterday',\n",
       " 'find',\n",
       " 'lturlgt',\n",
       " 'congrat',\n",
       " '1',\n",
       " 'year',\n",
       " 'special',\n",
       " 'cinema',\n",
       " 'pass',\n",
       " '2',\n",
       " '09061209465',\n",
       " 'c',\n",
       " 'suprman',\n",
       " 'v',\n",
       " 'matrix3',\n",
       " 'starwars3',\n",
       " 'etc',\n",
       " '4',\n",
       " 'free',\n",
       " 'bx420ip45we',\n",
       " '150pm',\n",
       " 'do',\n",
       " 'not',\n",
       " 'miss',\n",
       " 'sorry',\n",
       " 'later',\n",
       " 'meeting',\n",
       " 'tell',\n",
       " 'reach',\n",
       " 'yesgauti',\n",
       " 'sehwag',\n",
       " 'odi',\n",
       " 'series',\n",
       " 'go',\n",
       " 'to',\n",
       " 'pick',\n",
       " '1',\n",
       " 'burger',\n",
       " 'way',\n",
       " 'home',\n",
       " 'pain',\n",
       " 'killing',\n",
       " 'ha',\n",
       " 'ha',\n",
       " 'ha',\n",
       " 'good',\n",
       " 'joke',\n",
       " 'girl',\n",
       " 'situation',\n",
       " 'seeker',\n",
       " 'check',\n",
       " 'iq',\n",
       " 'sorry',\n",
       " 'roommate',\n",
       " 'take',\n",
       " 'forever',\n",
       " 'ok',\n",
       " 'come',\n",
       " 'ok',\n",
       " 'lar',\n",
       " 'double',\n",
       " 'check',\n",
       " 'wif',\n",
       " 'da',\n",
       " 'hair',\n",
       " 'dresser',\n",
       " 'say',\n",
       " 'wun',\n",
       " 'cut',\n",
       " 'v',\n",
       " 'short',\n",
       " 'say',\n",
       " 'cut',\n",
       " 'look',\n",
       " 'nice',\n",
       " 'value',\n",
       " 'customer',\n",
       " 'pleased',\n",
       " 'advise',\n",
       " 'follow',\n",
       " 'recent',\n",
       " 'review',\n",
       " 'mob',\n",
       " 'award',\n",
       " 'a1500',\n",
       " 'bonus',\n",
       " 'prize',\n",
       " '09066364589',\n",
       " 'today',\n",
       " 'song',\n",
       " 'dedicate',\n",
       " 'day',\n",
       " 'song',\n",
       " 'u',\n",
       " 'dedicate',\n",
       " 'send',\n",
       " 'ur',\n",
       " 'valuable',\n",
       " 'frnd',\n",
       " 'rply',\n",
       " 'urgent',\n",
       " 'ur',\n",
       " 'award',\n",
       " 'complimentary',\n",
       " 'trip',\n",
       " 'eurodisinc',\n",
       " 'trav',\n",
       " 'acoentry41',\n",
       " 'a1000',\n",
       " 'claim',\n",
       " 'txt',\n",
       " 'dis',\n",
       " '87121',\n",
       " '186a150morefrmmob',\n",
       " 'shracomorsglsuplt10',\n",
       " 'ls1',\n",
       " '3aj',\n",
       " 'hear',\n",
       " 'new',\n",
       " 'divorce',\n",
       " 'barbie',\n",
       " 'come',\n",
       " 'ken',\n",
       " 'stuff',\n",
       " 'plane',\n",
       " 'month',\n",
       " 'end',\n",
       " 'wah',\n",
       " 'lucky',\n",
       " 'man',\n",
       " 'save',\n",
       " 'money',\n",
       " 'hee',\n",
       " 'finish',\n",
       " 'class',\n",
       " 'hi',\n",
       " 'babe',\n",
       " '-PRON-',\n",
       " 'be',\n",
       " 'home',\n",
       " 'wanna',\n",
       " 'xx',\n",
       " 'kkwhere',\n",
       " 'youhow',\n",
       " 'perform',\n",
       " 'u',\n",
       " 'wait',\n",
       " 'machan',\n",
       " 'free',\n",
       " 'that',\n",
       " 's',\n",
       " 'cool',\n",
       " 'gentleman',\n",
       " 'treat',\n",
       " 'dignity',\n",
       " 'respect',\n",
       " 'like',\n",
       " 'people',\n",
       " 'shy',\n",
       " 'pa',\n",
       " 'operate',\n",
       " 'ltgt',\n",
       " 'look',\n",
       " 'job',\n",
       " 'tas',\n",
       " 'earn',\n",
       " 'sorry',\n",
       " 'later',\n",
       " 'k',\n",
       " 'ah',\n",
       " 'ok',\n",
       " 'way',\n",
       " 'home',\n",
       " 'hi',\n",
       " 'hi',\n",
       " 'place',\n",
       " 'man',\n",
       " 'yup',\n",
       " 'stop',\n",
       " 'later',\n",
       " 'network',\n",
       " 'urgnt',\n",
       " 'sm',\n",
       " 'real',\n",
       " 'u',\n",
       " 'get',\n",
       " 'yo',\n",
       " 'need',\n",
       " '2',\n",
       " 'ticket',\n",
       " 'jacket',\n",
       " 'multis',\n",
       " 'yes',\n",
       " 'start',\n",
       " 'send',\n",
       " 'request',\n",
       " 'pain',\n",
       " 'come',\n",
       " 'bed',\n",
       " 'double',\n",
       " 'coin',\n",
       " 'factory',\n",
       " 'get',\n",
       " 'to',\n",
       " 'cash',\n",
       " 'nitro',\n",
       " 'tonight',\n",
       " 'babe',\n",
       " 'ela',\n",
       " 'kanoil',\n",
       " 'download',\n",
       " 'come',\n",
       " 'wen',\n",
       " 'ur',\n",
       " 'free',\n",
       " 'yeah',\n",
       " 'donut',\n",
       " 'stand',\n",
       " 'close',\n",
       " 'tho',\n",
       " 'youull',\n",
       " 'catch',\n",
       " 'sorry',\n",
       " 'pain',\n",
       " 'ok',\n",
       " 'meet',\n",
       " 'night',\n",
       " 'spend',\n",
       " 'late',\n",
       " 'afternoon',\n",
       " 'casualty',\n",
       " 'mean',\n",
       " 'y',\n",
       " 'stuff42moro',\n",
       " 'include',\n",
       " 'time',\n",
       " 'sheet',\n",
       " 'sorry',\n",
       " 'smile',\n",
       " 'pleasure',\n",
       " 'smile',\n",
       " 'pain',\n",
       " 'smile',\n",
       " 'trouble',\n",
       " 'pour',\n",
       " 'like',\n",
       " 'rain',\n",
       " 'smile',\n",
       " 'sum1',\n",
       " 'hurt',\n",
       " 'u',\n",
       " 'smile',\n",
       " 'becoz',\n",
       " 'love',\n",
       " 'u',\n",
       " 'smile',\n",
       " 'customer',\n",
       " 'service',\n",
       " 'representative',\n",
       " '0800',\n",
       " '169',\n",
       " '6031',\n",
       " '10am9pm',\n",
       " 'win',\n",
       " 'guarantee',\n",
       " 'a1000',\n",
       " 'cash',\n",
       " 'a5000',\n",
       " 'prize',\n",
       " 'have',\n",
       " 'not',\n",
       " 'plan',\n",
       " 'buy',\n",
       " 'later',\n",
       " 'check',\n",
       " 'lido',\n",
       " 'get',\n",
       " '530',\n",
       " 'e',\n",
       " 'afternoon',\n",
       " 'u',\n",
       " 'finish',\n",
       " 'work',\n",
       " 'free',\n",
       " 'ringtone',\n",
       " 'wait',\n",
       " 'collect',\n",
       " 'simply',\n",
       " 'text',\n",
       " 'password',\n",
       " 'mix',\n",
       " '85069',\n",
       " 'verify',\n",
       " 'usher',\n",
       " 'britney',\n",
       " 'fml',\n",
       " 'watch',\n",
       " 'telugu',\n",
       " 'moviewat',\n",
       " 'abt',\n",
       " 'u',\n",
       " 'finish',\n",
       " 'load',\n",
       " 'loan',\n",
       " 'pay',\n",
       " 'hi',\n",
       " 'wk',\n",
       " 'ok',\n",
       " 'hol',\n",
       " 'yes',\n",
       " 'bit',\n",
       " 'run',\n",
       " 'forget',\n",
       " 'hairdresser',\n",
       " 'appointment',\n",
       " 'need',\n",
       " 'home',\n",
       " 'n',\n",
       " 'shower',\n",
       " 'because',\n",
       " 'prob',\n",
       " 'uham',\n",
       " 'text',\n",
       " 'anymore',\n",
       " 'okay',\n",
       " 'ur',\n",
       " 'price',\n",
       " 'long',\n",
       " 'legal',\n",
       " 'wen',\n",
       " 'pick',\n",
       " 'y',\n",
       " 'u',\n",
       " 'ave',\n",
       " 'x',\n",
       " 'ams',\n",
       " 'xx',\n",
       " 'look',\n",
       " 'car',\n",
       " 'buy',\n",
       " 'go',\n",
       " '4the',\n",
       " 'driving',\n",
       " 'test',\n",
       " 'request',\n",
       " 'melle',\n",
       " 'melle',\n",
       " 'oru',\n",
       " 'minnaminunginte',\n",
       " 'nurungu',\n",
       " 'vettam',\n",
       " 'set',\n",
       " 'callertune',\n",
       " 'caller',\n",
       " 'press',\n",
       " '9',\n",
       " 'copy',\n",
       " 'friend',\n",
       " 'callertune',\n",
       " 'wow',\n",
       " 'right',\n",
       " 'mean',\n",
       " 'guess',\n",
       " 'give',\n",
       " 'boston',\n",
       " 'man',\n",
       " 'change',\n",
       " 'search',\n",
       " 'location',\n",
       " 'nyc',\n",
       " 'change',\n",
       " 'cuz',\n",
       " 'signin',\n",
       " 'page',\n",
       " 'say',\n",
       " 'boston',\n",
       " 'umma',\n",
       " 'life',\n",
       " 'vava',\n",
       " 'umma',\n",
       " 'love',\n",
       " 'lot',\n",
       " 'dear',\n",
       " 'thank',\n",
       " 'lot',\n",
       " 'wish',\n",
       " 'birthday',\n",
       " 'thank',\n",
       " 'make',\n",
       " 'birthday',\n",
       " 'truly',\n",
       " 'memorable',\n",
       " 'aight',\n",
       " 'hit',\n",
       " 'cash',\n",
       " 'ip',\n",
       " 'address',\n",
       " 'test',\n",
       " 'consider',\n",
       " 'computer',\n",
       " 'minecraft',\n",
       " 'server',\n",
       " 'know',\n",
       " 'grumpy',\n",
       " 'old',\n",
       " 'people',\n",
       " 'mom',\n",
       " 'like',\n",
       " 'good',\n",
       " 'lie',\n",
       " 'play',\n",
       " 'joke',\n",
       " 'do',\n",
       " 'not',\n",
       " 'worry',\n",
       " 'guess',\n",
       " 'busy',\n",
       " 'plural',\n",
       " 'noun',\n",
       " 'research',\n",
       " 'go',\n",
       " 'dinnermsg',\n",
       " 'ok',\n",
       " 'wif',\n",
       " 'cos',\n",
       " 'like',\n",
       " '2',\n",
       " 'try',\n",
       " 'new',\n",
       " 'thing',\n",
       " 'scar',\n",
       " 'u',\n",
       " 'dun',\n",
       " 'like',\n",
       " 'mah',\n",
       " 'cos',\n",
       " 'u',\n",
       " 'say',\n",
       " 'loud',\n",
       " 'gent',\n",
       " 'try',\n",
       " 'contact',\n",
       " 'weekend',\n",
       " 'draw',\n",
       " 'show',\n",
       " 'win',\n",
       " 'a1000',\n",
       " 'prize',\n",
       " 'guarantee',\n",
       " '09064012160',\n",
       " 'claim',\n",
       " 'code',\n",
       " 'k52',\n",
       " 'valid',\n",
       " '12hrs',\n",
       " '150ppm',\n",
       " 'wa',\n",
       " 'ur',\n",
       " 'openin',\n",
       " 'sentence',\n",
       " 'formal',\n",
       " 'fine',\n",
       " 'juz',\n",
       " 'tt',\n",
       " 'eatin',\n",
       " 'n',\n",
       " 'puttin',\n",
       " 'weighthaha',\n",
       " 'anythin',\n",
       " 'special',\n",
       " 'happen',\n",
       " 'enter',\n",
       " 'cabin',\n",
       " 'pa',\n",
       " ...]"
      ]
     },
     "execution_count": 55,
     "metadata": {},
     "output_type": "execute_result"
    }
   ],
   "source": [
    "(text.split())"
   ]
  },
  {
   "cell_type": "code",
   "execution_count": 56,
   "metadata": {},
   "outputs": [
    {
     "data": {
      "text/plain": [
       "'jurong point crazy available bugis n great world la e buffet cine get amore wat ok lar joke wif u oni free entry 2 wkly comp win fa cup final tkts 21st 2005 text fa 87121 receive entry questionstd txt ratetc apply 08452810075over18s u dun early hor u c nah think go usf life freemsg hey darling 3 week word like fun tb ok xxx std chgs send a150 rcv brother like speak treat like aid patent request melle melle oru minnaminunginte nurungu vettam set callertune caller press 9 copy friend callertune winner value network customer select receivea a900 prize reward claim 09061701461 claim code kl341 valid 12 hour mobile 11 month u r entitle update late colour mobile camera free mobile update co free 08002986030 go to home soon want talk stuff anymore tonight k cry today chance win cash 100 20000 pound txt csh11 send 87575 cost 150pday 6days 16 tsandcs apply reply hl 4 info urgent win 1 week free membership a100000 prize jackpot txt word claim 81010 tc lccltd pobox 4403ldnw1a7rw18 search right word thank breather promise will not help grant fulfil promise wonderful blessing time date sunday xxxmobilemovieclub use credit click wap link txt message click xxxmobilemovieclubcomnqjkgighjjgcbl oh ki watch eh u remember 2 spell yes v naughty v wet fine thataos way u feel thataos way gota b england v macedonia do not miss goalsteam news txt ur national team 87077 eg england 87077 trywal scotland 4txti14120 poboxox36504w45wq 16 seriously spell ium go try 2 month ha ha joke i _ pay lar da stock comin aft finish lunch str lor ard 3 smth lor u finish ur lunch ffffffffff alright way meet sooner force eat slice hungry tho suck mark get worried know sick turn pizza lol lol convincing catch bus fry egg tea eat mom leave dinner feel love amp pack car let know room ahhh work vaguely remember feel like lol wait clear sure sarcastic x want live yeah get 2 v apologetic n fall actin like spoilt child get catch till 2 badly cheer k tell fear fainting housework quick cuppa thank subscription ringtone uk mobile charge a5month confirm reply yes reply charge yup ok home look timing msg i _ xuhui go learn 2nd lesson 8 a.m. oops let know roommate letter b car lor u decide hello saturday text decide tomo try invite pls ahead watt want sure great weekend abiola forget tell want need crave love sweet arabian ste mmmmmm yummy 07732584351 rodger burn msg try reply sm free nokia mobile free camcorder 08000930705 delivery tomorrow see great hope like man endow ltgt inch callsmessagesmiss call hep b immunisation nigeria fair going yeah hopefully tyler maybe ask bit u know stubborn want hospital keep tell mark weak sucker hospital weak sucker think time see class gram usually run like ltgt half eighth smart get second gram ltgt k fyi x ride early tomorrow morning crash place tonight wow realize embarassed accomodation think like best happy cave sorry sorry offer sorry room embarassing sm ac sptv new jersey devil detroit red wing play ice hockey correct incorrect end reply end sptv know mallika sherawat yesterday find lturlgt congrat 1 year special cinema pass 2 09061209465 c suprman v matrix3 starwars3 etc 4 free bx420ip45we 150pm do not miss sorry later meeting tell reach yesgauti sehwag odi series go to pick 1 burger way home pain killing ha ha ha good joke girl situation seeker check iq sorry roommate take forever ok come ok lar double check wif da hair dresser say wun cut v short say cut look nice value customer pleased advise follow recent review mob award a1500 bonus prize 09066364589 today song dedicate day song u dedicate send ur valuable frnd rply urgent ur award complimentary trip eurodisinc trav acoentry41 a1000 claim txt dis 87121 186a150morefrmmob shracomorsglsuplt10 ls1 3aj hear new divorce barbie come ken stuff plane month end wah lucky man save money hee finish class hi babe -PRON- be home wanna xx kkwhere youhow perform u wait machan free that s cool gentleman treat dignity respect like people shy pa operate ltgt look job tas earn sorry later k ah ok way home hi hi place man yup stop later network urgnt sm real u get yo need 2 ticket jacket multis yes start send request pain come bed double coin factory get to cash nitro tonight babe ela kanoil download come wen ur free yeah donut stand close tho youull catch sorry pain ok meet night spend late afternoon casualty mean y stuff42moro include time sheet sorry smile pleasure smile pain smile trouble pour like rain smile sum1 hurt u smile becoz love u smile customer service representative 0800 169 6031 10am9pm win guarantee a1000 cash a5000 prize have not plan buy later check lido get 530 e afternoon u finish work free ringtone wait collect simply text password mix 85069 verify usher britney fml watch telugu moviewat abt u finish load loan pay hi wk ok hol yes bit run forget hairdresser appointment need home n shower because prob uham text anymore okay ur price long legal wen pick y u ave x ams xx look car buy go 4the driving test request melle melle oru minnaminunginte nurungu vettam set callertune caller press 9 copy friend callertune wow right mean guess give boston man change search location nyc change cuz signin page say boston umma life vava umma love lot dear thank lot wish birthday thank make birthday truly memorable aight hit cash ip address test consider computer minecraft server know grumpy old people mom like good lie play joke do not worry guess busy plural noun research go dinnermsg ok wif cos like 2 try new thing scar u dun like mah cos u say loud gent try contact weekend draw show win a1000 prize guarantee 09064012160 claim code k52 valid 12hrs 150ppm wa ur openin sentence formal fine juz tt eatin n puttin weighthaha anythin special happen enter cabin pa say happy bday boss feel special askd 4 lunch lunch invite apartment go winner u specially select 2 receive a1000 4 holiday flight inc speak live operator 2 claim 0871277810910pmin 18 goodo yes speak friday eggpotato ratio tortilla need hmmmy uncle inform pay school directly pls buy food private 2004 account statement 07742676969 show 786 unredeemed bonus point claim 08719180248 identifier code 45239 expire urgent mobile award a2000 bonus caller prize 5903 final try contact u landline 09064019788 box42wr29c 150ppm new address applespairsall malarky today voda number end 7548 select receive 350 award match 08712300220 quote claim code 4041 standard rate app go sao mu today 12 ii predict wat time i_ll finish buying good stuff knowyetunde send money send text bother send do not involve impose place apologise room hey girl r u hope u r del r bak long time c sum time lucyxx kkhow cost home dear tmorrowpls accomodate answer question sunshine quiz wkly q win sony dvd player u know country algarve txt ansr 82277 a150 sptyrone want 2 lay tonight want real dogging location send direct 2 ur mob join uks large dogging network bt txt gravel 69888 nt ec2a 31pmsg150p haf msn meet check room befor activity rcv msgs chat svc free hardcore service text 69988 u u age verify yr network try get c lazy type forget i _ lect see pouch like v nice k text way sir wait mail swt thought nver tired little thing 4 lovable person cozsomtim little thing occupy d big heart gud ni8 know pls open yes ya dot what s staff take class freemsg reply text randy sexy female live local luv hear u netcollex ltd 08700621170150p msg reply stop end ummmawill check inour life begin qatar pls pray hard ki delete contact sindu get job birla soft wine flow nevering yup thk cine better cos need 2 2 plaza mah ok ur typical reply request melle melle oru minnaminunginte nurungu vettam set callertune caller press 9 copy friend callertune dirt floor window shirt open mouth come flow dream world half chore time joy lot tv show ill guess like thing exist like rain hail mist time aaooooright work leave house hello love interview today happy good boy think meare miss customer service annoncement new year delivery wait 07046744435 arrange delivery winner u specially select 2 receive a1000 cash 4 holiday flight inc speak live operator 2 claim 0871277810810 safe need miss envy see real life new car house parentsi new job hand love excited day spend happy pls stop bootydelious 32f invite friend reply yes434 no434 stop send stop frnd 62468 bangbabe ur order way u receive service msg 2 download ur content u goto wap bangb tv ur mobile internetservice menu place ur point e culture module urgent try contact weekend draw show win a900 prize guarantee 09061701939 claim code s89 valid 12hrs hi frnd good way avoid missunderstd wit beloved one great escape fancy bridge need lager tomo yes completely formclark utter waste sir need axis bank account bank address hmmm thk sure get time hop ard ya 4 free abt muz u discuss liao time come later bloody hell can not believe forget surname mr ill u clue spanish begin m go to finish bath goodfine night let know get money carlo u go mall turn friend stay til ltgt feel free ahead smoke ltgt worth text do not reply let know log hi speak maneesha v like know satisfied experience reply toll free yes lift hope offer money ne especially end month approach hurt study anyways gr8 weekend lol u trust ok gentleman treat dignity respect guy close go greatbye hello handsome finding job lazy work get net mummy boytoy miss haha awesome minute customer service representative freephone 0808 145 4742 9am11pm win guarantee a1000 cash a5000 prize get xmas radio time ju reach home bathe sis net tell u finish k unique find 30th august sorry joined league people do not touch mean great deal friend time great personal cost great week hi finally complete course stop suggest stay able or stool hope settle new school year wishin gr8 day gud mrng dear hav nice day u get person story hamster dead hey tmr meet 1 p.m. orchard mrt hi kate evening hope tomorrow bit bloody babyjontet txt u xxx find enc ltgt send ltgt buck hello darlin -PRON- have finish college txt u finish u love kate xxx account refill successfully inr ltdecimalgt keralacircle prepay account balance rs ltdecimalgt transaction -PRON- would kr ltgt goodmorn sleep ga u alter 11 ok ii like dat dun buy ericsson oso oredi lar enter cabin pa say happy bday boss feel special askd 4 lunch lunch invite apartment go aight yo dat straight dogg connection today ltdecimalgt refund bill shoot big load ready bruv hope great break rewarding semester home chat kkgoodstudy yup i _ noe leh sound great home finally match heading draw prediction tired sleep past night easy ahsen get select mean good exam march 3 yeah think use gt atm register sure help let know sure ready ok prob ur time os call ubandu run instal hard diskyou use os copy important file system repair shop sorry later u leh course happen lar v romantic jus bit lor thk e nite scenery nice leh 500 new mobile 2004 txt nokia 89545 collect todayfrom a1 2optout 08718726270150gbpmtmsg18 appreciate need talk u meet ur dream partner soon ur career 2 flyng start 2 find free txt horo follow ur star sign e g horo arie hey company elama po mudyadhu life strict teacher bcoz teacher teach lesson amp conduct exam life conduct exam amp teach lesson happy morning dear good morning gandhipuram walk cross cut road right ltgt street road turn right dear go rubber place sorry battery die yeah yeshere tv available work place text meet sexy today u find date flirt u join 4 10p reply age eg sam 25 18 msg recdthirtyeight penny print oh ltgt come upstairs ill little closer like bus stop street youwhen wil reach new theory argument win d situation lose person do not argue ur friend kick amp correct u 447801259231 secret admirer look 2 contact ufind rreveal think ur specialcall 09058094597 tomarrow final hearing laptop case can not pleassssssseeeeee tel v avent sportsx okay shin mean signing sound better tell u dat baig face watch like e watch u give cos fr u thanx 4 dat uve today touch u remember old commercial late say website do not slipper ask ok kalli will not bat 2nd innings do not work oh ok goodnight ill fix ready time wake dearly miss good night sleep congratulation ur award 500 cd voucher 125gift guarantee free entry 2 100 wkly draw txt music 87066 tnc ranjith cal drpd deeraj deepak 5min hold wen ur lovable bcum angry wid u dnt seriously coz angry d childish n true way show deep affection care n luv kettoda manda nice day da doinghow up 3days shipping company take 2wks way usp take week get lag bribe nipost stuff lemme know ready necessarily expect headin mmm yummy babe nice jolt suzy lover need try contact reply offer video handset 750 anytime network min unlimited text camcorder reply 08000930705 ium park mini come today think yup go shopping cos sis dun disturb u liao luton 0125698789 ring ur h hey horny want chat naked text hot 69698 text charge 150pm unsubscribe text stop 69698 dint come wana plan trip sometme sure try hold ur ringtone service change 25 free credit club4mobilescom choose content stop txt club stop 87070 150pwk club4 po box1146 mk45 2wt evo download flash jealous ringtone club uk single chart mobile week choose quality ringtone message free charge come mu sort narcotic situation night end day morning come special way smile like sunny ray leave worry blue blue bay hmv bonus special 500 pound genuine hmv voucher win answer 4 easy question play send hmv 86688 info usf guess 1 car objection bf come thanx tell rob mack gf theater awesome bit send type food like handed celebration swing get call tool wen u miss ok ask money far okie yeah think usual guy pass night ahold anybody let know throw k come tonight class let early ok hi baby -PRON- be cruisin girl friend r u 2 hour home that s alright fone fone love jenny xxx life mean lot love life love people life world call friend world ge dearshall mail tonitebusy streetshall update tonitething look okvarunnathu edukkukayee raksha ollubut good real sense hey tell gautham ah haf u find feel stupid da v cam working oops 4 get bit buzy accidentally delete message resend tmobile customer claim free camera phone upgrade pay sim card loyalty 0845 021 3680offer end 28thfebtcs apply situation gurl appropriate hurt tease cry end life die plz rise grave stupid miss u nice day bslvyl can not pick phone right pls send message need coffee run tomocannot believe time week awesome remember time get somebody high time diesel v shit shock scary can not imagine second def night u think crash night save taxi oh way food fridge want meal tonight womdarfull actor sm ac blind date 4u rodds1 21 m aberdeen united kingdom check sm acwicmb3cktz8r74 blind date send hide yup remb think book jos ask u wana meet lol yes friendship hang thread because u buy stuff themob check new selection content game tone gossip bab sport mobile fit funky text wap 82468 garage key bookshelf today accept dayu accept brother sister lover dear1 best1 clos1 lvblefrnd jstfrnd cutefrnd lifpartnr belovd swtheart bstfrnd rply mean enemy think ur smart win a200 week weekly quiz text play 85222 nowtc winnersclub po box 84 m26 3uz 16 gbp150week say friend get money definitely buy end week hi way u 2day normal waythis real ur uniquei hope know u 4 rest mylife hope u find wot lose day great day kkadvance happy pongal hmmm guess 4 kb n power yoga haha dunno tahan power yoga anot thk get lo oso forget liao dude friend afraid december mobile 11mths entitle update late colour camera mobile free mobile update co free 08002986906 coffee cake guess merry christma babe love ya kiss hey do not watch x man lunch haha cud u tell ppl -PRON- be gona b bit l8 cos 2 bus hav gon past cos -PRON- be waitin 4 1 pete x great guild meet bristol road touch weekend plan flight good week problem callsmessagesmiss call hi dahow todays class good sign know track record reading woman cool text park read text send mean joke read light kkapo kgood movie maybe book tomo return immediately germany 1 pence minute fix line access number 0844 861 85 85 prepayment direct access chance evaporate soon violate privacy steal phone number employer paperwork cool contact report supervisor valentine day special win a1000 quiz partner trip lifetime send 83600 150pmsg rcvd custcare08718720201 tadaaaaa home babe cool come have not win din sleepingand surfing sorry later u call right hand phone ok great thanx lot post come 1000s text happy reading wiv hello caroline end favourite bless u hide stranger interested like sister clear round birla soft yesterday gudnitetcpractice going dis yijue ju see ur mail case huiming have not send u num dis num small prestige problem fancy shag dointerest sextextukcom txt xxuk suzy 69876 txt cost 150 msg tnc website x check miss see jeremiah great month nah help iphone car hour half go apeshit today sorry day angry misbehave hurt plz plz slap urself bcoz ur fault basically good yo guy figure need alcohol jay try figure safely spend weed ltgt ish minute 5 minute ago wtf thank callingforgot happy onam sirjii fine remember meet insurance personmeet qatar insha allahrakhesh ex tata aig join tisscotayseer congratulation ur award 500 cd voucher 125gift guarantee free entry 2 100 wkly draw txt music 87066 tnc ur cashbalance currently 500 pound maximize ur cashin send cash 86688 150pmsg cc 08708800282 hgsuite3422land roww1j6hl actor work work evening sleep late unemployed moment sleep late unemployed day saturday hello get st andrewsboy long way cold post ha ha cool cool chikku chikkudb oh ok prob check audrey status right busy try finish new year look forward finally meeting good afternoon sunshine dawn day refresh happy alive breathe air smile think love know z care worry update_now xma offer late motorola sonyericsson nokia free bluetooth double min 1000 txt orange mobileupd8 08000839402 call2optoutf4q discount code rp176781 stop message reply stop customer service 08717205546 wat uniform cool text ready hello boytoy geeee miss wake wish bed cuddle love spoil bed go bath msg ltgt min can not talk people sure pay agree price pls tell want buy willing pay thank ringtone order reference t91 charge gbp 4 week unsubscribe anytime call customer service 09057039994 happen see mei didt recognise face lot thing happen lindsay new year sigh bar ptbo blue heron go payasam rinu bring teach ranjith sir call sm like becaus -PRON- s verify project prabu tell today pa do not mistake guess worried know way body repair sure worry slow test guide ovulation relax say reason worry ill followin yeah sure couple minute track wallet hey leave big deal care hey late ah meet 945 double min txt 4 6months free bluetooth orange available sony nokia motorola phone mobileupd8 08000839402 call2optoutn9dx take mr owl 3 lick customer place mm time do not like fun 4mths half price orange line rental late camera phone 4 free phone 11mths mobilesdirect free 08000938767 update or2stoptxt yup have lunch buffet u eat huh late fr dinner hey sit go intro pilate kickbox morning ok yes think office lap room think that s day do not shut pick bout 730ish time go performance award calculate monthnot current month period actually sleep u text gr8 rock sis send u text wen wake put business picture ass facebook open people meet think picture room hurt feel violate good evening sir al salam wahleykkumshar happy newsby grace god get offer tayseertissco joinedhope fineinshah allahmeet sometimerakheshvisitor india hmmmkbut want change field quickly dai wanna system administrator network administrator free ringtone text 87131 poly text 87131 true tone help 0845 2814032 16 1st free tone 3xa150pw eand txt stop dear chechi talk hair cream ship happen til yep great loxahatchee xma tree burn ltgt start hour haha drive usf man know lot stoner slightly disastrous class pm fav darling hope day ok coffee wld good stay late tomorrow time place hello good week fancy drink later headin busetop messagesome text miss sendername miss number miss sentdate miss miss u lot that s y miss send fullonsmscom come room point iron plan weekend cos want thing okie yan jiu skip ard oso cine den mrt blah blah blah bring home wendy d 100 date service 09064012103 box334sk38ch whatsup do not u want sleep alright new goal free entry a250 weekly competition text word win 80086 18 tc alright head minute text meet send logo 2 ur lover 2 name join heart txt love name1 name2 mobno eg love adam eve 07123456789 87077 yahoo pobox36504w45wq txtno 4 ad 150p yesfrom week take live contact date service enter phone fancy find landline 09111032124 pobox12n146tf150p siva hostel aha urgent mobile number award a2000 prize guarantee 09058094455 land line claim 3030 valid 12hrs send ur friend receive ur voice speak expression 1childish 2naughty 3sentiment 4rowdy 5ful attitude 6romantic 7shy 8attractive 9funny ltgt irritate ltgt lovable reply ok ok guess aathiwhere dear pain urination thing 7 esplanade i _ mind give lift cos get car today wnt buy bmw car urgentlyit vry urgentbut hv shortage ltgt lacsthere source arng dis amt ltgt lacsthat prob home watch tv lor usually fuck minute respond yes question congrat nokia 3650 video camera phone 09066382422 call cost 150ppm ave 3mins vary mobile 16 close 300603 post bcm4284 ldn wc1n3xx book ticket pongal available like right hillsborough amp ltgt th message send askin ltgt dollar shoul pay ltgt ltgt ask g iouri tell story like time long applebee fucking hi hope u txtjourney have not gdnow 50 min late think like love arrange yeshe greatbhaji tell kalli good cricketer sachin worldvery tough suppose wake gt oic see tot din c find group liao sorry later hey hey werethe monkeespeople monkeyaround howdy gorgeous sorry battery die come get gram place blimey exercise yeah kinda remember wot hmm will not concentration dear know mind lol plan new year 10 min later k hank lotsly thank hope good day today kkwhat detail want transferacc ok tell stay yeah tough optimistic thing improve month loan purpose a500 a75000 homeowner tenant welcome previously refuse help free 0800 1956669 text help si si think ill oreo truffle look amy ure beautiful intelligent woman like u lot know u donaot like like donaot worry hope result consistently intelligent kind start ask practicum link ear open good ttyl 120 cost guess be not bad miss ya need ya want ya love ya go different feelingwaver decision cope individualtime heal believe u phone go to die stay great good day give reason thank god upgrdcentre orange customer claim free camera phone upgrade loyalty 0207 153 9153 offer end 26th july tcs apply optout available sorry later ok bye ok way railway great princess love give receive oral doggy style fave position enjoy make love ltgt time night stuff road get slippery go ride bike yup need ju wait 4 e rain 2 stop company tell language okmail dear dave final notice collect 4 tenerife holiday 5000 cash award 09061743806 landline tcs sae box326 cw25wx 150ppm long scream princess mean money enter account bank remove flat rate transfer ltgt account ltgt dollar get remove bank differ charge differbe sure trust 9ja person send account detail cos want 2 lay tonight want real dogging location send direct 2 ur mob join uks large dogging network txting moan 69888nyt ec2a 31pmsg150p nice line say broken heart plz cum 1 time infront wise will trust u good 9 t ok go to head usf like minute love aathilove u lot tension ahwhat machiany problem k pick 8th when be guy get g say think staying mcr u sec yo carlo friend ask work weekend watch tv lor thank baby can not wait taste real thing change fb jaykwon thuglyfe falconerf win 1 long time free message activate 500 free text message reply message word free term condition visit dear reach railway happen depend quality want type send boye fade glory 6 want ralph maybe 2 think fix send test message sorry man account dry want trade half buy shit credit card congrat 1 year special cinema pass 2 09061209465 c suprman v matrix3 starwars3 etc 4 free bx420ip45we 150pm do not miss sorryin meeting later class ltgt reunion free nowcan get meh nope think monday sorry reply late tell accenture confirm true kate jackson rec center 7ish right dear reache room fight world easy u win lose bt fightng some1 close u dificult u lose u lose u win u lose i _ come check nuerologist lolnice go fish water 123 congratulation week competition draw u win a1450 prize claim 09050002311 b4280703 tcsstop sm 08718727868 18 150ppm wait e car dat bored wat cos wait outside get 2 home stuff watch tv wat maybe westshore hyde park village place near house know anthony bring money school fee pay rent stuff like that s need help friend need significance opinion 1 2 jada 3 kusruthi 4 lovable 5 silent 6 spl character 7 mature 8 stylish 9 simple pls reply 8 late gs scrounge ammo want new ak try prabhai sorydarealyfrm heart sory lol ok forgive nojst change tat guarantee late nokia phone 40 gb ipod mp3 player a500 prize txt word collect 83355 ibhltd ldnw15h 150pmtmsgrcvd18 sno competition boltblue tone 150p reply poly mono eg poly3 1 cha cha slide 2 yeah 3 slow jamz 6 toxic 8 come stop 4 tone txt credit top renewal pin tgxxrz way transport problematic sit night way u want ask n join bday feel free need know definite nos book fri usually person unconscious child adult behave abnormally ill ebay shall come pickle go to taco rude campus urgent mobile award a2000 bonus caller prize 020903 2nd attempt contact 08718729755 box95qu hi b ard 4 christma enjoy n merry xma today offer claim ur a150 worth discount voucher text yes 85023 savamob member offer mobile t cs 08717898035 a300 sub 16 unsub reply x yes pretty lady like single recieve tone 24hrs term condition channel u teletext pg 750 jay say doublefaggot private 2003 account statement 07815296484 show 800 unredeemed sim point 08718738001 identifi code 41782 expire 181104 todaysundaysunday holidayso work gudnitetcpractice going late call hop l8r malaria know miss guy miss bani big pls love especially great day good afternoon love go day hope maybe get lead job think boytoy send passionate kiss sea probably go to later tonight lt maybe fat finger press button know ummmmmaah happy return d day dear sweet heart happy birthday dear tirupur da start office monthlysubscription50pmsg max6month tcsc web age16 2stop txt stop famous quote develop ability listen unconditionally lose temper self confidence mean marry go college pa ill come self pa 4 oclock bash flat plan girl stay bed girl need recovery time -PRON- would pass have fun coop bed special know need hotel get invitation apologise cali sweet come english bloke weddin sorry take long omw wait ltgt min ok 5 minute think btw alibi cut hair time imagine finally sink bath pace maybe have eat leave imagine feel cage cock surround bath water remind own enjoy cuck hurry weeddeficient like day sure acknowledgement astoundingly tactless generally faggy demand blood oath fo ok night warm bath drink cup milk work magic need loose weight know iull look fry pan case itus cheap book thatus silly fry pan isnut likely book o uv cause mutation sunscreen like essential theseday have lunchyou onlinewhy know friend tell hi princess thank pic pretty aiyo u c ex dunno abt mei haven reply time u reply fast y lucky workin huh get bao ur sugardad ahgee hi msg mei office thanx 4 e brownie v nice geeeee love barely stand gent try contact weekend draw show win a1000 prize guarantee 09064012160 claim code k52 valid 12hrs 150ppm fuck babe miss know let send money net need want crave ill u 2mrw ninish address icky american freek will not stop callin 2 bad jen k eh oooh bed ride ey thinking anyways gym love smile hope ok have good day babe miss love daddy scream pleasure go slap ass dick wot u wanna missy yar lor wait 4 mum 2 finish sch lunch lor morning stay home clean room room clean hee know lab goggle go open door wait nope wait sch 4 daddy win 1000 cash 2000 prize claim call09050000327 tired arguing week week want ii wait 4 sch finish ard 5 mobile number win a5000 claim call ring claim hot line 09050005321 arngd marriage u r walkin unfortuntly snake bite u bt love marriage dancing frnt d snake amp sayin bite bite huh early i _ have dinner outside izzit ok need change say try contact reply offer 750 min 150 textand new video phone 08002988890 reply free delivery tomorrow exwife able kid want kid day scotland hope show jjc tendency care live dream tell u headache want use 1 hour sick time dun thk quit hmmm jazz yogasana oso meet -PRON- lesson den pete ring meive hardly gotany credit ya srsly good yi tho meet later ur chance win a250 wkly shop spree txt shop 80878 tsc custcare 08715705022 1x150pwk specially select receive 2000 pound award 08712402050 line close cost 10ppm 16 tc apply ag promo private 2003 account statement 07753741225 show 800 unredeemed s m point 08715203677 identifier code 42478 expire 241004 grand prix meet stranger choose friend long world stand friendship end let friend forever gud nitz great gud mrng dear nice day important customer service announcement freephone 0800 542 0825 exhaust train morning wine pie sleep go buy mum present ar mind blastin tsunamis occur rajnikant stop swim indian oceand u send home ok lor ready speak cash happy come noon meet lunch la care n soon xclusiveclubsaisai 2morow 285 soiree speciale zouk nichols parisfree rose 2 lady info 0794674629107880867867 mean can not wait u get bored bridgwater banter neva mind ok fine imma drink something want come find 22 day kick euro2004 u keep date late news result daily remove send txt stop 83222 valentine game send dis msg ur friend 5 answer r d love u qu colour suit bestrply dependent thanx4 today cer nice 2 catch ave 2 find time oh care c u soonc call say himthen choose future happy valentine day know early hundred handsome beauty wish think finish auntie uncle 1st like v shock leh cos tell shuhui like tell leona like dat know liao get ask abt ur reaction lor family happiness come n pick i _ come immediately aft ur lesson let snow let snow kind weather bring ppl friendship grow dear get ltgt dollar hi hi good word word leave u dismay time sure alex know birthday minute far concern sorry get thing pub later nah straight bring bud drink actually little useful straight cash haha good hear officially pay market 8th lick center tootsie pop yup thk r e teacher say face look long darren ask 2 cut short new textbuddy chat 2 horny guy ur area 4 25p free 2 receive search postcode gaytextbuddycom txt 89693 today vodafone number end 4882 select receive a350 award number match 09064019014 receive a350 award do not like hi hi hi thank u oh forward message think send get seventeen pound seven ml uo hope ok dear vouch holder 2 claim week offer pc tsc apply2 stop text txt stop 80062 n funny sweetheart hope have kind day load reason smile biola i _ login dat time dad fetch i _ home shower baby askd u question hour answer imma definitely need restock thanksgiving let know say kiss kiss sound effect gorgeous man kind person need smile brighten day probably go to swing wee bit ya nice ready thursday allo braved bus take train triumph mean weure buham jolly good rest week watch cartoon listen music amp eve temple amp church u mind ask happen do not uncomfortable private 2003 account statement show 800 unredeemed s m point 08715203694 identifier code 40533 expire 311004 prob send email win 1000 cash 2000 prize claim call09050000327 tc rstm sw7 3ss 150ppm that s cool slow gentle sonetime rough hard go to sorry normal starting panic time sorry see tuesday wait know wesley town bet hella drug fine miss u get person story tell drug dealer get impatient sun can not come earth send luv ray cloud can not come river send luv rain can not come meet u send care msg u gud evng place man do not sense free need know wikipediacom 88800 89034 premium phone service 08718711108 sea lay rock rock envelope envelope paper paper 3 word mum repent sorry go home daddy come fetch i _ later leave de start prepare yes baby study position kama sutra en chikku nange bakra msg kalstiyathen teacoffee carlosll minute need buy pay ltdecimalgt lakh good evening ttyl u receive msg ho ho big belly laugh ya tomo sm ac sun0819 post helloyou cool ur 1st ringtone free reply msg tone gr8 20 tone phone week a150 wk 2 opt send stop 08452810071 16 ditto worry say anymore like say night want peace get ltgt way pick do not knw pa drink milk maybe hi find get card great escape wetherspoon piggy r u awake bet ure sleep go 4 lunch because freaky lol miss because yell scrappy miss u wait u come home lonely today hex place talk explain ii log 4 wat sdryb8i xy go 4 e lunch hi sue 20 year old work lapdancer love sex text live bedroom text sue 89555 textoperator g2 1da 150ppmsg 18 want ask i _ wait 4 finish lect cos lect finish hour finish work king cry baby great building map imprtant u r today u wil reach tomorw gud ni8 dearme cherthalain case u r come cochin pls bfore u starti shall reach accordinglyor tell day u r comingtmorow engage an holiday thank love torch bold forward 448712404000please 08712404000 immediately urgent message wait farm open sorry trouble u buy 4d dad 1405 1680 1843 2 big 1 small sat n sun thanx sister law hope have great month say hey abiola purchase d stuff today mail po box number ah poop look like ill prob send laptop fix cuz gpu problem good good job like entrepreneur aight close alexs place meet corporation st outside gap u _ mind work mum ask i _ buy food home ku do not msg reply msg r i _ willing pay sorry later important prevent dehydration give fluid that s bit weird suppose happen good idea sure pub true deari sit pray evening feel soso smsd time think away trek long family town sorry wanna gym harri late lar ard 12 wun b drivin review fantastic nokia ngage game deck club nokia 2 unsubscribe alert reply word 4mths half price orange line rental late camera phone 4 free phone 11mths mobilesdirect free 08000938767 update or2stoptxt tcs height confidence aeronautic professor wer calld amp w askd 2 sit aeroplane aftr sit wer tell dat plane ws student dey hurried d plane bt 1 do not saidif student like weird timing night g want come smoke day shitstorm attribute come make smoke 08714712388 10am7pm cost 10p save stress person dorm account send account detail money send know lunch menu da know stuff sell ill tell 449071512431 urgent 2nd attempt contact uu win a1250 09071512433 b4 050703 tcsbcm4235wc1n3xx callcost 150ppm mobilesvary maxa7 50 book lesson msg work sth go spec membership px3748 win guarantee a1000 cash a2000 prize claim yr prize customer service representative 08714712394 10am7pm macha do not feel upseti assume mindsetbelieve evening wonderful plan uslet life begin againcall anytime oh send address sfine anytime best wondar flim ya cookie jelly world run stillmaybe feel sameso itor admiti madthen correctionor let lifeand run worldmay u r runninglet run get look scrumptious daddy want eat night long cos lar ba dao ok 1 pm lor y u ask ah say u ask fri say u ask today alright omw get to change order half8th exactly anyways far jide study visit dunno y u ask email alertfrom jeri stewartsize 2kbsubject lowcost prescripiton drvgsto listen email 123 spring come early yay lol feel bad use money steak dinner d u do not trouble convincingjust tel twice tel neglect msgs do not c read itjust do not reply leave qatar tonite search opportunityall go fastpls add ur prayer dearrakhesh talk thank look appreciate hi customer loyalty offerthe new nokia6650 mobile a10 txtauction txt word start 81151 4tctxt tc 150pmtmsg wish haha mayb ure rite u know da feeling like gd lor u faster find gal group attach liao yes glad little time thing good time ahead get room soon u _ clock til 8 shout realise 7 wahay hour bed ok free gym man like short lady gaze eye dunno jus lido time 930 promise good care princess run send pic chance ttyl u subscribe good mobile content service uk a3 10 day send stop 82324 helpline 08706091795 reason spoken year anyways great week good exam monday week gist realize 40 year thousand old lady run tattoo important customer service announcement premier do not gimme lip caveboy library realy sorryi recognise number confuse r u do not holla can not think spare room head faith make thing possiblehope make thing worklove make thing beautifulmay christmasmerry christma u appointment youcarlo isare phone vibrate act hear text romantic paris 2 night 2 flight a79 book 4 year 08704439680tscs apply grandma oh dear u ill feel shit morning think hungover night leave sit urgent ur a500 guarantee award unclaimed 09066368327 closingdate040902 claimcode m39m51 a150pmmorefrommobile2bremovedmobypobox734ls27yf jus tot u ask cos u ba gua go mt faber yest y jus go mah today go jus lor wish family merry x ma happy new year advance ur award city break win a200 summer shopping spree wk txt store 88039 skilgme tscs087147403231winawkage16 a150perwksub nt go get something meetin 4 dinner lor haha wonder tis time sorry later can not pick phone right pls send message lol know dramatic school close tomorrow apparently drive inch snow suppose get damn job hunting lol u drunkard hair d moment yeah 4 tonight wat plan idc weasel way shit twice row wil ltgt minute get space sleepingand surfing thank pick trash tell friend sure want live smoke spend hour beg come smoke hi kate lovely tonight ill phone tomorrow get sing guy give card xxx happy new year dear brother miss get number decide send text wish happiness abiola mean door opinion 1 2 jada 3 kusruthi 4 lovable 5 silent 6 spl character 7 mature 8 stylish 9 simple pls reply hmmm thought say 2 hour slave 3 late punish beerage important customer service announcement premier freephone 0800 542 0578 do not think turn like randomlly 5min opening suppose town time fix spelling get completely diff word figure think live good life perfect partner txt age join mobile community 100psm 5 free polyphonic tone 087018728737 national rate toppoly tune send week text subpoly 81618 a3 pole unsub 08718727870 gud mrng dear hav nice day hop enjoy game yesterday sorry touch pls know fondly bein thot great week abiola e good 4 ur drive tmr ywhere u dogbreath sound like jan c thataos al omg want scream weigh lose weight woohoo generally uncountable noun u dictionary piece research get hanging orange customer claim free camera phone upgrade loyalty 0207 153 9996 offer end 14thmarch tc apply optout availa petey boy whereare friendsare thekingshead come canlove nic ok msg u b4 leave house gimme ltgt minute ago chance claim ur a150 worth discount voucher today text shop 85023 savamob offer mobile t cs savamob pobox84 m263uz a300 sub 16 appt lttimegt fault u listen tell u twice free 1st week no1 nokia tone 4 ur mobile week txt nokia 8077 txting tell ur mate pobox 36504 w45wq 16 norm150ptone win guarantee a200 award a1000 cashto claim ur award free 08000407165 18 2 stop getstop 88222 php rg21 4jx k 4 dl 3d imp sure sure know smokin boooo work quit take half day leave bec ugh wanna bed warm ssnervous ltgt ring come guy costume gift future yowife hint hint congratulation ur award a500 cd gift voucher free entry 2 a100 weekly draw txt music 87066 tnc borrow ur bag ok u outbid simonwatson5120 shinco dvd plyr 2 bid visit sms acsmsreward 2 end bid notification reply end boytoy miss happen lot one babe model help youi bring match bring galileo dobby respond boo babe u enjoyin yourjob u 2 b gettin hunnyhope ure oktake care iaollspeak 2u soonlot loveme xxxx good afternoon starshine boytoy crave ache fuck sip cappuccino miss babe tease kiss road can not txt smsservice yourinclusive text credit pls goto login 3qxj9 unsubscribe stop extra charge help 08702840625comuk 220cm2 9ae 25p 4 alfie moon child need song ur mob tell ur m8s txt tone charity 8007 nokia poly charity poly z 08701417012 profit 2 charity good evening ttyl hmm bit piece lol sigh hahahause brain dear hey get mail sorry light turn green mean friend want ltgt worth thank yesterday sir wonderful hope enjoy burial mojibiola u secret admirer reveal think u r special 09065174042 opt reply reveal stop 150 msg recd cust care 07821230901 hi mate rv u hav nice hol message 3 hello coz havenaot send u 1 age start drive stay roadsrvx dear vouch holder claim week offer pc tsc apply stop text txt stop 80062 thank skyp wit kz sura do not pleasure company hope good give ultimatum oh countin aburo enjoy message send day ago surely result offer good morning dear great amp successful day want 750 anytime network min 150 text new video phone pound week 08002888812 reply delivery tomorrow sir late pay rent past month pay ltgt charge feel inconsiderate nag great cost do not speak recession will not able pay charge month askin ahead month end help thank try contact offer new video phone 750 anytime network min half price rental camcorder 08000930705 reply delivery -PRON- would chance 2 claim ur a150 worth discount voucherstext yes 85023 nowsavamobmember offer mobile t cs 08717898035 a300 sub 16 remove txt x stop luv u soo u donaot understand special u r 2 ring u 2morrow luv u xxx pls send comprehensive mail pay prashanthettan mother pass away night pray family urgent 09066350750 landline complimentary 4 ibiza holiday 10000 cash await collection sae tcs po box 434 sk3 8wp 150 ppm 18 kkwhen go shit suite xavier decide ltgt second warn samantha come play jay guitar impress shit think doug realize live anymore stomach trauma swear eat better lose weight officewhat mattermsg nowi break yeah barely room x fucking shoe sorry man later today offer claim ur a150 worth discount voucher text yes 85023 savamob member offer mobile t cs 08717898035 a300 sub 16 unsub reply x u reach orchard u wan 2 buy ticket real baby want bring inner tigress da run activate version da ah poor babyhope urfeel bettersn luv probthat overdose work hey careful spk 2 u sn lot lovejen xxx stop story tell return say order talk sexy new friend fall love world discreet text date service text vip 83110 meet go babe hai ana tomarrow come morning ltdecimalgt ill sathy will rto office reply come home spoon okay somebody name tampa work go min brother genius sorry guess hold connection maybe hour text u find time bus coz need sort stuff dude -PRON- have see lotta corvette lately congratulation ur award yrs supply cds virgin record mystery gift guarantee 09061104283 tsc a150pm approx 3mins consider wall bunkers shit important play peaceful guess place high matter private 2003 account statement 07808 xxxxxx show 800 unredeemed s m point 08719899217 identifi code 41685 expire 071104 hello need posh bird chap user trial prod champney need address dob asap ta r u want xmas 100 free text message new video phone half price line rental free 0800 0721072 find officially philosophical hole u wanna home ready save go goodno problembut need little experience understand american customer voice text drop x ugh long day exhaust want cuddle nap talk atleast day miss good friend world shakespeare shesil ltgt shop till u drop 10k 5k a500 cash a100 travel vouch 09064011000 ntt po box cr01327bt fixedline cost 150ppm mobile vary castor need sunshine quiz wkly q win sony dvd player u know country liverpool play mid week txt ansr 82277 a150 sptyrone u secret admirer look 2 contact ufind rreveal think ur specialcall 09058094565 u secret admirer look 2 contact ufind rreveal think ur specialcall 09065171142stopsms08 reminder download content pay goto mymoby tv collect content know give break time woul lead want miss curfew go to gibe til midnight movie go to til 2 need come home need getsleep need b studdy ear training love massage use lot baby oil fave position dude sup yoyyooo u know change permission drive mac usb flash drive gibb unsoldmike hussey like talk pa able do not know y y dun cut short leh u dun like ah fail sad unbelievable faglord wifehow know time murder exactly ask princess great princess thinking nutter cutter ctter cttergg cttargg ctargg ctagg ie ok noe ure busy bored msg u oso dunno wat colour choose 4 g class early tomorrow try smoke ltgt superb think grateful u do not u want mean u opportunity happy tomorrow u today hope have good week checking hope agent drop book thing year boston nyc experiment thursday night yeah sure thing work free ringtone wait collect simply text password mix 85069 verify usher britney fml probably money worry thing come outstanding invoice work month ago possible teach wonder phone battery go dead tell love babe lovely smell bus tobacco get worried derek taylor assume bad hey charl sorry late reply last stereophonic marley dizzee racal libertine stroke win nookii game flirt click themob wap bookmark text wap 82468 ill plus say grinule greet speak white fudge oreo store january male sale hot gay chat cheap 08709222922 national rate 15pmin cheap 78pmin peak stop text 08712460324 10pmin love come take long leave zaher get word ym happy sad leave miss sorry hurt feel nauseous pissed eat sweet week because today planning pig dieting week hungry ok lor early have project meeting da waiting ask carlo anybody chip actually send reminder today wonderful weekend people msgs think iam addicted msg wrong bcoz do not know iam addict sweet friend bslvyl hey give photo register drive ah tmr wanna meet yck do not talk ok word u wana ma way school pls send ashley number shall fine avalarr hollalater go attend round todaybut didt reach home actually delete old websitenow m blogg magicalsongsblogspotcom k wait chikkuil send aftr ltgt min diet eat 1 slice pizza yesterday ugh diet ki kvb acc detail oh come ah money r lucky winner 2 claim prize text money 2 88600 a1million away ppt150x3normal text rate box403 w1t1jy sorry b able 2 fridayhope u find alternativehope yr term go ok congratulation ore mo owo wa enjoy wish happy moment fro samus shoulder time think ne know near campus dear matthew 09063440451 landline complimentary 4lux tenerife holiday a1000 cash await collection ppm150 sae tcs box334 sk38xh dun wear jean lor fever vomitin kkare college urgent 09061749602 landline complimentary 4 tenerife holiday a10000 cash await collection sae tcs box 528 hp20 1yf 150ppm 18 good friday stuff like pig yesterday feel bleh writhe pain kind bleh sell ton coin sell coin paypal voila money life pocket -PRON- be lot place hospital medical place safe get touch folk wait company txt age opt enjoy community 150psm sorta blow couple time recently -PRON- would text blue look weed send score sopha secondary application school think think apply research cost contact joke ogunrinde school expensive one can not wait photo useful ur cashbalance currently 500 pound maximize ur cashin send 86688 150pmsg cc 08718720201 po box 11414 tcrw1 hey book kb sit lesson go ah sit night free need meet confirm lodge chk ur belovd ms dict time want come awesome lemme know shb b ok lor thanx beautiful truth gravity read carefully heart feel light feel heavy leaf good night remember dobbys bowl car filthy story girl wait sorry c ur msg yar lor poor thing 4 night tmr ull brand new room 2 sleep love decision feeling decide love life simpler magical welp apparently retire sort code acc bank natw reply confirm send right person  u sure u sick time urgent try contact u today draw show win a800 prize guarantee 09050001808 land line claim m95 valid12hrs watch cartoon listen music amp eve temple amp church u yo chad gymnastic class wanna site say christian class buzy good catch let ask sell ltgt sure night menu know noon menu u want come backa beautiful necklace token heart youthat wife likingbe seeno thatdont mei wait till come willing aptitude class will not b 215 try 2 sort house ok yar lor wan 2 c horse race today mah eat early lor eat chicken rice u haha awesome omw yup thk e shop close lor account number eh u send wrongly lar hey ad crap nite borin ya 2 boggy u bore biatch thanx u wait til nxt time il ave ya ok shall talk do not hesitate know second time weakness like notebook eat day change day sure hey pay salary de ltgt month need chocolate weed alcohol start search job dayshe great potential talent reckon need town eightish walk carpark congrat 2 mobile 3 g videophone r 09063458130 videochat wid mate play java game dload polyph music noline rentl look fuckin time fuck think yo guess drop carlos say mu ltgt minute office ltgt min geeee miss know think fuck wait till year love kiss yun ahthe ubi i _ wan tomorrowcall 67441233 look ireneere get bus822656166382 ubi cresubi tech park6ph 1st 5wkg daysin ugh get to drive sd la butt sore 26th july hi -PRON- be have relaxing time 7 a.m. day party good night home tomorrow 5ish i _ ii wan come come lor din c stripe skirt xma story peace xmas msg love xma miracle jesus hav bless month ahead amp wish u merry xma number change e escalator yetunde class run water ok pls lot happen feel quiet beth aunt charlie work lot helen mo i _ wait 4 bus stop aft ur lect lar dun c i _ car come n pick i _ aight thank comin nobut hear abt tat customer service representative freephone 0808 145 4742 9am11pm win guarantee a1000 cash a5000 prize yeshe greatbhaji tell kalli good cricketer sachin worldvery tough ltgt think syllabus umma sec think think panasonic bluetoothhdset free nokia free motorola free doublemin doubletxt orange contract mobileupd8 08000839402 2optout know hold cud pick bout 730pm pub poyyarikaturkolathupalayamunjalur posterode dis ltgt dear heroi leave qatar tonite apt opportunitypls touch ltemailgt kerala lol mom fit tell family crazy terrible get home babe awake dunno close oredi ii v ma fan buy pizza meat lover supreme u pick ya toldshe ask wat matter dearregret cudnt pick calldrove frm ctla cochin homeleft mobile carente style ishtamayoohappy bakrid free 1st week no1 nokia tone 4 ur mob week txt nokia 8007 txting tell ur mate pobox 36504 w45wq norm150ptone 16 shall send exe mail -PRON- would nope watch tv home go v bored don knowwait check good afternoon glorious anniversary day sweet j hope find happy content prey think send tease kiss sea coax image fond souvenier cougarpen guess somebody know secretly fancy wanna find 09065394514 landline datebox1282essexcm61xn 150pmin 18 tonight later pls pattern recently crap weekend sore throat scratch talk yes da plm ur office asleep v lol forgot eh yes bring babe good find way use foreign stamp country good lecture yup bathe liao happy new year no1 man oh mr sheffield wanna play game okay boss nanny raise zoe hit 2 -PRON- be fucking shitin il defo try hard 2 cum 2morow luv u million lekdog hello baby mom set computer filling belly go loverboy miss sigh blanket sufficient thx naughty little thought good flirt flirt n flirt love n gettin hurt hurt n hurt gud nyt edison rightly say fool ask question wise man answer know speechless viva gm talk that s de will not today go college able atten class class holla later easy ahsen get select mean good mmm that s good get roast iaod b good drink 2 good indian know know fancy 09058097218 find pobox 6 ls15hb 150p come round 1 thing change sentence want 2 concentrate educational career -PRON- be leave 1000 flirt txt girl bloke ur age eg girl zoe 18 8007 join chatting walk hour 2 c u doesnaot care y will not u believe -PRON- be 18 day euro2004 kickoff u keep inform late news result daily unsubscribe send euro stop 83222 available soiree june 3rd u noe wat time e place dat sell 4d close get job hospital datum analysis start monday sure thesis get finish jay get impatient belligerent hiya comin 2 bristol 1 st week april les get rudi new yrs eve snoringthey drunk u bak college work send ink 2 bath work u drive lor ard 515 like dat y tell female v how be throw decide eastender tv quiz flower dot compare d violet e tulip f lily txt d e f 84025 4 chance 2 win a100 cash wkent150p16 work technical support voice processnetworking field come kerala 2 daysso prepared leave finalise do not plan travel visitneed finish urgent work ok sure time tho sure library class try point good eve new local date area lot new people register area reply date start 18 replys150 fine bitch later mum go 2 dentist free sir wait meet u work tel shall work tomorrow u know ask dating service 2 contact can not guess 09058091854 reveal po box385 m6 6wu jus finish bathing alright sure car tonight urgent try contact u today draw show win a800 prize guarantee 09050003091 land line claim c52 valid12hrs dear uve invite xchat final attempt contact u txt chat 86688 lul -PRON- be gettin juicy gossip hospital nurse talk fat gettin think -PRON- s obese oyea aight ill fb couple minute oi ami parchi na kicchu kaaj korte iccha korche na phone ta tul na plz plz download clear movie dvd copy yep pretty sculpture convey regard watch surya movie 6 pm vijay movie pokkiri tell happen do not behave like ok need u pic msgs phone send wat make people dearer de happiness dat u feel u meet de pain u feel u miss dem love start attractioni feel need time meshe thing come thoughtsi start day end hershe time dreamlove breath namemy life happen hermy life name heri cry herwill happiness sorrowsi ready fight heri love crazy thing herlove proove girl beautiful lady planeti singing praise herlove start make chicken curry end maki sambarlife beautiful thenwill morning thank god day mei like lotwill tell later frndship like needle clock v r d clock v r nt able 2 meet evn v meetitz 4few second bt v alwys stay conect gud 9 t think spatula hand  award sipix digital camera 09061221061 landline delivery 28days t cs box177 m221bp 2yr warranty 150ppm 16 p pa399 goodmorn today late ltdecimalgt min win urgent mobile number award a2000 prize guarantee 09061790121 land line claim 3030 valid 12hrs 150ppm da mistake sorry da pls da goto doctor r meeting weather cali great complexity great need car freely tax outrageous great place sad miss home reach home tired come tomorro ryder unsoldnow gibb dear subscriber ur draw 4 a100 gift voucher b enter receipt correct an elvis presley birthday txt answer 80062 fret buy ovulation test strip send will not til like march send postal addressull alrightokay gift try throw cliff ne thing interesting good birthday u wrk nxt start uni today busy come point figure tomorrow yeah bored depressed sittin waitin phone ring hope wind drop scary black shirt n blue jean thk c i _ aiyah sorry lor watch tv watch forget 2 check phone message important information o2 user today lucky day 2 find log fantastic surprise awaiting hen night go swing good afternoon love go day wake early online wait hmmm italian boy online grin smoke time smoke week call text want smoke headache try figure u trust math promise o s sfirst timedhoni rock ok ill tell company awesome think 8th usf time tonight mean think teju good movie ok leave hourish nothis kallis home groundamla home town durban let saturday monday convenience hey time drive fri evaluation fri 449050000301 win a2000 price claim 09050000301 go 4 lunch wif family aft dat str 2 orchard lor bored speed date try speedchat txt speedchat 80155 like -PRON- txt swap new chatter chat80155 pobox36504w45wq 150pmsg rcd 16 cancel cheyyamoand money want 750 anytime network min 150 text new video phone pound week 08000776320 reply delivery tomorrow okok okthenwhat ur today plan good morning princess aiyar sorry lor forget 2 tell u take mobile survey yesterday 500 text 2 use wish 2 txt send txt 80160 tc 150p tonight mate catch sleep new number way height oh shit situation guy throw luv letter gal fall brother head who s gay ur hmv quiz cashbalance currently a500 maximize ur cashin send hmv1 86688 150pmsg check error difficulty correction howz painhope u r fine sorry later good morning princess enter cabin pa say happy bday boss feel special askd 4 lunch lunch invite apartment go u wake thanx 4 e tau sar piah nice k need login do not forget place free request 1stchoicecouk wish information 08707808226 lol busy u wear messagesome text miss sendername miss number miss sentdate miss miss u lot that s y miss send fullonsmscom ohas usual vijay film different know u u know send chat 86688 let find 150pmsg rcvd hgsuite3422landsroww1j6hl ldn 18 year good day busy tomorrow night way send shade stuff wonderful tot ur paper end long ago wat u copy ju get use u happy lar haf 2 study thank winner notify sm good luck future marketing reply stop 84122 customer service 08450542832 babe lose ok help ask work tmr drive rain catch e mrt station lor drop tank say text time sorry later ok change 1000 girl local 2 u r virgin 2 r ready 2 4fil ur sexual need u 4fil theirs text cute 69911a150p m u find sitter kaitlyn sick sleep day yesterday sorry man accidentally leave phone silent night check til get hey come min think wun sign tmr hee adult learn experience real danger do not like peep drug do not need comment hey veggie pizza yun buying school get offer 2000 plus sure neighbor do not pick k send free entry 2 wkly comp win fa cup final tkts 21st 2005 text fa 87121 receive entry questionstd txt ratetc apply 08452810075over18s new theory argument win d situation lose person do not argue ur friend kick amp correct -PRON- be computerless time oreo truffle haha yeah sec have number sir lol hot air balloon ok bus come soon come tomorrow msgs r time passthey silently think u right making u think 4 moment gd ntswt drm shesil yeah probably swing roommate finish girl get take 2 wrc rally oz u lucozade energy text rally le 61200 25p pack itcould u happy new year melody ii dun need pick ur gf yay better tell 5 girl horrible u eat mac eat u forget abt rite u long 2 reply thk toot b4 b prepared wat shall eat fantastic chance need big life lift lose 2 live think person 2 die n v q nw come hme da outside island head hard rock run day class class chennai velachery flippin shit k sec break ltgt cstore bad avoid like yo get car annoying goodmorn today late ltgt min point hangin mr right makin u happy come alivebetter correct good looking figure case guess campus lodge  come home time will not trust night worry appt shame miss girl night quiz popcorn hair sex ur mobile free sexy pic jordan text babe 88600 wk sexy celeb pocketbabecouk 4 pic 16 a3wk 087016248 ok c ya 1 new voicemail 08719181503 say matter mind say matter know lunch menu da know al moan n e thin go wrong faultal de argument r faultf himso y bother hav 2go thanxxx neft transaction reference number ltgt rs ltdecimalgt credit beneficiary account ltgt lttimegt ltgt time job natuition know call da feel yesterday night wait til 2day night dear thank understand try tell sura win year supply cds 4 store ur choice worth a500 enter a100 weekly draw txt music 87066 tsc car appreciate dad have map reading semi argument apart thing go ok p sim subscriber select receive bonus deliver door txt word ok 88600 claim 150pmsg exp 30apr need strong arm maaaan miss bday real april guessin go to 9 ok come ur home half hour yo game want walmart soon yeah probably sure ilol let u know personally wuldnt bother ur go mite text creepy like think forget good u _ phone tomo lunchtime shall organise 1 new voicemail 08719181513 damn tonight want wait til tomorrow kki finewhen complete course true passable high score apply phd 5years salary make life easy 1 nokia tone 4 ur mob week txt nok 87021 1st tone free txtin tell ur friend 150ptone 16 reply hl 4info prakesh know teach app da come college rofl betta invest anti age product winner u specially select 2 receive a1000 cash 4 holiday flight inc speak live operator 2 claim 0871277810810 sir receive account 1hr time sorry delay reply address receive post week completely free accommodation global location ph08700435505150p i_ll submit da project tmr rite free entry a250 weekly comp send word enter 84128 18 tc cust care 08712405020 ju an lar ull noe later want send sell fast ltgt k easy money get thing pub later 1s finish meeting lol ok snatch purse hellodrivby0quit edrunk sorry iff pthis make senrddnot dancce 2 drum n basqihave fun 2nhite x ros xxxxxxx opinion 1 2 jada 3 kusruthi 4 lovable 5 silent 6 spl character 7 mature 8 stylish 9 simple pls reply get ur paper e morn aft tmr dear relieved westonzoyland go plan end hope have great new semester wish good greatness oh yes speak txt 2 u hmm u email want world princess europe decide eat dad want chinese shoot doc wait room go 4 dinner soon hello site download song urgent pls know u mean king have credit goin2b night night sweet only1more sleep horrible gal sch stuff come u get mc hi hun -PRON- be comin 2nitetell every1 -PRON- be sorry 4 hope u ava goodtimeoli ring melnite ifink mite b sortedbut il explain everythin monl8rsx later network urgnt sm ummmmmaah happy return d day dear sweet heart happy birthday dear 08712402779 immediately urgent message wait yeah like go like friend imma flip shit like half hour mum wan shun bian watch da glass exhibition plan pongal wait till end march el nino get oh chikkugo room nw bus cbe pay honey boo miss u send jd customer service cum account executive ur mail -PRON- would detail contact yo parent gettin cash good news pick downstem thank skyp wit kz sura do not pleasure company hope good give ultimatum oh countin aburo enjoy hungry gay guy feel hungry 4 08718730555 10pmin stop text 08712460324 10pmin ok wahala remember friend need half hour -PRON- be inperialmusic listening2the weird track byaoleafcutter johnaosound like insect molestedsomeone plumbingremix evil man acid hey sorry didntgive ya bellearlier hunny seriously tell exact word right u 2 phone wanna chat 2 set meet 09096102316 u cum 2moro luv jane xx callsa1minmoremobsemspobox45po139wa tee hee lecture cheery bye bye sorry chikku cell get problem tht y nt able reply u msg u have not collect dough pls let know place send control number ok network operator service free t cs visit 80488biz let know contact settle room let know ok wot u 2 u weirdo lor do not phone silent mode ok meet i _ 5 4 depend i _ wan 2 lor wait 4 tv 2 start lor u leh busy ur report oh ho time u use type word stalk profile green quote tell jerry cartoon person irritate u love u vry fail express gud nyt yes think thank -PRON- s drinkin ok wonder take night end day morning come special way smile like sunny ray leave worry blue blue bay gud mrng dog wait till end day word run time cell happy new year u heygreat dealfarm tour 9 a.m. 5 p.m. 95pax 50 deposit 16 eat jap oso aft ur lect wat ii get lect 12 rite hey babe saw come online second disappear happen da birthdate certificate april real date today do not publish shall special treat secret way thank wish happy birthday ur dream come true aiyah u ok lar e nydc wheellock tell say eat shit sure driving reach destination soon k 8th daily text uo favour time great hear settle happenin wit ola cocksucker make feel good ipad worthless garbage novelty item feel bad want tot u reach liao say tshirt fran decide 2 n e way -PRON- be completely broke knacker get bout 3 c u 2mrw love janx ps dad fone credit can not pick phone right pls send message right appointment right designation software developer chennai enjoy jamster videosound gold club credit 2 new videosounds2 logosmusicnew fun jamstercouk 16only help 09701213186 3 lion england tone reply lionm 4 mono lionp 4 poly 4 2 original n good tone 3gbp network operator rate apply jokin oni lar ii busy wun disturb i _ ok careful text drive ill spirit ill bb soon try sure need u r close heart u away shattered plz stay love u 2 babe r u sure alrite idiot txt bak girlie abt make pic big get get 2 colour lor colour light n e dark lor actually style hair whenevr ur sad whenevr ur gray remembr -PRON- be 2 listn 2 watevr u wanna jus walk wid little whileamp promise bring ur smile ok treat win new uiharry potter order phoenix book 5 reply harry answer 5 question chance reader ok correct work today send scream moan bed princess wake long ago dunno thing oh get u u thk 50 shd ok say plus minus 10 i _ leave line paragraph plz number show coveragd area urgnt vasai amp reach 4o clock plz yeah jay sort fucking retard sorry bathroom sup ur balance a500 ur question sing uptown girl 80 2 answer txt ur answer 83600 good luck exam february 4 wish great day do not know come ask question like do not mistake aight rush ask jay good morning plz sir ok lar u sleep early nite oh icic k lor den meet day oh half hour long syria canada eh wow work day extra time grin wall heartsnot safe get hurt find care break wall amp close goodnoon sweet 4u meet carlo gauge patty interest buy today ii need c meh aight sorry year shower plan mondaynxt week vl completing ax -PRON- be chill 6hrs sleep pain surgical emergency unfold okay yeah try scrounge crazy ar marry ii like gd look guy fren like korean leona fave dun thk aft thinking mayb prob fredericksburg que pas un buen tiempo like ok stay night xavi sleep bag get tired do not need test chillin home super bowl plan free2day sexy st george day pic jordantxt pic 89080 do not miss wk saucy celeb4 pic c pocketbabecouk 0870241182716 a3wk bugis oso near wat yo there s class tmrw right let ur heart ur compass ur mind ur map ur soul ur guide u loose worldgnun send way2smscom goodnight sleep da care pa baaaaabe misss youuuuu teach class 5 convey regard u ned convince tht possible witot hurt feel main good afternoon loverboy go day luck come way think sweetie send love sea smile happy start send blackberry torch nigeria find buyer melike 4a month tell dad buy bb oh ltgt pple marry lover becz hav gud undrstndng dat avoid problem send dis 2 u u wil gud news friday d person like tomorrow good day life do not break chain break suffer send ltgt frnd ltgt min whn u read yo dude guess get arrest day shuhui change 2 suntec steamboat u noe r u dance river yetunde sorry moji busy able shopping find way want forgive reply free yahoo messenger hey pretty late want lesson join reach tp mrt hot live fantasy 08707509020 20p min ntt ltd po box 1327 croydon cr9 5wb 0870k bbq sit 6ish ur welcome 2 come know thing wrong everyso panick start go bout bein good u _ alright outhave good night try make butt hope feel great pls fill abiola shd n fun bar town uo sound ok 1 write msg 2 dictionary mode 3cover screen hand 4press ltgt 5gently remove ur hand interesting bear pic nick tom pete dick fact type try gay chat photo upload 08718730666 10pmin 2 stop text 08712460324 500 new mobile 2004 txt nokia 89545 collect todayfrom a1 2optout 08718726270150gbpmtmsg18 txtauction finally ready fyi auntie huai juan pick phone double min double txt 12 price linerental late orange bluetooth mobile mobileupd8 late offer 08000839402 call2optoutlf56 ya tel wat ur problem 1 nokia tone 4 ur mob week txt nok 87021 1st tone free txtin tell ur friend 150ptone 16 reply hl 4info dnt wnt tlk wid u spend day wait ideal path appear forget path walk wait goodnight ok arm feeling weak cuz get shoot time reserve ticket saturday eve chennai thirunelvali tirunelvali chennai sunday evei netno ticket availablei want book ticket tackle storm msg wen u lift d phne u hello u knw wt d real meaning hello d girl yes u knw dat girl margaret hello d girlfrnd f grahmbell invnt telphone moralone 4get d person ok pop ask bout say tonght wen girl come e good 4 ur exam later hope ur head hurt 2 plough way pile iron stay chinky tonight come round like oh ki think wi nz player unsold haha get fast lose weight thk muz 4 month den get effect geelater aust bk e weight wonder get online love go net cafe phone recharge friend net think boytoy haha kid papa need drug thk shld b ya wana 4 lesson haha stretch oh ok r meet 4 dinner tonight that s cool gentleman treat dignity respect shall start hear wait 4 u lor need 2 feel bad lar check get detailed message register sinco payee log icicibankcom enter urn ltgt confirm beware fraud share disclose urn decide people care stuff vote care stuff loser kaiez enjoy ur tuition gee thk e second option sound beta yan jiu den msg u register sinco payee log icicibankcom enter urn ltgt confirm beware fraud share disclose urn cool fun practice make baby actually get ready leave house kkany special today urgent important information o2 user today lucky day 2 find log fantastic surprise awaiting get to get buck jay noncomittal hungry pls speak customer machan beneath pale moon light think u dream come true goodnite amp sweet dream wen ur lovable bcum angry wid u dnt seriously coz angry d childish n true way show deep affection care n luv kettoda manda nice day da dear uve invite xchat final attempt contact u txt chat 86688 150pmsgrcvdhgsuite3422landsroww1j6hl ldn 18 yr wat ur opinion abt abt character jay snickering tell x totally fucking chord speak nofew hour beforewent hair cut wonder cos dun rem see silver car thk see black lmao pic send speak feel word better silence gud mrng currently scotland work week congratulation ur award a500 cd gift voucher free entry 2 a100 weekly draw txt music 87066 tnc 1 win150ppmx3age16 lol great -PRON- be get hungry yes see message mu like ltgt second ok thing r good thanx get exam march -PRON- have revision fran boyf -PRON- have get to interviw 4 exeter bit worriedx tell little spreadsheet track idea smoke determine smoke entire month february sale arsenal dartboard good condition double treble look build coat want sick hurry home wear coat gym painful personal thought try everybody happy time recognise thank ve lovely wished rock intrepid duo great time soon ask sen come chennai search job dad go oredi ju hope true missin cos missin feel guilty wat late early mah juz 4 dinner lor aiya dunno arm fine cardiff uni fact leave think addie go school tue -PRON- would cool breeze bright sun fresh flower twittering bird wait wish u goodmorn amp nice day yago restaurant ok askd u knw tht free 1st week entry 2 textpod 4 chance 2 win 40 gb ipod a250 cash wk txt pod 84128 tsc custcare 08712405020 duck chinchilla marriage function look like u wil b get headstart -PRON- be leave bout 230ish u r desperate company head earlierwe go meet rummer donut fly monkey wot think certainly donut mind friend register optin subscriber ur draw 4 a100 gift voucher enter receipt correct an 80062 what s no1 bbc chart thanks2 msg rajini come ya i _ take ure practical lesson start june good need drug stupidit possible i _ decide faster cos sis go home liao summer finally fancy chat flirt sexy single yr area match reply summer free 2 join optout txt stop help08714742804 u sleep go haha get spys wat online checking n reply mail lor claire have borin time u wanna cum 2nite chat 09099725823 hope 2 c u luv claire xx callsa1minmoremobsemspobox45po139wa fight world easy u win lose bt fightng some1 close u dificult u lose u lose u win u lose buy ringtone get text cost 3 pound offering tone etc yalru lyfu astne chikku bt innu mundhe lyf ali halla ke bilo marriageprogram edhae lyf nt ovr chikkuali vargu lyfu meow meowd kinda get aah speak tomo 09066362231 urgent mobile 07xxxxxxxxx win a2000 bonus caller prize 020603 2nd attempt reach 09066362231 asap ok good later come find i _ c lucky tell i _ earlier later pple finish i _ wat make u thk fall actually thk prone 2 fall lucky dad home ask come n fetch 07801543489 guarantee latest nokia phone 40 gb ipod mp3 player a500 prize txt wordcollect no83355 tcllc nyusa 150pmt msgrcvd18 account refill successfully inr ltdecimalgt keralacircle prepay account balance rs ltdecimalgt transaction -PRON- would kr ltgt will not touch permission hi lucy hubby meetin day fri b hotel u fancy cumin pls leave msg 2day 09099726395 lucy x callsa1minmobsmorelkpobox177hp51fl 7 wonder world 7th 6th ur style 5th ur smile 4th ur personality 3rd ur nature 2nd ur sm 1st ur lovely friendship good morning dear small dose tablet fever oh u take real valentine shopping send email uo address incomm right go to blake night able little early friendship game play word do not start march end tomorrow yesterday today e nice waitshould text right go to pay ticket ya know watch lotr w sis dis aft u wan 2 meet 4 dinner nite keep away like think far find check google map place dorm trip ok tiring lor uni start today ok 4 cos take module ju concentrate final yr project say welp guy browsin compulsory ok purity friendship smile reading forward messageit smile see gud evng musthu sorry later add care dude fuck hey money want hello lover go new job happy think wake slave send tease kiss sea tell number gautham tell need investigate ok juz receive can not believe say thing morning want good morning love beautiful morning library later account credit 500 free text message activate txt word credit 80488 tcs end vomit okay come moneyas youmoney be not thinghow sha weather extra warm cold pls lot vitamin c hey gal u go e drive centre tmr yahoo messenger send message ill send mobile mode sha ill reply put ready lttimegt time n smile r crucial thing life time make forget smile someone smile make forget time gud noon sm ac jsco energy high u know 2channel 2day ur leadership skill r strong psychic reply an wquestion end reply end jsco hostbased idps linux system hot live fantasy 08707509020 20p min ntt ltd po box 1327 croydon cr9 5wb 0870 national rate don dawhat plan ill ltgt ok oh god home total video converter free download type google search thank vote sing star karaoke mobile free link reply sing wen ur lovable bcum angry wid u dnt seriously coz angry d childish n true way show deep affection care n luv kettoda manda nice day da sound like testing sayy u love do not love u u love do not want love gud nit peteis phone jenny college leannewhat oops sorry check mind pick tomo half station ok hey sweet wonder moment come want send file yahoo connection suck remember set page download format disc tell know way download big file download stuff directly internet help great prey tease kiss how s champ leave glasgow kall bestcongrat wonder text need come home good love brand new mobile music service live free music player arrive shortly install phone browse content artist shall ask thing do not mistake check wid corect speling ie sarcasm urgent mobile award a2000 bonus caller prize 10803 2nd attempt contact 08714719523 box95qu bt national rate angry happen dear thk u dun haf 2 hint e forum lor cos tell ron n darren go 2 tell shuhui yup ok thanx hict employee pls pls find aunt nike wow love sooo know barely stand wonder day go love think miss scream mean shout hey happen de alright pick receipt earlier think chennai settle oh dang mean o send lol unfortunately find pick sister airport evening think go try th horrible bf v hungry remember day win nokia 7250i win free auction send nokia 86021 hgsuite3422land roww1jhl 16 feel mr real valentine yo valentine tho u hardly play sound good finger make difficult type midnight early sure try xavi smoke want smoke tell smoke k come nordstrom u konw waht rael friendship -PRON- be gv yuo exmpel jsut ese tih msg evrey splle tih msg wrnog bt sitll yuo ra wihtuot ayn mitsake goodnight amp nice sleepsweet dream press conference da hello orange 1 month free access game news sport plus 10 free text 20 photo message reply yes term apply complete degree use join finance good afternoon love job prospect miss lazy bleak hmmm happy fill love shall not disturb u anymore jia bishan lar near need buy early cos buy get to park car do not know oh dude sux snake get old raiden get buff say hi ass south tampa preferably kegger e msg ju u say thank gift u ok dear chechi yeah tot u wanna ok find dis pierre cardin look normal cost 20 sale good sleep rhythm person establish rhythm body learn use want know wat r u message truro hospital ext phone phone single line big meaning miss 4 ur good life get gas money chance gang want grand nature adventure dnt worryuse ice piece cloth packalso 2 tablet dude see park car sunroof pop sux ready excellent sub face tmrw -PRON- be finish 9 door ltgt g saw day ago guy want sell wifi ltgt 3 g ltgt blank late -PRON- be pretty pissed today accept dayu accept brother sister lover dear1 best1 clos1 lvblefrnd jstfrnd cutefrnd lifpartnr belovd swtheart bstfrnd rply mean enemy do not image class noi get rumour go buy apartment chennai near kalainar tv officethenampet ur cashbalance currently 500 pound maximize ur cashin send 86688 150pmsg cc 08718720201 hgsuite3422land roww1j6hl sm auction brand new nokia 7250 4 auction today auction free 2 join txt nokia 86021 hgsuite3422land roww1j6hl sis catch e e afternoon watch w c u wan 2 watch today tmr lor sound gd haha wah u yan jiu fast liao nosy guess idk react freak remember hurt day satanic imposter mene pay priceso itmay destiny go u say pray mind girl happy difficult girl happy u need 1 friend 2 companion 3 lover 4 chef ltgt good listener ltgt organizer ltgt good boyfriend ltgt clean ltgt sympathetic ltgt athletic ltgt warm ltgt courageous ltgt determine ltgt true ltgt dependable ltgt intelligent ltgt psychologist ltgt pest exterminator ltgt psychiatrist ltgt healer ltgt stylist ltgt driver aaniye pudunga venaam princess bet brotha chasing shall book chez jule half ok hhahhaahahah rofl wtf nig leonardo room yep derek house sunday lt3 cool let know kick ltgt day sorry later wonder okay uncle john let know thing nigeria r ltgt dollar 2years send know strain plan pay dime give dime expect practical like charge transfer charge withdraw like do not search love let love find u that s call fall love bcoz u do not force u fall u know smeone hold u bslvyl 4 let bill miller love set soul fire spark flame big rawr flame xoxo somewhr surely 4 u god decide perfect time u meet dat person till den enjoy ur crush honeymoon outfit help propose go tomorrow private 2003 account statement show 800 unredeemed s m point 08719899230 identifier code 41685 expire 071104 blame day ur life good day u happiness bad day u experience essential life god blessing good morning pls confirm time collect cheque register subscriber yr draw 4 a100 gift voucher b enter receipt correct an olympic txt an 80062 urgent mobile number award a2000 prize guarantee 09061790121 land line claim 3030 valid 12hrs 150ppm daddy good care yeah probably get to check leo kthen special carlo take sweet time usual let know patty donewant smoke tell haul as ok pa problem hear job go wildlife talk tonight u want2come that2worzel wizzle god pick flower dippeditinadew lovingly touch itwhichturnedinto u gifted tomeandsaidthis friend 4u come hostel ok prob come lunch jus tell u dat b leave 4 shanghai 21st instead haf time 2 meet cya freeze home remember kiss mom morning love think miss ready big day tomorrow probably mu lot 645 rtk pro video club need help inforingtonekingcouk 08701237397 16 club credit redeemable enjoy thnx dude u guy 2nite sef dey laugh darling anjie mm food da k make sense btw carlo difficult guy go to smoke pick second batch gas u download fr app 2 oz guy kinda flaky friend interested pick ltgt worth tonight possible friend u stay fb chat fuck babe miss sooooo wish sleep bed lonely sleep dream love live simple loving simple laugh simple win tooo simple simple difficult gud nte u secret admirer look 2 contact ufind rreveal think ur specialcall 09058094599 ah confuse thing doesnut 500 free text msgs text ok 80488 credit account hi dear urgnt know what s problem want work problem tell wat reply dear ok select stay 1 250 british hotel holiday worth a350 claim london 02072069400 bx 526 sw73ss yes princess want happy sound like talent like dinner date week go film 2day da 6 p.m. sorry da watch movie xy want 2 shop shopping w hello little party animal think buzz friend grin remind love send naughty adore kiss yesterday go home eerie nokia tone 4u rply tone title 8007 eg tone dracula 8007 title ghost addamsfa munster exorcist twilight pobox36504w45wq 150p come life bring sun shiny warm heart put constant smile face make feel love care shit surprised go spend evening french guy meet town fool bit let fuck 0anetwork allow company bill sm responsible supplier great comedycant stop laugh da freemsgfeelin kinda lnly hope u like 2 company jst get cam moby wanna c pictxt reply date 82242 msg150p 2rcv hlp 08712317606 stop 82242 alright set text man hi keen kind feel tomo mind sleep nt feeling u switch fone dammit india lead ill post l8r class tht wat wright brother fly evening v good somewhat event laden fill worry u _ head ok throat wreck u laugh loud u talk spontaneously u do not care feel u probably dear amp good friend goodeven dear laptop do not file bagi work call mei will tell find room wan early lei outside wun b home early neva mind ur chance win a250 cash wk txt action 80608 tsc custcare 08712405022 1x150pwk bugis juz wat walk home oredi ii late reply oso see dat like din buy r i _ wish family merry x ma happy new year advance 7 ok na yes post couple pic fb snow outside waking sif good partnership go lead rgent 2nd attempt contact uu win a1250 09071512433 b4 050703 tcsbcm4235wc1n3xx callcost 150ppm mobilesvary maxa7 50 yeah class send bec temple na come home class right need work shower hi ur lookin 4 saucy daytime fun wiv busty married woman free week chat 2 sort time 09099726429 janinexx callsa1minmobsmorelkpobox177hp51fl s like ii v ma fan dunno cos v late n reach inside ate spageddie lor e gal r laugh lor guess spend night phase fourth dimension dad go to get work ask crazy question yesbut say hurt n meaningful line compromise love lmaonice 1 glad reply urgent try contact u today draw show win a800 prize guarantee 09050001295 land line claim a21 valid 12hrs monthly password wap mobsicom 391784 use wap phone pc nah dub je buff painful word think happy tough thing earth yeah fine a6 ok lol u come idea people special sight remain special till sight maintain till life end shjas today song dedicate day song u dedicate send ur valuable frnd rply okay wait ah y lei hi babe u r likely bed -PRON- be sorry tonight wanna u tomorrow 9 love xxx squat new way walk want bold 2 bb torch cramp stop go sleep today vodafone number end 0089my digit select receive a350 award number match 09063442151 claim a350 award free ringtone sub weekly ringtoneget 1st week freesend subpoly 816183 weekstop sms08718727870 nan sonathaya soladha boss bring tat cd don forget sunshine quiz wkly q win sony dvd player u know country algarve txt ansr 82277 a150 sptyrone know rap dude poker weightloss girl friend load money ebay thank god gr8 message r u leave congrat dear school wat r ur plan ii eatin later eatin wif fren lei ii go home finish yar say mushy embarrassed ok sorry man stash run dry night pick sunday hai priya right doctor say pa free msg sorry service order 81303 deliver sufficient credit receive service ok ask mummy father come room come house cos house messy haha lose 10 kilo today taste fish curry p accidant tookplace ghodbandar rd traffic move slovely plz slip amp worry yun ahnow i _ wkg wherebtw i _ nus sc ii wana specialise wad yes woman man tell like dislikes bed test earlier appreciate tomorrow loverboy keep come queen hmmm ache speak miss desparately u meet fren dun wan meet ah muz b guy rite promise get dinner get dislikes bed o turn stereo love mi phone unknown album hard live 121 chat 60pmin choose girl connect live 09094646899 cheap chat uks big live service vu bcm1896wc1n3xx yeah ask u knw nt ur frnd classmate sorry earlier put firesare talk 9 actually life lol wow boy r 2007 uk tour win vip ticket prebook vip club txt club 81303 trackmarque ltd infovipclub4u missionary hook doggy hook standing u good sleep dun disturb u liao u wake msg lor fight world easy u win lose bt fightng some1 close u dificult u lose u lose u win u lose watch house uo entertain uo get hugh laurie thing uo stick uo especially stick think prap mean goodo look tomorrow hi jon pete -PRON- have bin 2 spain recently hav sum dinero leave bill say u ur aorent mayb interested hav 12000pes a48 tb jame bold 2 ltgt know shall speak ltgt minute alrite hunnywot u 2 2nite do not end go town jus da pub instead jus chillin da mo bedroomlove jen xxx go project centre request maangalyam alaipayuthe set callertune caller press 9 copy friend callertune lol yeah point guess project w fren lor lol quality be not bad be not complain k happen tonight hi mandy sullivan call hotmix fmyou choose receive a500000 easter prize drawplease telephone 09041940223 claim 290305 prize transfer think go finn come tired special come tomorrow di can not pick phone right pls send message k sleep rest u guy invite ur go 2 bahama callfreefone 08081560665 speak live operator claim bahama cruise ofa2000 cash 18only opt txt x 07786200117 want inside outside bedroom ey calm downon theacusation itxt u cos iwana know wotu r do thewend haventcn u agesr ur up4 neth satlove j xxx love wine dine lady conacted dating service enter phone fancy youto find landline 09111030116 pobox12n146tf15 iaom cool ta luv vtir 2 because do load planning wk get social service inspection nursery care spk sn x don know account detailsi ask mom send youmy mom reach think u wrong number feel happy slowly habit amp finally life follow happy morning amp happy day b late love mum get itmail panren paru think chuckin ur red green n black trainner 2 save carryin bac train miss number ju come fr lunch wif sis u leh schedule week town weekend gooddhanush rock lmao ok will not need u hair anymore miss ya need ya want ya love ya sorry free u song stuck head reason away til u listen like 5 time nt chikkusimple habbahw abt u get ur mail dileepthank muchand look forward lot supportvery contact hereremember venugopal mentionedtomorrow latei shall try come till theregoodnight dear heart remembrs forget soon bcoz heart like like one remember everytime bslvyl joy father john john joy father mandan hi 07734396839 ibh customer loyalty offer new nokia6600 mobile a10 txtauctiontxt wordstart no81151 now4 t hi yijue 3230 textbook intro algorithm second edition selling 50 sm auction win nokia 7250i win free auction send nokia 86021 hgsuite3422land roww1jhl 16 k want come little difficult simple way enter place ha e thing get tv 2 watch u thk 2 tonight u haf smth mind do not far new picture facebook watch tv get new job good afternoon sexy bun go job search wake think love wish fine happy know adore come want ok chikku 1 favourite song u post facebook freephone 0800 542 0578 buy space invader 4 chance 2 win orig arcade game console press 0 game arcade std wap charge 4 term setting purchase 7 wonder world 7th 6th ur style 5th ur smile 4th ur personality 3rd ur nature 2nd ur sm 1st ur lovely friendship good morning dear loan purpose a500 a75000 homeowner tenant welcome previously refuse help free 0800 1956669 text help big brother alert computer select u 10k cash 150 vouch 09064018838 ntt po box cro1327 18 bt landline cost 150ppm mobile vary oh c u later uncle atlanta wish guy great semester dear free message recharge hi hi hi do not search love let love find u that s call fall love bcoz u do not force u fall u know smeone hold u bslvyl dun believe u thk u tell know god create gap finger come amp fill gap hold hand love yessura sun tvlol arun u transfr d amt takin shower yeah leave work eye philosophy text u later bit free chat u havenaot lose ill b 4ui didnaot intend 2 hurt u know u feel iwasmarinethataos itried2tell urmomi careabout u win winner mr t foley win ipod exciting prize soon eye ur mobile visit bad girl remember give morning hope alright babe worry feel bit desparate learn job fake wait come love hey tell blake address carlo want meet get lose answering phone opinion week leave know time hit excellent spend ltgt year air force iraq afghanistan stable honest like travel wanna watch movie ok lor thanx ii school class text bus leave ltgt god blessget good sleep deari pray today voda number end 1225 select receive a50award match 08712300220 quote claim code 3100 standard rate app nice day today love dearly aiyo bit pai seh i _ noe scar dun rem die hee good lookin oredi leh aight ask roommate what s house beer i _ wan 2 meet n combine part da rest da project go get ticket 4 walsall tue 6 th march mate get sit ill pay treat want 2 txt bak terry yes chat hi jess do not know work u -PRON- be home eve xxx sian aft meeting supervisor get work 2 liao u work go write ccna exam week watch shrek 3db dirty fellow dunno dat wat tell ok lor probably tomorrow later tonight something go die man feel sad want know probably go late night think lifting u dun wan y u dun like ah wat u eating send ur email -PRON- would soon wat make people dearer de happiness dat u feel u meet de pain u feel u miss dem dude teresa hope okay do not hear people call receive package dec ltgt thot yould like know fantastic year good reading plus bam aid usmle work hey gorgeous man work mobile number good babe squishy mwah later pls hot pic straight phone get wet wanting xx text pic 89555 txt cost 150p textoperator g696ga 18 xxx way stay oh hello thanx take get job start monday time ur flight tmr come prominent bite mark right cheek september wet right husband hack chat backdoor entry 121 chat room fraction cost reply neo69 09050280520 subscribe 25p pm dps bcm box 8027 ldn wc1n3xx norm tomorrow finish 415 cos st test need sort library stuff point tomo get letter today access til end march better yeah get list u joanna feeling anti social office na comingdown later super dagood replacement murali da good good playerwhy unsold hi u want join st later meet u class engalnd telly decide let watch mia elliot kiss damn free nokia motorola upto 12mth 12price linerental 500 free xnet mins100txtmth free btooth mobileupd8 08001950382 2optoutd3wv do not want hear philosophy happen get job wiproyou thing life 2 3 year can not da laptop matric card wif i _ lei dunno da aft 6 850 toa payoh get 650 2nd time try 2 contact u u win 750 pound prize 2 claim easy 08718726970 10p min btnationalrate payment do not sorry want fedex way didt play day year know good team like india kyou girl wait reception ah slowly godi love amp need youclean heart bloodsend special people amp u c miracle tomorrow itplspl hate turn fun shopping trip annoying day look house sir wait want come online work reach consensus meeting aiyah wait lor u entertain hee thing want hurt think laugh embarass delete tag go far know fact feel like hurt show know messy wednesday bad problem time clean choose skype picture sleep want mind thing bed throw laundry friend house embarass underwear bra strew bed pillow floor good make bed let know kick ok say number available appointment ask connect wahe fathima i _ buy wif meet i _ later mmmm fuck fair know weakness grin push knee expose belly pull head forget know wicked smile today system sh readyall deep mom want know aight text do not know support ass srt thnk think ps3 play usb oh ok do not know mean yep baby jontin win guarantee a1000 cash a2000 prizeto claim yr prize customer service representative like xxx pic hot nearly ban uk hmv bonus special 500 pound genuine hmv voucher win answer 4 easy question play send hmv 86688 info watch tv get new job pen thing joke will not biro master party alex nichols u secret admirer look 2 contact ufind rreveal think ur specialcall 09058094594 see miss dear brother gr8 day ok ii finish soon sorry help come slave go shell unconsciously avoid make unhappy love ass enjoy doggy style think ask gym excuse lazy people jog dear 0776xxxxxxx uve invite xchat final attempt contact u txt chat 86688 150pmsgrcvdhgsuite3422landsroww1j6hl ldn 18yr urgent 09061743811 landline abta complimentary 4 tenerife holiday a5000 cash await collection sae tcs box 326 cw25wx 150ppm way home long dry spell season get to collect da car 6 lei ok knacker come home go sleep good time work lark probably early station think 09090900040 listen extreme dirty live chat go office right total privacy know sic listen 60p min 247mp 0870753331018 good morning plz sir freemsg hey u get 1 videopic fone reply wild txt ill send u pic hurry -PRON- be bored work xxx 18 150prcvd stop2stop uh head leave tot u outside cos darren u come shopping course nice wat ju go sim lim look mp3 player aight sound good want come wat u like 4 ur birthday love work home miss vday parachute double coin u know sorry later sister get place birla soft da free entry 2 weekly comp chance win ipod txt pod 80182 entry std txt rate tcs apply 08452810073 detail 18 wah okie okie muz use e unlimited haha there be people mu table lambda stop old man build snowman snow angel snowball fight ello babe u ok hello beautiful r u ok kinda ad row wiv walk pub want night wiv u miss u u go ikea str aft dat becoz ltgt jan whn al post ofice holiday cn fr post oficegot duffer lol grr mom take forever prescription pharmacy like 2 minute away ugh real tho suck cook electricity hungry want new textbuddy chat 2 horny guy ur area 4 25p free 2 receive search postcode gaytextbuddycom txt 89693 08715500022 rpl stop 2 cnl time month mid time fffff text kadeem far go leave ok lor n eat u thk fujitsu s series lifebook good yar want 2 scold u y late get zhong se q u ask b4 ask w u lor n u act real do not know bring food current food sch fr 46 dun haf da book sch home hello go village pub 8 come accordingly ok ok don like ltgt time oh hypertension oh do not monkeys wot think certainly mind friend mineall sleep wiv wud annoyin omg snow tonite 08702490080 tell u 2 09066358152 claim a5000 prize u 2 enter ur mobile personal detail prompt careful free 1st week entry 2 textpod 4 chance 2 win 40 gb ipod a250 cash wk txt vpod 81303 tsc custcare 08712405020 carry disturbing pa tell go bath ju finish avatar nigro r u scratching hope have great day idea know anyplace plan usually stop find hella weed fact cleaning show know upset priority constantly want excellent ready moan scream ecstasy people dog area 09090204448 join like minded guy arrange 1 1 evening aa150 minapn ls278bb dude avatar 3d imp point think actually fly room try hittng reflex 4 costa del sol holiday a5000 await collection 09050090044 toclaim sae tcs pobox334 stockport sk38xh costa150pm max10min kkwhy can not come search job get lousy sleep keep wake 2 hour cat want come worry cold yeah leave couple minute amp let know mu i _ 1010 sure dat wake hey jazz power yoga hip hop kb yogasana battery mr adewale uncle aka egbon can not pick phone right pls send message wait 2 minstand bus stop oh ic think mean mary jane haha oh deduct lesson tmr nah -PRON- be go 2 wrk j wot bout u eat shit wait ur monkey face bitch u asshole good night go sleep aight grab eat text mu kkwhy can not come search job pain move 6hrs doctor lol oh babe will not slide place midnight thank invite howz person story guess somebody know secretly fancy wanna find 09065394973 landline datebox1282essexcm61xn 150pmin 18 lol awesome payback 80488 500 free text message valid 31 december 2005 yes completely formclark utter waste honeybee say d sweetest d world god laugh amp say waitu havnt meet d person read msg moral god crack joke gmgngegn thank tesco nice go speak soon feathery bowa guy know can not close eye vava playing umma d 2 laptop noe infra slow lar wan fast win guarantee a200 award a1000 cashto claim ur award free 08000407165 18 2 stop getstop 88222 php nvm ok enjoy ur life good night yes meet town cos gep home text bus stop worry finish march u _ ish askd u question hour answer that s cool cum delhi chennai silent lol alright thinkin haha reply win a100 weekly 2006 fifa world cup hold send stop 87239 end service boat mom check yo half naked shhhhh suppose know sorry later sorry later meeting thing relate trade arul ltgt hey late amk need drink tea coffee wnt buy bmw car urgentlyit vry urgentbut hv shortage ltgt lacsthere source arng dis amt ltgt lacsthat prob urgent 09061743810 landline abta complimentary 4 tenerife holiday 5000 cash await collection sae tcs box 326 cw25wx 150 ppm length e e short n get fringe thk go liao lazy dun wan 2 distract u santha num corrct dane callsmessagesmiss call sorry later basket gettin tonight hi darlin -PRON- have get nice night thank lift u tomorrow xxx valentine huh proof fb page ugh glad watch rupaul tool free tone hope enjoy new content text stop 61610 unsubscribe help08712400602450p provide tones2youcouk eh den sit u book e kb liao huh practise curtsey shall come pickle lol boo hop laugh yeh def up4 sit leave class babe come hope nice sleep love lmao fish memory need b go 2 sch mon sis need 2 smth idea soon convert live themobyo yo yohere come new selection hot download member free click open link send ur fone ssindia go draw series year south african soil goodmorn today late ltdecimalgt min major role community outreach rock mel shop lor rain mah hard 2 leave orchard hi birth 8 lb 7 oz mother baby brilliantly forward message proof go intention run choose room clean visitor maybe good choice yes want embarass maybe feel feel friend want drop buy happen morning try know dunno lei thk mum lazy neva ask want know rule talk early week start happen show responsibility week bend rule way way tired have thia argument week ltgt movie do not inlude preview get 1 beautiful truth gravity read carefully heart feel light feel heavy leaf goodmorn great news freefone 08006344447 claim guarantee a1000 cash a2000 gift speak live operator ambrithmaduraimet u arun dha marrgeremembr read shame tell take run blame u 4 4 long time princess kitty shave natural good bb will not use wife doctor ya come ago tomorrow onwards eve 6 3 work lor toa payoh get place 2 walk meh anybody number think tactful way ask alex u win a100 music gift voucher week start txt word draw 87066 tscs skillgame1winaweek age16150ppermesssubscription movie theatre watch unlimited movie pay u have lunch bore yes obviously eggspert potato headu _ speak soon nah man car mean crammed people get new job bar airport satsgettin 447per hour mean lie touch kallis ready bat 2nd innings thanx birthday ugh y u apologize admit u wrong ask u noe la u wana pei bf oso rite k lor day den yes small kid boost secret energy -PRON- be go to miss u avatar suppose subtoitle simply sit watch match office jot thing want remember later oh sorry hey go lo lesson gym do not pack buy storelike cereal pack food pack gari 9ja miss thing big ii dun wan watch infernal affair wake 4 afternoon sup 4mths half price orange line rental late camera phone 4 free phone 11mths mobilesdirect free 08000938767 update or2stoptxt send pic like okay book include bugis aight fuck later de time ill tell k do not use hook blackberry bold2 nigeria hi home calicut hey darlin pick u college u tell wen 2 mt love pete xx 09094100151 use ur min call cast 10pmin mob vary service provide aom gbp5month aom box61m60 1er u stop age 18 oh thkin go yogasana 10 den nd 3 den rush parco 4 nb okie lor u ready y late need n da laptop sir wait mail charge mobile morning get msg frm tht unknown ugh fuck resubb eve shadow early spring yay slice breadstick lol hey want crave miss need love ahmad saeed al hallaq training tomorrow urgent mobile win a2000 bonus caller prize 020603 2nd attempt reach 09066362220 asap box97n7qp 150ppm pass dis ur contact n wat u redi luv wid u blueu smile face purpleu r realy hot pinku r swt orangei thnk lyk u greeni realy wana wid u yelowi wnt u bck blacki jealous u browni miss nw plz giv color cos daddy arrange time c wat time fetch i _ mah eld know hi drugdealer hard believe thing like lie think twice say eerie nokia tone 4u rply tone title 8007 eg tone dracula 8007 title ghost addamsfa munster exorcist twilight pobox36504w45wq 150p sexy single wait text age follow gender wither m f eg23f gay man text age follow g eg23 g good night dear sleepwellamptake care wondarfull song freemsg claim ur 250 sm messagestext ok 84025 nowuse web2mobile 2 ur mate etc join txt250com 150pwk tc box139 la32wu 16 remove txtx stop yar lor actually fast cos da ge slow wat haha come later normally bathe da afternoon mah trust hey hunonbus go 2 meet want 2go 4a meal donyt feel like cuz 2 bus homebut -PRON- s sweet latelyxxx 85233 freeringtonereply real like noon open mca aight wat happen oredi sweet princess tell like dislikes bed wish great semester moji love word rich day dude like buff wind alright babe england official poly ringtone colour flag y mobile text tone flag 84199 optout txt eng stop box39822 w111wx a150 want ne actually better yor ownyou get money work man pay rent fill fucking gas tank yes stress depressed home thanksgiving cuz tell -PRON- be skalli will not play odi cash text jason oh love soooo good hear omg miss today sorry have problem provider thank tm final chance claim ur a150 worth discount voucher today text yes 85023 savamob member offer mobile t cs savamob pobox84 m263uz a300 sub 16 private 2004 account statement 07742676969 show 786 unredeemed bonus point claim 08719180248 identifier code 45239 expire probably want pick  cut girl world dice art class 6 9 thank idea time come tomorrow sm service inclusive text credit pls goto login unsubscribe stop extra charge help08700469649 po box420 ip4 5we oh howda gud gud mathe en samachara chikku thk 530 lor dunno ticket wat u audrie lousy autocorrect site simulate test give tough question test readiness seriously hit light armand shit andor vomit fetch yun u fetch thank like hmmm imagine come home have rub foot dinner help ready date sure ready kind life free2day sexy st george day pic jordantxt pic 89080 do not miss wk saucy celeb4 pic c pocketbabecouk 0870241182716 a3wk lara say loan ltgt spare power supply yar clever aft guess lor get ask 2 bring thk darren willing 2 aiya thk leona attach wat winner specially select receive a1000 cash a2000 award speak live operator claim 087123002209am7pm cost 10p yeah bed midnight sunshine hol claim ur med holiday send stamp self address envelope drink uk po box 113 bray wicklow eire quiz start saturday unsub stop available washob nobb night ask nickey platt instead time week ryan wish u return day happy birthday vikky u win a100 music gift voucher week start txt word draw 87066 tscs skillgame 1winaweek age16 150ppermesssubscription hope know mad argh 3 g spotty thing remember research province sterling problemfree place look xam hall boy ask girl tell start term dis answer den manage lot hesitation n lookin silently say intha ponnungale ipaditan know result 123 congratulation week competition draw u win a1450 prize claim 09050002311 b4280703 tcsstop sm 08718727868 18 150ppm beautiful truth gravity read carefully heart feel light feel heavy leaf good night sorry -PRON- be get feel bad totally reject kinda thing get shitload diamond tessypls favor pls convey birthday wish nimyapls dnt forget today birthday shijas go aunty like fr china noisy later guess needa mcat study sfrom training manual tech processit password reset troubleshooting b4u vouch wc 2703 marsm log discount credit opt reply stop customer care 08717168528 speak uncle john today strongly feel need sacrifice go beg listen do not promise clear thing easy need let work thing long expect help creativity stifle pls happy promise start search job dayshe great potential talent carlo take leave minute luv ya come hostel k loving juz remember get to bathe dog today drug able eat alright take morphine yo requirement stayin trouble strangersaw dave day heaos sorted nowstill bloke u gona girl mrur mum think 2getha freemsg hey buffy 25 love satisfy man home feeling randy reply 2 c pix qlynnbv help08700621170150p msg send stop stop txt sunshine hol claim ur med holiday send stamp self address envelope drink uk po box 113 bray wicklow eire quiz start saturday unsub stop collect ur laptop ok later show 8830 want cld drink wld prefer spend money nosh mind nxt wk home waaaat lololo ok time table occupy wait tree surely do not forgot comei touch hi kindly document submit loan stapati do not shall buy dear oh god happy message 3 day year mile hey cutie go wale kinda ok like hill shit avent kill sad story man week bday wife do not wish parent forget n kid go work colleague wish enter cabin pa say happy bday boss feel special askd 4 lunch lunch invite apartment go say u mind bedroom minute ok sed sexy mood come 5 minut latr wid caken wife parent kidz friend n colleague scream surprise wait sofa naked think honesty road bank tomorrow tough decision great people free 1st week no1 nokia tone 4 ur mob week txt nokia 87077 txting tell ur mate z pobox 36504 w45wq norm150ptone 16 specialisation work slave labor look month sha cos shakara 4 beggar reply boye change phone number 1 write msg 2 dictionary mode 3cover screen hand 4press ltgt 5gently remove ur hand interesting hi darlin -PRON- be way london smash driver big dent -PRON- be miss u u xxx make sure everybodys speed come home 4 dinner thank way lose yeshe good crickit mind thx month shop till u drop 10k 5k a500 cash a100 travel vouch 09064011000 ntt po box cr01327bt fixedline cost 150ppm mobile vary come imin towndontmatter urgoin outl8r will not wat wit guy yavnt try play original hiya good day speak weekend think work ready moan scream oh k get job what s do not think need go late school night especially class miss wednesday probably fail test friday pop ltgt ibuprofen help babe go day sip cappuccino think love send kiss sea ok ps u ur grow right chinatown get porridge claypot rice yam cake fishhead beehoon eat cheap den cafe n tok nydc something know people hit fuck yes purity friendship smile reading forward messageit smile see gud evng specific regard jaklin idk fuck oh god go to google nearby cliff free camera phone linerental 449month 750 cross ntwk min 12 price txt bundle deal avble 08001950382 call2optoutj mf yup shd haf ard 10 page add figure ii get page ooh 4got go to start belly dance moseley wed 630 u want 2 join cafe thankyou appreciate care congrat treat pendingi mail 2 dayswill mail thrurespect mother homecheck mail call pick e phone ask say ok hi email address change valuable affectionate loveable eternal noble truthful intimate natural enamous happy valentine day advance textin bout bring get movie 4 wat sure stomach haha have dinner cousin boy late 2 home father power frndship man carlo definitely come mu tonight excuse soon real thing princess wet rajipls favour pls convey birthday wish nimya pls today birthday haha leg neck kill amigo hop end night burn think swing like hour urgent mobile 07xxxxxxxxx win a2000 bonus caller prize 020603 2nd attempt reach 09066362231 asap box97n7qp 150ppm usually body take care buy make sure do not progress pls continue talk saturday urgent 4 costa del sol holiday a5000 await collection 09050090044 toclaim sae tc s pobox334 stockport sk38xh costa150pm max10min hmm night night want holy shit guy kid bud gettin bit arty collage mo tryin 2 ne way get roast min lovely shall enjoy day billion class right goodmorn today late 2hrs pain ok let noe later n ask u tmr prabhai sorydarealyfrm heart sory ok walik ard u wan 2 buy ur house carton u pleased shelf nice talk do not forget pix want win guarantee a1000 cash a2000 prize claim yr prize customer service representative 08714712379 10am7pm cost 10p funny lor wat u shd haf run short distance wat notice like look shit mirror -PRON- be turn right freak great get worried know wonderful caring person like good life know u r wonderful god love thank ringtone order ref number k718 mobile charge a450 tone arrive customer service 09065069120 prefer free day tue -PRON- would fri oso ii ask workin lor alrite jod how s revision go keris bin do smidgin n e way u wanna cum collegexx belive come home oh kkwhere test exact intention haha money leh later get tuition haha look slot driving lesson hey thk juz accordin wat discuss y lor kb sun cos nt lesson attend kb sit k wen ur free come home tel vikky hav send mail better come evening il free today aftr 6 p.m. get msgs dis wit different nos good morning plz sir room number wanna sure knock right door sicomo nolistened2the plaid albumquite gdthe new air1 hilariousalso boughtaobraindanceaoa compofstuff aphexaos abel pls tell nelson bbs long comin money expect be not come drink take vomit temp drop unmit let know think send text home phone can not display text want send number day use sleep ltgt k close u buy newspaper nope wif sis lor aft bathing dog bathe look like go 2 rain soon boo way mom make tortilla soup yummmm management puzzel find way include detail hi ya babe x u 4goten bout scammer get smartthough regular vodafone respond prem rate msgsubscription nos beware 2 work 2morro half term u c 2nite 4 sexy passion b4 2 chat 09099726481 luv dena call a1minmobsmorelkpobox177hp51fl like spoil thank ringtone order ref number r836 mobile charge a450 tone arrive customer service 09065069154 get threat sale executive shifad raise complaint official message hope thing go doctor remind need 2godid u c d little thing leave lounge den wat e schedule b lk sun lol enjoy role playing ok watch tv lov line hurt truth check head drop stuff get lot hair dresser fr china sad story man week bday wife do not wish parent forget n kid go work colleague wish ill evening ill idea splashmobile choose 1000s gr8 tone wk subscrition service weekly tone cost 300p u credit kick enjoy wot u c 4 dust ltgt min hear u4 4 rude chat private line 01223585334 cum wan 2c pic gettin shag text pix 8552 2end send stop 8552 sam xxx ok bus come soon come tomorrow can not pick phone right pls send message forward 88877free entry a250 weekly comp send word enter 88877 18 tc finish liao u 88066 88066 lose 3pound help haha think u know watchin lido life spend lifetime meaningless moment spend love mean life haha awesome 4u couple time all come cold do not sad dear think stop like hour roommate look stock trip telly brdget jone love aathilove u lot hello r u -PRON- be bored inever think -PRON- would bored tv tell exciting happen hmmbad newshype park plaza 700 studio takenonly leave 2 bedrm900 sorry later meeting r i _ comin dinner hav reach m unable connect u wait yesterday reach home safe n sound liao velly good yes hi wkend ok journey terrible wk good huge log marking letter copy cos message speak soon alex know guy sell mid south tampa think set like 8 do not message offer mobile 11mths update free orange late colour camera mobile unlimited weekend call mobile upd8 freefone 08000839402 2stoptx hey babe u do wot u 2 2nite love annie x remind shall v romantic hello damn christma thing think decide mp3 do not work 1 new message 08718738034 hi darlin -PRON- be missin u hope have good time u time u home jess xx forward 21870000hi mailbox message sm alert 4 message 21 match 09056242159 retrieve message match draw vai do not think do not pick d important tell hrishi congrat 1 year special cinema pass 2 09061209465 c suprman v matrix3 starwars3 etc 4 free bx420ip45we 150pm do not miss nothing come mind ii help buy hang lor ur laptop heavy ltgt guess easy baby yo tho tell friend come round til like ltgt ish friendship poem dear o dear u r near hear do not fear live cheer tear u r dear gud ni8 area restaurant ill try come soon aight that will work thank win year supply cds 4 store ur choice worth a500 enter a100 weekly draw txt music 87066 tsc moby pub quizwin a100 high street prize u know new duchess cornwall txt 82277unsub stop a150 008704050406 sp arrow 2 sleeping bag 1 blanket paper phone detail win nokia 7250i win free auction send nokia 86021 hgsuite3422land roww1jhl 16 congratulation thank good friend u win a2000 xmas prize 2 claim easy 08718726971 10p minute btnationalrate tddnewsletteremc1couk game thedailydraw dear helen dozen free game great prizeswith guy chat awesome regular person significant do not worry because old live high waqt se pehle naseeb se zyada kisi ko kuch nahi miltazindgi wo nahi jo hum sochte hai zindgi wo hai jo ham jeetey hai way office da place want da pain come bad time ok stalk u sorry dude do not know forget dan remind sorry hope guy fun ok lor app class varaya elaya xma story peace xmas msg love xma miracle jesus hav bless month ahead amp wish u merry xma urgent mobile number win a2000 bonus caller prize 100603 2nd attempt reach 09066368753 asap box 97n7qp 150ppm day ask anand number surf online store offer want buy thing long beach lor expect u have dinner home way fine thank happen tell truth like italian food weird know point aww nearly deadwell jez iscoming todo workand whilltake forever tell friend plan valentine day lturlgt alright bit cheer message zogtorius iaove star phone age decide text care financial problemi help tell dear happen talk like alian double min txt orange 12 price linerental motorola sonyericsson btooth freenokia free mobileupd8 08000839402 or2optouthv9d 1 write msg 2 dictionary mode 3cover screen hand 4press ltgt 5gently remove ur hand interesting okie hi yijue meet u 11 tmr posible dnt live ltgt century cm frwd n thnk different dint sleep afternoon unnecessarily affectionate yar thk sort funny thing place man download ringtone u like restriction 1000s 2 choose u send 2 yr buddy txt sir 80082 a3 that s cool day 08712402902 immediately urgent message wait r go ltgt bus hello love go day alright think sweet send jolt heart remind love hear scream sea world hear ahmad al hallaq love own possessive passionate kiss nohe join today okay thank clarification talk probably come early tomorrow spook mob halloween collection logo pic message plus free eerie tone txt card spook 8007 zed 08701417012150p logopic money issue weigh thank breathe easy ill sure do not regret thank hi sorry miss pls hope settle new school year wishin gr8 day fantasy football tv sky gamestar sky active play a250k dream team scoring start saturday register nowsky opt 88088 ok need tell go sleep good night ok try week end course coimbatore tone club sub expire 2 resub reply monoc 4 monos polyc 4 poly 1 weekly 150p week txt stop 2 stop msg free stream 0871212025016 v nice 2 sheffield tom 2 air opinion category 2 b 2 measure ethnicity census busy transcribing r home come 5 min boy love gal propsd bt do not mind gv lv lttrs bt frnd throw thm d boy decide 2 aproach d gal dt time truck speed d gal wn 2 hit d girld boy run like hell n save ask hw cn u run fast d boy reply boost d secret energy n instantly d girl shout energy n thy live happily 2gthr drinking boost evrydy moral d story hv free msgsd gud ni8 day i _ i _ cut ur hair paragon call hair sense i _ noe hair cut hmm unfortunately pic obviously be not hot cake kinda fun tho watch tv lor y funny bluff 4 wat izzit thk impossible xma prize draw try contact u today draw show win a2000 prize guarantee 09058094565 land line valid 12hrs dunno lei neva thanx 4 2day u r goodmate think ur rite sary asusual1 u cheer love u franyxxxxx way home go change batt 4 watch shop bit lor yes place town meet exciting adult single uk txt chat 86688 150pmsg hi mobile ltgt add contact list s great place send free sms people visit fullonsmscom good evening sir hope have nice day want bring notice late pay rent past month pay ltgt charge feel inconsiderate nag great cost do not speak recession will not able pay charge month askin ahead month end help thank let want house 8 a.m. good line say love wait till day forget u day u realize u forget gn reach morning pussy perfect sorry later contact date service enter phone becausethey fancy find landline 09058098002 pobox1 w14rg 150p messageno responcewhat happend piece wiskey brandy rum gin beer vodka scotch shampain wine kudiyarasu dhina vaazhthukkal boo thing home little bored gain ltgt kg take second blood sugar test ok blood pressure normal limit worry pick ur fone u dumb thank da thangam feel happy dear miss da okey doke home dress cos lay ill speak later bout time stuff run away frm u walk slowly amp kill u care stop babe come tell marry neshanthtel r u yo yo yo byatch whassup oh kay sit right hi roger cl babe u want do not u baby -PRON- be nasty thing 4 filthyguy fancy rude time sexy bitch slo n hard txt xxx slo4msgs oh oh waste den muz chiong sit n sun liao jesus christ bitch try drug answer fuck phone 2 pick tuesday evening 8 ok meeting darren good dialogue cute reltnship wen die solve d case man find murder ltdecimalgt ltgt afternoon 1his wife call police 2police question 3wife siri sleep murder take place 4cook cook 5gardener pick vegetable 6housemaid go 2 d post office 7children go 2 play 8neighbour go 2 marriage police arrest d murderer immediately reply reason u r brilliant dear reach aww time u say u miss ask miss u love ok thanx gd nite 2 i _ come right ahmad know u u know send chat 86688 let find 150pmsg rcvd hgsuite3422landsroww1j6hl ldn 18 year lol actually send pic right wanna pose comb hair dryer o fps huh mean computational science y like dat push n read love answer oh lk tt den e tt end cine lor dun wan yogasana oso madamregret disturbancemight receive reference check dlf premaricakindly informedrgdsrakheshkerala sm service inclusive text credit pls gotto login 3qxj9 unsubscribe stop extra charge help 08702840625 comuk220cm2 9ae oic better quickly bathe n settle err cud go 8 p.m. get way contact bloo bloo bloo miss bowl lmao fun oh k kbut big hitteranyway good hey forget happy bday babe love ya valentine day special win a1000 quiz partner trip lifetime send 83600 150pmsg rcvd custcare08718720201 think ltgt week -PRON- s find send offline message know anjola guess ithis time create web page read write wait opinion want friend 11 txting driving good let thank god complete drug lot water beautiful day dun bluff leh u sleep early nite indian r poor india poor country say swiss bank director say ltgt lac crore indian money deposit swiss bank taxless budget ltgt yrs ltgt crore job indian village delhi 4 lane road forever free power suply ltgt social project citizen monthly ltgt ltgt yrs need world bank amp imf loan think money block rich politician right corrupt politician itna forward karo ki pura india padhegm uncle boye need movie oh guide plus know torrent particularly legal system slow gr8 day plus start cos do not meet online honey moon oh ya ya remember da btw try 4th guy commit random dude ur chance win a250 cash wk txt play 83370 tsc custcare 08715705022 1x150pwk busy juz dun wan 2 early hee rightio 1148 be not bright early morning great church holla brum thank put keep happy soon donno scorable ltgt great loxahatchee xmas tree burn update totally star yes do not care need bad princess guy kadeem selling break know guy paranoid fuck like sell til late tonight sorry later tmr i _ brin lar aiya later come n c lar mayb i _ neva set properly i _ get da help sheet wif i _ u knw dis ltgt dun believe wat kgive thank know complain num onlybettr directly bsnl offc nd apply okay see pick friday payed suganya leave dessert u wan 2 suntec look 4 u abeg profit start sponsor event onum ela pa normal kkhow sister kid cool text way nope talk greet can not talk nowi candont calling lar rise need water season need change poet need imaginationmy phone need ur sm need ur lovely frndship forever good afternoon babe go day job prospect miss love sigh pick drop carso problem si think waste rr world famamus come friday leave pongaldo news work place lol big sale way eat old airport road 630 oredi get lot pple sry talk phone parent final chance claim ur a150 worth discount voucher today text yes 85023 savamob member offer mobile t cs savamob pobox84 m263uz a300 sub 16 ok lor wat time i _ finish princess like love ltgt time night hope that s problem mm way railway dnt wnt tlk wid u sorry hope space give want remember furniture lock lock leave key jenne like touch easy way barcelona way ru house sppok ur mob halloween collection nokia logopic message plus free eerie tone txt card spook 8007 urgent 09066612661 landline complementary 4 tenerife holiday a10000 cash await collection sae tcs po box 3 wa14 2px 150ppm 18 sender hol offer kdo evening daurgent pansy living jungle year drive worry mm kanji do not eat heavy ok promise get soon text morning let know ok lol different try find real life photo take do not thnk wrong calling k ill drinkpa need srs model pls send mail -PRON- would pa aiyah e rain like big leh drizzling run home 2 doc appointment week tired shove stuff ugh normal body dun b sad dun thk abt concentrate ur paper k greeting consider excuse drama plsi family struggle hot sun strange placeno reason ego go invite actually necessity gowait reppurcussion release italian today cosign option mu try figure money gas alcohol jay try figure weed budget winner value network customer hvae select receive a900 reward collect 09061701444 valid 24 hour acl03530150pm hcl chennai require fresher voice processexcellent english neededsalary upto ltgt mssuman ltgt telephonic interview indyarockscom dai da send resume -PRON- would know ltgt 5 yup finish c i _ remember ask alex pizza datoday forget ola maybe today ve tell direct link get car bid online arrange shipping cut u partnership u invest money shipping take care restuwud b self reliant soon dnt worry fwiw reason time smoke gas afford tell apparently happen somebody want light hello boytoy home constant thought love hope have nice visit wait till come home kiss congrat kanowhr s treat maga u talk yup ok u wake wat u u pick later rite take sq825 reach ard 7 smth 8 like dat u check e arrival time c ya soon yunny walking citylink i _ faster come hungry er yep sure prop hiya u pay money account thank get pleasant surprise check balance u c statement 4 acc u win nokia 6230 plus free digital camera u u win free auction send nokia 83383 pobox11414tcrw1 16 ok ill send ltdecimalgt ok bognor splendid time year yesi office da sorry later joy father john john joy father mandan ok ask abt e movie u wan ktv oso misplaced number send text old number wonder hear year good mcat get number atlanta friend sorry later dunno lei b eatin wif fren i _ wan eat wait 4 i _ lar sorry later free entry a250 weekly comp send word win 80086 18 tc slowly godi love amp need youclean heart bloodsend special people amp u c miracle tomorrow itplspl u noe 2 send file 2 computer mmmmm love waking word morning miss love hope day go happy wait jay say ltgt come sec somebody want sun anti sleep medicine happen get job begin registration permanent residency yup ok glad go come 11 plenty time claire go work ok enjoy r u home pls pls send mail know relative come deliver know cost risk benefit thank like y haf combine n c lor monthly terrible pay till 6months finish school hmmmhow player select say go to snow start 8 9 pm tonite predict inch accumulation do not send plus mode aiyo i _ get time meh package program sister belong 2 family d hope tomorrow pray 4 herwho fat 4 d shoranur train incident let hold hand amp fuelled love amp concern prior 2 grief amp pain pls join dis chain amp pass stop violence woman guy ask slipper go year company goodenvironment terrific food nice text82228 ringtone logo game question infotxt82228couk honestly lovely cup tea promptly drop key burn finger get yup study surfing lor e lazy mode today sen kind advice come try c i _ oh fine tonight ii time walk reach ard 20 min ok freemsg award free mini digital camera reply snap collect prize quizclub opt stop 80122300pwk sprwm ph08704050406 fuck babe happen come come message bring gmw ltd connect friend want drive -PRON- someplace probably thk fast xy suggest u dun wan ok go 2 rain leh get gd get good maybe pressie yeah leave maybe 7ish kki finewhen complete course sea lay rock rock envelope envelope paper paper 3 word tell dr appt week think go to die tell check worried listen room need do not want hear hey leave friday wait ask superior tell ultimately tor motive tui achieve korli 5 2 work timing u _ donut worry weull finish march u _ ish house water dock boat roll newscaster dabble jazz flute wheel congrat 2 mobile 3 g videophone r 09063458130 videochat wid ur mate play java game dload polyph music noline rentl bx420 ip4 5we 150p amazing xxx picsfree1 video send enjoy vid 2day text keyword picsfree1 video that s go ruin thesis sch neva mind u eat 1st lor hey what s u sleep morning erm thought contract run the4th october dunno let learn pilate u subscribe good mobile content service uk a3 day send stop 83435 helpline 08706091795 yup elaborate safety aspect issue 3 free tarot text find love life try 3 free text chance 85555 16 3 free msgs a150 goodmorn today late 1hr hi happy birthday hi hi hi hi hi hi hi outside office respond imma assume asleep imma start call n shit aight bit superior tell friday leave department oursso leave youany way wahe fathima hr conform join uks horniest dogging service u sex 2nite sign follow instruction txt entry 69888 nytec2a3lpmsg150p lol member say aunt flow visit 6 month because develop ovarian cyst bc way shrink work go onit small house friend get say up order gram get ltgt tmr timin da wat cos get lesson 6 thatus thing ape u fight death minute u let that s sunshine quiz wkly q win sony dvd player u know country liverpool play mid week txt ansr 82277 a150 sptyrone go to able late notice home week plan get fujitsu ibm hp toshiba get lot model okie thanx gosh pain spose better come usualiam fine happy amp okie go to rimac access -PRON- be arestaurant eat squid 1030 wanna dosometh late time job today ok umma ask speed hello ucall wen u finish wrki fancy meetin wiv u tonite need break dabook 4 hrs nite2 today wrk r u sam p eachother meet 2 house yeah lol luckily star role like hello madam awesome text restock usualiam fine happy amp knock knock txt 80082 enter r weekly draw 4 a250 gift vouch 4 store yr choice tcs age16 stoptxtstopa150week yes innocent fun o thank send mental ability question sir hope day go smoothly hop will not bother bill settle month extra cash know challenging time let know 2marrow -PRON- would ltgt 2 aha go ur hon lab can not pick phone right pls send message hey pple700 900 5 nightsexcellent location wif breakfast hamper forward 21870000hi mailbox message sm alert 40 match 09056242159 retrieve message match cc100pmin come lol nah bad thank good b home reality check how s ur day u website ok lor come home 4 dinner s daal r ltgt free ring tone text poly 87131 week new tone 0870737910216yrs a150wk unni thank dear rechargerakhesh know lack particular dramastorm detail worry haha can not tmr forfeit haha hey glad u r good hear u treat urself digi cam good r 9 p.m. fab new year c u coupla wks way go urgent mobile 077xxx win a2000 bonus caller prize 020603 2nd attempt reach 09066362206 asap box97n7qp 150ppm cal sir meeting love hear v sundayish sorry da thangam sorry hold prasad tiwary rcbbattle bang kochi thank god bed cancer mom make big deal regular checkup aka pap smear gobi art college want talk pandy join 4w technology todayhe get job guarantee late nokia phone 40 gb ipod mp3 player a500 prize txt word collect 83355 ibhltd ldnw15h 150pmtmsgrcvd18 try lose fact tee hee hi speak maneesha v like know satisfied experience reply toll free yes friend use sorry later -PRON- olowoyey uscedu great time argentina sad secretary blessing taxt massagetiepos argh ok lool hi ltgt dollar loan ill pay mid february pls want pull case plan spend confidence derek taylor money management like shake booty dance floor text phone have problem need drug anymore sorry dai think call lot timeslil busyi noon sarcasm nt scarcasim great run ttyl feel like try kadeem v dai ltgt naal eruku chikkuwat abt u ok want finally lunch today know dad hello darling today love chat do not tell look like sexy 8007 free 1st week no1 nokia tone 4 ur mob week txt nokia 8007 txting tell ur mate pobox 36504 w4 5wq norm 150ptone 16 remain bro bro r u meeting da ge nite tmr nice day impressively sensible go home early feel fine boring remember de look good wanna lay 2nite want real dogging location send direct ur mobile join uks large dogging network txt park 69696 nyt ec2a 3lp a150msg try contact response offer new nokia fone camcorder hit reply 08000930705 delivery yes reply mail go management office later plus bank later alsoor wednesday cool come like ltgt ish super msg danalla timing good afternoon boytoy feeling today good hope good boy obedient slave queen 6 ft good combination sick needy want pout stomp foot pout stomp foot want slave want train northampton afraid abj serve stay dad playng 9 door game gt race phone lol new tone week include 1mcflyall ab 2 sara jorgeshock 3 smithswitch order follow instruction message solve d case man find murder ltdecimalgt ltgt afternoon 1his wife call police 2police question 3wife siri sleep murder take place 4cook cook 5gardener pick vegetable 6housemaid go 2 d post office 7children go 2 play 8neighbour go 2 marriage police arrest d murderer immediately reply reason u r brilliant da bus go home get landline number ask come anna nagar afternoon okay chase dream good yupz oredi book slot 4 weekend liao urgent try contact u today draw show win a800 prize guarantee 09050003091 land line claim c52 valid 12hrs r modelsony ericson der ltgt luks good bt forget modl okie yes know cheesy song frosty snowman ya ok vikky vl c witin ltgt min il reply u sport fan late sport news str 2 ur mobile 1 wk free plus free tone txt sport 8007 0870141701216 norm 4txt120p hey tmr meet bugis 930 urgent urgent 800 free flight europe away b4 10th sept friend 4 free claim 09050000555 ba128nnfwfly150ppm nice new shirt thing wear nudist theme _ mu hey sexy bun day word morning ym think hook nope go home pump petrol lor like go 2 rain soon use foreign stamp send 88066 lose a12 help oh baby house come do not new picture facebook feb ltgt love u day send dis ur value frnd evn 3 come ull gt married d person u luv u ignore dis u lose ur luv 4 evr hiya sorry hav signal see hear unusual case sort hug snog omw tampa west palm hear happen yup thanx 4 print n handing freemsg fancy flirt reply date join uks fast grow mobile date service msgs rcvd 25p optout txt stop 83021 reply date mean come chase state watch movie want s take tablet reaction morning great new offer double min double txt good orange tariff late camera phone 4 free mobileupd8 free 08000839402 2stoptxt tc nah perpetual dd sorry de go shop hope enjoy new content text stop 61610 unsubscribe help08712400602450p provide tones2youcouk wen ur lovable bcum angry wid u dnt seriously coz angry d childish n true way show deep affection care n luv kettoda manda nice day da hey want yogasana coz end cine bathe hav steam bath nope drivin neva develop da photo lei think go reg pract lesson flung advance haha wat time u go cool ltgt inch long hope like big housemaid murderer coz man murder ltgt th january public holiday govtinstituition closedinclud post officeunderstand okie thanx 18 day euro2004 kickoff u keep inform late news result daily unsubscribe send euro stop 83222 n buy juz buy lar ok lor work technical support voice process justbeen overa week break brain go mush tunde wish great day abiola nope c i _ medical mission nigeria have movie laptop whatsup do not u want sleep urgent 09066612661 landline a5000 cash luxury 4 canary island holiday await collection tcs sae award 20m12aq 150ppm 16 ui urgent 09066612661 landline complimentary 4 lux costa del sol holiday a1000 cash await collection ppm 150 sae tcs jam 28 eh74rr have not lei mon mm feel sleepy today shall dear dare stupid will not tell hear will not talk i _ noe ben go mag meeting avo point mean middle leave right crash cuddled sofa hi chachi try call u unable reach u pl miss cal u c tiz msg kanagu send price mean ltgt g buzy  know u u know send chat 86688 let find 150pmsg rcvd hgsuite3422landsroww1j6hl ldn 18 year work ring u thing houseful screaming brat pull hair love u family respond room go home diwali call come make feel like die tick tick tick babe r i _ go 4 today meeting k dahow page want ya nowonion roast send number reply tomorrow morning say like ok say problem let know ok tell half hr b4 u come need 2 prepare play w computer aiyah tok 2 u lor sit right okay thank derp bad dude want party dude file complaint drug abuser live ok chinese food way fat pay lipo r outside good trip watch remember decide easter yo watch movie netflix time ium prob 3 meh thgt clash ah dun mind dun see lose weight gee do not thnk wrong calling sure night menu know noon menu arr birthday today wish oscar slowly godi love amp need youclean heart bloodsend special people amp u c miracle tomorrow itplspl open rebtel firefox load plus sign user place number low number number pick number pin display okay pick point married local woman look discreet action 5 real match instantly phone text match 69969 msg cost 150p 2 stop txt stop bcmsfwc1n3xx wow v v impressed fun shopping way ur home burger king wanna play footy stadium 2 burger king 1st sept large super cocacola walk winner problem talk later ur sis customer place come take little time child afraid dark teenager want stay night dude u knw telugutht gudk gud nyt confirm eat esplanade send -PRON- would password kind take garage centre exhaust need replace order n take fix tomo morning ur chance win a250 cash wk txt action 80608 tsc custcare 08712405022 1x150pwk come long quit like 5 minute day likely call mittelschmertz google do not paracetamol do not worry right go to check todays steam salespee text want come arrive couple day lt3 k wat s tht incident yeah unlimited cthen thk shd b enuff get conclusion n content pg n reference b da content pg n cover pg forget take 3 year shower sorry atyour phone dead ii get wat buy tell i _ need come big god bring success uuave bin award a50 play 4 instant cash 08715203028 claim 9th player win min a50a500 optout 08718727870 u _ r stayin extra week -PRON- would rugby weekend hi c u soon ham campus library affidavit say ltgt e twiggs st division g courtroom ltgt lttimegt double check text tomorrow creep _ tell friend plan valentine day lturlgt billion call text help god purity friendship smile reading forward messageit smile see gud evng musthu tell return order housemaid murderer coz man murder ltgt th january public holiday govtinstituition closedinclud post office depend u go lor smile right world wonder smile think crazy away grin freemsgfav xma tonesreply real lil fever fine think car  december mobile 11mths entitle update late colour camera mobile free mobile update co free 08002986906 yes princess want catch big strong hand oh yeah forget u 2 shopping mm ask radio thinkin good drug slowly godi love amp need youclean heart bloodsend special people amp u c miracle tomorrow itplspl enjoy shower possessiveness pour u ur love one bcoz world lie golden gift love truly alright sure let know leave last 2 hour lucky genius brother pls send number skype gr8 poly tone 4 mobs direct 2u rply poly title 8007 eg poly breathe1 title crazyin sleepingwith fine ymca getzedcouk pobox365o4w45wq 300p thk -PRON- find wtc far weiyi go e rest dunno r ur go 4 dinner den b able join forget own private property good boy passionate kiss interflora aoit late order interflora flower christmas 0800 505060 place order midnight tomorrow oh godtaken teethis paining romcapspam respond presence warm outgoing bring real breath sunshine u ask darren n pick u lor oso sian tmr haf 2 meet lect need buy lunch eat maggi mee congratulation thank good friend u win a2000 xmas prize 2 claim easy 08712103738 10p minute btnationalrate ok lor oh right ok sure load work day get nasty cough today dry n shot help wifehow know time murder exactly send logo 2 ur lover 2 name join heart txt love name1 name2 mobno eg love adam eve 07123456789 87077 yahoo pobox36504w45wq txtno 4 ad 150p howz person story thanx 4 send home normally hot mail com win tkts euro2004 cup final a800 cash collect 09058099801 b4190604 pobox 7876150ppm u sick shopping ya fine bbdpooja pimpleseven blackand ur rite cold wear sweatter nicenicehow work 1 reach home try find chinese food place easy mate guess quick drink bit ambitious babe miiiiiiissssssssss need crave geeee sad babe love ok thanx aathiwhere dear tunji queen wish great day abiola today iz yellow rise day u love frndship 1 misscall amp send ur frndz amp miss call u u 6miss u marry ur lover class hour sorry wat time u finish ur lect today freemessage jamsterget crazy frog sound poly text mad1 real text mad2 88888 6 crazy sound 3 gbpweek 16only tcs apply sad story man week bday wife do not wish parent forget n kid go work colleague wish enter cabin pa say happy bday boss feel special askd 4 lunch lunch invite apartment go say u mind bedroom minute ok sed sexy mood come 5 minut latr wid caken wife parent kidz friend n colleague scream surprise wait sofa naked chance reality fantasy 08707509020 20p min ntt ltd po box 1327 croydon cr9 5wb 0870 national rate fine good hear dear happy new year oh go wipro interview today tall princess doubt handle 5 time night case haha hope i _ hear receipt sound gd luck go to death go to leave note say rob fault avenge japanese proverb u itu indian version let itleave finally kerala version stop strike today workin free oso gee thgt u workin ur fren shop life face choice toss coin becoz settle question coin air u know heart hop gudni8 know god create gap finger come amp fill gap hold hand love want kiss feel happy saying adult 18 content video shortly ok b lovely u r sure think wot u want drinkin dancin eatin cinema u wot say explicitly tell nora know probably go to bother say hi ass south tampa preferably kegger smith waste dai wanna gayle mum send message get want know actually get enjoy rest day aight tomorrow ltgt housemaid murderer coz man murder ltgt th january public holiday govtinstituition closedinclud post officeunderstand chance reality fantasy 08707509020 20p min ntt ltd po box 1327 croydon cr9 5wb 0870 national rate actually time go bed long speak wake 7 night  do not understand message crucify c s tell earlier idk say move butt head freedom vs responsibility tired shit deal barely keep get add fuck cedar key fuck come tho past say train durham coz reserve seat hey boy want hot xxx pic send direct 2 ur phone txt porn 69855 24hrs free 50p day stop text stopbcm sf wc1n3xx u painting ur wall chance claim ur a150 worth discount voucher today text shop 85023 savamob offer mobile t cs savamob pobox84 m263uz a300 sub 16 printer cool mean groovy wine groovying hi harishs rent transfr ur acnt lor come cbe good nowadayslot shop showroomscity shape good ii attend da talk prob hon u doinat mo k care phone callon friday assume year battery low babe shuhui buy ron present swatch watch yeah bit left swing tomorrow babe say 2 hour 4 internet k sure noon kkyesterday cbe go ganesh dress shop pdate_now double min 1000 txt orange tariff late motorola sonyericsson nokia bluetooth free mobileupd8 08000839402 call2optoutyhl ii collect ur laptop go configure da setting izzit r home come 5 min aight 8 late probably closer 7 jay tyler trip come aftr ltdecimalgt m clean house ur cashbalance currently 500 pound maximize ur cashin send cash 86688 150pmsg cc 08718720201 po box 11414 tcrw1 bill letter iuam expect orange isnuat bill orange tell pa pain de hi darlin hope nice night wish come can not wait love fran ps want dirty anal sex want 10 man gang bang ha donut know clever simple thing pear day perfect christma helloooo wake sweet morning welcome enjoy day joy gud mrng alrite sit wait summer day celebrate magical sight world dress white oooooh let snow urgent mobile number award a2000 prize guarantee 09058094454 land line claim 3030 valid 12hrs guy movie sorryin meeting later tell thatnow thinking plus go stop run kindly send flat ltdecimalgt today sorry u unsubscribe mob offer package min term 54 week pls resubmit request expiry reply themob help 4 info lor bit bored y dun u home early 2 sleep today time tell friend yes fine love safe thank chikku gud nyt xy ur car u picking thanx 4 time weaove spend 2geva bin mint ur baby want uxxxx yo way pick tonight send send fine simply sit tht god gift bird human hav natural gift frm god come day class -PRON- be studyn library ok u enjoy ur show  wuld baby think mite break donaot wanna crazy everyboy need lady xxxxxxxx wat dear sleeping ah hi test ltgt rd 2 student solve cat question xam 532 ltgt 924 ltgt 863 ltgt 725 tell answer u r brilliant1thingi get d answr yo know ltgt able buy liquor guy flake right hold somebody 4 loko night yup n fren lor meeting fren 730 yeah get line stop wonder wow go stop tm tm want laugh lol yep yesterday get fireplace icon sitting hey book pilate yoga lesson haha ok happen behave like 1 new message 08712400200 supervisor find 4 lor thk student have not ask tell u aft ask hello news job make wait fifth week yeah -PRON- be woozle weasel exeter home 3 messageno responcewhat happend currently message await collection collect message 08718723815 hey babe sorry sooner gary come fix because think know far ptbo say cost ltgt buck know cheaper find second hand machine right let know want babe 3 4 fuck sake x leave u ignorant nope b go 2 sch fri early lor cos mys sis get paper da morn bruce b down amp fletcher say woke hey free tell who s pls urgent mobile award a1500 bonus caller prize 27603 final attempt 2 contact u 08714714011 think miss teaching til lecture damn work thing -PRON- would check like 1 bowl worth leave yes sweet cozy exhausted nightnobody go school work close u secret admirer reveal think u r special 09065174042 opt reply reveal stop 150 msg recd cust care 07821230901 buzzzz grin buzz ass buzz chest buzz cock phone vibrator feel shake sir send group mail check da intro cover energy trend n pro n con brief description nuclear fusion n oso brief history iter n jet get abt 7 n half page nonenowhere ikno doesdiscountshitinnit do not know jabo abi notice driving go slow idiot drive fast maniac hadya sapna aunty manege yday hogidhechinnu weak swalpa black agidhane good baby neft transaction reference number ltgt rs ltdecimalgt credit beneficiary account ltgt lttimegt ltgt sport typelyk footblcrckt ma head dey swell oh thank make day u fb list height confidence aeronautic professor wer calld amp w askd 2 sit aeroplane aftr sit wer tell dat plane ws student dey hurried d plane bt 1 do not saidif student sary need tim bollox hurt lot tol happy new year princess text carlo let know hang worry easy ingredient love u 2 little pocy bell sorry love u ok omw castor yar lor rain non stop u wan 2 xma offer late motorola sonyericsson nokia free bluetooth dvd double min 1000 txt orange mobileupd8 08000839402 call2optout4qf2 u mean u wif sleep tot u go nap yup send liao pick ard 4 smth lor 7 wonder world 7th 6th ur style 5th ur smile 4th ur personality 3rd ur nature 2nd ur sm 1st ur lovely friendship good morning dear tonight yeah eat fo lunch senor say right giggle see u possibly person2die nvq think break time come n stuff fr i _ reply win a100 weekly professional sport tiger wood play send stop 87239 end service maybe reboot ym see buzz grinder 1 polyphonic tone 4 ur mob week txt pt2 87575 1st tone free txtin tell ur friend 150ptone 16 reply hl 4info love decision feeling decide love life simpler magical hot live fantasy 08707509020 20p min ntt ltd po box 1327 croydon cr9 5wb 0870 national rate ki didt youkwhere list buyer idea guess work hour suppose leave usual interest figure shit second mm entirely sure understand text hey ho weekend release vday shirt u make half naked instead white underwear don knowhe watch film computer b4 thursday oh phone phone disconnected -PRON- would onluy matter get offcampus message free welcome new improved sex dog club unsubscribe service reply stop msgs150p 18only excellent riley plan half hour win tkts euro2004 cup final a800 cash collect 09058099801 b4190604 pobox 7876150ppm ew hi wesley how have ah lingo let know wot earth finish make loan purpose a500 a75000 homeowner tenant welcome previously refuse help free 0800 1956669 text help update_now 12mth half price orange line rental 400minscall mobileupd8 08000839402 call2optoutj5q imagine life fast u search medo worry lm disturb u goodnoon hm good morning headache yeah prob night obviously catch speak soon free unlimited hardcore porn direct 2 mobile txt porn 69200 free access 24 hrs chrgd50p day txt stop 2exit msg free 2 sch yar e salon v boring ltgt min stop ltgt fast approach wish u happy new year happy sankranti happy republic day happy valentine day happy shivratri happy ugadi happy fool day happy day happy independence day happy friendshipmotherfatherteacherschildren day amp happy birthday 4 u happy ganesh festival happy dasara happy diwali happy christma ltgt good morning afternoon evening night rememberi wish u theseyour raj joy lifeis wake daywith thought somewheresomeone care tosend warm morning greeting second half message wat time u wan 2 meet later thank selflessness love plenty film ill later dare change ring bad girl lady love ya try budget money better babe gary freak know initiate understand finish lunch u wake game get tallent waste record night sir send email log usc payment portal ill send message explain thing home great weekend go to let know cos come bak holiday day come not4get2text number jokin lar depend phone father lor aight lemme know ready ltgt inch pleasure rajipls favour pls convey birthday wish nimya pls today birthday ok feel like john lennon cos darren i _ considering mah ask i _ bother trust answer pls wish family merry x ma happy new year advance day crab run sea shorethe wave come n clear footprint crab crab ask frnd y r u clear beautiful footprint wave reply fox follow ur footprint catch that s y clear frndsship let u dwn gud nyt aight time want come slaaaaave summon time wish come anymore bill 3 a3365 that s bad let know change 6hrs appendix age range impossible chill let know 6hrs hello yeah get bath need hair come yeah weather ok hm friday can not wait dunno wot hell -PRON- be go to 3 week slob oh wait die e toot fringe lol know awesome phone click delete right want ok awesome question cute answer ask boy ur life smile amp answer fine gudnite leave topicsorry tell pls send correct da happen yo date eastender tv quiz flower dot compare d violet e tulip f lily txt d e f 84025 4 chance 2 win a100 cash wkent150p16 webpage s available wake yeesh late fall asleep til ltgt unsubscribed service ton sexy babe hunk straight phone subscription dear know ltgt th ltgt th birthday love gopalettan plan small gift day like participate welcome contact admin team detail kkfrom tomorrow onwards start ah u talk bout early morning noon fine remember hi babe jordan r u -PRON- be home abroad lonely text u wanna chat xxsp visionsmscom text stop stopcost 150p 08712400603 ok buy sound good post brand new mobile phone agent mob plus load goody info text mat 87021 ok april can not wait boy good yo ass quick ay wana meet sati _ wkg sit wait till 2 bus pick apart tell yesterday ok lor buy wat somebody andro steal ice don know didt msg recently shop mark distract isaiahd mum hope have great day hop text meet life great day abiola sense foot penis okay thought expert deep sigh miss surprised go net cafe miss ssi thinl role like sachinjust stand hit great trip india bring light project lucky smile bye abiola importantly discuss u kkhow training process ok lor ned 2 toa payoh 4 2 return smth u wan 2 send wat da car park wish hold tightly make important mean need life ask anthony dad bf wnevr wana fal luv vth book bed fal luv vth yen madodu nav pretsorginta nammanna pretsovru important alwa gud eveb todaysundaysunday holidayso work go bath ill place key window lord ringsreturn king store nowreply lotr 2 june 4 chance 2 win lotr soundtrack cds stdtxtrate reply stop end txt dear care reach homelove u lot  emigrate ok maybe 530 bit hopeful olol print forum post guy exact prob fix gpu replacement hopefully do not ignore walk mom right stagwood pass right winterstone leave victor hill address ltgt yo jp hungry like mofo creepy crazy ok din ur msg tessypls favor pls convey birthday wish nimyapls dnt forget today birthday shijas pathaya enketa maraikara pa friend priest u lousy run come half dead hee y say bad dat e gal know u wat u remind hr hop send message rent do not reserve completely go loan need hop balance ltgt way till mid march hope pay hi happy new year do not mean intrude pls let know tuition pay semester semester thank hello hun ru way -PRON- be good 2 date guy meet walkabout far meet soon how s lol go to month cash leave ltgt case collect week because announce blog good luck draw take place 28th feb 06 good luck removal send stop 87239 customer service 08708034412 short cute good person decide eh wat time liao get yes watch footie worry go blow phil neville wait 4 i _ inside da car park uncle abbey happy new year abiola free pa r u say order slipper cos pay return stop know good evening roger small problem auctionpunj ask tiwary free entry 2 weekly comp chance win ipod txt pod 80182 entry std txt rate tcs apply 08452810073 detail 18 tell tell treat hi hi hi uncle atlanta wish guy great semester 1st wk free gr8 tone str8 2 u wk txt nokia 8007 classic nokia tone hit 8007 poly nokia150p poly200p 16 u come 2 pick that s cool like photo sexy u fuckin believe do not know thur pre book cancel need b sack haha better late way swing ok finish 6 lookatme thank purchase video clip lookatme charge 35p think better send video mmsto 32323 bar b q store lifethis twat orange dungeree come ask wanted decking get punch message food ok go sleep hope meet wat make people dearer de happiness dat u feel u meet de pain u feel u miss dem let know detail fri u find cos tom fri mentionn chinese thank right think wat r u ur lecture sexy sexy cum text -PRON- be wet warm ready porn u fun msg free recd msgs 150p inc vat 2 cancel text stop customer place plan go join company jan 5 onlydon know happen boy love u grl hogolo boy gold chain kodstini grl agalla boy necklace madstini grl agalla boy hogli 1 mutai eerulli kodthini grl love u kano haha hear text ill tomorrow send shit babe thasa bit messed upyeh oh that s late good night u tomorrow iam go sleep night night cheer u tex mecause u werebor yeah okden hunny r uin wk satsoundaos likeyour have gr8fun j updat countinlot loveme xxxxx sorry meeting later yo howz u girl ring india l yeah bad hard live 121 chat 60pmin choose girl connect live 09094646899 cheap chat uks big live service vu bcm1896wc1n3xx tag friend count friend hear u4 4 rude chat private line 01223585334 cum wan 2c pic gettin shag text pix 8552 2end send stop 8552 sam xxx ok long time remember today have not shop lor juz arrive thank u good work because feel challenge know ur hdd case cost mystery solve open email send batch sweetie describe lucky actually awake noon 2nd time try contact u u win a1450 prize claim 09053750005 b4 310303 tcsstop sm 08718725756 140ppm today sorry day angry misbehave hurt plz plz slap urself bcoz ur fault basically good cheer card time year hot live fantasy 08707509020 20p min ntt ltd po box 1327 croydon cr9 5wb 0870k people msgs think iam addicted msg wrong bcoz do not know iam addict sweet friend bslvyl ugh hopefully asus ppl do not randomly reformat see facebook huh lol mah b pick tomorrow otside leu come 2morrow maga u plumber tape wrench borrow dear vouch holder claim week offer pc tsc apply vl bcum difficult ur go 2 bahama callfreefone 08081560665 speak live operator claim bahama cruise ofa2000 cash 18only opt txt x 07786200117 have not waitin usual ii come sch oredi meet da k k watch film cinema plus drink appeal tomo fr thriller director like mac 830 size elephant tablet u shove um ur ass people special sight remain special till sight maintain till life end cr da parent kidz friend n colleague scream surprise wait sofa naked dunno juz askin cos get card get 20 4 salon call hair sense tot da i _ cut ur hair good morning pookie pie lol hope wake u maybe wake fuck 3 problem happy birthday youdearwith lot loverakhesh nri howz person story 2nd time try 2 contact u u win 750 pound prize 2 claim easy 08712101358 10p min btnationalrate x2 ltgt go hi neva worry bout da truth coz truth lead 2 ur heart itaos unique person like u deserve sleep tight morning ur award city break win a200 summer shopping spree wk txt store 88039skilgmetscs087147403231winawkage16a150perwksub ur paper today e morn aft lick drop ready use mouth expect text hope go tomo great p diddy neighbor come toothpaste morning av new number wil u use oneta poke man everyday teach canada abi say hi 7 lor change 2 suntec wat time u come deam see online shop ask curious cuz ask nicenicehow work okay lor wah like def will not let haha term condition haha yup hopefully lose kg mon hip hop orchard weigh good r u working oh yes little weather kind coccoon home home phone weirdest auto correct oops phone die know yeah like good have not mus ask u 1st wat meet 4 lunch den u n meet lor u wan 2 ask da ge 1st confirm w asap say u mind bedroom minute ok sed sexy mood come 5 minut latr wid caken wife oh yeahand hav great time newquaysend postcard 1 look girl -PRON- be goneu know 1im talkin boutxx get divorce lol -PRON- s ur pin babe get money pick bread milk home want snow freezing windy urgent try contact u today draw show win a2000 prize guarantee 09066358361 land line claim y87 valid 12hrs come mahal bus stop ltdecimalgt don knowthis week go tirunelvai da baby promise treat bet good care like hotel dusk game think solve puzzle area thing thank ringtone order reference number x29 mobile charge 450 tone arrive customer service 09065989180 hi love go day fuck morning woke drop cell way stair alright phew miss pain catch sorry da thangamit mistake need coz rise redr bloodblood heartheart u u send tis ur friend include u like u 1u r poor relation 2u need 1 support 3u r frnd 2 4some1 luvs u 5 some1 pray god marry u try wifehow know time murder exactly chance win cash 100 20000 pound txt csh11 send 87575 cost 150pday 6days 16 tsandcs apply reply hl 4 info ur cashbalance currently 500 pound maximize ur cashin send collect 83600 150pmsg cc 08718720201 po box 11414 tcrw1 feel like dick sleeping text facebook message sup town plm come da way guess want time watch height recycling read twice people spend time earn money money spend spend time good morning smiling yup i _ comin yes princess toledo aight text mu swing need somebody door ron fri leh n say d tai feng can not reservation say wait lor good swimsuit allow okay soon good cute think friendship necessary share secret ur close frnd ok send u da late version da project good morning dear great amp successful day pls accept day beg change number squeeeeeze christma hug u lik frndshp den hug u 3 u r cute 6 u r luvd 9 u r lucky people hate u ok anybody ask abt u tel themp funny fact teach volcano 2 erupt tsunamis 2 arise hurricane 2 sway aroundn 1 teach hw 2 choose wife natural disaster happen go to ring weekend wot track lighter find sorry help babe need advice iull leave ok come medical college 7 p.m. forward da kkit goodwhen go lasagna vodka hi kate u ring asap xxx people tour think sofa thing send curious sugar tell go get drunk fuck chicken message late woould buzz hear word congratulation thank good friend u win a2000 xmas prize 2 claim easy 08718726978 10p minute btnationalrate look excuse city yup have coffee wif fren fren drive lift o shore takin bus u go to deus ex send email mind ltgt time night 44 7732584351 want new nokia 3510i colour phone deliveredtomorrow 300 free minute mobile 100 free text free camcorder reply 08000930705 tap spile seven pub gas st broad st canal ok ok come n pick u engin want tell short onedge late raviyog peripheral bhayandar east k actually guy meet sunoco howard right way 1 new voicemail 08719181513 moon come color dream star musical sm warm peaceful sleep good night finish eat get u plate leftover time thanx lot hurry home u big butt hang caller u food starving ask cook lol right diet everyday cheat mean fatty great day beautiful happen interview solve d case man find murder ltdecimalgt ltgt afternoon 1his wife call police 2police question 3wife siri sleep murder take place 4cook cook 5gardener pick vegetable 6housemaid go 2 d post office 7children go 2 play 8neighbour go 2 marriage police arrest d murderer immediately reply reason u r brilliant badrith chennaii surely pick usno competition tot group mate lucky have not reply wat time i _ need leave hey get half owe hey tmr maybe meet yck alrite sam nic checkin ur numberso ittb make easy pay ltgt yrs pay earlier worry sure gas station like block away house drive right armenia end swann howard u know ask dating service 2 contact can not guess 09058097189 reveal pobox 6 ls15hb 150p camera award sipix digital camera 09061221066 fromm landline delivery 28 day tuition 330 hm 1120 1205 mind smoke people use wylie smoke justify ruin shit dear good morning feel dear little med 8 hour 5 pain take hope die beautiful tomorrow come come today hunt beautiful tomorrow waste wonderful today goodmorn dunno lei i _ decide lor abt leona oops tot ben go n msg hi move in2 pub great 2 c u u cud come today voda number end 5226 select receive 350 award hava match 08712300220 quote claim code 1131 standard rate app message free welcome new improved sex dog club unsubscribe service reply stop msgs150p 18 honeybee say d sweetest d world god laugh amp say waitu havnt meet d person read msg moral god crack joke gmgngegn easy rct thnq adrian u text rgds vatian stop call say cancer throat hurt talk answering everyone call babysitt monday tough -PRON- be gonnamissu muchi il send u postcard butthere abouta chance merememberin asthere ofsi breakin contract luv yaxx ee msg na poortiyagi odalebeku hanumanji 7 1hanuman 2bajarangabali 3maruti 4pavanaputra 5sankatmochan 6ramaduth 7mahaveer ee 7 ltgt janarige ivatte kalisidare saturday olage ondu good news keluviri maretare inde 1 dodda problum nalli siguviri idu matra ltgt true neglet hi darlin finish 3 u 1 2 pick meet text number luv kate xxx set place heart mind mind easily forget heart remember wish happy valentine day surprised guess right lor okie i _ wan meet bishan cos bishan drive today oh ho time u use type word hi darlin work u trouble ijust talk mum morning good time night -PRON- be go soon u know serve mean huh hyde park mel ah opp get confuse tts e good choice den juz oh gei happend tron maybe ill dl 3d free message activate 500 free text message reply message word free term condition visit know girl safe selfish know get pa thank good night worry hope photo shoot go spiff fun workage freeze crave ice fml kay eh sorry leh din c ur msg sad lar watch tv u office yo -PRON- be right yo work ok darlin supose ok worry muchi film stuff mate babysit therexx say u mind bedroom minute ok sed sexy mood come 5 minut latr wid caken wife don wake check stuff see true available space pls embassy send mail nope juz work huh fast dat mean u have not finish painting number u live 11 party 7 day week study lightly think need draw custom checkbox know hardcore sac score big hundredhe set batsman send yettys number pls cost approx month ok theory test i _ go book think 21 coz think wanna jiayin be not free contact dating service know find land line 09050000928 pobox45w2tg150p fine know want question sorry get late start way u urself lor gas station k u bored come home babe love cover face kiss like throw smoking friend car time awesome check da walmart ill stay forget couple buck send tomorrow k love ya oh great ill disturb talk reverse cheat mathematic ure welcome catch u break english problem baby good time talk call left message sorry later oh brand sorry can not right happen r 2waxsto wat want come ill medical insurance able deliver basic care currently shop right medical insurance til friday morning that s ill major person guide right insurance time come come today ok tell fool like ok email yifeng oredi i _ fr r u sure understand wine good idea slurp minimum walk 3miles day ok problem taxi c e tomorrow tuesday tuesday think r go cinema brainless baby dolld vehicle sariyag drive madoke barolla run away frm u walk slowly amp kill u care stop sorry miss let talk time 07090201529 attend phone hate do not accept single message message phone holding free yo trip get postpone stock sorry later wait sir hey y reply pa hey elaine today meeting sorry go place ill tomorrow sorry tiime let hug break tear tomorrow go theatre come u tell come tomorrow electricity go fml look like find smoke great job andro ice etc etc  good afternon love today hope good maybe interview wake miss babe passionate kiss sea yup wun believe wat u neva c e msg send shuhui how s watch resize dear umma call finish miss plenty complimentary 4 star ibiza holiday a10000 cash need urgent collection 09066364349 landline lose box434sk38wp150ppm18 mean opposed drunken night k book huh go yoga basic sunday free msgwe bill mobile number mistake shortcode 83332please 08081263000 charge refundedthis free bt landline ok oops mum somerset bit far tomo soon x u workin overtime nigpun kallis dismissial 2nd test o guess get screwd 08712402972 immediately urgent message wait meet later r u cooking dinner ok thanx bull plan float ikea care world live mess day buy urgent mobile number award a2000 bonus caller prize 09058095201 land line valid 12hrs heehee funny tho simple arithmetic percentage yeah leave hour 4 sound value customer pleased advise follow recent review mob award a1500 bonus prize 09066364589 thank honey great day amazing quote life difficult decide what s wrong lie bring smile truth bring tear good night dear sleepwellamptake care i _ ask dad pick i _ lar ii wan 2 stay 6 meh ju chillaxin hey das cool iknow 2 wellda peril studentfinancial crisisspk 2 u l8r beautiful truth gravity read carefully heart feel light feel heavy leaf goodmorn want new nokia 3510i colour phone deliveredtomorrow 300 free minute mobile 100 free text free camcorder reply 08000930705 what s come hill monster hope great day thing r go fine busy joy father john john _ _ _ _ joy father u an ths hav ltgt iq tis s ias question try answer ill obey do not search online let know need pic resend remain bro bro uhhhhrmm be not have tb test bad -PRON- be sick haf enuff space get like 4 mb life fun great come truly special forget enjoy gbpsm want new video phone 600 anytime network min 400 inclusive video call download 5 week free deltomorrow 08002888812 reply value customer pleased advise follow recent review mob award a1500 bonus prize 09066368470 welcome reply age gender begin eg 24 m freemsg 1month unlimited free call activate smartcall txt 68866 subscriptn3gbpwk unlimited call help 08448714184 stoptxt stop landlineonly mobile 10 mth update late orange cameravideo phone free save free textsweekend call text yes callback orno opt new 2 club do not fink meet b gr8 2 c u leave msg 2day wiv ur area 09099726553 reply promise carlie x callsa1minmobsmore lkpobox177hp51fl true easy sure parent work tuesday need cover story haha okay today weekend leh hi darlin youphone -PRON- be athome youwanna chat know jack shit sayask helpful want pretend text response hypotheticalhuagauahahuagahyuhagga brainy yeah random dude need change info sheet party ltgt 7 study safe camera award sipix digital camera 09061221066 fromm landline delivery 28 day christma occasion celebrated reflection ur value desire affectionsamp tradition ideal christma send greeting joy happiness gr8 evening hi darlin cantdo anythingtomorrow myparent aretak outfor meal u free katexxx india win level series mean record plan good hear awesome deal gate charle tell night uh yeah time thinkin go free mobile video player free movie collect text 89105 free extra film order ts cs apply 18 yr save money wedding lingerie choose superb selection national delivery bring weddingfriend board work fine issue overheat reslove software inst pend come 8o clock yes care because know wiskey brandy rum gin beer vodka scotch shampain wine kudiyarasu dhina vaazhthukkal mon okie lor haha best cheap n gd food la ex oso okie depend wana eat western chinese food den u prefer sit ard lor u leh busy w work ltgt k oh send home sale sorry mail ya tell abt tht incident yes outside like 2 hour call family wake because start 1 ugh get outta class nowadays people notixiquat laxinorficated opportunity bambl entropication oblisingately opt ur book masteriaster amplikat fidalfication champlaxigating think atrocious wotz ur opinion junna do not file bagi work call mei will tell find room need lar jus test e phone card dunno network gd thk wait 4 sis 2 finish bath bathe dun disturb u liao u cleaning ur room ok ill right later friendship poem dear o dear u r near hear do not fear live cheer tear u r dear gud ni8 lunch come quickly open door hear u4 night knicker beg like u time 01223585236 xx luv nikiyu4net bit long cos accident a30 divert wadebridgei brilliant weekend thank speak soon lot love k yan jiu liao sit 4 bugis vill frm 10 3 den hop parco 4 nb sun cine frm 1030 2 den hop orc mrt 4 hip hop 4 bloomberg message center 447797706009 wait apply future bloombergcom seek lady street freak sheet phone haha figure find piece priscilla bowl actually fuck find excuse tampa point january urgent try contact u today draw show win a800 prize guarantee 09050001808 land line claim m95 valid12hrs yay finally lol miss cinema trip week day work dayexcept saturday sunday aathiwhere dear heart love mind wisdom eye r dream amp life frnd alwys touch good night amp sweet dream think ium wait bus inform get time soon thing quick question night end day morning come special way smile like sunny ray leave worry blue blue bay gud mrng probably come everybodys ltgt right get new year cos yetunde say want surprise do not money return mid january ltgt day return period end ask lot term mid sure check yahoo email send photo yesterday look wherr boytoy want new video phone750 anytime network min 150 text pound week 08000776320 reply delivery tomorrow hello love go day wish fine babe hope find job prospect miss boytoy tease kiss tell bad character u dnt lik try change ltgt will add tat 2 new year resolution wait ur replybe frankgood morning noi get rumour go buy apartment chennai yeah probably earlier change window logoff sound check da come room huh get lesson 4 lei n thinkin go sch earlier n tot parkin kent vale ok reach office ltdecimalgt amp mobile problem cannt voice asa free cool text head contact dating service know find land line 09050000878 pobox45w2tg150p wan2 win meetgreet westlife 4 u m8 currently tour 1unbreakable 2untamed 3unkempt text 12 3 83049 cost 50p std text happy birthday u find ur prince charming soon n dun work hard oh grand have bit party mention cover charge probably come serve say go bed sleep hope arnt pissed -PRON- would like tomorrow love xxxxxxxxxxxxxx bank granite issue strongbuy explosive pick member 300 nasdaq symbol cdgt 500 say ltgt year old man money ltgt wait check come ur home free day finish 6 mon n thur food life alle moneeppolum oru pole allalo nite fundamental cool life walk camera good 101mega pixel 3optical 5digital doom lovely holiday safe hope hav good journey happy new year couple week hi peteynoiaom ok want 2 chat coz avent speak 2 u 4 long timehope ur do alritehave good nit js love ya amx see ron burgundy captain party boat yeah money base guy loving staff placement training amrita college chat fact need money raise job profile like bpo cos say didnut nighter persevere find cheap apologise advance sleep be not think actually talk boss morning go place year tell car fix cheaper keep tell today hop come regret get number etc willing app class hang brother family reach 9 telling do not know hey go quit soon xuhui work till end month -PRON- be sorry bout nite wasnaot ur fault spouse pmt sumthin u 4give think u shldxxxx try neva mate yeah pretty good case scenario free today haf 2 pick parent tonite hey babe far 2 spunout 2 spk da mo dead 2 da wrld sleep da sofa day send naughty pix a1000 winner guarantee caller prize final attempt contact claim 09071517866 150ppmpobox10183bhamb64xe xma new year eve ticket sale club day 10 a.m. till 8 p.m. thur fri sit night week sell fast tyler get 8th leave long 9 like hour prepare pounded night actually mobile msg m work online need send ltgt send msg wil explain u later sorry later good evening home oic cos n sis get lunch today dad go dunno 2 eat sch wat mmmmm sooooo good wake word morning love mmmm fuck love lion devouring kiss sea pleased inform application airtel broadband process successfully installation happen 3 day happen dear silent tense 3 guy want come time sooner cough ii come lt 25 n pass lar e person e sm survey lol ok ill try send warn sprint dead slow prolly tomorrow thank meet monday th gower mate r u man good wale ill b aomorrow c u wk msg 4 random rock yr chik 100s filthy film xxx pic yr phone rply filth 69669 saristar ltd e14 9yt 08701752560 450p 5 day stop2 cancel single line big meaning miss 4 ur good life get like ltgt later feel like dad want talk apartment get late start omw love lol u feel sick din tell u jus 420 eye philosophy month upto 50 call 4 ur standard network charge 2 activate 9061100010 c wire3net 1st4terms pobox84 m26 3uz cost a150 min mobcudb ok lor town lei alreadysabarish ask da vijay go talk jaya tv urgent try contact u today draw show win a800 prize guarantee 09050000460 land line claim j89 po box245c2150pm lol know hey great inpersonation flea forum love text banneduk 89555 cost 150p textoperator g696ga 18 xxx chance search hard itlet try auction round 4 high bid a54 maximum bid a71 bid send bid e g 10 bid a10 83383 good luck celebrate nys family know taj mahal symbol love less know fact 1 mumtaz shahjahan 4th wife 7 wife 2 shahjahan kill mumtazs husband marry 3 mumtaz die ltgt th delivery 4 marry mumtazs sister question arise hell love great hari okcome home vl nice meet v chat collect valentine weekend paris inc flight hotel a200 prize guarantee text paris 69101 send de webadr get salary slip fine send greeting customer loyalty offerthe new nokia6650 mobile a10 txtauction txt word start 81151 4tctxt tc 150pmtmsg dint touch yup leave right soon believe true incredible txt reply g learn truly amazing thing blow mind o2fwd 18ptxt yeah sure leave min teach ship car sign maturity start say big thing actually start understand small thing nice evening bslvyl yeah confirm stay weekend say i _ dun haf passport smth like dat i _ juz send email account multiply number independently count decimal point division push decimal place like show lovely night wake message hope smile know great morning ard 4 lor right project twin comin send maga money yesterday oh hi 07734396839 ibh customer loyalty offer new nokia6600 mobile a10 txtauctiontxt wordstart no81151 now4 t heart love mind wisdom eye r dream amp life frnd alwys touch good night amp sweet dream hot n horny willing live local text reply hear strt 150p msg netcollex ltdhelpdesk 02085076972 reply stop end ride equally uneventful pesky cyclist time night wereare free nalla adi entey nattil kittum send wife text buy tell relax wkend escape theatre go watch kavalan minute cost hire hitman lor sorry later want new nokia 3510i colour phone deliver tomorrow 200 free minute mobile 100 free text free camcorder reply 08000930705 huh can not 2 ur house hand right good morning princess happy new year congratulation win winner august a1000 prize draw 09066660100 prize code 2309 aight head wat r u busy wif work know mood today jay tell cps cause outage conserve energy sure check happen area hey morning come ask pa jordan get vote nite mean get epi -PRON- s fine -PRON- s idea pls come quick can not bare joy father john john _ _ _ _ joy father u an ths hav ltgt iq tis s ias question try answer m unable cal let meet bhaskar deep ill meet library k roommate want dubsack friend want plan bring extra tell know sure depend individual lor e hair dresser pretty parent look gong u kaypoh dunno wat collecting ok c i _ enjoy watch play football basketball outdoors ask macho price range want new plus interfued blackberry bold ltgt bb sorry send blank msg yup try 2 study hey check da list da 8007 25p 4 alfie moon child need song ur mob tell ur m8s txt tone charity 8007 nokia poly charity poly z 08701417012 profit 2 charity mean apology text drug ltgt night mean february april get place stay hustle forth audition season sister move away harlem go workout lor muz lose e fat damn poor zac stand chance messageno responcewhat happend want tel u thing u mistake k message send yeah right bring tape measure fri chance search hard itlet try meet u work tel shall work tomorrow head straight official england poly ringtone colour flag y mobile tonight game text tone flag 84199 optout txt eng stop box39822 w111wx a150 thank princess sexy oooh get plenty hui xin da lib big difference ltgt versus ltgt ltgt hrs cry stuff happen push edge underdtand cry sorry sorry life 2 babe feel let 4get itboth try cheer upnot fit soo muchxxlove u locaxx know hook mean right customer service announcement recently try delivery unable 07090298926 reschedule ref9307622 wat da model num ur phone skateboard despite fact get throw wind bandage shit arm minute stop club tone reply stop mix html term club tone cost gbp450week mfl house e sky dark liao rain get excuse 2 run rite hee sorry left phone upstairs ok hectic bird fall swoop date think wamma laidwant real doggin location send direct mobile join uks large dogging network txt dog 69696 nownyt ec2a 3lp a150msg carlos say pick later yeah set hey babe friend cancel visit request maangalyam alaipayuthe set callertune caller press 9 copy friend callertune hmm ill think ok forgive d hop away 7 langport town tonight want send virtual hug need probably go stuff issue right ill fix tomorrow come people senthil group company apnt 5 p.m. oh air talent study ill free weekend r u wear blue shirt n black pant waiti come ltgt min reach ur home ltgt minute great weekend langport sorry probably bed 9 p.m. suck ill xmas go2sri lanka frnd s juz wordnot merely relationshipit silent promise say wherevr whenevr forevr gudnyt dear huh 6 mistake ha u jus eat honey ar sweet turn phone mom tell cancer sister stop call hurt talk u u home love u honey sweetheart darling sexy bun sugar plum loverboy miss boytoy smack ass gym thank love rock yeah imma come because jay want drug ok thanx care yup thk u oso boring wat come look flat ok 50 away alot wiv work get woman come 630 moji inform save life thank win nokia 7250i win free auction send nokia 86021 hgsuite3422land roww1jhl 16 who s class hey r i _ online finish format great attract brothas promotion number 8714714 ur award city break win a200 summer shopping spree wk txt store 88039 skilgme tscs087147403231winawkage16 a150perwksub stupidit possible can not pick phone right pls send message lol happen vegas stay vegas hello hello hi lou sorry take long 2 reply leave mobile friend lancaster get bak neway -PRON- be sorry couldnaot ur baoday 2 hun use soc use home ii dunno 2 type word ar dad say hurry hell wake ltgt morning class bsn like ltgt minute know advise great shoot big load ready meet lobby come tonight happen dear tell sir wait free have movie laptop text finish long time ago shower eryth ok -PRON- be sure time finish tomorrow wanna spend evening cos vewy vewy lubly love xxx hello request ltgt rs5 transfer tirupur da winner specially select receive a1000 cash a2000 award speak live operator claim 087147123779am7pm cost 10p sbut luck2 catch noe i _ specify da domain nusstu ii sch ohi ask fun hahatake care i _ shall pouch hey loverboy love tell look picture ache feel leg fuck want need crave boy sweet word leave morning sigh go day love start study kent vale lor ii wait 4 ar ok good make money read gud habit nan bari hudgi yorge pataistha ertini kano aight want money free ringtone sub weekly ringtoneget 1st week freesend subpoly 816183 weekstop sms08718727870 okok okthenwhat ur today plan town v important sorry pa do not knw ru pa wat u meet i _ rite home lor i _ dun feel like comin ok oh pay outstanding commercial hasbroin august jump hoop pay lateso tomorrow morningtake care sweet dreamsu meummifyingbye network technical support associate go to rip uterus cool like swim pool jacuzzi house thank ringtone order reference number x49 mobile charge 450 tone arrive customer service 09065989182 colourredtextcolourtxtstar yeah gang ready blank blank wat blank lol movie collect car oredi leave orchard hi 2nights ur lucky night uve invite 2 xchat uks wildest chat txt chat 86688 150pmsgrcvdhgsuite3422landsroww1j6hl ldn 18yr splwat abt u whr ru chikku nt ya free aldrine rakhesh ex rtm herepls callurgent search 4 happiness 1 d main source unhappiness accept life way come u find happiness moment u live home guess good excuse lol frnd necesity life imagine urself witout frnd hwd u feel ur colleg watll u wth ur cell wat abt function thnk abt event espell care miss amp irritated u 4wrd dearlov frnd wthout u can not live jst takecare goodmorn gud mrng dear hav nice day old orchard near univ 4 taco 1 raja burrito right itus a6 ok how s street end library walk plz note call mobile co amp ask u type ltgt ltgt disconnect callcoz iz attempt terrorist use sim card itz confirmd nokia n motorola n verified cnn ibn stop ice cream stitch trouser da vijay go talk jaya tv 22 146tf150p hey bored thinking u wat r u nah wednesday bring mini cheeto bag name penis girl story add aight let know go to usf lip sync shangela ii neva tell noe home da aft wat bit ur smile hppnss drop ur tear sorrow ur heart life heart like wil care u forevr goodfriend dear vouch holder 2 claim 1st class airport lounge pass holiday vouch 08704439680 book quote 1st class x 2 buzz hey love think hope day go sleep miss babe long moment againlov smile haha sound crazy dunno tahan anot u early ya slow poo bloomberg message center 447797706009 wait apply future bloombergcom -PRON- be gloucesterroad uup later yeshere tv available work place yes place town meet exciting adult single uk txt chat 86688 150pmsg lol ouch wish stay bit longer god ask forgiveness little child give lovely reply join ltgt bus ask maybe message send glo free 1st week no1 nokia tone 4 ur mob week txt nokia 8007 txting tell ur mate pobox 36504 w45wq norm150ptone 16 ki send ltgt min smoking help work difficult time u know ask dating service 2 contact can not guess 09058095107 reveal pobox 7 s3xy 150p yesmum lookin strong sir goodmorn free  gr8 message r u leave congrat dear school wat r ur plan love girl office wonder smile sore hi wlcome wonder get eat lion uncle timi help clearing car come hostel m go sleep plz class hrishi ok bag hi speak maneesha v like know satisfied experience reply toll free yes ok lor msg b4 u mila age23 blonde new uk look sex uk guy u like fun text mtalk 6986618 30pptxt 1st 5free a150 increment help08718728876 fishrman wake early d mrng dark wait amp find sack ful stone strtd throwin thm in2 d sea 2 pass time atlast ju 1stone sun rise amp find tht r nt stone diamond moraldont wake early d mrng good night claim 200 shopping spree 08717895698 win mobstorequiz10ppm ur physics dear friend sorry late information today birthday love arpraveesh detail log face book number ltgt do not miss delicious treat r i _ go send online transaction dear get train seat low seat let know need salad desert beer shall wat r u whore unbelievable want funk ur fone weekly new tone reply tones2u 2 text original n good tone 3gbp network operator rate apply sure mean love know feel belly warm wish love shall meet dream ahmad adore kiss twink bear scallie skin jock call miss weekend fun 08712466669 10pmin 2 stop text 08712460324nat rate love want flood pretty pussy cum hey angry reply dr short cute good person remember bead come thread wishlist section forum ppl post nitro request start page collect time history need comfort luxury sell price india onionrs ltgt petrolrs ltgt beerr ltgt shesil ltgt feb ltgt love u day send dis ur value frnd evn 3 come ull gt married d person u luv u ignore dis u lose ur luv 4 evr actually nvm get hella cash ltgt ish try contact reply offer video handset 750 anytime network min unlimited text camcorder reply 08000930705 ok armand da happy sit na yup song bro creative neva test quality say check review online dude fakemy frnd get money tht y reffer uif u member wit mail link u vl credit ltgt rs il getiing ltgt rsi draw acc wen ltgt rs dude makin weirdy brownie sister awesome cookie take pic urgent try contact weekend draw show win a900 prize guarantee 09061701851 claim code k61 valid 12hour pls do not restrict eat anythin like day mm ask come funeral home audrey dad aight text address excellent wish right yep fine 730 830 ice age pls will not belive godnot jesus dunno wat 4 chikkuk wat abt tht guy stop irritate msg u long number vivek 74355 xma iscom ur award a500 cd gift voucher free entry 2 r a100 weekly draw txt music 87066 tnc sorry brah finished exam get arrest possession shit lttimegt pm right space want need start issue go suggest set definite outif greece maybe ready normal protect ethreat sib ask sensitive information like passwordsatmsm pin email share password anybody miss desparate recorded message leave day listen hear sound voice love hi online yahoo like chat someday goodmorningmy grandfather expiredso leave today congratulation u claim 2 vip row ticket 2 c blu concert november blu gift guarantee 09061104276 claim tsc costa375max yuou work get pc mom find spot work need sure come bit agree stop thinkin ipad ask macho question let pool money buy bunch lotto ticket win ltgt u ltgt deal ok askd u question hour answer watch tv lor nice like lor think chennai forget come auction i _ come n pick 530 ar early bird purchase go pay rent bank authorise payment erm u _ ill pick 645pm that will time park hey mate how s u honeydid u ave good holiday gimmi de gossx howz painit come todaydo say ystrdayice medicine chile ltdecimalgt hour drive come time subletting febapril audition season yes ammaelife take lot turn sit try hold steering yeah thought lemme know anything go later mmmm can not wait lick pls today ltgt do not want excuse fantasy football tv sky gamestar sky active play a250k dream team scoring start saturday register nowsky opt 88088 plz tell an bslvyl send fullonsmscom u town look forward sex cuddling sleep rounderso require truekdo u knw dis ltgt do not worry 1 day big lambu ji vl cometil enjoy batchlor party oh ya get hip hop open haha think jazz zoom cine actually tonight free leh kb lesson tonight free msg single find partner area 1000 real people wait chat nowsend chat 62220cncl send stopcs 08717890890a150 msg ok tomorrow find diff farm shop buy cheese way r u working win new aoharry potter order phoenix book 5 reply harry answer 5 question chance reader yep like pink furniture tho free msg ringtonefrom wmlid1b6a5ecef91ff937819firsttrue180430jul05 customer place wil cal u sir oh god find number glad text xafter msgs cst std ntwk chg a150 pure hearted person wonderful smile make hish enemy feel guilty enemy catch world smile goodmorn amp smiley sunday thataos alrite girl u know gail neva wrongtake care sweet donaot worryc u l8tr hunlove yaxxx theoretically yeah able come alright hooked guy know people town let math good oh ok wait 4 lect have not finish yeah usual guy town there be definitely people know join today formallypls prayingwill talk later happy sad thing past good morning multimedia message email okie scar u fat u dun wan u message sorry sir tomorrow senthilhsbc need person na leave vague say inform person account delay rent discuss housing agency rent place check online place usc ltgt hi juan -PRON- be come home fri hey course expect welcome party lot present ill phone u load love nicky x x x x x x x x x plz tell an bslvyl send fullonsmscom short cute good person gumbys special ltgt cheese pizza 2 know do tonight link picture send use like personal sized great aunt anniversary party tarpon spring cab availablethey pick drop door step oktake careumma unlimited text limited minute double min 1000 txt orange tariff late motorola sonyericsson nokia bluetooth free mobileupd8 08000839402 call2optouthf8 problem spend lot quality time urgent 2nd attempt contact u a900 prize yesterday await collection claim 09061702893 acl03530150pm hear week dear dave final notice collect 4 tenerife holiday 5000 cash award 09061743806 landline tcs sae box326 cw25wx 150ppm yes practice tell u 2 09066358152 claim a5000 prize u 2 enter ur mobile personal detail prompt careful thank wonderful time job natuition ii mean confirm tot juz oni ok okie depend like treat right brah later wait e car 4 mum lor u leh reach home 2004 account 07xxxxxxxxx show 786 unredeemed point claim 08719181259 identifier code xxxxx expire 260305 want new video handset 750 anytime network min half price line rental camcorder reply 08000930705 delivery tomorrow go fast asleep deartake care mean fat head sound like plan cardiff cold sit radiator like proper tongue -PRON- s good wondering will not hi -PRON- s smile cope long distance noe da car later c lar wear short important customer service announcement freephone 0800 542 0825 yeah lol today accept dayu accept brother sister lover dear1 best1 clos1 lvblefrnd jstfrnd cutefrnd lifpartnr belovd swtheart bstfrnd rply mean enemy ard 530 lor ok message i _ lor ok c u eh ur laptop get stock lei mon muz come look c get need ke qi ii bored izzit y suddenly thk wish think go to snow flurry usually melt hit ground eek snow ltgt bear freeringtone reply real poly eg real1 1 pushbutton 2 dontcha 3 babygoodbye 4 golddigger 5 webeburnin 1st tone free 6 u join a3wk 1 thing change sentence want 2 concentrate educational career -PRON- be leave oh perform write paper movie home midnight huh okay lor let ah coz know later drop card box right izzit rain have trouble sleep have not add i _ right lol need remember eat drinking appreciate keep company night babe smile babe lose try reboot yes nigh can not aha thk i _ get to home urself cos b go shop 4 fren present nooooooo go to bored death day cable internet outage sos pls playin space poker u come guoyang n tell u tell need r give second chance rahul dengra yeah fact ask need like hour ago strike red bird antelope begin toplay fieldof selfindependence believe flower contention growrandom y i _ wan c doctor daddy bb free msg gnarl barkley crazy ringtone totally free reply message right borderline yeah get landline number ask come anna nagar afternoon 545 lor ya 4 dinner gentle princess sweet gentle love u do baby girl hope u okay time ure phone miss u touch sorry go bed early nightnight like think possibility pub later hmm yeah groove -PRON- be look forward pound special get video tape pple type message lor u free wan 2 help hee cos noe u wan 2 watch infernal affair ask u ask shuhui oso hi dude hw r u da realy mis u today hungry buy food good lei mum n yun dun wan juz buy little bit refuse loan secure unsecured credit free 0800 195 6669 text help probably eat today think go to pop weekend u miss know u sleep v late y wake late haha do not angry practice real thing day training kiss feel nice day dear send lanre fakeye eckankar detail mail box dad ph specially select receive 3000 award 08712402050 line close cost 10ppm 16 tc apply ag promo ask message e time w u lor love aathilove u lot callin hi care bruv win value vodafone customer computer pick win a150 prize collect easy 09061743386 u turn heater heater set ltgt degree thank message appreciate sacrifice sure process direct pay find way test tomorrow class wonderful day trouble class dodgey u _ expecting tomo recovery time place free video camera phone half price line rental 12 mth 500 cross ntwk min 100 txt mobileupd8 08001950382 call2optout674 wot u 2 j night night tomorrow roger weure probably go rem 20 u think girl propose u today see ur bloody funky shit fuck faceasssssholeeee wish u feel great new offer double min double txt good orange tariff late camera phone 4 free mobileupd8 free 08000839402 2stoptxt tc reason team budget available buy unsold player base rate ceri u rebel sweet dreamz little buddy c ya 2moro need bloke ringtonek 84484 huh can not thk oredi page fren lor wif mum n sis lor nationwide auto centre like newport road like hey miss tm night phone charge smile meeting friend shortly juliana want friendship game play word do not start march end tomorrow yesterday today e ringtone club gr8 new poly direct mobile week hello sort town do not rush home eat nachos let know eta ok lor thk can not ticket cos like late u wan 2 look 4 ur fren darren wif bank granite issue strongbuy explosive pick member 300 nasdaq symbol cdgt 500 way ur home dizzamn aight ask suitemat nimbomson yep phone know obviously cos that s real word love cuddle want hold strong arm right r u continent pay like ltgt yrs difficult bored housewife chat n date 08717507711 btnational rate 10pmin landline try reply sm video mobile 750 min unlimited text free camcorder reply 08000930705 del thur kkwhen treat 2nd time try contact u u win a400 prize 2 claim easy 087104711148 10p minute btnationalrate go to worry money use gift year do not bad beneath pale moon light think u dream come true goodnite amp sweet dream pattern emerge friend tell drive come smoke tell weed fiendmake smoke muchimpede thing hesitant ow u deyi pay 60400thousadi tell u -PRON- be fine babe be not 2 tho see scary movie y funny want 2mrw afternoon town mall sumthinxx reach home 5 min forget work today wanna chat thing ok drop text free bored etc ring hope nose essay xx ha walk tram cousin say walk vic market hotel wan2 win meetgreet westlife 4 u m8 currently tour 1unbreakable 2untamed 3unkempt text 12 3 83049 cost 50p std text customer service representative freephone 0808 145 4742 9am11pm win guarantee a1000 cash a5000 prize discuss mother ah ok sorry text amp drive coherently receive week triple echo ringtone shortly enjoy place room cheap eek lot time especially american pie like 8 minute long stop sing gran onlyfound afew day agocusoon honi uve select stay 1 250 british hotel holiday value a350 dial 08712300220 claim national rate bx526 sw73ss university southern california pick rayan macleran u gd lor shopping get stuff u wan 2 watch infernal affair come lar ball time call wat time i _ wan today ltgt mca conform oh ok wat ur email yes princess go moan lol ok remember til nite u _ good evening u s cool text sorry vikky watching olave mandara movie kano trishul theatre wit frnd happy babe woo hoo party dude take italian food pretty dress pantie wot u 2 thout u go to txt bak luv k choose receive a350 award pls claim number 09066364311 collect award select receive value mobile customer hold do not flatter tell man pint carlin minute hope scared can not pick phone right pls send message home n ready customer service representative freephone 0808 145 4742 9am11pm win guarantee a1000 cash a5000 prize time u literally bed like ltgt hour yes reg ciao mean website yes win a1000 cash prize prize worth a5000 thank ringtone order reference number x49your mobile charge 450 tone arrive customer service 09065989182 lol starve lose pound end day yeah impression get ok ok care understand motivate darkness shin light wait find good friend trust love bslvyl ya ok dinner sleep timeyou do not ne plan nxt wknd coz want come ok school starting stay weather like food social support system like friend school thing important ha ha nan yalrigu heltiniiyo kothi chikku u share thing wit meso far tell body utter word abt u ur trust tell plz nxt time do not use word meok chikkub noice text hi di yijue meet 7 pm esaplanade tonight moby pub quizwin a100 high street prize u know new duchess cornwall txt 82277unsub stop a150 008704050406 sp week savamob member offer accessible 08709501522 detail savamob pobox 139 la3 2wu a150week savamob offer mobile aight set free think text blake address occur sure thought hi dear see dear happy battery low age abj prof pass paper sem congrat student enna kalaachutaarama prof gud mrng do not kick coco fyi go to sporadically start like ltgt bc do shit contact dating service know find mobile landline 09064017305 pobox75ldns7 tbspersolvo chasing sept fora38 definitely pay thank information ignore kath manchester hope youaore have fun u tomorrow love jess x ok will not disturb know avoid burden reach home n bathe liao u loan purpose bad credit tenant welcome noworriesloanscom 08717111821 actual exam harder nbme lot sickness thing go round easy hope u feel good soon lol god pick flower dippeditinadew lovingly touch itwhichturnedinto u gifted tomeandsaidthis friend 4u 87077 kick new season 2wk free goal news ur mobile txt ur club 87077 eg villa 87077 hey sathya till dint meet single time see situation sathya gam go outstanding innings o play smash bros ltgt religiously sir good morning hope good weekend call let know able raise ltgt dad say rest available mid feb short hop help good day abiola hurry home soup check room befor activity good afternoon love good word ym tm smart slave smile drink coffee await ok bit ex u better eat smth feel guilty orange bring ringtone time chart hero free hit week ringtone pic wap stop receive tip reply stop lemme know private 2003 account statement 07973788240 show 800 unredeemed s m point 08715203649 identifier code 40533 expire 311004 need stop go bed fucking deal love brother time talk english grin hey muhommad penny say hello sea try reply sm video mobile 750 min unlimited text free camcorder reply 08000930705 hey doc pls want nice t shirt hubby nice fiting one budget ltgt k help pls load d card abi hwkeep post luv 2 mj remain unconvinced elaborate test willpower life wen v life wen v miss real value people wil realize absence gud mrng miss answerin phone actually pretty reasonable hour sleepy hey rite u ae10 evey mnth go bed prin think u_thanks tomo u dun drive 2 sch home lei gsoh good spam ladiesu b male gigolo 2 join uks fast grow men club reply oncall mjzgroup 087143423992stop reply stop msga150rcvd ok come ur home half hour u secret admirer look 2 contact ufind rreveal think ur specialcall 09058094599 u hav frnd ashwini ur college jus finish lunch way home lor tot u dun wan 2 stay sch today k 2marrow come class hot live fantasy 08707500020 20p min ntt ltd po box 1327 croydon cr9 5wb 0870 national rate pls send address sir want lick pussy yo go to stock tomorrowtoday try dubsack urgent mobile number award ukp2000 prize guarantee 09061790125 landline claim 3030 valid 12hrs 150ppm prolly yeah think dinner treat ok stand away heart ache wonder crave sorry hear book kinda jokethet look skinny white girl lineyou camera like cast look doinghow sure thing big man hockey election 6 shouldnut long hour watch lor see swatch thk ok ard 116 need 2nd opinion leh hiya u like hlday pic look horrible take mo how s camp amrca thing speak soon serena babe go day miss love love kiss hope go yunny go late doc prescribe morphine because pain med wait mom bring med kick fast go to try later cool want kappa meet outside mu hey sexy bun tell adore loverboy hope remember thank sister law meatball grin love babe b approve panalambut post spjanuary male sale hot gay chat cheap 08709222922 national rate 15pmin cheap 78pmin peak stop text 08712460324 10pmin sorry later do not thnk wrong calling workin job mean ur luck love ur fortune love love u hi baby -PRON- have get work want u allday hope do not piss u phone today u xxx freemsg todays day ready horny live town love sex fun game netcollex ltd 08700621170150p msg reply stop end yahoo boy bring perf legal need know outsider foot get ltgt good donut need receiptsuowell u _ yes tell whatus number ring green quote tell jerry cartoon person irritate u love u vry fail express gud nyt leave wif lar ii wan carry meh heavy da num 98321561 familiar i _ beautiful truth expression face see depression heart understand love one gud ni8 infact happy new year seeing simpson movie release july 2007 band die start film agreen day bblue day cr day send b c shame maybe cld meet hrs tomo lol despite cramp like girl canaot wait cornwall hope tonight isnaot bad itaos rock night shite iaom go kip good night speak soon pls help tell sura expect battery hont pls send message download movie thank amanda regard renew upgrade current tmobile handset free charge offer end today tel 0845 021 3680 subject ts cs find way app phone eh net cafe job geeee need babe crave work mon thur sit can not leh book liao day u free ii comin fetch oredi nannys address urgent 4 costa del sol holiday a5000 await collection 09050090044 toclaim sae tc s pobox334 stockport sk38xh costa150pm max10min haf u eaten wat time u wan 2 come want new video phone 750 anytime network min half price line rental free text 3 month reply 08000930705 free delivery yo chance friend want ask big order single single answer fight plus say broke do not reply certainly put thing perspective like happen get tv 2 watch meh u work today feel sonot convey reason ese mobile 11 month u r entitle update late colour mobile camera free mobile update co free 08002986030 go get exciting karaoke type activity plan debate play football eve feel lazy tell come wednesday ok call mom instead fun dear vouch holder claim week offer pc tsc apply desperate armand work right congrat nokia 3650 video camera phone 09066382422 call cost 150ppm ave 3mins vary mobile 16 close 300603 post bcm4284 ldn wc1n3xx hear answering text guess flake say jb fantastic mmmmmm love youso ahmad wait year begin second take closer happy new year love pls joke school cos fee university florida actually ltgt k pls holla sorry later ok say get wisdom tooth hide inside n mayb need 2 remove pls pls drink plenty plenty water queen go royal wedding lag sad touch thank skype ok lor tog lor team wait player i _ send copy da report swhrt u deyhope ur ok tot u 2daylove n misstake care ok da plan wil pick urgent 0906346330 abta complimentary 4 spanish holiday a10000 cash await collection sae tcs box 47 po19 2ez 150ppm 18 sorry later meeting need shit tomorrow know awake like 6 good registered vote hmm ok stay like hour cos eye sore dear get bus directly calicut mm umma ask vava come tell play later general price ltgt oz let know ifwhenhow want sorry later moment dayha valuemorning bring hopeafternoon bring faithevening bring luvnight bring restwish u find todaygood morning ltgt w jetton ave forget ok come home use foreign stamp country double min txt 4 6months free bluetooth orange available sony nokia motorola phone mobileupd8 08000839402 call2optoutn9dx sorry lot friendofafriend stuff talk actual guy want buy free 1st week no1 nokia tone 4 ur mob week txt nokia 8007 txting tell ur mate pobox 36504 w45wq norm150ptone 16 want funk ur fone weekly new tone reply tones2u 2 text original n good tone 3gbp network operator rate apply cmon babe horny turn txt fantasy babe -PRON- be hot sticky need reply cost a150 2 cancel send stop come tomorrow di wylie update weed dealer carlo go freedom class lunsford happy baby alright job hope fine send kiss smile sea kiss kiss c movie juz minute decision mah juz watch 2 lar tot i _ interested enjoy semester care brother important information 4 orange user 0796xxxxxx today ur lucky day2 find log fantastic prizeawaiting door let use week princess home lar i _ wait 4 lor stuff want kfc tuesday buy 2 meal 2 gravy 2 mark 2 dahe stupid daalway send like thisdon believe messagepandy mental oi go to ring miss alert number call left message 07008009200 attend ard 530 like dat lor juz meet mrt station i _ dun haf come dear sleeping p er mw -PRON- be fill tuth aight office 4 pm go hospital actually wait 2 week start put ad lor lor u free sat rite u wan 2 watch infernal affair wif n darren n mayb xy plz note call mobile co amp ask u type ltgt ltgt disconnect callcoz iz attempt terrorist use sim card itz confirmd nokia n motorola n verified cnn ibn yo friend mine lookin pick later tonight stupid auto correct phone double eviction week spiral michael good riddance world suffer lot violence bad people silence good people ok that s cool raglan rd edward rd cricket ground gimme ring ur closeby tuesday buy egg daplease start skye bookedthe hut time way sir u pig leh sleep dad wake 10 smth 2 eat lunch today home love hope drastic dare sell pc phone reach home tired come tomorro freemsg record indicate entitle 3750 pound accident claim free reply yes msg opt text stop u win a100 music gift voucher week start txt word draw 87066 tscs skillgame 1winaweek age16 150ppermesssubscription life style garment account lol wtf random btw lunch break sez how s u de arab boy hope u r good love 2 evry1 love ya eshxxxxxxxxxxx lie man let know miss think great day send bimbo ugo number ill appreciate safe detroit home snow enjoy ur colour euro 2004 241 offer england flag 3lions tone ur phone click follow service message info okie aight chillin friend room text way toshiba portege m100 gd welp sort semiobscure internet thing text pass 69669 collect polyphonic ringtone normal gprs charge apply enjoy tone accordingly repeat text word ok mobile phone send loosu hospital de do not let careless eighth omg joanna freaking look friend find photo ask stuff myspace log like year send ur birthdate month year tel u ur life partner method calculation reply juz have not wake bit blur blur dad go liao can not cum oso clothe jewelry trip block breaker come deluxe format new feature great graphic tmobile buy a5 reply bbdeluxe challenge aah cuddle lush need lot tea soup kind fumbling important information 4 orange user today lucky day2find log fantastic surprise awaiting late sad story man week bday wife do not wish parent forget n kid go work colleague wish plan family set stone pls do not forget study believe actually get taunton wow den weekday get special price haiz can not eat liao cut nail oso muz wait finish drivin wat lunch muz eat wat break list reason nobodys town tell sarcastic faggy ltdecimalgt m common car good buy china asia find expensive ill holla great test courage earth bear defeat lose heartgn tc sorry -PRON- be stil fuck nite go tob 430 get 4 work 630 hey what s plan sit beauty sleep help ur pimple great hope connection mode man cos know old friend lead today natalja 25f invite friend reply yes440 no440 stop send stop frnd 62468  kind miss train cos asthma attack nxt half hr drive sure park ball move lotwill spin difficult bat haiyoh maybe hamster jealous million send aunty number glad follow dream reach home finally urgent important information 02 user today lucky day 2 find log fantastic surprise awaiting winner value network customer select receivea a900 prize reward claim 09061701461 claim code kl341 valid 12 hour wn u r hurt d prsn s close 2 u fight wit dem coz somtim dis fight save relation bt quiet leaf nothing relation gud eveb u science tell chocolate melt sunlight walk sunlight bcozi want loss sweet friend yes come nyc audiition try relocate pock congrat great want tell tell score cos relax motivate thank share wud mind u do not miss u do not need u wil hurt wen u need amp u do not tell care hey mr what s bill brison book language word okay good problem thanx information ikea spell cap yell thought leave sit bed mess come say go get home class try bullshit make want listen ure gwr good watch because drunk motherfucker kit strip bill 150p netcollex ltd po box 1013 ig11 oja hmv bonus special 500 pound genuine hmv voucher win answer 4 easy question play send hmv 86688 info 08712402578 immediately urgent message wait thesmszonecom let send free anonymous mask messagesim send message theredo potential abuse 4 costa del sol holiday a5000 await collection 09050090044 toclaim sae tcs pobox334 stockport sk38xh costa150pm max10min hurt tease cry end life die plz rise grave stupid miss u nice day bslvyl erm woodland avenue parish magazine telephone number ta job available let know cos need start work aiyar hard 2 type u later free tell n scold n tell u yup free good good billy mate go jog enjoy concert yo come carlo soon awww dat sweet think nice time tonight ill probably txt u later cos -PRON- be lonely xxx guess useless call u 4 important ha ha pop loo helloed hello dint tell angry tell abi u know ask dating service 2 contact can not guess 09058091854 reveal po box385 m6 6wu happen r 2waxsto wat want come ill medical insurance able deliver basic care currently shop right medical insurance til friday morning that s ill major person guide right insurance rs shelf buy egg babe swollen gland throat end ur change 2 da report big cos change 2 da previous report captain room speak bcaz mobile problem listen cannt listen voice call later hiya stu wot u 2im truble home moment evone hat u wot hell av y will not u tell text bck luv dan si mokka player play gautham hey mr go sea view have couple gay mean game bell ya finish k jason say go to ltgt sorry able morning aight informed have number sir search good dual sim mobile pa unnecessarily hostile dude get haircut breezy congrat 2 mobile 3 g videophone r 09061744553 videochat wid ur mate play java game dload polyh music noline rentl bx420 ip4 5we 150pm 1appledayno doctor 1tulsi leafdayno cancer 1lemondayno fat 1cup milkdayno bone problm 3 litre watrdayno disease snd th 2 u care think king hill thing nope come online tell say happy birthday y bishan lei tot i _ lavender boo time u u suppose shopping today u sound like manky scouse boy stevelike travel da bus homewot u inmind 4 recreation dis eve fyi take quick shower epsilon like ltgt min tuesday night r u 4 real yes appt get outta class go to gym want send ltgt mesage today that s y sorry hurt ii write wat ha read way u like 2 judgementali save friday pub valentine game send dis msg ur friend 5 answer r d love u qu colour suit best hidid ask waheeda fathima leave enjoy urself tmr use half8th u 447801259231 secret admirer look 2 contact ufind rreveal think ur specialcall 09058094597 -PRON- would proof ltgt rs will not allow work come home day ii bot note oredi cos juz rem get yes rent expensive way save night end day morning come special way smile like sunny ray leave worry blue blue bay gud mrng how s pain deary r u smiling fun fact think armand eventually build tolerance shit considering smoke get fuck like 2 hit important information 4 orange user 0789xxxxxxx today lucky day2find log fantastic surprise awaiting sorry help great send account number hellogorgeous how s u fone charge lst nitw wen u texd hopeu ad nice wkend -PRON- be sure u lookin 4ward 2 cin u 2mrw luv jaz date service ask 2 contact u shy 09058091870 reveal pobox84 m26 3uz 150p ii send content page night sweet sleep exorcism emily rise sleep hug snog think u get think use get good ni8 right second get to hit people evry emotion dsnt hav wordsevry wish dsnt hav prayrs u smile world wit uothrwise d drop tear dsnt lik 2 stay wit uso b happy good morning smiling remember ujhhhhhhh computer ship address sandiago parantella lane wtf poop mm yes dear look hug p like dis sweater fr mango size irritating 1 number 2 go to massive pain ass involve possible anytime lor want new video handset 750 time network min unlimited text camcorder reply 08000930705 del sit purity friendship smile reading forward messageit smile see gud evng ur balance a600 question complete landmark big bob b barry c ben text b c 83738 good luck fineabsolutly fine k sure consent form v ur tonexs subscription renew charge a450 choose 10 poly month billing msg prize customer tc 18 150pmin polo ltd suite 373 london w1j 6hl busy torch 9ja u have dinner w check internet connection v slow canut send try later thing tomo mathew tait edward anderson yeah sure thing mate haunt get stuff sort -PRON- be go sound promote hex way do not know number joke need lar engin cos sis art today thank honey hear leave bit longer 2 crowd try later great advice thank hope cardiff want new nokia 3510i colour phone deliver tomorrow 200 free minute mobile 100 free text free camcorder reply 8000930705 -PRON- be snowboard trip wonder planning befor goa meet greet kind affair cheer si watch live christmassy k ready ltgt know god create gap finger come amp fill gap hold hand love great test courage earth bear defeat lose heartgn tc new year plan recpt 13 order ringtone order process baaaaaaaabe wake miss crave need get message ignore yes shopping dear mood can not drive brother drive dad tell shola college medicine visit academic department tell academic secretary current situation ask transfer ask check sagamu thing lautech vital complete medical education nigeria expensive expensive get citizen rate new zealand yes finish watch day live love juz google n search 4 qet time lose good one bcoz good friend care close friend understand true friend stay forever word time gud ni8 get home sorry later ltgt min dun need use dial juz open da browser n surf register subscriber u enter draw 4 100 gb gift voucher replying enter unsubscribe text stop awesome plan time like ltgt text detail wee bit care sleep wellyou need learn change lifeyou need convinced thati wait conversation usget convinced timeyour family sensesrespect overemphasiseor u role life chance win free bluetooth headset simply reply adp do not na hi hi hi hi hi ya can not display internal sub get to extract say wrong sorry de sad story man week bday wife do not wish parent forget n kid go work colleague wish stupid challenge godyou do not think write instead respond imm yeah able text ready meet v skint fancy bevieswaz gona meet othrs spoon jst bin watchng planet earthsofa v comfey do not hav gd night say quit least5time day wudnt notice nah mind go to want come taunton tonight u tell free little darling far week need coffee run tomocannot believe time week u _ ok msg u b4 leave house west coast haiz iill forever come mmm fuck merry christma alright thank advice enjoy night ama try sleep update face book status frequently see messageit k da u eat bank money aiyar dun disturb u liao thk u lot 2 aft ur cupboard come hey r watch movie tonight prob b home early yar lor u noe u dat route 2mro come gym machan goodnight do not think need yellow card uk travel ask go ltgt buck u look 4 da lib get stuff have not finish sound great -PRON- be go sleep good night b floppy b snappy happy gay chat service photo upload 08718730666 10pmin 2 stop text 08712460324 housemaid murderer coz man murder ltgt th january public holiday govtinstituition closedinclud post officeunderstand come u get easy look reason risk life love want grasp pretty booty get tea sure flavour go 2 orchard laready reach soon u reach dear deny word know old dom tell yesterday roger get touch night want meet today 2 pm come tampa ffffuuuuuuu 2 celebrate baoday y merry christma u annie tell special stock talking send like urgent ur award complimentary trip eurodisinc trav acoentry41 a1000 claim txt dis 87121 186a150morefrmmob shracomorsglsuplt10 ls1 3aj awesome minute problem walk julianaland oblivious go thing constantly ear want know upsetit listen tell go upset want surprised mad tell stop do not let dehydrate guess ltgt min home ard wat time u reach storm msg wen u lift d phne u hello u knw wt d real meaning hello d girl yes u knw dat girl margaret hello d girlfrnd f grahmbell invnt telphone moralone 4get d person want mapqu look usf dogwood drive aight plan come later tonight die accidentally delete e msg suppose 2 e sim archive haiz sad welcome ukmobiledate msg free give free call 08719839835 future mgs bill 150p daily cancel send stop 89123 wish great day moji tell offer speechless offer easily great length behalf stunning exam friday touch sorry thank reply today ur visa come r u buy gucci bag sister thing easy uncle john bill need think money later sha sorry flaked night shit seriously go roommate tonight say look pretty wif long hair wat thk cut short 4 leh ranjith cal drpd deeraj deepak 5min hold cheer callin babesozi culdnt talkbut wannatell u detail later wenwecan chat properly x hey u gym say u mind bedroom minute ok sed sexy mood come 5 minut latr wid caken wife good thank lol sms u n xy lor sorry lor da guy neva c u person sort know u lor u wan 2 meet xy ask 2 bring u 4 meeting lemme know swing pick free basically time 1 semester wa u efficient gee thanx 3 receive mobile content enjoy s able sleep want explicit sex 30 sec ring 02073162414 cost 20pmin meet soon princess ttyl pick 515pm taunton want come oh 4 outside player allow play know lor erutupalam thandiyachu y can not u try new invention flyi joking noit ful song lyric u reckon need 2 arrange transport u thank true lov n care wil nevr unrecogniz somone make mistake value definitly undrstnd start miss shop eh ger tok abt syd lehhaha stand good weekend miss miss khelate kintu opponenter miss dhorte lage that s d rule great phone receiving quality win chance plz lt3 new deus ex game comin early yr computer fry essential spare fucking idiot roommate looovvve leave thing run ltgt 7 friend study warwick plan shopping concert tmw cancel havnt see age yeah probably couple hour top lol grin babe thank think man bus slow think go to hope text meet smile let text reason smile beautiful day case wake wonder forget care grandma today parade ok late nokia mobile ipod mp3 player a400 proze guarantee reply win 83355 norcorp ltda150mtmsgrcvd18 sm service inclusive text credit pls goto login 3qxj9 unsubscribe stop extra charge help 08702840625comuk 220cm2 9ae nvm ur time wat da decision wot u 2 bitch stupidit possible tell hr want post chennaibecause work mobile club choose quality item mobile 7cfca1a guy leave neva grumble sad lor hee buy tmr lor aft lunch meetin 4 lunch tmr neva hear fr lei ii get lot work ar able ii takin linear algebra today weekend fine excuse decorate sorry miss babe late sleep hope enjoy drive lesson boytoy miss tease kiss project pa come money win win number 946 wot sure fuck gt random see old roomate campus graduate congrat 2 mobile 3 g videophone r 09061744553 videochat wid ur mate play java game dload polyh music noline rentl bx420 ip4 5we 150pm man need beautiful intelligent care love adjustable cooperative wife law allow wife suck get plan yo valentine yo valentine get nottingham 3 hrs 63miles good thing love man 40 mph hey ho think say clearly ok leave need ask come hi good mornin thanku wish u d u want 2 meet 2morro actually decide hungry leave v send i _ cos shop wif darren jus n call 2 ask wat present wan lor start guess wif n finally guess darren lor want cock hubbys away need real man 2 satisfy txt wife 89938 string action txt stop 2 end txt rec a150ea otbox 731 la1 7ws understand loss gain work school u miss u have not 2 bit bored holiday want 2 bak 2 college sad be not itxx hiya probably come home weekend forget love walk watch keep heart warm wish thing different wonder able value pls continue brisk walk drug askin find thing laugh love dearly ok day make dinner tonite invite gr8 new service live sex video chat mob sexy dirty girl live ur phone 4 detail text horny 89070 cancel send stop 89070 money 4 steve mate -PRON- be late tellmiss -PRON- be way blame day ur life good day u happiness bad day u experience essential life god blessing good morning normally use drink water daily dare ask luck sort car partys place usf charge contribute way greatly appreciate yeah get room urgh coach hot smell chip fat thank especially duvet predictive text word hiya night naughty buy clothe little ready shopping tho kind time wanna meet freemsg hi baby wow get new cam moby wanna c hot pic fancy chatim w8 in 4utxt rply chat 82242 hlp 08712317606 msg150p 2rcv try reach success derek class y lei v lazy get wat dat day i _ send da url can not work try weight tear come ur heart fall ur eye remember stupid friend share bslvyl hey mate speak mag people weure deliver end month deliver 24th sept talk later hope have good week checking haha friend tyler literally ask dubsack hey u fancy meetin 4 cha hav lil beverage txt ring meet l8r tired get 3 vpist love pete x x x great safe trip do not panic surrender symptom u love 1u like listen song 2u stop u beloved 3u angry sun ah thk mayb dun anythin thk book e lesson e pilate orchard mrt u noe hor try dear read exam 7 wonder world 7th 6th ur style 5th ur smile 4th ur personality 3rd ur nature 2nd ur sm 1st ur lovely friendship good morning dear gettin rdy ship comp hospital da return home evening piss talk realise u point itnow read backwards think da wil awake oh good afternoon boytoy go walk day police abstract wake miss babe u try come ltdecimalgt pm vikkyi otside nw il come tht time tell address honeybee say d sweetest d world god laugh amp say waitu havnt meet d person read msg moral god crack joke gmgngegn buy blackberry bold 2 torch buy new let know plus say buy ltgt g wifi ipad say ltgt g thinkin hiya how s go sunny africa hope u r avin good time big old silver big kiss time come tomorrow wanna laugh try chitchat mobile logon txt word chat send 8883 cm po box 4217 london w1a 6zf 16 118pmsg rcvd cha quiteamuz thataoscool babe omg u know eat urgent 2nd attempt contact uu win a1000call 09071512432 b4 300603tcsbcm4235wc1n3xxcallcost150ppmmobilesvary maxa7 50  directly abt 4 row i _ congratulation ur award 500 cd voucher 125gift guarantee free entry 2 100 wkly draw txt music 87066 contract mobile 11 mnth late motorola nokia etc free double min text orange tariff text yes callback remove record urgent 09066350750 landline complimentary 4 ibiza holiday 10000 cash await collection sae tcs po box 434 sk3 8wp 150 ppm 18 plan hi engagement fixd ltgt th month know shocking bthmm njan vilikkamt ws al sudn course math day chapter month finish wow think common ur freak u chop ur chance win a250 wkly shop spree txt shop 80878 tsc custcare 08715705022 1x150pwk noooooooo thing need stress life fair u secret admirer look 2 contact ufind rreveal think ur specialcall 09065171142stopsms08718727870150ppm mila age23 blonde new uk look sex uk guy u like fun text mtalk 6986618 30pptxt 1st 5free a150 increment help08718728876 swing bit get thing care firsg want wish happy new year want talk legal advice gary split person trip ptbo hope good babe love ya finish work tomorrow go theatre come u tell come tomorrow england official poly ringtone colour flag y mobile text tone flag 84199 optout txt eng stop box39822 w111wx a150 right be not phone number like ok wun b angry msg u aft come home tonight good time nice bit different weekend change ya soon yo sorry shower sup carlo pick swing usf little bit heat pa apply oil pa stuck da middle da row da right hand da lt lay airtel line rest hi u decide wot 2 4 bday ill prob jus vouch frm virgin sumfing freemsg txt 86888 claim reward 3 hour talk time use phone subscribe6gbpmnth inc 3hrs 16 stoptxtstop hey j r u feeling good plan staying night prolly til late thanx 4 puttin da fone need 8th campus atm pick hour oh haha den shld go today gee nvm la kaiez dun mind go jazz oso scared hiphop open can not catch run manage 5 minute need oxygen resort roller option live ltgt min y de ask like glad talk wat time i _ finish sorry da go mad pend work get clean how s favourite person today r u workin hard sleep nite nearly ring u 430 sunshine quiz win super sony dvd recorder canname capital australia text mquiz 82277 b ii call dad oredi good think send pix love nvm go wear sport shoe go late leh sorry later meeting long fuckin showr receive understand n act finally come fix ceiling u need presnt bcz u can not mis love jeevithathile irulinae neekunna prakasamanu sneham prakasam ennal prabha mn prabha islove get do not mis jus finish blowing hair u finish dinner bus love lol know see dollar store customer service representative 0800 169 6031 10am9pm win guarantee a1000 cash a5000 prize today voda number end 7634 select receive a350 reward match 08712300220 quote claim code 7684 standard rate apply saturday sunday holiday difficult everybody fun evening miss get hella gas money want grand nature adventure galileo little bit meet later oh wow that s gay firmware update help morphine come din c i _ yup cut hair k k pa lunch aha oh ho time u use type word captain vijaykanth comedy captain tvhe drunken course guess god get hold right hide anythi keep distance have not rip mobile content 08717509990 polytruepixringtonesgam download 3 sorry din lock keypad u get person story planning come chennai try contact reply offer video phone 750 anytime network min half price line rental camcorder reply 08000930705 god create gap btwn ur finger dat sum1 vry special fill gap hold ur hand plz do not ask y create gap leg okay go sleep later protect ethreat sib ask sensitive information like passwordsatmsm pin email share password anybody finally happen aftr decade beer cheap petrol goverment expect drink drive a400 xma reward wait computer randomly pick loyal mobile customer receive a400 reward 09066380611 r e meeting tmr lol yes add spice day hope have great day prasanth ettan mother pass away night pray family k work private 2003 account statement show 800 unredeemed s m point 08718738002 identifier code 48922 expire 211104 message great doctor india 1 drink appy fizz contain cancer cause age can not pick phone right pls send message tell infront ok prob lady genus second k yes swimming mum go robinson ok set let u noe e detail later nottel software send print out da -PRON- be realy soz imat mum 2nite 2moro bear god say oh idiot bear do not ur msgsometext miss send probably gas cash tomorrow customer service announcement recently try delivery unable 07099833605 reschedule ref9280114 forget 2 ask i _ smth card da present lei ii want 2 write smth sign leave house hi babe chloe r u smash saturday night great weekend u miss sp visionsmscom text stop stop 150ptext ii ready wewa 130 iriver 255 128 mb good thing get connection bw sry dajst nw come home cool night lemme know stay town haha yeah 2 oz kind shitload ok u shopping u pay d life mean lot love life love people life world call friend world ge alright bring like ltgt min pls do not play life eatin lunch hmmmbut day try g decide head ok prob surly ill come review march end ready sure problem capital complete far work lady tessypls favor pls convey birthday wish nimyapls dnt forget today birthday shijas pls food preferably pap slowly load sugar hour water slowly urgent mobile 07808726822 award a2000 bonus caller prize 020903 2nd attempt contact 08718729758 box95qu guy get dumb realize okey dokey iull bit sort stuff don dawhat plan yes fine win winner mr t foley win ipod exciting prize soon eye ur mobile visit like new mobile anytime mmmmmmm snuggle deep contented sigh whisper fuck love barely stand yar get error hey wow healthy old airport rd lor can not thk b bath dog later wif family book tour package bold torch later torch 2bold haha awesome need do tonight ya knw u vl givit ok thank kanoanyway enjoy wit ur family wit 1st salary huh slow tot u reach long ago liao u 2 day 4 leh that s cool princess cover face hot sticky cum big brotherus scrap barrel shower social misfit oops thk dun haf enuff check tell i _ s8 min lunch hey happen u switch ur cell d day be not good u care tomorrow k addie amp art home uncle atlanta wish guy great semester aiyo lesson early sleepin haha okie u home liao den confirm w lor forget tell i _ smth i _ like number section clear yup lor u dun wan ok home love awake love kiss hello peach cake tast lush free game rayman golf 4 free o2 game arcade 1st ur game setting reply post save activ8 press 0 key arcade termsapply there will minor shindig place later tonight interested jason say cool pick place like hour mobile 10 mth update late cameravideo phone free ur number extra free minstext text yes career tel add u contact indyarockscom send free sm remove phonebook sm ltgt reach do not know ask brother problem thing tell keng rocking ash wat time r i _ go xin hostel good morning dear shijutta great amp successful day buy space invader 4 chance 2 win orig arcade game console press 0 game arcade std wap charge 4 term setting purchase oh kaft placement ah possession especially offense nt drive reason call bbdtht chikku hw abt dvg coldheard tht vinobanagar violence hw conditionand hw ru problem buy test yesterday let know exact day u ovulatewhen 2u 2 3wk pls pls do not fret know u r worried pls relax ur past history u need tell pizza u want see weird shit bein woah realise actually reasonable oh happy return day wish happy birthday ya nice ready thursday hospital da return home evening think u x camera award sipix digital camera 09061221066 fromm landline delivery 28 day orh tot u dun believe sign choose number pin right beauty life second hide thousand secret wish second wonderful ur life gud n8 thanx u darlinim cool thanx bday drink 2 nite 2morrow care c u soonxxx maybe leave credit card gas like tell weekly coolmob tone ready download week new tone include 1 crazy frogaxel f 2 akonlonely 3 black eyeddont p info n boy glad g waste night applebee cashbincouk lot cash weekend dear welcome weekend get big good cash away ok lor u wan look 4 u u wan 2 haf lunch da canteen life stressfull find time laugh add year life surely add life ur year gud ni8swt dream hey look like wrong kappa guy number phone want text urgent mobile number award a2000 prize guarantee 09061790121 land line claim 3030 valid 12hrs 150ppm thank 4 continue support question week enter u in2 draw 4 a100 cash new president txt an 80082 home doc give pain med say fine 140 ardia rest ard 180 leastwhich price 4 2 bedrm 900 lovely night xxx prepare pleasur hitechnical supportprovid assistance customer email text way cup stop work bus when s radio unique user -PRON- would 1172 removal send stop 87239 customer service 08708034412 sure available watever relation u build dis world thing remain atlast iz lonline lotz n lot memory feeling cheer lou yeah goodnite shame u neva come c ya gailxx hii get money da hi mobile ltgt add contact list s great place send free sms people visit fullonsmscom ok u tell wat time u come later lor u repeat e instruction wat e road ur house people special sight remain special till sight maintain till life end shjas lor dun tell wait complacent sorry completely forget pop -PRON- round week u r beautiful girl -PRON- have see u r baby come c common room o can not join denis mina denis want time sen tell go join uncle finance cbe yup hey day fri ask miwa jiayin leave karaoke senthil hsbc especially talk boston personal statement lol woulda change realize say nyc say boston way urgent 09066649731from landline complimentary 4 ibiza holiday a10000 cash await collection sae tcs po box 434 sk3 8wp 150ppm 18 holy live christ take long ii thk wat eat tonight thanx yup come sun finish dinner go 2 hotel time fly tog 4 exactly mth today hope haf mth come opposite drop yup izzit rain heavily cos e mrt c outside send resume gd luck 4 ur exam u ask sit ok lor sorry uncle ill touch see guy doll night patrick swayze great urgent 2nd attempt contact u a900 prize yesterday await collection claim 09061702893 santa call little one like santa xma eve 09077818151 book time calls150ppm 3mins 30 tc come home want u miserable do not know -PRON- s get message cool tyler go to buy drop place later tonight total order quarter get guy car shop flirt get phone number paperwork call text nervous course address boss tell know fire reverse cheat mathematic plan manage er hello thing didnut plan uo limp slowly home follow aa exhaust hanging sorry delay yes master u finish come n pick u private 2004 account statement 0784987 show 786 unredeemed bonus point claim 08719180219 identifier code 45239 expire 060505 oga left phone home saw ur message hope good great weekend worry understand important place poorly think punishment face bad thing happen brb go to kill honey pls find sell predicte nigeria time important reply monday e admin building b slightly earlier u reach fyi usf swing room ltgt min that s ok ummmmmaah happy return d day dear sweet heart happy birthday dear ii home work meh valuable 2 situation get second loosing mark take forever pick prescription pain coming ur paper get small capacity ex check choose babe video smsshsexnetun fgkslpopw fgkslpo -PRON- be good thinking u r winner u ave specially select 2 receive a1000 cash 4 holiday flight inc speak live operator 2 claim 0871277810710pmin 18  think bout drink tap spile seven pub gas st broad st canal ok go sleep tired travel haha thinkin yup give problem mayb jus leave lol try day little interesting long reply defer admission til semester word checkmate chess come persian phrase shah maat mean king dead goodmorn good day po de need job aha rat hey u vote theme new mobile 2004 txt nokia 89545 collect today a1 2optout 08718726270150gbpmtmsg18 txtauction hope pee burn tonite oh rite -PRON- be good mate pete go 4 week 2geva long week yay wait party photoshop make computer shut boy fun today ok problem send message fun issue california okay snow manageable private 2003 account statement show 800 unredeemed s m point 08715203652 identifi code 42810 expire 29100 hmmm mayb try e shoppin area forget e hotel awesome go to soon later tonight need detail online job win value vodafone customer computer pick win a150 prize collect easy 09061743386 miss toopray inshah allah pls help tell ashley can not find number oh escape theatre go watch kavalan minute sthis increase chance win way work ltgt year old hope do not bother maybe find instead gain right wifedont demand iti try husband toolet like new house fine hope north carolina texas atm gre site pay test result send u yes baby need stretch open pussy thank bomb date phone want ok hey guy know breathing neck bud able half track usf tonight response d powerful weapon 2 occupy place heart nokia phone lovly free messagethank auction subscription service 18 150pmsgrcvd 2 skip auction txt 2 unsubscribe txt stop customercare 08718726270 bored housewife chat n date 08717507711 btnational rate 10pmin landline sorry datoday will not come playi drive cla sorry lit hair fire oh shit think trip loooooool make sense grin sofa reference sleep couch link send go trip oh babe celebration rent okey dokey swashbuckl stuff oh watch cartoon listen music amp eve temple amp church u 1 tension face 2 smile face 3 waste face 4 innocent face 5terror face 6cruel face 7romantic face 8lovable face 9decent face ltgt joker face dip cell dead m come u good respond shall come know mean text hi dis yijue happy work wif i _ gek1510 lol oops sorry fun wat happen cruise thing know dat feelin pete wuld -PRON- nuther place nuther time mayb lyricalladie21f invite friend reply yes910 no910 stop send stop frnd 62468 world happy frnd character dey good understanding difference 1 polyphonic tone 4 ur mob week txt pt2 87575 1st tone free txtin tell ur friend 150ptone 16 reply hl 4info yeah open chat click friend list list easy pie alright tyler get minor crisis home sooner think asap whenwhere pick usual u ard 10 smth new theory argument win d situation lose person do not argue ur friend kick amp correct thing antibiotic chest abdomen gynae infection bone infection poor girl day lmao 6time today vodafone number end 4882 select receive a350 award number match 09064019014 receive a350 award pls note -PRON- s expose find school vomiting dog cat house let know later japanese proverb u itu indian version let itleave finally kerala version stop strike sound like lot time spend chastity device boy grin beating like good dog go lounge nice long bath bad use half way stop better complete miserable tell u effect birth control massive gut wrenching cramp 2 month sleep night send new number convey regard want late video handset 750 anytime network min half price line rental reply 08000930705 delivery tomorrow 2 half year miss friendship can not pick phone right pls send message oh fuck sake like tallahassee haha person go to ask ou guarantee late nokia phone 40 gb ipod mp3 player a500 prize txt word collect 83355 ibhltd ldnw15h 150pmtmsgrcvd18 taka lor wat time u wan 2 come n look 4 free polyphonic ringtone text super 87131 free poly tone week 16 sn pobox202 nr31 7zs subscription 450pw -PRON- be reach 2 stop mean post write like time ritten stuff let sit feeling time angry leave hit send stop check phone get car say sleep bored time clean fold laundry etc bed warner village 83118 c colin farrell swat wkend warner village 1 free med popcornjust msgticketkioskvalid 4712 c tc kiosk reply sony 4 mre film offer come online today night special solihull want good day regret inform u nhs mistakeu actually bornplease report 2 yor local hospital 2b terminatedwe r sorry 4 inconvenience love holiday monday feeling dentist hour way tirupur goal arsenal 4 henry 7 v liverpool 2 henry score simple shoot 6 yard pass bergkamp arsenal 2 goal margin 78 min get flaky parent isnot suppose child job support parentnot ride age suppose support hurt unintentional hurt nonetheless take hooch walk toaday fall splat grazed knee stay home tomorrow drop -PRON- omw 2nd time try 2 contact u u win 750 pound prize 2 claim easy 08712101358 10p min btnationalrate sit mu wait suite shower facebook huh g say answer text confirmdeny common hearin r u wat r u ur day let ask u different u smile today gud evng hi dear urgnt know what s problem want work problem tell wat reply oh yah cancel leh haha 4 e normal pilate intro ok let u noe leave house oh yes like torture watch england wanna art d hope wasnut piss remember go sister get take 2 wrc rally oz u lucozade energy text rally le 61200 25p pack itcould u hi sexychat girl wait text text great night chat send stop stop service good morning boytoy yummy lip sexy bun think crave need match startedindia ltgt 2 free sir hey want buy hey babe go figure go new year kkcongratulation g want know fuck cancel yeah baby sound important understand darlin ring later fone love kate x tomarrow want get court ltdecimalgt come bus stand 9 ii home liao ask dad pick 6 omg wedding chapel frontierville good stuff eatin lor go work soon e mountain deer huh watch b4 liao nice check maili mail varma keep copy membershiptake careinsha allah wrong phone phone answer assume people think secure lemme know want drive south chill home probably great news freefone 08006344447 claim guarantee a1000 cash a2000 gift speak live operator hi amy send free phone number couple day access adult party bus way calicut hi probably have fun message think -PRON- would txt u cos -PRON- be bored jame fart night hi baby -PRON- be sit bloody bus mo will not home 730 wanna something later later ortxt jess xx welcome select o2 service add benefit specially train advisor free mobile dialling 402 lose 4 pound doc visit week woot woot go to celebrate stuffing face u come 4 dinner rite dad ask confirm wif u master buy bb cos sale bf ahhhhjust woken uphad bad dream u thoso do not like u right do not know comedy night guess -PRON- be viveki get number u lunch mean left early check cos work 96 want ltgt rs dado bit ur smile hppnss drop ur tear sorrow ur heart life heart like wil care u forevr goodfriend yup ok want pretty pussy dear vouch holder meal use follow link pc 2 enjoy 2 4 1 dining experiencehttp people game mall iouri kaila urgent try contact u today draw show win a2000 prize guarantee 09058094507 land line claim 3030 valid 12hrs donate a250 unicefs asian tsunami disaster support fund text donate 864233 a250 add bill future plan tomorrow result today good present enjoy future cme want hos 2morow wil cme get dear do not time suppose meet discuss abt trip think xuhui tell afternoon think lesson hey come online use msn fine hope good care oops shower u call hey parking garage collapse university hospital crazy stuff like happen aiyo u poor thing u dun wan 2 eat u bathe yar tot u know dis happen long ago gorgeous pix cumming thank boy late 2 home father power frndship jade paul y didnaot u txt u remember barmed want 2 talk 2 u txt spend new year brother family let plan meet week ready spoil u today say okay sorry sleep thinkthis time ltgt pm dangerous networking job goldvik 29 m invite friend reply yes762 no762 stop send stop frnd 62468 do not let study stress l8r y u haf 2 busy rush work school rush hungry channel tell coulda real valentine u pick phony a350 award today voda number end xxxx select receive a350 award match 08712300220 quote claim code 3100 standard rate app eta taunton 1230 plan hope thatus okday good xx hungry buy smth home hey kate drive read need write look addie go monday suck happy new year hope have good semester esplanade lor talk hmph head big baller like actually call punto woulda bad nope ayo travel forget guy look pick later cds 4u congratulation ur award a500 cd gift voucher a125 gift guarantee freeentry 2 a100 wkly draw xt music 87066 tnc year ltgt toyota camry like mr olayiwola mileage ltgt kit clean need know sell raise dough soon land sell holla guess pub -PRON- be -PRON- be happy pig clover saying ill b soon oh k come tomorrow fool do not cheat ok mobile numberpls sm ur mail idconvey regard achanammarakheshqatar way rencontre meet mountain do not win guarantee a1000 cash a2000 prize claim yr prize customer service representative 08714712412 10am7pm cost 10p u attend ur drive lesson time wk n day uncle g check rewarding month hello boytoy geeee miss today like send tm remind thinking love love kiss think need cash def ready 9 hey galsu wanna meet 4 dinner niate dear 0776xxxxxxx uve invite xchat final attempt contact u txt chat 86688 150pmsgrcvdhgsuite3422landsroww1j6hl ldn 18yr babe talk think good boy miss love great office today cool little get time soon sad puppy noise yes possible dint try pls do not tell k holla need excuse creep people sarasota happen go to ask lol think 7 ur cashbalance currently 500 pound maximize ur cashin send 86688 150pmeg cc 08718720201 hgsuite3422land roww1j6hl private 2003 account statement show 800 unredeemed sim point 08715203685 identifier code4xx26 expire 131004 chase run crossing street like tell deep darkest fantasy 09094646631 60pmin stop text 08712460324 nat rate come friday leave pongaldo news work place hey inconvenient sis huh ok vldo u know get adsense approve good day dudette miss want perumbavoor time tell stage use laugh listen aha believe true incredible txt reply g learn truly amazing thing blow mind o2fwd 18ptxt hear thank talk saturday dear cherish have brother role model pls clarify open return ticket prepon kerala natalie 20f invite friend reply yes165 no165 stop send stop frnd 62468 run young man pretty baby jamster free wallpaper text heart 88888 tc apply 16 need help 08701213186 o ic lol play 9 door yo dunno dad say come home 2 bring 4 lunch yup w u lor u reach school lor send jd customer service cum account executive ur mail -PRON- would detail contact desire u go doctor 4 liver bit stylish ur hair manage that s hmmmstill do not opener yeah basically time week away mom amp 3 edison rightly say fool ask question wise man answer know speechless viva gm vote heart guide sis lor juz watch italian job tick tick tick die loneliness know pout stomp foot need lmao know double min double txt 12 price linerental late orange bluetooth mobile mobileupd8 late offer 08000839402 call2optoutlf56 train northampton afraid stay skyv today ho ho wednesday fancy comedy club week way goodnight da thangam miss u dear hey sun 1030 basic yoga course bugis pilate intro sit tell time r free geeeee internet bad today eh free video camera phone half price line rental 12 mth 500 cross ntwk min 100 txt mobileupd8 08001950382 call2optout674 think disturb da sorry later meet sir have not stick orchard dad car go 4 dinner u leh r free tonight ok wan 2 watch e 9 pm dunno lei like dun haf brother transfer ltgt ltgt pa call later afternoon onword mtnl service problem south mumbai hear cannt listen 83039 62735a450 uk break accommodationvoucher term condition apply 2 claim mustprovide claim number 15541 talk g x hai dear friend new amp present number rajitha raj ranju 5p 4 alfie moon child need song ur mob tell ur m8s txt tone charity 8007 nokia poly charity poly z 08701417012 profit 2 charity different style win a200 shopping spree week start 2 play text store 88039 skilgme tscs08714740323 1winawk age16 a150perweeksub gud ni8 dearslp welltake careswt dreamsmuah want send ltgt mesage today that s y sorry hurt 2nd attempt contract u win week prize a1000 cash a200 prize 09066361921 glad find totally disagreeable lol guy flash madam care oh want new nokia 3510i colour phone deliveredtomorrow 300 free minute mobile 100 free text free camcorder reply 08000930705 mark work tomorrow get 5 work house meet u ur problem ur heart yeah get minute hi babe uawakefeellikw shitjustfound aletter thatmum gotmarri 4thnovbehind ourback fuckinniceselfish amazing rearrange letter give mean dormitory dirty room astronomer moon starer eye election result lie let recount motherinlaw woman hitler plus plus amazing aiya discuss later lar pick i _ 4 hey happy birthday sorry miss omg thing cat worm bad day end good morning -PRON- be suffer fever dysentry able come office today will not de type stuff sing st andre virgil cream check room befor activity fri ah okie lorgoin 4 drivin den shoppin tt gokila talk aha hi shanilrakhesh herethanksi exchange uncut diamond stuffleaving excellent service dino prem kkthis month kote birthday know break oh small ltgt sorry mate phone do not write love kate themobhit link premium pink panther game new 1 sugabab crazy zebra animation badass hoody wallpaperall 4 free ah confuse thing do not think friend maybe wrong thing sort invite tho come cos money aight close nope that s fine nap tho msg mobile content order resent previous attempt fail network error query customersqueriesnetvisionukcom news hassle weed week andr money haughaighgtujhyguj boy love gal propsd bt do not mind gv lv lttrs bt frnd throw thm d boy decide 2 aproach d gal dt time truck speed d gal wn 2 hit d girld boy run like hell n save ask hw cn u run fast d boy reply boost d secret energy n instantly d girl shout energy n thy live happily 2gthr drinking boost evrydy moral d story hv free msgsd gud ni8 wnt buy bmw car urgentlyit vry urgentbut hv shortage ltgt lacsthere source arng dis amt ltgt lacsthat prob d ya break fassyole blacko londn need 2 kiss u miss u baby ur baby 4eva sign maturity start say big thing actually start understand small thing nice evening bslvyl oh get responsibility 1 new message 08715205273 reach sch december mobile 11mths entitle update late colour camera mobile free mobile update vco free 08002986906 u definitely need module e humanity dis sem izzit u wan 2 module 1st argh fuck town _ 3 lion england tone reply lionm 4 mono lionp 4 poly 4 2 original n good tone 3gbp network operator rate apply thank fill complete calm reassurance aslamalaikkuminsha allah tohar beeen muht albi mufti mahfuuzmeaning drive training lol real tell dad cancer private 2003 account statement 078 oops ltgt enufcredeit tocallshall ileave uni 6 bus yor house hi chikku send nice msgs impossible argue treat like sub like release remind necessary work ah den 6 plus lor u workin oso rite den orchard lor place liao wonderful okor great month cherish guy wish day mojibiola cuz ibored don wanna study wot -PRON- would nite 3 til 9 rise redr bloodblood heartheart u u send tis ur friend include u like u 1u r poor relation 2u need 1 support 3u r frnd 2 4some1 luvs u 5 some1 pray god marry u try way suck u hair free right work time try add zero saving check ltgt hmm dunno leh mayb bag 4 goigng dat small jus perfume smth dat sday joinedso training start today sorry grocer nice pub near frankie n benny near warner cinema ve win 4 costa del sol holiday a5000 await collection 09050090044 toclaim sae tc s pobox334 stockport sk38xh costa150pm max10min yup have not want yoga book oh shut omg yesterday dream 2 kid boy pissed kid boy tell mark dream change diaper because get owe face yeah imagine gentle unlike doc treat patient like turkey free 1st week no1 nokia tone 4 ur mobile week txt nokia 8077 txting tell ur mate pobox 36504 w45wq 16 norm150ptone start do not stop pray good idea help guy ill forward link hi darlin -PRON- be helen fone -PRON- be go to b prince 2 nite come tb love kate office dawhere aiyar u poor thing u support k jia think u oh unintentionally bad time great finger train play min warning garden ready summer free selection summer bulb seed worth a3350 scotsman saturday stop go2 notxtcouk kthen come wenever u lik come tel vikky come get free time pls da happen happy new year u ur familymay new year bring happiness stability tranquility ur vibrant colourful life problem renewal ill right away do not know detail idk sit stop shop parking lot right bawl eye feel like failure want feel like fail leave probably go to til dinner like ltgt question new year eve ok go party boyfriend si hey sir ne velusamy sir date birth company bank facility detail k k sms chat come karnan car wait till 6 p.m. directly goto doctor bluray player ok r meeting later lol need cash nitro hurry come crash send text skype later ok leave need ask congrat 2 mobile 3 g videophone r 09063458130 videochat wid ur mate play java game dload polyph music noline rentl bx420 ip4 5we 150p ii get lesson ii sch y dun believe leh tot tell true thk muz c tog believe oh charge camera iuve get salt rub open wound like go lunch school n da lab stuff i _ r oh k come tomorrow aight text tonight u 2 water log desert geoenvironmental implication rajipls favour pls convey birthday wish nimya pls today birthday company goodenvironment terrific food nice strange watch 2nd bed sweet dream miss u sm auction brand new nokia 7250 4 auction today auction free 2 join txt nokia 86021 hi hope u r ok say text u see let gently babe fucking love know fuck good hear voice need crave adore ahmad kiss k sure relative home sm de pls send like fuuuuck need stop sleepin sup town jus mrt later cook nice salmon la uploaded facebook time u wrkin okie ree entry 2 weekly comp chance win ipod txt pod 80182 entry std txt rate tcs apply 08452810073 detail 18 record indicate u maybe entitled 5000 pound compensation accident claim 4 free reply claim msg 2 stop txt stop sorry later oh oh den muz change plan liao yan jiu wylie tampa sarasota ok ur time n enjoy ur dinner darren say dat u meeting da ge den dun meet 4 dinner cos later u leave xy feel awkward den u meet 4 lunch lor spook mob halloween collection logo pic message plus free eerie tone txt card spook 8007 zed 08701417012150p logopic like cheap ium happy splash wine make feel good -PRON- s fine difficulty phone work pls send friend request ugh leg hurt musta overdid mon germany 1 pence minute fix line access number 0844 861 85 85 prepayment direct access ve win 4 costa del sol holiday a5000 await collection 09050090044 toclaim sae tc s pobox334 stockport sk38xh costa150pm max10min wot student discount u book fineabsolutly fine come b diff guess rite mobile 11mths update free orange late colour camera mobile unlimited weekend call mobile upd8 freefone 08000839402 2stoptxt reach ur home ltgt minute babe answering maybe good reboot ym get photo great hiwhat think match know thinkin malaria relax child can not handle malaria bad gastroenteritis take replace loss temp reduce malaria med vomit self limit illness mean day completely stop dai download exe file run exe instal yesterday true true kkhow business 3 pa select natalja 25f invite friend reply yes440 no440 stop send stop frnd 62468 rs shelf buy egg late that s nice bad can not eat accidentally bring -PRON- home box pls need dat slowly vomit exam march 3 jane babe go 2 wrk feel ill lst nite fon cover 4 chuck 5 nightswe nt stay port step liaotoo ex die want u stuff oh fuck juswoke bed boatin dock sleep wid 25 year old spinout giv u da gossip l8r xxx smile pleasure smile pain smile trouble pour like rain smile sum1 hurt u smile becoz love u smile prabhai sorydarealyfrm heart sory remet alex nichols middle school turn deal private 2003 account statement fone show 800 unredeemed s m point 08715203656 identifier code 42049 expire 261004 mean u ur word nope market realise busy guy try bother exam outta way try car gr8 day choose receive a350 award pls claim number 09066364311 collect award select receive value mobile customer hey project start aha da ok cool ya uworld site buy qbank buying self assessment opinion 1 2 jada 3 kusruthi 4 lovable 5 silent 6 spl character 7 mature 8 stylish 9 simple pls reply someonone know try contact date service find mobile landline 09064015307 box334sk38ch yeah ride jay want work 4 sound gud gudk chikku tke care sleep gud nyt check iq hmm think lor course tease know simply grin post prey love smile devouring kiss thank temale wonderful thank great week thank princess want nice juicy booty eat day sit star juicy pizza eat med ruin life gud ni8 dearslp welltake careswt dreamsmuah u come n search tat vidnot finishd k leave soon little 9 urgent 09061213237 landline a5000 cash 4 holiday await collection t cs sae po box 177 m227xy 16 yeah work fine start week stuff dull easy guy fun study anyon help can not need study tell car key purse do not da ok sweet dream big surprise usualiam fine happy amp 1 cbe 2 chennai help u swoop pick u ur bird r meet u want call treadmill buy sure working find ad craigslist selling ltgt absolutely love south park recently start watch office film pls speak will not ask friendship storm msg wen u lift d phne u hello u knw wt d real meaning hello d girl yes u knw dat girl margaret hello d girlfrnd f grahmbell invnt telphone moralone 4get d person gud ni8swt drmstake care hi darlin kate u do something tonight -PRON- be go pub call swan parent drink phone u lar i _ go home 4 dinner er prize customer tc 18 150pmin polo ltd suite 373 london w1j 6hl busy u fix teethif asapok care u wan 2 come dinner tonight hellohow u doingwhat u 2when u b move flat cos need arrange pick lamp etc care hello caroline latebut kwish hi hope ur day good walk table book half let know ur come oh yeah clearly fault dunno leh can not remember mayb lor wat time r meeting tmr good msg hard person u know step foward u fall love amp step ruin ur friendship good night urgent mobile number award a2000 prize guarantee 09061790126 land line claim 3030 valid 12hrs 150ppm helloooo wake sweet morning welcome enjoy day joy gud mrng vikky come lttimegt princess go info bt do not know yeah probably send ur email -PRON- would soon urgent win 1 week free membership a100000 prize jackpot txt word claim 81010 tc lccltd pobox 4403ldnw1a7rw18 pretty weak today bad day hey forget possession property mmm childish smile excellent thought misundrstud frnd knw u hate bt day wen ull knw truth ull hate urself gn hey congrat 2u2 -PRON- would luv 2 -PRON- have 2 home dear xy try smth u eat have not urgent 09061213237 landline a5000 cash luxury 4 canary island holiday await collection tcs sae po box 177 m227xy 150ppm 16 donno gene xma iscom ur award a500 cd gift voucher free entry 2 r a100 weekly draw txt music 87066 tnc alex say ok ok u come funeral home darling sister school resume minimum wait period reapply care ill hand phone chat wit u good morning mr how s london treatin ya treacle tonight time come tomorrow ltgt buck bank fee fix good bank find tell long cos finish film pls ask macho budget bb bold 2 cos see new ltgt dollar hi miss mumha beendropp red wine theplace adress ill 3 min look leave come thursday yay go to ok money cheer oh yeah alright how s school work jolly good way u ticket sit eve 730 speak x yeah think kki go tirunelvali week uncle spend take dress want moneyi feb 1 get ur favorite oyster n get favorite sashimi ok lar dun wait ur stomach start rumble sister go earn da official england poly ringtone colour flag y mobile tonight game text tone flag 84199 optout txt eng stop box39822 w111wx a150 hahahause brain dear jus finish watch tv u k fyi parent place south tampa need deal good morning love sleep wish great day feel good opportunity think babe love kiss kothi print marandratha have not get da topic rite ok problem yup go sch 4 rem correctly thank mind aah bless arm dear sirsalam alaikkumpride pleasure meeting today tea shopwe please send contact number qatarrakhesh indianpls save numberrespectful regard gal n boy walk d park galcan hold ur hand boyy u think run away galno jst wana c feel walk heaven princegn make happy wish wonderful week sweet heart sir wait letter dude -PRON- be long pisce -PRON- be aquarius x course 2yrs message messenger lik r send think steyn surely wicket sterm voice study fine sure thing resolve tho fab hol garbage bag egg jam bread hannaford wheat chex pride ltgt year old takin money kid suppose deal stuff grownup stuffwhy tell sound good evening -PRON- be costume -PRON- be sure time finish tomorrow txt end birthday feb ltgt da wanna gym like jerk u awake snow course stink u r subscribe 2 textcomp 250 wkly comp 1st wk free question follow subsequent wk charged150pmsg2 unsubscribe txt stop 2 84128custcare 08712405020 opening room til thanksgiv upcharge guy plan come wat i _ parent kidz friend n colleague scream surprise wait sofa naked sir 8hr trip bus week audition wednesday think drive time think box home interested business plan yup paragon have not decide 2 cut hee good morning princess great day guai ii shd haf see naughty ii free today jogging aiyo cos sm i _ i _ neva reply wait 4 i _ reply lar tot i _ have not finish ur lab wat live simple loving simple laugh simple win tooo simple simple difficult tell that s okay ok hmm shall bring bottle wine amuse joking bring bottle red white tomorrow ur face test 1 2 3 4 5 6 7 8 9 ltgt select number tell ur face astrology wait quick reply hey iouri give number wylie ryan friend yep program slacking inside officestill fill formsdon know leave think mentor 100 percent sure 09095350301 send girl erotic ecstacy 60pmin stop text 08712460324 nat rate camera award sipix digital camera 09061221066 fromm landline delivery 28 day a400 xma reward wait computer randomly pick loyal mobile customer receive a400 reward 09066380611 try figure suppose couple different people week say set date important message final contact attempt important message wait customer claim dept expire 13404 08717507382 hi mom later ltgt datingi start send text talk sport radio week connection think coincidence lol oh get friend dog ok problem u frm wat matter k head min u konw waht rael friendship -PRON- be gv yuo exmpel jsut ese tih msg evrey splle tih msg wrnog bt sitll yuo ra wihtuot ayn mitsake goodnight amp nice sleepsweet dream can not pick phone right pls send message want leave barely stay sane fighting constantly help current lead bid 151 pause auction send customer care 08718726270 free entry gr8priz wkly comp 4 chance win late nokia 8800 psp a250 cash wktxt great 80878 http 08715705022 somebody set website play hold -PRON- eve online spacebuck sunny california weather cool 1 new message 02070836089 squeeze ltgt buck dad good day toopray meremove tooth painful maintain stuff babe hope ok shit night sleep fall asleep 5iaom knacker iaom dread work tonight thou upto tonight x friend help problem stupid suggestion land problem help forgt previous problem work gentle baby soon take ltgt inch deep inside tight pussy fight good nite okok okthenwhat ur today plan nt joke seriously tell watch ajith film ah ooooooh forget tell u yoville phone hand know mega shop asda count celebration that s do not know exactly ask chechi dunno lei shd b drive lor cos sch 1 hr oni want custom officer discount oh necessarily respectful hi hope good day good night apparently bff carly quick hard true amp express love someonethat hurt leave seperatedoo_uud evening babe think get ur brolly leave english wil bring 2mrw 4 u luv franxx hi babe thank come do not welli want bed hope soon love kiss xxx gd get free ice cream oso wan pls prometazine syrup 5mls ltgt min later feed day dear angry busy dear yup msg tat yijue tot group mate cos meet today mah askin i _ leave earlier wat mah cos mayb i _ haf walk v far pub time daddy shu shu look 4 u u wan 2 tell ure singapore wat ask u meeting da ge tmr nite gr8 handle victoria island traffic plus album nite nite pocay wocay luv u n e thing 4eva promise ring u 2morrowxxxx east coast chicken broth want raman know slave want 2 3 picture today bright light cell phone bright light nope forget week master bruce amp fowler mom car park long story do not know oh hopefully month hi elaine today meeting confirm ok ksry knw 2 sivatat y askd sorry later u horrible gal u know dat go wif y n u come n ask time job natuition oh yeah diet fly window santa call little one like santa xma eve 09058094583 book time do not complete gist oh er yeah b 1526 sorry tell pubcafe sit come wen u time tonight cool text pay attention thanx lot 4 ur help go to way specific jesus armand try tell everybody find wif buying tix lar mode man leave slow biola fne youdo later sar xxx hey book 2 lesson sun liao thank generally date brotha way sure u train worc foregate street shrub hill fun night x think watch cos that s kind thing u get4an18th love win guarantee 32000 award maybe a1000 cash claim ur award free 0800 18 legitimat efreefone number wat u think good morning repair shopthe reason hour fine get bud night good journey let know need receipt shall tell like pendent take away money worry aight pick open tonight late news police station toilet steal cop sac need carry sing hu think important find female know place preferably citizen smart help navigate thing like choose phone plan require guidance doubt ask especially girl hello wat talk email address there s chick huge boob -PRON- be wonder right wish beautiful day moment reveal thing smile enjoy sparkle shopping break 45 person 0121 2025050 visit arun u transfr d amt sorry later hear loud scream ltgt minute because gyno shove thing belong december mobile 11mths entitle update late colour camera mobile free mobile update co free 08002986906 ok thk get u wan 2 come wat txt 86888 claim reward 3 hour talk time use phone subscribe6gbpmnth inc 3hrs 16 stoptxtstop u go 2nite treasure moment spend shall bring bottle wine amuse joke iull bring httptms wmlid820554ad0a1705572711firsttrueaac c ringtoneaa garden ready summer free selection summer bulb seed worth a3350 scotsman saturday stop go2 notxtcouk urgent weekend draw show win a1000 cash spanish holiday 09050000332 claim tc rstm sw7 3ss 150ppm ok lor think slide yup obviously people cool college life go home _ ok lor i _ reaching message mummys boy good bad positive negative mummy wait hmmmm dhoni luck win big titleso win yes princess want night wish command todaysundaysunday holidayso work probably ltgt hope work do not stressful gr8 day see holby shall dear have food urgent try contact weekend draw show u win a1000 prize guarantee 09064017295 claim code k52 valid 12hrs 150p pm li hai bore da lecturer repeat week stuff waste time pick point go 2 yeovil motor project 4 3 hour u home 12 2 530 max easy fuck family go rhode island fuck leave week new bong gt ofcourse upload song 2p min germany 08448350055 bt line 2p min check planettalkinstantcom info ts cs text stop opt k send oh thank loti buy 2 egg k send u study sch go home b go 2 sch later marvel mobile play official ultimate spiderman game a450 ur mobile right text spider 83338 game will send u free 8ball wallpaper think rule tamilnaduthen tough people cool shall tip home get drop later let town tonight maybe mum good afternoon love go day sleep hope boytoy think yes trust u buy new stuff asap try sm service inclusive text credit pls goto login 3qxj9 unsubscribe stop extra charge help 08702840625comuk 220cm2 9ae wake gt step 2 outta way congrat love law happy person love way friendship law ur friend feel alive gud night private 2003 account statement 07808247860 show 800 unredeemed s m point 08719899229 identifier code 40411 expire 061104 apo mokka player easy account identification tomorrow uni wait msg ltgt min tell tell stupid hear will not tell dad call brother speak god love limit god grace measure god power boundary u god endless blessing ur life gud ni8 want inside night machan gym tomorrow wil come late goodnight lol mad woke give go project centre itus reassure crazy world make dinner yes leave ltgt ltgt leave oh okie lorwe sit great role model give wish day miracle god reason wish know do not look young great day ya referin meis ex wat ah waitin 4 u treat somebody shld b rich liaoso gd den u dun work frm tmr onwards mile smile r frm letter u know d difference smile ur face keep happy mile away u smile good nyt way skip right outside house house pull pls send company saibaba colany do not want hear big chic common declare that s cool want go join tomorrow award sipix digital camera 09061221061 landline delivery 28days t cs box177 m221bp 2yr warranty 150ppm 16 p pa399 want tell bad feel basically time text lately need drug private 2003 account statement show 800 unredeemed sim point 08718738001 identifi code 49557 expire 261104 total disappointment text craziest shit get effect irritation ignore  think tantrum finish yeah point compliment away system happen adventure hey chief bell need talk royal visit 1st june ok number know thinkin malaria relax child can not handle malaria bad gastroenteritis take replace loss temp reduce malaria med vomit self limit illness mean day completely stop aiyah ok wat long get improve wat want explicit sex 30 sec ring 02073162414 cost 20pmin gsex pobox 2667 wc1n 3xx believe attach see day know good babe teach class midnight sleepingand surfing ask 3mobile 0870 chatline inclu free min india cust serv sed yes l8er get mega bill 3 do not giv shit bailiff day o a250 3 want a800 yeah jus rite armand say ass epsilon u have not get urself jacket ah take derek amp taylor walmart time leave mouse desk text priscilla ready hi durban number ic lotta childporn car contract mobile 11 mnth late motorola nokia etc free double min text orange tariff text yes callback remove record try weekend v know wot people wear t shirt jumper hat belt know r cribb cool time think wen spiritual deep great safe trip nigeria wish happiness soon company share moment hahahause brain dear mind get gas round trip bar sudden influx cash yeh indian nice tho kane bit shud 4 drink soon mite hav 2 2 da work 4 laugh soon love pete x x yes u texted pshewmissing mean calculation ltgt unit ltgt school expensive start practice accent important decide 4years dental school nmde exam sorry later ltgt hour imma flip shit lor juz lor dump heap mom decide come lowe boring ok lor sony ericsson salesman ask shuhui gd 2 use considering ard 6 like dat lor wait til wednesday huh y lei reminder o2 250 pound free credit detail great offer pls reply 2 text valid house postcode 2nd time try 2 contact u u win a750 pound prize 2 claim easy 087187272008 now1 10p minute btnationalrate i _ b go esplanade fr home pity mood soany suggestion guy bitch act like interested buying week give free rofl true'"
      ]
     },
     "execution_count": 56,
     "metadata": {},
     "output_type": "execute_result"
    }
   ],
   "source": [
    "text"
   ]
  },
  {
   "cell_type": "code",
   "execution_count": 57,
   "metadata": {},
   "outputs": [],
   "source": [
    "words = pd.Series(text.split())"
   ]
  },
  {
   "cell_type": "code",
   "execution_count": 58,
   "metadata": {},
   "outputs": [
    {
     "data": {
      "text/plain": [
       "u      1132\n",
       "2       478\n",
       "ur      384\n",
       "go      349\n",
       "not     325\n",
       "dtype: int64"
      ]
     },
     "execution_count": 58,
     "metadata": {},
     "output_type": "execute_result"
    }
   ],
   "source": [
    "words.value_counts().head(5)"
   ]
  },
  {
   "cell_type": "code",
   "execution_count": 59,
   "metadata": {},
   "outputs": [],
   "source": [
    "top3 = words.value_counts().head(3)"
   ]
  },
  {
   "cell_type": "code",
   "execution_count": 60,
   "metadata": {},
   "outputs": [],
   "source": [
    "top3 = top3.index.tolist()"
   ]
  },
  {
   "cell_type": "code",
   "execution_count": 61,
   "metadata": {},
   "outputs": [],
   "source": [
    "tail10 = words.value_counts().tail(10)"
   ]
  },
  {
   "cell_type": "code",
   "execution_count": 62,
   "metadata": {},
   "outputs": [],
   "source": [
    "tail10=tail10.index.tolist()"
   ]
  },
  {
   "cell_type": "code",
   "execution_count": 63,
   "metadata": {},
   "outputs": [],
   "source": [
    "# removing top 3 common and 10 rare words from each document\n",
    "data['Message']=data['Message'].apply(lambda x : ' '.join([w for w in x.split() if w not in tail10 and w not in top3  ]))"
   ]
  },
  {
   "cell_type": "code",
   "execution_count": 95,
   "metadata": {},
   "outputs": [
    {
     "data": {
      "text/html": [
       "<div>\n",
       "<style scoped>\n",
       "    .dataframe tbody tr th:only-of-type {\n",
       "        vertical-align: middle;\n",
       "    }\n",
       "\n",
       "    .dataframe tbody tr th {\n",
       "        vertical-align: top;\n",
       "    }\n",
       "\n",
       "    .dataframe thead th {\n",
       "        text-align: right;\n",
       "    }\n",
       "</style>\n",
       "<table border=\"1\" class=\"dataframe\">\n",
       "  <thead>\n",
       "    <tr style=\"text-align: right;\">\n",
       "      <th></th>\n",
       "      <th>Classification</th>\n",
       "      <th>Message</th>\n",
       "    </tr>\n",
       "  </thead>\n",
       "  <tbody>\n",
       "    <tr>\n",
       "      <th>0</th>\n",
       "      <td>ham</td>\n",
       "      <td>jurong point crazy available bugis n great wor...</td>\n",
       "    </tr>\n",
       "    <tr>\n",
       "      <th>1</th>\n",
       "      <td>ham</td>\n",
       "      <td>ok lar joke wif oni</td>\n",
       "    </tr>\n",
       "    <tr>\n",
       "      <th>2</th>\n",
       "      <td>spam</td>\n",
       "      <td>free entry wkly comp win fa cup final tkts 21s...</td>\n",
       "    </tr>\n",
       "    <tr>\n",
       "      <th>3</th>\n",
       "      <td>ham</td>\n",
       "      <td>dun early hor c</td>\n",
       "    </tr>\n",
       "    <tr>\n",
       "      <th>4</th>\n",
       "      <td>ham</td>\n",
       "      <td>nah think go usf life</td>\n",
       "    </tr>\n",
       "  </tbody>\n",
       "</table>\n",
       "</div>"
      ],
      "text/plain": [
       "  Classification                                            Message\n",
       "0            ham  jurong point crazy available bugis n great wor...\n",
       "1            ham                                ok lar joke wif oni\n",
       "2           spam  free entry wkly comp win fa cup final tkts 21s...\n",
       "3            ham                                    dun early hor c\n",
       "4            ham                              nah think go usf life"
      ]
     },
     "execution_count": 95,
     "metadata": {},
     "output_type": "execute_result"
    }
   ],
   "source": [
    "data.head()"
   ]
  },
  {
   "cell_type": "markdown",
   "metadata": {},
   "source": [
    "### Data Preparation for training"
   ]
  },
  {
   "cell_type": "code",
   "execution_count": 65,
   "metadata": {},
   "outputs": [],
   "source": [
    "from sklearn.model_selection import train_test_split\n",
    "from sklearn.ensemble import RandomForestClassifier\n",
    "from sklearn.svm import SVC\n",
    "\n",
    "from sklearn.metrics import accuracy_score, classification_report, confusion_matrix\n"
   ]
  },
  {
   "cell_type": "code",
   "execution_count": 66,
   "metadata": {},
   "outputs": [],
   "source": [
    "from sklearn.feature_extraction.text import TfidfVectorizer"
   ]
  },
  {
   "cell_type": "code",
   "execution_count": 74,
   "metadata": {},
   "outputs": [],
   "source": [
    " = TfidfVectorizer()\n",
    "x = tfidf.fit_transform(data['Message'])"
   ]
  },
  {
   "cell_type": "code",
   "execution_count": 75,
   "metadata": {},
   "outputs": [],
   "source": [
    "x = x.toarray()"
   ]
  },
  {
   "cell_type": "code",
   "execution_count": 89,
   "metadata": {},
   "outputs": [
    {
     "data": {
      "text/plain": [
       "(5572, 8156)"
      ]
     },
     "execution_count": 89,
     "metadata": {},
     "output_type": "execute_result"
    }
   ],
   "source": [
    "x.shape"
   ]
  },
  {
   "cell_type": "code",
   "execution_count": 91,
   "metadata": {},
   "outputs": [
    {
     "data": {
      "text/plain": [
       "(5572,)"
      ]
     },
     "execution_count": 91,
     "metadata": {},
     "output_type": "execute_result"
    }
   ],
   "source": [
    "data['Classification'].shape"
   ]
  },
  {
   "cell_type": "code",
   "execution_count": 92,
   "metadata": {},
   "outputs": [],
   "source": [
    "X_train, X_test, y_train, y_test = train_test_split(x, data['Classification'], test_size=0.33, random_state=42)"
   ]
  },
  {
   "cell_type": "code",
   "execution_count": 94,
   "metadata": {},
   "outputs": [
    {
     "data": {
      "text/plain": [
       "((3733, 8156), (1839, 8156))"
      ]
     },
     "execution_count": 94,
     "metadata": {},
     "output_type": "execute_result"
    }
   ],
   "source": [
    "X_train.shape, X_test.shape"
   ]
  },
  {
   "cell_type": "code",
   "execution_count": 88,
   "metadata": {},
   "outputs": [
    {
     "data": {
      "text/plain": [
       "(5572, 2)"
      ]
     },
     "execution_count": 88,
     "metadata": {},
     "output_type": "execute_result"
    }
   ],
   "source": []
  },
  {
   "cell_type": "markdown",
   "metadata": {},
   "source": [
    "\n",
    "### Training the classifier\n",
    "\n",
    "RandomForestClassifier"
   ]
  },
  {
   "cell_type": "code",
   "execution_count": 96,
   "metadata": {},
   "outputs": [],
   "source": [
    "clf = RandomForestClassifier(n_estimators=100,n_jobs=-1)"
   ]
  },
  {
   "cell_type": "code",
   "execution_count": 97,
   "metadata": {},
   "outputs": [
    {
     "data": {
      "text/plain": [
       "RandomForestClassifier(bootstrap=True, class_weight=None, criterion='gini',\n",
       "            max_depth=None, max_features='auto', max_leaf_nodes=None,\n",
       "            min_impurity_decrease=0.0, min_impurity_split=None,\n",
       "            min_samples_leaf=1, min_samples_split=2,\n",
       "            min_weight_fraction_leaf=0.0, n_estimators=100, n_jobs=-1,\n",
       "            oob_score=False, random_state=None, verbose=0,\n",
       "            warm_start=False)"
      ]
     },
     "execution_count": 97,
     "metadata": {},
     "output_type": "execute_result"
    }
   ],
   "source": [
    "clf.fit(X_train,y_train)"
   ]
  },
  {
   "cell_type": "code",
   "execution_count": 98,
   "metadata": {},
   "outputs": [],
   "source": [
    "y_pred = clf.predict(X_test)"
   ]
  },
  {
   "cell_type": "code",
   "execution_count": 99,
   "metadata": {
    "scrolled": true
   },
   "outputs": [
    {
     "data": {
      "text/plain": [
       "0.9711799891245242"
      ]
     },
     "execution_count": 99,
     "metadata": {},
     "output_type": "execute_result"
    }
   ],
   "source": [
    "accuracy_score(y_test,y_pred)"
   ]
  },
  {
   "cell_type": "code",
   "execution_count": 100,
   "metadata": {
    "scrolled": true
   },
   "outputs": [
    {
     "data": {
      "text/plain": [
       "array([[1587,    0],\n",
       "       [  53,  199]], dtype=int64)"
      ]
     },
     "execution_count": 100,
     "metadata": {},
     "output_type": "execute_result"
    }
   ],
   "source": [
    "confusion_matrix(y_test,y_pred)"
   ]
  },
  {
   "cell_type": "code",
   "execution_count": 102,
   "metadata": {
    "scrolled": true
   },
   "outputs": [
    {
     "name": "stdout",
     "output_type": "stream",
     "text": [
      "              precision    recall  f1-score   support\n",
      "\n",
      "         ham       0.97      1.00      0.98      1587\n",
      "        spam       1.00      0.79      0.88       252\n",
      "\n",
      "   micro avg       0.97      0.97      0.97      1839\n",
      "   macro avg       0.98      0.89      0.93      1839\n",
      "weighted avg       0.97      0.97      0.97      1839\n",
      "\n"
     ]
    }
   ],
   "source": [
    "print(classification_report(y_test,y_pred))"
   ]
  },
  {
   "cell_type": "markdown",
   "metadata": {},
   "source": [
    "### SVC\n",
    "\n"
   ]
  },
  {
   "cell_type": "code",
   "execution_count": 110,
   "metadata": {},
   "outputs": [],
   "source": [
    "clf = SVC( C =1000 ,gamma = 'auto')"
   ]
  },
  {
   "cell_type": "code",
   "execution_count": 111,
   "metadata": {},
   "outputs": [
    {
     "data": {
      "text/plain": [
       "SVC(C=1000, cache_size=200, class_weight=None, coef0=0.0,\n",
       "  decision_function_shape='ovr', degree=3, gamma='auto', kernel='rbf',\n",
       "  max_iter=-1, probability=False, random_state=None, shrinking=True,\n",
       "  tol=0.001, verbose=False)"
      ]
     },
     "execution_count": 111,
     "metadata": {},
     "output_type": "execute_result"
    }
   ],
   "source": [
    "clf.fit( X_train,y_train)"
   ]
  },
  {
   "cell_type": "code",
   "execution_count": 112,
   "metadata": {},
   "outputs": [],
   "source": [
    "y_pred = clf.predict(X_test)"
   ]
  },
  {
   "cell_type": "code",
   "execution_count": 113,
   "metadata": {
    "scrolled": true
   },
   "outputs": [
    {
     "data": {
      "text/plain": [
       "0.9488852637302883"
      ]
     },
     "execution_count": 113,
     "metadata": {},
     "output_type": "execute_result"
    }
   ],
   "source": [
    "accuracy_score(y_test,y_pred)"
   ]
  },
  {
   "cell_type": "code",
   "execution_count": 114,
   "metadata": {
    "scrolled": true
   },
   "outputs": [
    {
     "data": {
      "text/plain": [
       "array([[1584,    3],\n",
       "       [  91,  161]], dtype=int64)"
      ]
     },
     "execution_count": 114,
     "metadata": {},
     "output_type": "execute_result"
    }
   ],
   "source": [
    "confusion_matrix(y_test,y_pred)"
   ]
  },
  {
   "cell_type": "code",
   "execution_count": 115,
   "metadata": {
    "scrolled": true
   },
   "outputs": [
    {
     "name": "stdout",
     "output_type": "stream",
     "text": [
      "              precision    recall  f1-score   support\n",
      "\n",
      "         ham       0.95      1.00      0.97      1587\n",
      "        spam       0.98      0.64      0.77       252\n",
      "\n",
      "   micro avg       0.95      0.95      0.95      1839\n",
      "   macro avg       0.96      0.82      0.87      1839\n",
      "weighted avg       0.95      0.95      0.94      1839\n",
      "\n"
     ]
    }
   ],
   "source": [
    "print(classification_report(y_test,y_pred))"
   ]
  },
  {
   "cell_type": "markdown",
   "metadata": {},
   "source": [
    "### checking model on real data"
   ]
  },
  {
   "cell_type": "code",
   "execution_count": 116,
   "metadata": {},
   "outputs": [],
   "source": [
    "def predict(x):\n",
    "    x = tfidf.transform([x])\n",
    "    x=x.toarray()\n",
    "    pred = clf.predict(x)\n",
    "    return pred"
   ]
  },
  {
   "cell_type": "code",
   "execution_count": 120,
   "metadata": {},
   "outputs": [
    {
     "data": {
      "text/plain": [
       "array(['ham'], dtype=object)"
      ]
     },
     "execution_count": 120,
     "metadata": {},
     "output_type": "execute_result"
    }
   ],
   "source": [
    "predict('hey, i am fine, what about you')\n"
   ]
  },
  {
   "cell_type": "code",
   "execution_count": 134,
   "metadata": {},
   "outputs": [
    {
     "data": {
      "text/plain": [
       "array(['spam'], dtype=object)"
      ]
     },
     "execution_count": 134,
     "metadata": {},
     "output_type": "execute_result"
    }
   ],
   "source": [
    "predict('free entry wkly comp win fa cup final ')"
   ]
  },
  {
   "cell_type": "markdown",
   "metadata": {},
   "source": [
    "### hurray !!!"
   ]
  },
  {
   "cell_type": "code",
   "execution_count": null,
   "metadata": {},
   "outputs": [],
   "source": []
  }
 ],
 "metadata": {
  "kernelspec": {
   "display_name": "Python 3",
   "language": "python",
   "name": "python3"
  },
  "language_info": {
   "codemirror_mode": {
    "name": "ipython",
    "version": 3
   },
   "file_extension": ".py",
   "mimetype": "text/x-python",
   "name": "python",
   "nbconvert_exporter": "python",
   "pygments_lexer": "ipython3",
   "version": "3.7.9"
  }
 },
 "nbformat": 4,
 "nbformat_minor": 4
}
